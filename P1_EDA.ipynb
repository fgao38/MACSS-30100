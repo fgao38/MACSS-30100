{
 "cells": [
  {
   "cell_type": "code",
   "execution_count": 1,
   "metadata": {},
   "outputs": [],
   "source": [
    "import numpy as np\n",
    "import pandas as pd\n",
    "import matplotlib.pyplot as plt\n",
    "import seaborn as sns"
   ]
  },
  {
   "cell_type": "markdown",
   "metadata": {},
   "source": [
    "# Data Overview"
   ]
  },
  {
   "cell_type": "markdown",
   "metadata": {},
   "source": [
    "#### Shared link for my dataset\n",
    "- Inside my github repo: (https://github.com/fgao38/MACSS-30100/tree/main/real_estate)\n",
    "    - file: (https://github.com/fgao38/MACSS-30100/blob/main/real_estate/Real%20Estate%20Dataset.csv)\n",
    "- Originally downloaded from Kaggle: https://www.kaggle.com/datasets/arnoldkakas/real-estate-dataset"
   ]
  },
  {
   "cell_type": "code",
   "execution_count": 2,
   "metadata": {},
   "outputs": [],
   "source": [
    "# read data from file to a pandas dataframe\n",
    "data_df = pd.read_csv('real_estate/Real Estate Dataset.csv', sep=';')\n"
   ]
  },
  {
   "cell_type": "code",
   "execution_count": 3,
   "metadata": {},
   "outputs": [
    {
     "data": {
      "text/plain": [
       "(15403, 27)"
      ]
     },
     "execution_count": 3,
     "metadata": {},
     "output_type": "execute_result"
    }
   ],
   "source": [
    "data_df.shape"
   ]
  },
  {
   "cell_type": "code",
   "execution_count": 4,
   "metadata": {},
   "outputs": [
    {
     "data": {
      "text/html": [
       "<div>\n",
       "<style scoped>\n",
       "    .dataframe tbody tr th:only-of-type {\n",
       "        vertical-align: middle;\n",
       "    }\n",
       "\n",
       "    .dataframe tbody tr th {\n",
       "        vertical-align: top;\n",
       "    }\n",
       "\n",
       "    .dataframe thead th {\n",
       "        text-align: right;\n",
       "    }\n",
       "</style>\n",
       "<table border=\"1\" class=\"dataframe\">\n",
       "  <thead>\n",
       "    <tr style=\"text-align: right;\">\n",
       "      <th></th>\n",
       "      <th>name_nsi</th>\n",
       "      <th>price</th>\n",
       "      <th>index</th>\n",
       "      <th>environment</th>\n",
       "      <th>quality_of_living</th>\n",
       "      <th>safety</th>\n",
       "      <th>transport</th>\n",
       "      <th>services</th>\n",
       "      <th>relax</th>\n",
       "      <th>condition</th>\n",
       "      <th>...</th>\n",
       "      <th>last_reconstruction</th>\n",
       "      <th>total_floors</th>\n",
       "      <th>floor</th>\n",
       "      <th>lift</th>\n",
       "      <th>balkonies</th>\n",
       "      <th>loggia</th>\n",
       "      <th>cellar</th>\n",
       "      <th>type</th>\n",
       "      <th>rooms</th>\n",
       "      <th>district</th>\n",
       "    </tr>\n",
       "  </thead>\n",
       "  <tbody>\n",
       "    <tr>\n",
       "      <th>0</th>\n",
       "      <td>Semerovo</td>\n",
       "      <td>42000</td>\n",
       "      <td>NaN</td>\n",
       "      <td>NaN</td>\n",
       "      <td>NaN</td>\n",
       "      <td>NaN</td>\n",
       "      <td>NaN</td>\n",
       "      <td>NaN</td>\n",
       "      <td>NaN</td>\n",
       "      <td>Original condition</td>\n",
       "      <td>...</td>\n",
       "      <td>NaN</td>\n",
       "      <td>NaN</td>\n",
       "      <td>NaN</td>\n",
       "      <td>0</td>\n",
       "      <td>NaN</td>\n",
       "      <td>NaN</td>\n",
       "      <td>0</td>\n",
       "      <td>3-room apartment</td>\n",
       "      <td>3</td>\n",
       "      <td>Nové Zámky</td>\n",
       "    </tr>\n",
       "    <tr>\n",
       "      <th>1</th>\n",
       "      <td>Semerovo</td>\n",
       "      <td>42000</td>\n",
       "      <td>NaN</td>\n",
       "      <td>NaN</td>\n",
       "      <td>NaN</td>\n",
       "      <td>NaN</td>\n",
       "      <td>NaN</td>\n",
       "      <td>NaN</td>\n",
       "      <td>NaN</td>\n",
       "      <td>Original condition</td>\n",
       "      <td>...</td>\n",
       "      <td>NaN</td>\n",
       "      <td>2.0</td>\n",
       "      <td>NaN</td>\n",
       "      <td>0</td>\n",
       "      <td>NaN</td>\n",
       "      <td>NaN</td>\n",
       "      <td>0</td>\n",
       "      <td>3-room apartment</td>\n",
       "      <td>3</td>\n",
       "      <td>Nové Zámky</td>\n",
       "    </tr>\n",
       "    <tr>\n",
       "      <th>2</th>\n",
       "      <td>Štúrovo</td>\n",
       "      <td>107000</td>\n",
       "      <td>8,3</td>\n",
       "      <td>NaN</td>\n",
       "      <td>NaN</td>\n",
       "      <td>NaN</td>\n",
       "      <td>NaN</td>\n",
       "      <td>NaN</td>\n",
       "      <td>NaN</td>\n",
       "      <td>Partial reconstruction</td>\n",
       "      <td>...</td>\n",
       "      <td>NaN</td>\n",
       "      <td>5.0</td>\n",
       "      <td>3.0</td>\n",
       "      <td>0</td>\n",
       "      <td>NaN</td>\n",
       "      <td>NaN</td>\n",
       "      <td>0</td>\n",
       "      <td>1-room apartment</td>\n",
       "      <td>1</td>\n",
       "      <td>Nové Zámky</td>\n",
       "    </tr>\n",
       "    <tr>\n",
       "      <th>3</th>\n",
       "      <td>Štúrovo</td>\n",
       "      <td>105000</td>\n",
       "      <td>NaN</td>\n",
       "      <td>NaN</td>\n",
       "      <td>NaN</td>\n",
       "      <td>NaN</td>\n",
       "      <td>NaN</td>\n",
       "      <td>NaN</td>\n",
       "      <td>NaN</td>\n",
       "      <td>Complete reconstruction</td>\n",
       "      <td>...</td>\n",
       "      <td>NaN</td>\n",
       "      <td>7.0</td>\n",
       "      <td>4.0</td>\n",
       "      <td>1</td>\n",
       "      <td>NaN</td>\n",
       "      <td>NaN</td>\n",
       "      <td>0</td>\n",
       "      <td>3-room apartment</td>\n",
       "      <td>3</td>\n",
       "      <td>Nové Zámky</td>\n",
       "    </tr>\n",
       "    <tr>\n",
       "      <th>4</th>\n",
       "      <td>Štúrovo</td>\n",
       "      <td>82000</td>\n",
       "      <td>NaN</td>\n",
       "      <td>NaN</td>\n",
       "      <td>NaN</td>\n",
       "      <td>NaN</td>\n",
       "      <td>NaN</td>\n",
       "      <td>NaN</td>\n",
       "      <td>NaN</td>\n",
       "      <td>Partial reconstruction</td>\n",
       "      <td>...</td>\n",
       "      <td>2018.0</td>\n",
       "      <td>NaN</td>\n",
       "      <td>2.0</td>\n",
       "      <td>0</td>\n",
       "      <td>NaN</td>\n",
       "      <td>NaN</td>\n",
       "      <td>0</td>\n",
       "      <td>2-room apartment</td>\n",
       "      <td>2</td>\n",
       "      <td>Nové Zámky</td>\n",
       "    </tr>\n",
       "  </tbody>\n",
       "</table>\n",
       "<p>5 rows × 27 columns</p>\n",
       "</div>"
      ],
      "text/plain": [
       "   name_nsi   price index environment quality_of_living safety transport  \\\n",
       "0  Semerovo   42000   NaN         NaN               NaN    NaN       NaN   \n",
       "1  Semerovo   42000   NaN         NaN               NaN    NaN       NaN   \n",
       "2   Štúrovo  107000   8,3         NaN               NaN    NaN       NaN   \n",
       "3   Štúrovo  105000   NaN         NaN               NaN    NaN       NaN   \n",
       "4   Štúrovo   82000   NaN         NaN               NaN    NaN       NaN   \n",
       "\n",
       "  services relax                condition  ... last_reconstruction  \\\n",
       "0      NaN   NaN       Original condition  ...                 NaN   \n",
       "1      NaN   NaN       Original condition  ...                 NaN   \n",
       "2      NaN   NaN   Partial reconstruction  ...                 NaN   \n",
       "3      NaN   NaN  Complete reconstruction  ...                 NaN   \n",
       "4      NaN   NaN   Partial reconstruction  ...              2018.0   \n",
       "\n",
       "   total_floors  floor lift balkonies loggia  cellar              type  rooms  \\\n",
       "0           NaN    NaN    0       NaN    NaN       0  3-room apartment      3   \n",
       "1           2.0    NaN    0       NaN    NaN       0  3-room apartment      3   \n",
       "2           5.0    3.0    0       NaN    NaN       0  1-room apartment      1   \n",
       "3           7.0    4.0    1       NaN    NaN       0  3-room apartment      3   \n",
       "4           NaN    2.0    0       NaN    NaN       0  2-room apartment      2   \n",
       "\n",
       "     district  \n",
       "0  Nové Zámky  \n",
       "1  Nové Zámky  \n",
       "2  Nové Zámky  \n",
       "3  Nové Zámky  \n",
       "4  Nové Zámky  \n",
       "\n",
       "[5 rows x 27 columns]"
      ]
     },
     "execution_count": 4,
     "metadata": {},
     "output_type": "execute_result"
    }
   ],
   "source": [
    "# get an overview of the top-n rows/samples\n",
    "data_df.head()"
   ]
  },
  {
   "cell_type": "markdown",
   "metadata": {},
   "source": [
    "# Data Cleaning\n",
    "## Checking missing values"
   ]
  },
  {
   "cell_type": "code",
   "execution_count": 5,
   "metadata": {},
   "outputs": [
    {
     "data": {
      "text/plain": [
       "name_nsi                   0\n",
       "price                      0\n",
       "index                  10241\n",
       "environment            11271\n",
       "quality_of_living      11271\n",
       "safety                 11271\n",
       "transport              11271\n",
       "services               11271\n",
       "relax                  11271\n",
       "condition                327\n",
       "area                     716\n",
       "energy_costs           14423\n",
       "provision                  0\n",
       "certificate             8958\n",
       "construction_type      13036\n",
       "orientation            14380\n",
       "year_built             11525\n",
       "last_reconstruction    14721\n",
       "total_floors            8117\n",
       "floor                   7087\n",
       "lift                       0\n",
       "balkonies              13636\n",
       "loggia                 13883\n",
       "cellar                     0\n",
       "type                       0\n",
       "rooms                      0\n",
       "district                   0\n",
       "dtype: int64"
      ]
     },
     "execution_count": 5,
     "metadata": {},
     "output_type": "execute_result"
    }
   ],
   "source": [
    "null_sum = data_df.isnull().sum()\n",
    "null_sum"
   ]
  },
  {
   "cell_type": "code",
   "execution_count": 6,
   "metadata": {},
   "outputs": [],
   "source": [
    "# Drop columns that have at least 70% missing values \n",
    "data_df.drop(columns=data_df.columns[null_sum > len(data_df) * 0.7], inplace=True)"
   ]
  },
  {
   "cell_type": "code",
   "execution_count": 7,
   "metadata": {},
   "outputs": [
    {
     "data": {
      "text/plain": [
       "((15403, 14),\n",
       " Index(['name_nsi', 'price', 'index', 'condition', 'area', 'provision',\n",
       "        'certificate', 'total_floors', 'floor', 'lift', 'cellar', 'type',\n",
       "        'rooms', 'district'],\n",
       "       dtype='object'))"
      ]
     },
     "execution_count": 7,
     "metadata": {},
     "output_type": "execute_result"
    }
   ],
   "source": [
    "# check the remaining columns\n",
    "data_df.shape, data_df.columns\n",
    "\n",
    "# originally I had 27 columns, now I have 14."
   ]
  },
  {
   "cell_type": "code",
   "execution_count": 8,
   "metadata": {},
   "outputs": [
    {
     "data": {
      "text/plain": [
       "name_nsi         object\n",
       "price             int64\n",
       "index            object\n",
       "condition        object\n",
       "area             object\n",
       "provision         int64\n",
       "certificate      object\n",
       "total_floors    float64\n",
       "floor           float64\n",
       "lift              int64\n",
       "cellar            int64\n",
       "type             object\n",
       "rooms             int64\n",
       "district         object\n",
       "dtype: object"
      ]
     },
     "execution_count": 8,
     "metadata": {},
     "output_type": "execute_result"
    }
   ],
   "source": [
    "# check the data types: columns with mixed types are stored with the object dtype.\n",
    "data_df.dtypes "
   ]
  },
  {
   "cell_type": "code",
   "execution_count": 9,
   "metadata": {},
   "outputs": [],
   "source": [
    "def replace_commas_with_periods(value):\n",
    "    return value.replace(',', '.')\n",
    "data_df[['index', 'area']] = data_df[['index', 'area']].applymap(lambda x: replace_commas_with_periods(x) if isinstance(x, str) else x)"
   ]
  },
  {
   "cell_type": "code",
   "execution_count": 10,
   "metadata": {},
   "outputs": [
    {
     "name": "stdout",
     "output_type": "stream",
     "text": [
      "                name_nsi   price index                condition area  \\\n",
      "0               Semerovo   42000   NaN       Original condition   58   \n",
      "1               Semerovo   42000   NaN       Original condition   58   \n",
      "2                Štúrovo  107000   8.3   Partial reconstruction   40   \n",
      "3                Štúrovo  105000   NaN  Complete reconstruction   76   \n",
      "4                Štúrovo   82000   NaN   Partial reconstruction   63   \n",
      "...                  ...     ...   ...                      ...  ...   \n",
      "15398  Vranov nad Topľou  118990   NaN       Original condition   88   \n",
      "15399  Vranov nad Topľou  117650   NaN  Complete reconstruction   70   \n",
      "15400  Vranov nad Topľou   89990   NaN   Partial reconstruction   67   \n",
      "15401  Vranov nad Topľou  139990   NaN  Complete reconstruction  138   \n",
      "15402  Vranov nad Topľou  132000   NaN  Complete reconstruction   72   \n",
      "\n",
      "       provision certificate  total_floors  floor  lift  cellar  \\\n",
      "0              0         NaN           NaN    NaN     0       0   \n",
      "1              0        none           2.0    NaN     0       0   \n",
      "2              0         NaN           5.0    3.0     0       0   \n",
      "3              1           C           7.0    4.0     1       0   \n",
      "4              0         NaN           NaN    2.0     0       0   \n",
      "...          ...         ...           ...    ...   ...     ...   \n",
      "15398          0         NaN           8.0    6.0     1       0   \n",
      "15399          0         NaN           8.0    1.0     1       0   \n",
      "15400          0         NaN           6.0    NaN     1       0   \n",
      "15401          0         NaN           NaN    3.0     1       0   \n",
      "15402          0         NaN           NaN    4.0     1       0   \n",
      "\n",
      "                   type  rooms           district  \n",
      "0      3-room apartment      3         Nové Zámky  \n",
      "1      3-room apartment      3         Nové Zámky  \n",
      "2      1-room apartment      1         Nové Zámky  \n",
      "3      3-room apartment      3         Nové Zámky  \n",
      "4      2-room apartment      2         Nové Zámky  \n",
      "...                 ...    ...                ...  \n",
      "15398  4-room apartment      4  Vranov nad Topľou  \n",
      "15399  3-room apartment      3  Vranov nad Topľou  \n",
      "15400  3-room apartment      3  Vranov nad Topľou  \n",
      "15401  4-room apartment      4  Vranov nad Topľou  \n",
      "15402  3-room apartment      3  Vranov nad Topľou  \n",
      "\n",
      "[15403 rows x 14 columns]\n"
     ]
    }
   ],
   "source": [
    "print(data_df)"
   ]
  },
  {
   "cell_type": "markdown",
   "metadata": {},
   "source": [
    "## Process Categorical Columns"
   ]
  },
  {
   "cell_type": "code",
   "execution_count": 11,
   "metadata": {},
   "outputs": [
    {
     "data": {
      "text/html": [
       "<div>\n",
       "<style scoped>\n",
       "    .dataframe tbody tr th:only-of-type {\n",
       "        vertical-align: middle;\n",
       "    }\n",
       "\n",
       "    .dataframe tbody tr th {\n",
       "        vertical-align: top;\n",
       "    }\n",
       "\n",
       "    .dataframe thead th {\n",
       "        text-align: right;\n",
       "    }\n",
       "</style>\n",
       "<table border=\"1\" class=\"dataframe\">\n",
       "  <thead>\n",
       "    <tr style=\"text-align: right;\">\n",
       "      <th></th>\n",
       "      <th>name_nsi</th>\n",
       "      <th>condition</th>\n",
       "      <th>certificate</th>\n",
       "      <th>type</th>\n",
       "      <th>district</th>\n",
       "    </tr>\n",
       "  </thead>\n",
       "  <tbody>\n",
       "    <tr>\n",
       "      <th>0</th>\n",
       "      <td>Semerovo</td>\n",
       "      <td>Original condition</td>\n",
       "      <td>NaN</td>\n",
       "      <td>3-room apartment</td>\n",
       "      <td>Nové Zámky</td>\n",
       "    </tr>\n",
       "    <tr>\n",
       "      <th>1</th>\n",
       "      <td>Semerovo</td>\n",
       "      <td>Original condition</td>\n",
       "      <td>none</td>\n",
       "      <td>3-room apartment</td>\n",
       "      <td>Nové Zámky</td>\n",
       "    </tr>\n",
       "    <tr>\n",
       "      <th>2</th>\n",
       "      <td>Štúrovo</td>\n",
       "      <td>Partial reconstruction</td>\n",
       "      <td>NaN</td>\n",
       "      <td>1-room apartment</td>\n",
       "      <td>Nové Zámky</td>\n",
       "    </tr>\n",
       "    <tr>\n",
       "      <th>3</th>\n",
       "      <td>Štúrovo</td>\n",
       "      <td>Complete reconstruction</td>\n",
       "      <td>C</td>\n",
       "      <td>3-room apartment</td>\n",
       "      <td>Nové Zámky</td>\n",
       "    </tr>\n",
       "    <tr>\n",
       "      <th>4</th>\n",
       "      <td>Štúrovo</td>\n",
       "      <td>Partial reconstruction</td>\n",
       "      <td>NaN</td>\n",
       "      <td>2-room apartment</td>\n",
       "      <td>Nové Zámky</td>\n",
       "    </tr>\n",
       "    <tr>\n",
       "      <th>...</th>\n",
       "      <td>...</td>\n",
       "      <td>...</td>\n",
       "      <td>...</td>\n",
       "      <td>...</td>\n",
       "      <td>...</td>\n",
       "    </tr>\n",
       "    <tr>\n",
       "      <th>15398</th>\n",
       "      <td>Vranov nad Topľou</td>\n",
       "      <td>Original condition</td>\n",
       "      <td>NaN</td>\n",
       "      <td>4-room apartment</td>\n",
       "      <td>Vranov nad Topľou</td>\n",
       "    </tr>\n",
       "    <tr>\n",
       "      <th>15399</th>\n",
       "      <td>Vranov nad Topľou</td>\n",
       "      <td>Complete reconstruction</td>\n",
       "      <td>NaN</td>\n",
       "      <td>3-room apartment</td>\n",
       "      <td>Vranov nad Topľou</td>\n",
       "    </tr>\n",
       "    <tr>\n",
       "      <th>15400</th>\n",
       "      <td>Vranov nad Topľou</td>\n",
       "      <td>Partial reconstruction</td>\n",
       "      <td>NaN</td>\n",
       "      <td>3-room apartment</td>\n",
       "      <td>Vranov nad Topľou</td>\n",
       "    </tr>\n",
       "    <tr>\n",
       "      <th>15401</th>\n",
       "      <td>Vranov nad Topľou</td>\n",
       "      <td>Complete reconstruction</td>\n",
       "      <td>NaN</td>\n",
       "      <td>4-room apartment</td>\n",
       "      <td>Vranov nad Topľou</td>\n",
       "    </tr>\n",
       "    <tr>\n",
       "      <th>15402</th>\n",
       "      <td>Vranov nad Topľou</td>\n",
       "      <td>Complete reconstruction</td>\n",
       "      <td>NaN</td>\n",
       "      <td>3-room apartment</td>\n",
       "      <td>Vranov nad Topľou</td>\n",
       "    </tr>\n",
       "  </tbody>\n",
       "</table>\n",
       "<p>15403 rows × 5 columns</p>\n",
       "</div>"
      ],
      "text/plain": [
       "                name_nsi                condition certificate  \\\n",
       "0               Semerovo       Original condition         NaN   \n",
       "1               Semerovo       Original condition        none   \n",
       "2                Štúrovo   Partial reconstruction         NaN   \n",
       "3                Štúrovo  Complete reconstruction           C   \n",
       "4                Štúrovo   Partial reconstruction         NaN   \n",
       "...                  ...                      ...         ...   \n",
       "15398  Vranov nad Topľou       Original condition         NaN   \n",
       "15399  Vranov nad Topľou  Complete reconstruction         NaN   \n",
       "15400  Vranov nad Topľou   Partial reconstruction         NaN   \n",
       "15401  Vranov nad Topľou  Complete reconstruction         NaN   \n",
       "15402  Vranov nad Topľou  Complete reconstruction         NaN   \n",
       "\n",
       "                   type           district  \n",
       "0      3-room apartment         Nové Zámky  \n",
       "1      3-room apartment         Nové Zámky  \n",
       "2      1-room apartment         Nové Zámky  \n",
       "3      3-room apartment         Nové Zámky  \n",
       "4      2-room apartment         Nové Zámky  \n",
       "...                 ...                ...  \n",
       "15398  4-room apartment  Vranov nad Topľou  \n",
       "15399  3-room apartment  Vranov nad Topľou  \n",
       "15400  3-room apartment  Vranov nad Topľou  \n",
       "15401  4-room apartment  Vranov nad Topľou  \n",
       "15402  3-room apartment  Vranov nad Topľou  \n",
       "\n",
       "[15403 rows x 5 columns]"
      ]
     },
     "execution_count": 11,
     "metadata": {},
     "output_type": "execute_result"
    }
   ],
   "source": [
    "# Convert the following columns to categorical data types \n",
    "cat_col = ['name_nsi', 'condition', 'certificate', 'type', 'district']\n",
    "data_df[cat_col] = data_df[cat_col].astype('category')\n",
    "data_df[cat_col]"
   ]
  },
  {
   "cell_type": "code",
   "execution_count": 12,
   "metadata": {},
   "outputs": [
    {
     "data": {
      "text/plain": [
       "name_nsi       category\n",
       "condition      category\n",
       "certificate    category\n",
       "type           category\n",
       "district       category\n",
       "dtype: object"
      ]
     },
     "execution_count": 12,
     "metadata": {},
     "output_type": "execute_result"
    }
   ],
   "source": [
    "# the following columns now all have the categorical data types\n",
    "data_df[cat_col].dtypes"
   ]
  },
  {
   "cell_type": "code",
   "execution_count": 13,
   "metadata": {},
   "outputs": [
    {
     "data": {
      "text/plain": [
       "Bratislava - mestská časť Ružinov        979\n",
       "Bratislava - mestská časť Staré Mesto    661\n",
       "Bratislava - mestská časť Petržalka      643\n",
       "Žilina                                   441\n",
       "Nitra                                    413\n",
       "                                        ... \n",
       "Košice - mestská časť Ťahanovce            1\n",
       "Tešedíkovo                                 1\n",
       "Košice - mestská časť Myslava              1\n",
       "Košice - mestská časť Kavečany             1\n",
       "Mýtna                                      1\n",
       "Name: name_nsi, Length: 598, dtype: int64"
      ]
     },
     "execution_count": 13,
     "metadata": {},
     "output_type": "execute_result"
    }
   ],
   "source": [
    "# count the #samples fall into each category\n",
    "data_df['name_nsi'].value_counts() "
   ]
  },
  {
   "cell_type": "code",
   "execution_count": 14,
   "metadata": {},
   "outputs": [
    {
     "data": {
      "text/plain": [
       "[<matplotlib.lines.Line2D at 0x13e3cfb10>]"
      ]
     },
     "execution_count": 14,
     "metadata": {},
     "output_type": "execute_result"
    },
    {
     "data": {
      "image/png": "[encoded data removed]",
      "text/plain": [
       "<Figure size 640x480 with 1 Axes>"
      ]
     },
     "metadata": {},
     "output_type": "display_data"
    }
   ],
   "source": [
    "# an alternative method to check the #samples in each category\n",
    "plt.plot(data_df['name_nsi'].value_counts().values)"
   ]
  },
  {
   "cell_type": "code",
   "execution_count": 15,
   "metadata": {},
   "outputs": [
    {
     "data": {
      "text/plain": [
       "array([979, 661, 643, 441, 413, 384, 375, 369, 369, 339, 304, 292, 290,\n",
       "       285, 256, 246, 212, 210, 210, 208, 198, 169, 169, 168, 164, 155,\n",
       "       143, 141, 140, 137, 136, 133, 131, 118, 117, 115, 114, 108, 106,\n",
       "       106, 104, 102,  95,  94,  92,  89,  88,  87,  85,  81,  80,  76,\n",
       "        73,  72,  70,  69,  68,  68,  68,  66,  65,  62,  59,  59,  58,\n",
       "        56,  53,  49,  48,  48,  47,  46,  45,  43,  42,  42,  40,  36,\n",
       "        36,  35,  34,  34,  33,  32,  32,  32,  32,  31,  30,  29,  28,\n",
       "        28,  27,  27,  27,  26,  26,  25,  25,  24,  24,  24,  24,  23,\n",
       "        23,  23,  22,  22,  21,  21,  20,  20,  20,  20,  18,  18,  17,\n",
       "        17,  17,  16,  15,  15,  15,  15,  15,  15,  14,  14,  14,  14,\n",
       "        13,  13,  13,  13,  12,  12,  12,  12,  12,  11,  11,  11,  11,\n",
       "        11,  11,  11,  11,  11,  10,  10,   9,   9,   9,   9,   9,   9,\n",
       "         9,   9,   8,   8,   8,   8,   8,   8,   8,   8,   8,   8,   8,\n",
       "         8,   8,   8,   7,   7,   7,   7,   7,   7,   7,   7,   7,   7,\n",
       "         7,   7,   7,   7,   7,   7,   6,   6,   6,   6,   6,   6,   6,\n",
       "         6,   6,   6,   6,   6,   6,   6,   6,   6,   6,   6,   6,   6,\n",
       "         6,   6,   5,   5,   5,   5,   5,   5,   5,   5,   5,   5,   5,\n",
       "         4,   4,   4,   4,   4,   4,   4,   4,   4,   4,   4,   4,   4,\n",
       "         4,   4,   4,   4,   4,   4,   4,   4,   4,   4,   4,   4,   4,\n",
       "         4,   4,   4,   4,   4,   4,   4,   4,   4,   4,   4,   4,   4,\n",
       "         4,   4,   4,   4,   4,   3,   3,   3,   3,   3,   3,   3,   3,\n",
       "         3,   3,   3,   3,   3,   3,   3,   3,   3,   3,   3,   3,   3,\n",
       "         3,   3,   3,   3,   3,   3,   3,   3,   3,   3,   3,   3,   3,\n",
       "         3,   3,   3,   3,   3,   3,   3,   3,   3,   3,   3,   3,   2,\n",
       "         2,   2,   2,   2,   2,   2,   2,   2,   2,   2,   2,   2,   2,\n",
       "         2,   2,   2,   2,   2,   2,   2,   2,   2,   2,   2,   2,   2,\n",
       "         2,   2,   2,   2,   2,   2,   2,   2,   2,   2,   2,   2,   2,\n",
       "         2,   2,   2,   2,   2,   2,   2,   2,   2,   2,   2,   2,   2,\n",
       "         2,   2,   2,   2,   2,   2,   2,   2,   2,   2,   2,   2,   2,\n",
       "         2,   2,   2,   2,   2,   2,   2,   2,   2,   2,   2,   2,   2,\n",
       "         2,   2,   2,   2,   2,   2,   2,   2,   2,   2,   2,   2,   2,\n",
       "         2,   2,   2,   2,   2,   2,   2,   2,   1,   1,   1,   1,   1,\n",
       "         1,   1,   1,   1,   1,   1,   1,   1,   1,   1,   1,   1,   1,\n",
       "         1,   1,   1,   1,   1,   1,   1,   1,   1,   1,   1,   1,   1,\n",
       "         1,   1,   1,   1,   1,   1,   1,   1,   1,   1,   1,   1,   1,\n",
       "         1,   1,   1,   1,   1,   1,   1,   1,   1,   1,   1,   1,   1,\n",
       "         1,   1,   1,   1,   1,   1,   1,   1,   1,   1,   1,   1,   1,\n",
       "         1,   1,   1,   1,   1,   1,   1,   1,   1,   1,   1,   1,   1,\n",
       "         1,   1,   1,   1,   1,   1,   1,   1,   1,   1,   1,   1,   1,\n",
       "         1,   1,   1,   1,   1,   1,   1,   1,   1,   1,   1,   1,   1,\n",
       "         1,   1,   1,   1,   1,   1,   1,   1,   1,   1,   1,   1,   1,\n",
       "         1,   1,   1,   1,   1,   1,   1,   1,   1,   1,   1,   1,   1,\n",
       "         1,   1,   1,   1,   1,   1,   1,   1,   1,   1,   1,   1,   1,\n",
       "         1,   1,   1,   1,   1,   1,   1,   1,   1,   1,   1,   1,   1,\n",
       "         1,   1,   1,   1,   1,   1,   1,   1,   1,   1,   1,   1,   1,\n",
       "         1,   1,   1,   1,   1,   1,   1,   1,   1,   1,   1,   1,   1])"
      ]
     },
     "execution_count": 15,
     "metadata": {},
     "output_type": "execute_result"
    }
   ],
   "source": [
    "# a closer look at the #samples in each category\n",
    "data_df['name_nsi'].value_counts().values"
   ]
  },
  {
   "cell_type": "code",
   "execution_count": 16,
   "metadata": {},
   "outputs": [
    {
     "data": {
      "text/plain": [
       "Complete reconstruction    4389\n",
       "New building               4074\n",
       "Partial reconstruction     3953\n",
       "Original condition         2148\n",
       "Under construction          441\n",
       "Development project          71\n",
       "Name: condition, dtype: int64"
      ]
     },
     "execution_count": 16,
     "metadata": {},
     "output_type": "execute_result"
    }
   ],
   "source": [
    "# count the #samples fall into each category\n",
    "data_df['condition'].value_counts() "
   ]
  },
  {
   "cell_type": "code",
   "execution_count": 17,
   "metadata": {},
   "outputs": [
    {
     "data": {
      "text/plain": [
       "[<matplotlib.lines.Line2D at 0x1528dfd10>]"
      ]
     },
     "execution_count": 17,
     "metadata": {},
     "output_type": "execute_result"
    },
    {
     "data": {
      "image/png": "[encoded data removed]",
      "text/plain": [
       "<Figure size 640x480 with 1 Axes>"
      ]
     },
     "metadata": {},
     "output_type": "display_data"
    }
   ],
   "source": [
    "# an alternative method to check the #samples in each category\n",
    "plt.plot(data_df['condition'].value_counts().values)"
   ]
  },
  {
   "cell_type": "code",
   "execution_count": 18,
   "metadata": {},
   "outputs": [
    {
     "data": {
      "text/plain": [
       "array([4389, 4074, 3953, 2148,  441,   71])"
      ]
     },
     "execution_count": 18,
     "metadata": {},
     "output_type": "execute_result"
    }
   ],
   "source": [
    "# a closer look at the #samples in each category\n",
    "data_df['condition'].value_counts().values"
   ]
  },
  {
   "cell_type": "code",
   "execution_count": 19,
   "metadata": {},
   "outputs": [
    {
     "data": {
      "text/plain": [
       "none    3748\n",
       "A       1404\n",
       "B       1027\n",
       "C        160\n",
       "G         72\n",
       "D         23\n",
       "E          7\n",
       "F          4\n",
       "Name: certificate, dtype: int64"
      ]
     },
     "execution_count": 19,
     "metadata": {},
     "output_type": "execute_result"
    }
   ],
   "source": [
    "# count the #samples fall into each category\n",
    "data_df['certificate'].value_counts() "
   ]
  },
  {
   "cell_type": "code",
   "execution_count": 20,
   "metadata": {},
   "outputs": [
    {
     "data": {
      "text/plain": [
       "[<matplotlib.lines.Line2D at 0x15297cb10>]"
      ]
     },
     "execution_count": 20,
     "metadata": {},
     "output_type": "execute_result"
    },
    {
     "data": {
      "image/png": "[encoded data removed]",
      "text/plain": [
       "<Figure size 640x480 with 1 Axes>"
      ]
     },
     "metadata": {},
     "output_type": "display_data"
    }
   ],
   "source": [
    "# an alternative method to check the #samples in each category\n",
    "plt.plot(data_df['certificate'].value_counts().values)"
   ]
  },
  {
   "cell_type": "code",
   "execution_count": 21,
   "metadata": {},
   "outputs": [
    {
     "data": {
      "text/plain": [
       "array([3748, 1404, 1027,  160,   72,   23,    7,    4])"
      ]
     },
     "execution_count": 21,
     "metadata": {},
     "output_type": "execute_result"
    }
   ],
   "source": [
    "# a closer look at the #samples in each category\n",
    "data_df['certificate'].value_counts().values"
   ]
  },
  {
   "cell_type": "code",
   "execution_count": 22,
   "metadata": {},
   "outputs": [
    {
     "data": {
      "text/plain": [
       "3-room apartment            6171\n",
       "2-room apartment            5245\n",
       "1-room apartment            1820\n",
       "4-room apartment            1529\n",
       "Studio                       427\n",
       "5 or more room apartment     147\n",
       "Two-room apartment            64\n",
       "Name: type, dtype: int64"
      ]
     },
     "execution_count": 22,
     "metadata": {},
     "output_type": "execute_result"
    }
   ],
   "source": [
    "# count the #samples fall into each category\n",
    "data_df['type'].value_counts() "
   ]
  },
  {
   "cell_type": "code",
   "execution_count": 23,
   "metadata": {},
   "outputs": [
    {
     "data": {
      "text/plain": [
       "[<matplotlib.lines.Line2D at 0x1529dfc90>]"
      ]
     },
     "execution_count": 23,
     "metadata": {},
     "output_type": "execute_result"
    },
    {
     "data": {
      "image/png": "[encoded data removed]",
      "text/plain": [
       "<Figure size 640x480 with 1 Axes>"
      ]
     },
     "metadata": {},
     "output_type": "display_data"
    }
   ],
   "source": [
    "# an alternative method to check the #samples in each category\n",
    "plt.plot(data_df['type'].value_counts().values)"
   ]
  },
  {
   "cell_type": "code",
   "execution_count": 24,
   "metadata": {},
   "outputs": [
    {
     "data": {
      "text/plain": [
       "array([6171, 5245, 1820, 1529,  427,  147,   64])"
      ]
     },
     "execution_count": 24,
     "metadata": {},
     "output_type": "execute_result"
    }
   ],
   "source": [
    "# a closer look at the #samples in each category\n",
    "data_df['type'].value_counts().values"
   ]
  },
  {
   "cell_type": "code",
   "execution_count": 25,
   "metadata": {},
   "outputs": [
    {
     "data": {
      "text/plain": [
       "Bratislava II     1360\n",
       "Bratislava IV      778\n",
       "Bratislava V       673\n",
       "Bratislava I       661\n",
       "Bratislava III     571\n",
       "                  ... \n",
       "Sabinov              8\n",
       "Svidník              8\n",
       "Gelnica              6\n",
       "Tvrdošín             5\n",
       "Stropkov             2\n",
       "Name: district, Length: 79, dtype: int64"
      ]
     },
     "execution_count": 25,
     "metadata": {},
     "output_type": "execute_result"
    }
   ],
   "source": [
    "# count the #samples fall into each category\n",
    "data_df['district'].value_counts() "
   ]
  },
  {
   "cell_type": "code",
   "execution_count": 26,
   "metadata": {},
   "outputs": [
    {
     "data": {
      "text/plain": [
       "[<matplotlib.lines.Line2D at 0x152a7b990>]"
      ]
     },
     "execution_count": 26,
     "metadata": {},
     "output_type": "execute_result"
    },
    {
     "data": {
      "image/png": "[encoded data removed]",
      "text/plain": [
       "<Figure size 640x480 with 1 Axes>"
      ]
     },
     "metadata": {},
     "output_type": "display_data"
    }
   ],
   "source": [
    "# an alternative method to check the #samples in each category\n",
    "plt.plot(data_df['district'].value_counts().values)"
   ]
  },
  {
   "cell_type": "code",
   "execution_count": 27,
   "metadata": {},
   "outputs": [
    {
     "data": {
      "text/plain": [
       "array([1360,  778,  673,  661,  571,  570,  541,  484,  466,  465,  458,\n",
       "        435,  432,  381,  355,  338,  321,  308,  300,  299,  294,  290,\n",
       "        282,  276,  256,  236,  221,  204,  203,  157,  142,  142,  130,\n",
       "        120,  115,  109,  109,  102,  101,   97,   88,   86,   82,   82,\n",
       "         76,   74,   67,   67,   66,   64,   64,   63,   61,   61,   61,\n",
       "         60,   52,   48,   42,   40,   36,   35,   26,   25,   24,   24,\n",
       "         20,   18,   17,   15,   14,   12,   11,   11,    8,    8,    6,\n",
       "          5,    2])"
      ]
     },
     "execution_count": 27,
     "metadata": {},
     "output_type": "execute_result"
    }
   ],
   "source": [
    "# a closer look at the #samples in each category\n",
    "data_df['district'].value_counts().values"
   ]
  },
  {
   "cell_type": "markdown",
   "metadata": {},
   "source": [
    "## Removing outlier category"
   ]
  },
  {
   "cell_type": "code",
   "execution_count": 28,
   "metadata": {},
   "outputs": [
    {
     "data": {
      "text/plain": [
       "CategoricalIndex(['Sečovce', 'Nová Dedinka', 'Vydrany', 'Podbrezová',\n",
       "                  'Kvetoslavov', 'Turzovka', 'Malé Borové', 'Podhájska',\n",
       "                  'Bošany', 'Turčianska Štiavnička',\n",
       "                  ...\n",
       "                  'Svrčinovec', 'Kráľ', 'Svätý Anton', 'Krpeľany',\n",
       "                  'Tekovské Lužany', 'Košice - mestská časť Ťahanovce',\n",
       "                  'Tešedíkovo', 'Košice - mestská časť Myslava',\n",
       "                  'Košice - mestská časť Kavečany', 'Mýtna'],\n",
       "                 categories=['Andovce', 'Babindol', 'Babiná', 'Banka', ..., 'Želovce', 'Žiar nad Hronom', 'Žilina', 'Žitavany'], ordered=False, dtype='category', length=448)"
      ]
     },
     "execution_count": 28,
     "metadata": {},
     "output_type": "execute_result"
    }
   ],
   "source": [
    "# remove samples whose \"name_nsi\" belongs to the minority categories \n",
    "# our criteria here is to remove categories that have less than 10 samples\n",
    "value_cts = data_df['name_nsi'].value_counts()\n",
    "cat_to_remove = value_cts[value_cts < 10].keys()\n",
    "cat_to_remove"
   ]
  },
  {
   "cell_type": "code",
   "execution_count": 29,
   "metadata": {},
   "outputs": [
    {
     "name": "stdout",
     "output_type": "stream",
     "text": [
      "Data size before dropping minority categories: (15403, 14)\n",
      "Data size after dropping minority categories: (14219, 14)\n"
     ]
    }
   ],
   "source": [
    "print(\"Data size before dropping minority categories:\", data_df.shape)\n",
    "data_df.drop(data_df[data_df['name_nsi'].isin(cat_to_remove)].index, inplace=True)\n",
    "print(\"Data size after dropping minority categories:\", data_df.shape)"
   ]
  },
  {
   "cell_type": "code",
   "execution_count": 30,
   "metadata": {},
   "outputs": [
    {
     "data": {
      "text/plain": [
       "Bratislava - mestská časť Ružinov        979\n",
       "Bratislava - mestská časť Staré Mesto    661\n",
       "Bratislava - mestská časť Petržalka      643\n",
       "Žilina                                   441\n",
       "Nitra                                    413\n",
       "                                        ... \n",
       "Motešice                                  11\n",
       "Medzilaborce                              11\n",
       "Mostová                                   11\n",
       "Lednické Rovne                            10\n",
       "Košúty                                    10\n",
       "Name: name_nsi, Length: 150, dtype: Int64"
      ]
     },
     "execution_count": 30,
     "metadata": {},
     "output_type": "execute_result"
    }
   ],
   "source": [
    "# double check the remaining categories \n",
    "data_df['name_nsi'].astype('string').value_counts()\n"
   ]
  },
  {
   "cell_type": "markdown",
   "metadata": {},
   "source": [
    "## Merging minority in \"type\"\n",
    "- Two-room apartment to 2-room apartment "
   ]
  },
  {
   "cell_type": "code",
   "execution_count": 31,
   "metadata": {},
   "outputs": [],
   "source": [
    "# merge minority categories with majority ones (e.g., SINGLE --> SingleFamily, Lots/Land-->VacantLand)\n",
    "data_df['type'].replace(['Two-room apartment'],['2-room apartment'], inplace=True)"
   ]
  },
  {
   "cell_type": "markdown",
   "metadata": {},
   "source": [
    "## Processing numerical columns"
   ]
  },
  {
   "cell_type": "code",
   "execution_count": 32,
   "metadata": {},
   "outputs": [],
   "source": [
    "num_col = ['price', 'index', 'area', 'provision', 'total_floors', 'floor', 'lift', 'cellar', 'rooms' ]"
   ]
  },
  {
   "cell_type": "code",
   "execution_count": 33,
   "metadata": {},
   "outputs": [
    {
     "data": {
      "text/html": [
       "<div>\n",
       "<style scoped>\n",
       "    .dataframe tbody tr th:only-of-type {\n",
       "        vertical-align: middle;\n",
       "    }\n",
       "\n",
       "    .dataframe tbody tr th {\n",
       "        vertical-align: top;\n",
       "    }\n",
       "\n",
       "    .dataframe thead th {\n",
       "        text-align: right;\n",
       "    }\n",
       "</style>\n",
       "<table border=\"1\" class=\"dataframe\">\n",
       "  <thead>\n",
       "    <tr style=\"text-align: right;\">\n",
       "      <th></th>\n",
       "      <th>price</th>\n",
       "      <th>index</th>\n",
       "      <th>area</th>\n",
       "      <th>provision</th>\n",
       "      <th>total_floors</th>\n",
       "      <th>floor</th>\n",
       "      <th>lift</th>\n",
       "      <th>cellar</th>\n",
       "      <th>rooms</th>\n",
       "    </tr>\n",
       "  </thead>\n",
       "  <tbody>\n",
       "    <tr>\n",
       "      <th>2</th>\n",
       "      <td>107000.0</td>\n",
       "      <td>8.3</td>\n",
       "      <td>40.0</td>\n",
       "      <td>0.0</td>\n",
       "      <td>5.0</td>\n",
       "      <td>3.0</td>\n",
       "      <td>0.0</td>\n",
       "      <td>0.0</td>\n",
       "      <td>1.0</td>\n",
       "    </tr>\n",
       "    <tr>\n",
       "      <th>3</th>\n",
       "      <td>105000.0</td>\n",
       "      <td>NaN</td>\n",
       "      <td>76.0</td>\n",
       "      <td>1.0</td>\n",
       "      <td>7.0</td>\n",
       "      <td>4.0</td>\n",
       "      <td>1.0</td>\n",
       "      <td>0.0</td>\n",
       "      <td>3.0</td>\n",
       "    </tr>\n",
       "    <tr>\n",
       "      <th>4</th>\n",
       "      <td>82000.0</td>\n",
       "      <td>NaN</td>\n",
       "      <td>63.0</td>\n",
       "      <td>0.0</td>\n",
       "      <td>NaN</td>\n",
       "      <td>2.0</td>\n",
       "      <td>0.0</td>\n",
       "      <td>0.0</td>\n",
       "      <td>2.0</td>\n",
       "    </tr>\n",
       "    <tr>\n",
       "      <th>5</th>\n",
       "      <td>102000.0</td>\n",
       "      <td>NaN</td>\n",
       "      <td>76.5</td>\n",
       "      <td>0.0</td>\n",
       "      <td>7.0</td>\n",
       "      <td>2.0</td>\n",
       "      <td>0.0</td>\n",
       "      <td>0.0</td>\n",
       "      <td>3.0</td>\n",
       "    </tr>\n",
       "    <tr>\n",
       "      <th>6</th>\n",
       "      <td>129000.0</td>\n",
       "      <td>8.2</td>\n",
       "      <td>63.0</td>\n",
       "      <td>0.0</td>\n",
       "      <td>NaN</td>\n",
       "      <td>NaN</td>\n",
       "      <td>0.0</td>\n",
       "      <td>0.0</td>\n",
       "      <td>3.0</td>\n",
       "    </tr>\n",
       "    <tr>\n",
       "      <th>...</th>\n",
       "      <td>...</td>\n",
       "      <td>...</td>\n",
       "      <td>...</td>\n",
       "      <td>...</td>\n",
       "      <td>...</td>\n",
       "      <td>...</td>\n",
       "      <td>...</td>\n",
       "      <td>...</td>\n",
       "      <td>...</td>\n",
       "    </tr>\n",
       "    <tr>\n",
       "      <th>15398</th>\n",
       "      <td>118990.0</td>\n",
       "      <td>NaN</td>\n",
       "      <td>88.0</td>\n",
       "      <td>0.0</td>\n",
       "      <td>8.0</td>\n",
       "      <td>6.0</td>\n",
       "      <td>1.0</td>\n",
       "      <td>0.0</td>\n",
       "      <td>4.0</td>\n",
       "    </tr>\n",
       "    <tr>\n",
       "      <th>15399</th>\n",
       "      <td>117650.0</td>\n",
       "      <td>NaN</td>\n",
       "      <td>70.0</td>\n",
       "      <td>0.0</td>\n",
       "      <td>8.0</td>\n",
       "      <td>1.0</td>\n",
       "      <td>1.0</td>\n",
       "      <td>0.0</td>\n",
       "      <td>3.0</td>\n",
       "    </tr>\n",
       "    <tr>\n",
       "      <th>15400</th>\n",
       "      <td>89990.0</td>\n",
       "      <td>NaN</td>\n",
       "      <td>67.0</td>\n",
       "      <td>0.0</td>\n",
       "      <td>6.0</td>\n",
       "      <td>NaN</td>\n",
       "      <td>1.0</td>\n",
       "      <td>0.0</td>\n",
       "      <td>3.0</td>\n",
       "    </tr>\n",
       "    <tr>\n",
       "      <th>15401</th>\n",
       "      <td>139990.0</td>\n",
       "      <td>NaN</td>\n",
       "      <td>138.0</td>\n",
       "      <td>0.0</td>\n",
       "      <td>NaN</td>\n",
       "      <td>3.0</td>\n",
       "      <td>1.0</td>\n",
       "      <td>0.0</td>\n",
       "      <td>4.0</td>\n",
       "    </tr>\n",
       "    <tr>\n",
       "      <th>15402</th>\n",
       "      <td>132000.0</td>\n",
       "      <td>NaN</td>\n",
       "      <td>72.0</td>\n",
       "      <td>0.0</td>\n",
       "      <td>NaN</td>\n",
       "      <td>4.0</td>\n",
       "      <td>1.0</td>\n",
       "      <td>0.0</td>\n",
       "      <td>3.0</td>\n",
       "    </tr>\n",
       "  </tbody>\n",
       "</table>\n",
       "<p>14219 rows × 9 columns</p>\n",
       "</div>"
      ],
      "text/plain": [
       "          price  index   area  provision  total_floors  floor  lift  cellar  \\\n",
       "2      107000.0    8.3   40.0        0.0           5.0    3.0   0.0     0.0   \n",
       "3      105000.0    NaN   76.0        1.0           7.0    4.0   1.0     0.0   \n",
       "4       82000.0    NaN   63.0        0.0           NaN    2.0   0.0     0.0   \n",
       "5      102000.0    NaN   76.5        0.0           7.0    2.0   0.0     0.0   \n",
       "6      129000.0    8.2   63.0        0.0           NaN    NaN   0.0     0.0   \n",
       "...         ...    ...    ...        ...           ...    ...   ...     ...   \n",
       "15398  118990.0    NaN   88.0        0.0           8.0    6.0   1.0     0.0   \n",
       "15399  117650.0    NaN   70.0        0.0           8.0    1.0   1.0     0.0   \n",
       "15400   89990.0    NaN   67.0        0.0           6.0    NaN   1.0     0.0   \n",
       "15401  139990.0    NaN  138.0        0.0           NaN    3.0   1.0     0.0   \n",
       "15402  132000.0    NaN   72.0        0.0           NaN    4.0   1.0     0.0   \n",
       "\n",
       "       rooms  \n",
       "2        1.0  \n",
       "3        3.0  \n",
       "4        2.0  \n",
       "5        3.0  \n",
       "6        3.0  \n",
       "...      ...  \n",
       "15398    4.0  \n",
       "15399    3.0  \n",
       "15400    3.0  \n",
       "15401    4.0  \n",
       "15402    3.0  \n",
       "\n",
       "[14219 rows x 9 columns]"
      ]
     },
     "execution_count": 33,
     "metadata": {},
     "output_type": "execute_result"
    }
   ],
   "source": [
    "data_df[num_col] = data_df[num_col].astype('float')\n",
    "data_df[num_col]"
   ]
  },
  {
   "cell_type": "code",
   "execution_count": 34,
   "metadata": {},
   "outputs": [
    {
     "data": {
      "text/plain": [
       "price           float64\n",
       "index           float64\n",
       "area            float64\n",
       "provision       float64\n",
       "total_floors    float64\n",
       "floor           float64\n",
       "lift            float64\n",
       "cellar          float64\n",
       "rooms           float64\n",
       "dtype: object"
      ]
     },
     "execution_count": 34,
     "metadata": {},
     "output_type": "execute_result"
    }
   ],
   "source": [
    "data_df[num_col].dtypes"
   ]
  },
  {
   "cell_type": "markdown",
   "metadata": {},
   "source": [
    "Dealing columns with missing values"
   ]
  },
  {
   "cell_type": "code",
   "execution_count": 35,
   "metadata": {},
   "outputs": [
    {
     "data": {
      "text/plain": [
       "0"
      ]
     },
     "execution_count": 35,
     "metadata": {},
     "output_type": "execute_result"
    }
   ],
   "source": [
    "# check the missing values of \"price\"\n",
    "data_df['price'].isna().sum()"
   ]
  },
  {
   "cell_type": "code",
   "execution_count": 36,
   "metadata": {},
   "outputs": [],
   "source": [
    "# for the other numerical columns, we will fill in missing values with the mean of that column\n",
    "for col in num_col:\n",
    "    if col != \"price\":\n",
    "        data_df[col].fillna(value = data_df[col].mean(), inplace=True)"
   ]
  },
  {
   "cell_type": "code",
   "execution_count": 37,
   "metadata": {},
   "outputs": [
    {
     "data": {
      "text/html": [
       "<div>\n",
       "<style scoped>\n",
       "    .dataframe tbody tr th:only-of-type {\n",
       "        vertical-align: middle;\n",
       "    }\n",
       "\n",
       "    .dataframe tbody tr th {\n",
       "        vertical-align: top;\n",
       "    }\n",
       "\n",
       "    .dataframe thead th {\n",
       "        text-align: right;\n",
       "    }\n",
       "</style>\n",
       "<table border=\"1\" class=\"dataframe\">\n",
       "  <thead>\n",
       "    <tr style=\"text-align: right;\">\n",
       "      <th></th>\n",
       "      <th>price</th>\n",
       "      <th>index</th>\n",
       "      <th>area</th>\n",
       "      <th>provision</th>\n",
       "      <th>total_floors</th>\n",
       "      <th>floor</th>\n",
       "      <th>lift</th>\n",
       "      <th>cellar</th>\n",
       "      <th>rooms</th>\n",
       "    </tr>\n",
       "  </thead>\n",
       "  <tbody>\n",
       "    <tr>\n",
       "      <th>count</th>\n",
       "      <td>1.421900e+04</td>\n",
       "      <td>14219.000000</td>\n",
       "      <td>14219.000000</td>\n",
       "      <td>14219.000000</td>\n",
       "      <td>14219.000000</td>\n",
       "      <td>14219.000000</td>\n",
       "      <td>14219.000000</td>\n",
       "      <td>14219.000000</td>\n",
       "      <td>14219.000000</td>\n",
       "    </tr>\n",
       "    <tr>\n",
       "      <th>mean</th>\n",
       "      <td>1.694053e+05</td>\n",
       "      <td>7.834874</td>\n",
       "      <td>107.702691</td>\n",
       "      <td>0.152191</td>\n",
       "      <td>5.787897</td>\n",
       "      <td>3.572802</td>\n",
       "      <td>0.287292</td>\n",
       "      <td>0.014839</td>\n",
       "      <td>2.473662</td>\n",
       "    </tr>\n",
       "    <tr>\n",
       "      <th>std</th>\n",
       "      <td>1.679792e+05</td>\n",
       "      <td>0.534728</td>\n",
       "      <td>2631.855983</td>\n",
       "      <td>0.359218</td>\n",
       "      <td>2.555506</td>\n",
       "      <td>1.973647</td>\n",
       "      <td>0.452515</td>\n",
       "      <td>0.120914</td>\n",
       "      <td>0.896253</td>\n",
       "    </tr>\n",
       "    <tr>\n",
       "      <th>min</th>\n",
       "      <td>1.300000e+04</td>\n",
       "      <td>3.700000</td>\n",
       "      <td>1.000000</td>\n",
       "      <td>0.000000</td>\n",
       "      <td>1.000000</td>\n",
       "      <td>-7.000000</td>\n",
       "      <td>0.000000</td>\n",
       "      <td>0.000000</td>\n",
       "      <td>1.000000</td>\n",
       "    </tr>\n",
       "    <tr>\n",
       "      <th>25%</th>\n",
       "      <td>1.040000e+05</td>\n",
       "      <td>7.834874</td>\n",
       "      <td>52.000000</td>\n",
       "      <td>0.000000</td>\n",
       "      <td>5.787897</td>\n",
       "      <td>3.000000</td>\n",
       "      <td>0.000000</td>\n",
       "      <td>0.000000</td>\n",
       "      <td>2.000000</td>\n",
       "    </tr>\n",
       "    <tr>\n",
       "      <th>50%</th>\n",
       "      <td>1.399000e+05</td>\n",
       "      <td>7.834874</td>\n",
       "      <td>65.000000</td>\n",
       "      <td>0.000000</td>\n",
       "      <td>5.787897</td>\n",
       "      <td>3.572802</td>\n",
       "      <td>0.000000</td>\n",
       "      <td>0.000000</td>\n",
       "      <td>3.000000</td>\n",
       "    </tr>\n",
       "    <tr>\n",
       "      <th>75%</th>\n",
       "      <td>1.956125e+05</td>\n",
       "      <td>7.834874</td>\n",
       "      <td>79.500000</td>\n",
       "      <td>0.000000</td>\n",
       "      <td>5.787897</td>\n",
       "      <td>3.572802</td>\n",
       "      <td>1.000000</td>\n",
       "      <td>0.000000</td>\n",
       "      <td>3.000000</td>\n",
       "    </tr>\n",
       "    <tr>\n",
       "      <th>max</th>\n",
       "      <td>9.936000e+06</td>\n",
       "      <td>9.500000</td>\n",
       "      <td>209900.000000</td>\n",
       "      <td>1.000000</td>\n",
       "      <td>46.000000</td>\n",
       "      <td>34.000000</td>\n",
       "      <td>1.000000</td>\n",
       "      <td>1.000000</td>\n",
       "      <td>5.000000</td>\n",
       "    </tr>\n",
       "  </tbody>\n",
       "</table>\n",
       "</div>"
      ],
      "text/plain": [
       "              price         index           area     provision  total_floors  \\\n",
       "count  1.421900e+04  14219.000000   14219.000000  14219.000000  14219.000000   \n",
       "mean   1.694053e+05      7.834874     107.702691      0.152191      5.787897   \n",
       "std    1.679792e+05      0.534728    2631.855983      0.359218      2.555506   \n",
       "min    1.300000e+04      3.700000       1.000000      0.000000      1.000000   \n",
       "25%    1.040000e+05      7.834874      52.000000      0.000000      5.787897   \n",
       "50%    1.399000e+05      7.834874      65.000000      0.000000      5.787897   \n",
       "75%    1.956125e+05      7.834874      79.500000      0.000000      5.787897   \n",
       "max    9.936000e+06      9.500000  209900.000000      1.000000     46.000000   \n",
       "\n",
       "              floor          lift        cellar         rooms  \n",
       "count  14219.000000  14219.000000  14219.000000  14219.000000  \n",
       "mean       3.572802      0.287292      0.014839      2.473662  \n",
       "std        1.973647      0.452515      0.120914      0.896253  \n",
       "min       -7.000000      0.000000      0.000000      1.000000  \n",
       "25%        3.000000      0.000000      0.000000      2.000000  \n",
       "50%        3.572802      0.000000      0.000000      3.000000  \n",
       "75%        3.572802      1.000000      0.000000      3.000000  \n",
       "max       34.000000      1.000000      1.000000      5.000000  "
      ]
     },
     "execution_count": 37,
     "metadata": {},
     "output_type": "execute_result"
    }
   ],
   "source": [
    "# descriptive statistics for the numerical columns\n",
    "data_df[num_col].describe()\n",
    "# If the describe() function is applied on non-numerical columns, the statistics won't make sense."
   ]
  },
  {
   "cell_type": "markdown",
   "metadata": {},
   "source": [
    "According to the descriptive statistics, multiple columns have outliers:\n",
    "- floor, total_floors, and area\n",
    "\n",
    "I will analyze them separately."
   ]
  },
  {
   "cell_type": "markdown",
   "metadata": {},
   "source": [
    "## Analyze Area"
   ]
  },
  {
   "cell_type": "code",
   "execution_count": 38,
   "metadata": {},
   "outputs": [
    {
     "data": {
      "text/plain": [
       "<Axes: xlabel='area'>"
      ]
     },
     "execution_count": 38,
     "metadata": {},
     "output_type": "execute_result"
    },
    {
     "data": {
      "image/png": "[encoded data removed]",
      "text/plain": [
       "<Figure size 640x480 with 1 Axes>"
      ]
     },
     "metadata": {},
     "output_type": "display_data"
    }
   ],
   "source": [
    "# draw box plot to check outliers\n",
    "sns.set_style(\"darkgrid\",{'axes.grid' : True})\n",
    "sns.boxplot(x=data_df['area'], orient='h')"
   ]
  },
  {
   "cell_type": "code",
   "execution_count": 39,
   "metadata": {},
   "outputs": [
    {
     "name": "stdout",
     "output_type": "stream",
     "text": [
      "52.0 79.5 10.75 120.75\n"
     ]
    }
   ],
   "source": [
    "Q1 = data_df['area'].quantile(0.25)\n",
    "Q3 = data_df['area'].quantile(0.75)\n",
    "IQR = Q3 - Q1\n",
    "lower_thresh = Q1 - 1.5*IQR\n",
    "upper_thresh = Q3 + 1.5*IQR\n",
    "print(Q1, Q3, lower_thresh, upper_thresh)"
   ]
  },
  {
   "cell_type": "code",
   "execution_count": 40,
   "metadata": {},
   "outputs": [
    {
     "data": {
      "text/plain": [
       "(13680, 14)"
      ]
     },
     "execution_count": 40,
     "metadata": {},
     "output_type": "execute_result"
    }
   ],
   "source": [
    "# Based on the above calculation, we will remove samples that have \"area\" strictly above 121 (> 121) as outliers\n",
    "data_df.drop(data_df[data_df['area'] > 121].index, inplace=True)\n",
    "data_df.shape"
   ]
  },
  {
   "cell_type": "code",
   "execution_count": 41,
   "metadata": {},
   "outputs": [
    {
     "data": {
      "text/plain": [
       "<Axes: xlabel='area', ylabel='Count'>"
      ]
     },
     "execution_count": 41,
     "metadata": {},
     "output_type": "execute_result"
    },
    {
     "data": {
      "image/png": "[encoded data removed]",
      "text/plain": [
       "<Figure size 640x480 with 1 Axes>"
      ]
     },
     "metadata": {},
     "output_type": "display_data"
    }
   ],
   "source": [
    "# check the new distribution of the \"area\"\n",
    "sns.histplot(data_df['area'])"
   ]
  },
  {
   "cell_type": "markdown",
   "metadata": {},
   "source": [
    "## Analyze floor"
   ]
  },
  {
   "cell_type": "code",
   "execution_count": 42,
   "metadata": {},
   "outputs": [
    {
     "data": {
      "text/plain": [
       "<Axes: xlabel='floor'>"
      ]
     },
     "execution_count": 42,
     "metadata": {},
     "output_type": "execute_result"
    },
    {
     "data": {
      "image/png": "[encoded data removed]",
      "text/plain": [
       "<Figure size 640x480 with 1 Axes>"
      ]
     },
     "metadata": {},
     "output_type": "display_data"
    }
   ],
   "source": [
    "# draw box plot to check outliers\n",
    "sns.set_style(\"darkgrid\",{'axes.grid' : True})\n",
    "sns.boxplot(x=data_df['floor'], orient='h')"
   ]
  },
  {
   "cell_type": "code",
   "execution_count": 43,
   "metadata": {},
   "outputs": [
    {
     "name": "stdout",
     "output_type": "stream",
     "text": [
      "3.0 3.5728018456805946 2.140797231479108 4.432004614201486\n"
     ]
    }
   ],
   "source": [
    "Q1 = data_df['floor'].quantile(0.25)\n",
    "Q3 = data_df['floor'].quantile(0.75)\n",
    "IQR = Q3 - Q1\n",
    "lower_thresh = Q1 - 1.5*IQR\n",
    "upper_thresh = Q3 + 1.5*IQR\n",
    "print(Q1, Q3, lower_thresh, upper_thresh)"
   ]
  },
  {
   "cell_type": "code",
   "execution_count": 44,
   "metadata": {},
   "outputs": [
    {
     "data": {
      "text/plain": [
       "(12216, 14)"
      ]
     },
     "execution_count": 44,
     "metadata": {},
     "output_type": "execute_result"
    }
   ],
   "source": [
    "# Based on the above calculation, we will remove samples that have \"area\" strictly above 5 (> 5) as outliers\n",
    "data_df.drop(data_df[data_df['floor'] > 5].index, inplace=True)\n",
    "data_df.shape"
   ]
  },
  {
   "cell_type": "code",
   "execution_count": 45,
   "metadata": {},
   "outputs": [
    {
     "data": {
      "text/plain": [
       "<Axes: xlabel='floor', ylabel='Count'>"
      ]
     },
     "execution_count": 45,
     "metadata": {},
     "output_type": "execute_result"
    },
    {
     "data": {
      "image/png": "[encoded data removed]",
      "text/plain": [
       "<Figure size 640x480 with 1 Axes>"
      ]
     },
     "metadata": {},
     "output_type": "display_data"
    }
   ],
   "source": [
    "# check the new distribution of the \"floor\"\n",
    "sns.histplot(data_df['floor'])"
   ]
  },
  {
   "cell_type": "markdown",
   "metadata": {},
   "source": [
    "## Analyze total_floors"
   ]
  },
  {
   "cell_type": "code",
   "execution_count": 46,
   "metadata": {},
   "outputs": [
    {
     "data": {
      "text/plain": [
       "<Axes: xlabel='total_floors'>"
      ]
     },
     "execution_count": 46,
     "metadata": {},
     "output_type": "execute_result"
    },
    {
     "data": {
      "image/png": "[encoded data removed]",
      "text/plain": [
       "<Figure size 640x480 with 1 Axes>"
      ]
     },
     "metadata": {},
     "output_type": "display_data"
    }
   ],
   "source": [
    "# draw box plot to check outliers\n",
    "sns.set_style(\"darkgrid\",{'axes.grid' : True})\n",
    "sns.boxplot(x=data_df['total_floors'], orient='h')"
   ]
  },
  {
   "cell_type": "code",
   "execution_count": 47,
   "metadata": {},
   "outputs": [
    {
     "name": "stdout",
     "output_type": "stream",
     "text": [
      "5.0 5.787896678966789 3.818154981549816 6.969741697416973\n"
     ]
    }
   ],
   "source": [
    "Q1 = data_df['total_floors'].quantile(0.25)\n",
    "Q3 = data_df['total_floors'].quantile(0.75)\n",
    "IQR = Q3 - Q1\n",
    "lower_thresh = Q1 - 1.5*IQR\n",
    "upper_thresh = Q3 + 1.5*IQR\n",
    "print(Q1, Q3, lower_thresh, upper_thresh)"
   ]
  },
  {
   "cell_type": "code",
   "execution_count": 48,
   "metadata": {},
   "outputs": [
    {
     "data": {
      "text/plain": [
       "(11113, 14)"
      ]
     },
     "execution_count": 48,
     "metadata": {},
     "output_type": "execute_result"
    }
   ],
   "source": [
    "# Based on the above calculation, we will remove samples that have \"area\" strictly above 7 (> 7) as outliers\n",
    "data_df.drop(data_df[data_df['total_floors'] > 7].index, inplace=True)\n",
    "data_df.shape"
   ]
  },
  {
   "cell_type": "code",
   "execution_count": 49,
   "metadata": {},
   "outputs": [
    {
     "data": {
      "text/plain": [
       "<Axes: xlabel='total_floors', ylabel='Count'>"
      ]
     },
     "execution_count": 49,
     "metadata": {},
     "output_type": "execute_result"
    },
    {
     "data": {
      "image/png": "[encoded data removed]",
      "text/plain": [
       "<Figure size 640x480 with 1 Axes>"
      ]
     },
     "metadata": {},
     "output_type": "display_data"
    }
   ],
   "source": [
    "# check the new distribution of the \"total floors\"\n",
    "sns.histplot(data_df['total_floors'])"
   ]
  },
  {
   "cell_type": "markdown",
   "metadata": {},
   "source": [
    "### Data transformation\n",
    "After performing data cleaning for each data type separately, we will move forward to do data transformation for each data type."
   ]
  },
  {
   "cell_type": "markdown",
   "metadata": {},
   "source": [
    "#### Normalize numerical data"
   ]
  },
  {
   "cell_type": "code",
   "execution_count": 50,
   "metadata": {},
   "outputs": [],
   "source": [
    "from sklearn.preprocessing import MinMaxScaler\n",
    "scaler = MinMaxScaler(feature_range=(0,1))\n",
    "data_df['area'] = scaler.fit_transform(data_df[['area']].values)"
   ]
  },
  {
   "cell_type": "markdown",
   "metadata": {},
   "source": [
    "Normalize Area "
   ]
  },
  {
   "cell_type": "code",
   "execution_count": 51,
   "metadata": {},
   "outputs": [
    {
     "data": {
      "text/plain": [
       "<Axes: xlabel='area', ylabel='Count'>"
      ]
     },
     "execution_count": 51,
     "metadata": {},
     "output_type": "execute_result"
    },
    {
     "data": {
      "image/png": "[encoded data removed]",
      "text/plain": [
       "<Figure size 640x480 with 1 Axes>"
      ]
     },
     "metadata": {},
     "output_type": "display_data"
    }
   ],
   "source": [
    "# check the distribution of the \"area\" (after normalization)\n",
    "sns.histplot(data_df['area'])"
   ]
  },
  {
   "cell_type": "markdown",
   "metadata": {},
   "source": [
    "Normalize floor"
   ]
  },
  {
   "cell_type": "code",
   "execution_count": 52,
   "metadata": {},
   "outputs": [],
   "source": [
    "scaler = MinMaxScaler(feature_range=(0,1))\n",
    "data_df['floor'] = scaler.fit_transform(data_df[['floor']].values)"
   ]
  },
  {
   "cell_type": "code",
   "execution_count": 53,
   "metadata": {},
   "outputs": [
    {
     "data": {
      "text/plain": [
       "<Axes: xlabel='floor', ylabel='Count'>"
      ]
     },
     "execution_count": 53,
     "metadata": {},
     "output_type": "execute_result"
    },
    {
     "data": {
      "image/png": "[encoded data removed]",
      "text/plain": [
       "<Figure size 640x480 with 1 Axes>"
      ]
     },
     "metadata": {},
     "output_type": "display_data"
    }
   ],
   "source": [
    "# check the distribution of the \"Lot size\" (after normalization)\n",
    "sns.histplot(data_df['floor'])"
   ]
  },
  {
   "cell_type": "code",
   "execution_count": 54,
   "metadata": {},
   "outputs": [],
   "source": [
    "scaler = MinMaxScaler(feature_range=(0,1))\n",
    "data_df['total_floors'] = scaler.fit_transform(data_df[['total_floors']].values)"
   ]
  },
  {
   "cell_type": "code",
   "execution_count": 55,
   "metadata": {},
   "outputs": [
    {
     "data": {
      "text/plain": [
       "<Axes: xlabel='total_floors', ylabel='Count'>"
      ]
     },
     "execution_count": 55,
     "metadata": {},
     "output_type": "execute_result"
    },
    {
     "data": {
      "image/png": "[encoded data removed]",
      "text/plain": [
       "<Figure size 640x480 with 1 Axes>"
      ]
     },
     "metadata": {},
     "output_type": "display_data"
    }
   ],
   "source": [
    "# check the distribution of the \"Lot size\" (after normalization)\n",
    "sns.histplot(data_df['total_floors'])"
   ]
  },
  {
   "cell_type": "markdown",
   "metadata": {},
   "source": [
    "## Feature Engineering\n",
    "#### Categorical data representation\n",
    "## encoding (one-hot/ordinal encoder)\n",
    "- name_nsi\n",
    "- condition\n",
    "- certificate\n",
    "- type\n",
    "- district"
   ]
  },
  {
   "cell_type": "code",
   "execution_count": 56,
   "metadata": {},
   "outputs": [],
   "source": [
    "from sklearn.preprocessing import OneHotEncoder"
   ]
  },
  {
   "cell_type": "markdown",
   "metadata": {},
   "source": [
    "#### name_nsi"
   ]
  },
  {
   "cell_type": "code",
   "execution_count": 57,
   "metadata": {},
   "outputs": [
    {
     "data": {
      "text/plain": [
       "Bratislava - mestská časť Ružinov        724\n",
       "Bratislava - mestská časť Staré Mesto    492\n",
       "Bratislava - mestská časť Petržalka      354\n",
       "Žilina                                   353\n",
       "Nitra                                    341\n",
       "                                        ... \n",
       "Krpeľany                                   0\n",
       "Krompachy                                  0\n",
       "Kriváň                                     0\n",
       "Kremnica                                   0\n",
       "Žitavany                                   0\n",
       "Name: name_nsi, Length: 598, dtype: int64"
      ]
     },
     "execution_count": 57,
     "metadata": {},
     "output_type": "execute_result"
    }
   ],
   "source": [
    "data_df['name_nsi'].value_counts()"
   ]
  },
  {
   "cell_type": "code",
   "execution_count": 58,
   "metadata": {},
   "outputs": [
    {
     "data": {
      "text/html": [
       "<style>#sk-container-id-1 {color: black;}#sk-container-id-1 pre{padding: 0;}#sk-container-id-1 div.sk-toggleable {background-color: white;}#sk-container-id-1 label.sk-toggleable__label {cursor: pointer;display: block;width: 100%;margin-bottom: 0;padding: 0.3em;box-sizing: border-box;text-align: center;}#sk-container-id-1 label.sk-toggleable__label-arrow:before {content: \"▸\";float: left;margin-right: 0.25em;color: #696969;}#sk-container-id-1 label.sk-toggleable__label-arrow:hover:before {color: black;}#sk-container-id-1 div.sk-estimator:hover label.sk-toggleable__label-arrow:before {color: black;}#sk-container-id-1 div.sk-toggleable__content {max-height: 0;max-width: 0;overflow: hidden;text-align: left;background-color: #f0f8ff;}#sk-container-id-1 div.sk-toggleable__content pre {margin: 0.2em;color: black;border-radius: 0.25em;background-color: #f0f8ff;}#sk-container-id-1 input.sk-toggleable__control:checked~div.sk-toggleable__content {max-height: 200px;max-width: 100%;overflow: auto;}#sk-container-id-1 input.sk-toggleable__control:checked~label.sk-toggleable__label-arrow:before {content: \"▾\";}#sk-container-id-1 div.sk-estimator input.sk-toggleable__control:checked~label.sk-toggleable__label {background-color: #d4ebff;}#sk-container-id-1 div.sk-label input.sk-toggleable__control:checked~label.sk-toggleable__label {background-color: #d4ebff;}#sk-container-id-1 input.sk-hidden--visually {border: 0;clip: rect(1px 1px 1px 1px);clip: rect(1px, 1px, 1px, 1px);height: 1px;margin: -1px;overflow: hidden;padding: 0;position: absolute;width: 1px;}#sk-container-id-1 div.sk-estimator {font-family: monospace;background-color: #f0f8ff;border: 1px dotted black;border-radius: 0.25em;box-sizing: border-box;margin-bottom: 0.5em;}#sk-container-id-1 div.sk-estimator:hover {background-color: #d4ebff;}#sk-container-id-1 div.sk-parallel-item::after {content: \"\";width: 100%;border-bottom: 1px solid gray;flex-grow: 1;}#sk-container-id-1 div.sk-label:hover label.sk-toggleable__label {background-color: #d4ebff;}#sk-container-id-1 div.sk-serial::before {content: \"\";position: absolute;border-left: 1px solid gray;box-sizing: border-box;top: 0;bottom: 0;left: 50%;z-index: 0;}#sk-container-id-1 div.sk-serial {display: flex;flex-direction: column;align-items: center;background-color: white;padding-right: 0.2em;padding-left: 0.2em;position: relative;}#sk-container-id-1 div.sk-item {position: relative;z-index: 1;}#sk-container-id-1 div.sk-parallel {display: flex;align-items: stretch;justify-content: center;background-color: white;position: relative;}#sk-container-id-1 div.sk-item::before, #sk-container-id-1 div.sk-parallel-item::before {content: \"\";position: absolute;border-left: 1px solid gray;box-sizing: border-box;top: 0;bottom: 0;left: 50%;z-index: -1;}#sk-container-id-1 div.sk-parallel-item {display: flex;flex-direction: column;z-index: 1;position: relative;background-color: white;}#sk-container-id-1 div.sk-parallel-item:first-child::after {align-self: flex-end;width: 50%;}#sk-container-id-1 div.sk-parallel-item:last-child::after {align-self: flex-start;width: 50%;}#sk-container-id-1 div.sk-parallel-item:only-child::after {width: 0;}#sk-container-id-1 div.sk-dashed-wrapped {border: 1px dashed gray;margin: 0 0.4em 0.5em 0.4em;box-sizing: border-box;padding-bottom: 0.4em;background-color: white;}#sk-container-id-1 div.sk-label label {font-family: monospace;font-weight: bold;display: inline-block;line-height: 1.2em;}#sk-container-id-1 div.sk-label-container {text-align: center;}#sk-container-id-1 div.sk-container {/* jupyter's `normalize.less` sets `[hidden] { display: none; }` but bootstrap.min.css set `[hidden] { display: none !important; }` so we also need the `!important` here to be able to override the default hidden behavior on the sphinx rendered scikit-learn.org. See: https://github.com/scikit-learn/scikit-learn/issues/21755 */display: inline-block !important;position: relative;}#sk-container-id-1 div.sk-text-repr-fallback {display: none;}</style><div id=\"sk-container-id-1\" class=\"sk-top-container\"><div class=\"sk-text-repr-fallback\"><pre>OneHotEncoder(handle_unknown=&#x27;ignore&#x27;)</pre><b>In a Jupyter environment, please rerun this cell to show the HTML representation or trust the notebook. <br />On GitHub, the HTML representation is unable to render, please try loading this page with nbviewer.org.</b></div><div class=\"sk-container\" hidden><div class=\"sk-item\"><div class=\"sk-estimator sk-toggleable\"><input class=\"sk-toggleable__control sk-hidden--visually\" id=\"sk-estimator-id-1\" type=\"checkbox\" checked><label for=\"sk-estimator-id-1\" class=\"sk-toggleable__label sk-toggleable__label-arrow\">OneHotEncoder</label><div class=\"sk-toggleable__content\"><pre>OneHotEncoder(handle_unknown=&#x27;ignore&#x27;)</pre></div></div></div></div></div>"
      ],
      "text/plain": [
       "OneHotEncoder(handle_unknown='ignore')"
      ]
     },
     "execution_count": 58,
     "metadata": {},
     "output_type": "execute_result"
    }
   ],
   "source": [
    "ohe = OneHotEncoder(handle_unknown='ignore')\n",
    "ohe.fit(data_df[['name_nsi']])"
   ]
  },
  {
   "cell_type": "code",
   "execution_count": 59,
   "metadata": {},
   "outputs": [
    {
     "data": {
      "text/plain": [
       "[array(['Banka', 'Banská Bystrica', 'Banská Štiavnica', 'Bardejov',\n",
       "        'Bernolákovo', 'Biely Kostol',\n",
       "        'Bratislava - mestská časť Devínska Nová Ves',\n",
       "        'Bratislava - mestská časť Dúbravka',\n",
       "        'Bratislava - mestská časť Jarovce',\n",
       "        'Bratislava - mestská časť Karlova Ves',\n",
       "        'Bratislava - mestská časť Lamač',\n",
       "        'Bratislava - mestská časť Nové Mesto',\n",
       "        'Bratislava - mestská časť Petržalka',\n",
       "        'Bratislava - mestská časť Podunajské Biskupice',\n",
       "        'Bratislava - mestská časť Rača',\n",
       "        'Bratislava - mestská časť Ružinov',\n",
       "        'Bratislava - mestská časť Staré Mesto',\n",
       "        'Bratislava - mestská časť Vajnory',\n",
       "        'Bratislava - mestská časť Vrakuňa',\n",
       "        'Bratislava - mestská časť Záhorská Bystrica', 'Brezno',\n",
       "        'Brezová pod Bradlom', 'Bytča', 'Bánovce nad Bebravou',\n",
       "        'Chorvátsky Grob', 'Detva', 'Dolný Kubín', 'Donovaly',\n",
       "        'Dubnica nad Váhom', 'Dunajská Lužná', 'Dunajská Streda',\n",
       "        'Dvorníky', 'Galanta', 'Hamuliakovo', 'Handlová', 'Hlohovec',\n",
       "        'Holíč', 'Hrubá Borša', 'Humenné', 'Hviezdoslavov', 'Ilava',\n",
       "        'Ivanka pri Dunaji', 'Kežmarok', 'Kolárovo', 'Komárno',\n",
       "        'Kostolište', 'Košice - mestská časť Dargovských hrdinov',\n",
       "        'Košice - mestská časť Juh', 'Košice - mestská časť Nad jazerom',\n",
       "        'Košice - mestská časť Sever', 'Košice - mestská časť Staré Mesto',\n",
       "        'Košice - mestská časť Sídlisko KVP',\n",
       "        'Košice - mestská časť Sídlisko Ťahanovce',\n",
       "        'Košice - mestská časť Vyšné Opátske',\n",
       "        'Košice - mestská časť Západ', 'Košice - mestská časť Šaca',\n",
       "        'Košúty', 'Kysucké Nové Mesto', 'Lednické Rovne', 'Lehnice',\n",
       "        'Levice', 'Levoča', 'Liptovský Hrádok', 'Liptovský Mikuláš',\n",
       "        'Lučenec', 'Lužianky', 'Malacky', 'Malinovo', 'Martin',\n",
       "        'Medzilaborce', 'Michalovce', 'Miloslavov', 'Modra',\n",
       "        'Moldava nad Bodvou', 'Most pri Bratislave', 'Mostová', 'Motešice',\n",
       "        'Myjava', 'Nemšová', 'Nitra', 'Nová Baňa', 'Nová Dubnica',\n",
       "        'Nováky', 'Nové Mesto nad Váhom', 'Nové Zámky', 'Partizánske',\n",
       "        'Pezinok', 'Piešťany', 'Pobedim', 'Poltár', 'Poprad',\n",
       "        'Považská Bystrica', 'Prešov', 'Prievidza', 'Púchov', 'Revúca',\n",
       "        'Rimavská Sobota', 'Rohožník', 'Rovinka', 'Rožňava', 'Ružomberok',\n",
       "        'Senec', 'Senica', 'Sereď', 'Skalica', 'Sliač', 'Slovenský Grob',\n",
       "        'Sládkovičovo', 'Snina', 'Sobrance', 'Spišská Belá',\n",
       "        'Spišská Nová Ves', 'Stará Turá', 'Strážske', 'Stupava', 'Svit',\n",
       "        'Svätý Jur', 'Tlmače', 'Tomášov', 'Topoľnica', 'Topoľčany',\n",
       "        'Trebišov', 'Trenčianske Teplice', 'Trenčín', 'Trnava',\n",
       "        'Trstená na Ostrove', 'Turany', 'Turčianske Teplice', 'Valaská',\n",
       "        'Veľká Lomnica', 'Veľké Kapušany', 'Veľké Úľany', 'Veľký Krtíš',\n",
       "        'Veľký Meder', 'Vranov nad Topľou', 'Vrbové', 'Vráble', 'Vrútky',\n",
       "        'Vysoké Tatry', 'Zlaté Moravce', 'Zvolen', 'Čadca', 'Šahy',\n",
       "        'Šamorín', 'Šaľa', 'Štrba', 'Štúrovo', 'Šurany', 'Žiar nad Hronom',\n",
       "        'Žilina'], dtype=object)]"
      ]
     },
     "execution_count": 59,
     "metadata": {},
     "output_type": "execute_result"
    }
   ],
   "source": [
    "# the categories learned during the fit process\n",
    "ohe.categories_"
   ]
  },
  {
   "cell_type": "code",
   "execution_count": 60,
   "metadata": {},
   "outputs": [
    {
     "data": {
      "text/plain": [
       "array([0., 0., 0., 0., 0., 0., 0., 0., 0., 0., 0., 0., 0., 0., 0., 0., 0.,\n",
       "       0., 0., 0., 0., 0., 0., 0., 0., 0., 0., 0., 0., 0., 0., 0., 0., 0.,\n",
       "       0., 0., 0., 0., 0., 0., 0., 0., 0., 0., 0., 0., 0., 0., 0., 0., 0.,\n",
       "       0., 0., 0., 0., 0., 0., 0., 0., 0., 0., 0., 0., 0., 0., 0., 0., 0.,\n",
       "       0., 0., 0., 0., 0., 0., 0., 0., 0., 0., 0., 0., 0., 0., 0., 0., 0.,\n",
       "       0., 0., 0., 0., 0., 0., 0., 0., 0., 0., 0., 0., 0., 0., 0., 0., 0.,\n",
       "       0., 0., 0., 0., 0., 0., 0., 0., 0., 0., 0., 0., 0., 0., 0., 0., 0.,\n",
       "       0., 0., 0., 0., 0., 0., 0., 0., 0., 0., 0., 0., 0., 0., 0., 0., 0.,\n",
       "       0., 0., 0., 0., 0., 0., 0., 0., 0., 0., 1., 0., 0., 0.])"
      ]
     },
     "execution_count": 60,
     "metadata": {},
     "output_type": "execute_result"
    }
   ],
   "source": [
    "# encode the \"name_nsi\" with the learned categories during the fit process\n",
    "ohe.transform(data_df[['name_nsi']]).toarray()[0]"
   ]
  },
  {
   "cell_type": "code",
   "execution_count": 61,
   "metadata": {},
   "outputs": [
    {
     "data": {
      "text/html": [
       "<div>\n",
       "<style scoped>\n",
       "    .dataframe tbody tr th:only-of-type {\n",
       "        vertical-align: middle;\n",
       "    }\n",
       "\n",
       "    .dataframe tbody tr th {\n",
       "        vertical-align: top;\n",
       "    }\n",
       "\n",
       "    .dataframe thead th {\n",
       "        text-align: right;\n",
       "    }\n",
       "</style>\n",
       "<table border=\"1\" class=\"dataframe\">\n",
       "  <thead>\n",
       "    <tr style=\"text-align: right;\">\n",
       "      <th></th>\n",
       "      <th>Banka</th>\n",
       "      <th>Banská Bystrica</th>\n",
       "      <th>Banská Štiavnica</th>\n",
       "      <th>Bardejov</th>\n",
       "      <th>Bernolákovo</th>\n",
       "      <th>Biely Kostol</th>\n",
       "      <th>Bratislava - mestská časť Devínska Nová Ves</th>\n",
       "      <th>Bratislava - mestská časť Dúbravka</th>\n",
       "      <th>Bratislava - mestská časť Jarovce</th>\n",
       "      <th>Bratislava - mestská časť Karlova Ves</th>\n",
       "      <th>...</th>\n",
       "      <th>Zvolen</th>\n",
       "      <th>Čadca</th>\n",
       "      <th>Šahy</th>\n",
       "      <th>Šamorín</th>\n",
       "      <th>Šaľa</th>\n",
       "      <th>Štrba</th>\n",
       "      <th>Štúrovo</th>\n",
       "      <th>Šurany</th>\n",
       "      <th>Žiar nad Hronom</th>\n",
       "      <th>Žilina</th>\n",
       "    </tr>\n",
       "  </thead>\n",
       "  <tbody>\n",
       "    <tr>\n",
       "      <th>0</th>\n",
       "      <td>0.0</td>\n",
       "      <td>0.0</td>\n",
       "      <td>0.0</td>\n",
       "      <td>0.0</td>\n",
       "      <td>0.0</td>\n",
       "      <td>0.0</td>\n",
       "      <td>0.0</td>\n",
       "      <td>0.0</td>\n",
       "      <td>0.0</td>\n",
       "      <td>0.0</td>\n",
       "      <td>...</td>\n",
       "      <td>0.0</td>\n",
       "      <td>0.0</td>\n",
       "      <td>0.0</td>\n",
       "      <td>0.0</td>\n",
       "      <td>0.0</td>\n",
       "      <td>0.0</td>\n",
       "      <td>1.0</td>\n",
       "      <td>0.0</td>\n",
       "      <td>0.0</td>\n",
       "      <td>0.0</td>\n",
       "    </tr>\n",
       "    <tr>\n",
       "      <th>1</th>\n",
       "      <td>0.0</td>\n",
       "      <td>0.0</td>\n",
       "      <td>0.0</td>\n",
       "      <td>0.0</td>\n",
       "      <td>0.0</td>\n",
       "      <td>0.0</td>\n",
       "      <td>0.0</td>\n",
       "      <td>0.0</td>\n",
       "      <td>0.0</td>\n",
       "      <td>0.0</td>\n",
       "      <td>...</td>\n",
       "      <td>0.0</td>\n",
       "      <td>0.0</td>\n",
       "      <td>0.0</td>\n",
       "      <td>0.0</td>\n",
       "      <td>0.0</td>\n",
       "      <td>0.0</td>\n",
       "      <td>1.0</td>\n",
       "      <td>0.0</td>\n",
       "      <td>0.0</td>\n",
       "      <td>0.0</td>\n",
       "    </tr>\n",
       "    <tr>\n",
       "      <th>2</th>\n",
       "      <td>0.0</td>\n",
       "      <td>0.0</td>\n",
       "      <td>0.0</td>\n",
       "      <td>0.0</td>\n",
       "      <td>0.0</td>\n",
       "      <td>0.0</td>\n",
       "      <td>0.0</td>\n",
       "      <td>0.0</td>\n",
       "      <td>0.0</td>\n",
       "      <td>0.0</td>\n",
       "      <td>...</td>\n",
       "      <td>0.0</td>\n",
       "      <td>0.0</td>\n",
       "      <td>0.0</td>\n",
       "      <td>0.0</td>\n",
       "      <td>0.0</td>\n",
       "      <td>0.0</td>\n",
       "      <td>1.0</td>\n",
       "      <td>0.0</td>\n",
       "      <td>0.0</td>\n",
       "      <td>0.0</td>\n",
       "    </tr>\n",
       "    <tr>\n",
       "      <th>3</th>\n",
       "      <td>0.0</td>\n",
       "      <td>0.0</td>\n",
       "      <td>0.0</td>\n",
       "      <td>0.0</td>\n",
       "      <td>0.0</td>\n",
       "      <td>0.0</td>\n",
       "      <td>0.0</td>\n",
       "      <td>0.0</td>\n",
       "      <td>0.0</td>\n",
       "      <td>0.0</td>\n",
       "      <td>...</td>\n",
       "      <td>0.0</td>\n",
       "      <td>0.0</td>\n",
       "      <td>0.0</td>\n",
       "      <td>0.0</td>\n",
       "      <td>0.0</td>\n",
       "      <td>0.0</td>\n",
       "      <td>1.0</td>\n",
       "      <td>0.0</td>\n",
       "      <td>0.0</td>\n",
       "      <td>0.0</td>\n",
       "    </tr>\n",
       "    <tr>\n",
       "      <th>4</th>\n",
       "      <td>0.0</td>\n",
       "      <td>0.0</td>\n",
       "      <td>0.0</td>\n",
       "      <td>0.0</td>\n",
       "      <td>0.0</td>\n",
       "      <td>0.0</td>\n",
       "      <td>0.0</td>\n",
       "      <td>0.0</td>\n",
       "      <td>0.0</td>\n",
       "      <td>0.0</td>\n",
       "      <td>...</td>\n",
       "      <td>0.0</td>\n",
       "      <td>0.0</td>\n",
       "      <td>0.0</td>\n",
       "      <td>0.0</td>\n",
       "      <td>0.0</td>\n",
       "      <td>0.0</td>\n",
       "      <td>1.0</td>\n",
       "      <td>0.0</td>\n",
       "      <td>0.0</td>\n",
       "      <td>0.0</td>\n",
       "    </tr>\n",
       "    <tr>\n",
       "      <th>...</th>\n",
       "      <td>...</td>\n",
       "      <td>...</td>\n",
       "      <td>...</td>\n",
       "      <td>...</td>\n",
       "      <td>...</td>\n",
       "      <td>...</td>\n",
       "      <td>...</td>\n",
       "      <td>...</td>\n",
       "      <td>...</td>\n",
       "      <td>...</td>\n",
       "      <td>...</td>\n",
       "      <td>...</td>\n",
       "      <td>...</td>\n",
       "      <td>...</td>\n",
       "      <td>...</td>\n",
       "      <td>...</td>\n",
       "      <td>...</td>\n",
       "      <td>...</td>\n",
       "      <td>...</td>\n",
       "      <td>...</td>\n",
       "      <td>...</td>\n",
       "    </tr>\n",
       "    <tr>\n",
       "      <th>11108</th>\n",
       "      <td>0.0</td>\n",
       "      <td>0.0</td>\n",
       "      <td>0.0</td>\n",
       "      <td>0.0</td>\n",
       "      <td>0.0</td>\n",
       "      <td>0.0</td>\n",
       "      <td>0.0</td>\n",
       "      <td>0.0</td>\n",
       "      <td>0.0</td>\n",
       "      <td>0.0</td>\n",
       "      <td>...</td>\n",
       "      <td>0.0</td>\n",
       "      <td>0.0</td>\n",
       "      <td>0.0</td>\n",
       "      <td>0.0</td>\n",
       "      <td>0.0</td>\n",
       "      <td>0.0</td>\n",
       "      <td>0.0</td>\n",
       "      <td>0.0</td>\n",
       "      <td>0.0</td>\n",
       "      <td>0.0</td>\n",
       "    </tr>\n",
       "    <tr>\n",
       "      <th>11109</th>\n",
       "      <td>0.0</td>\n",
       "      <td>0.0</td>\n",
       "      <td>0.0</td>\n",
       "      <td>0.0</td>\n",
       "      <td>0.0</td>\n",
       "      <td>0.0</td>\n",
       "      <td>0.0</td>\n",
       "      <td>0.0</td>\n",
       "      <td>0.0</td>\n",
       "      <td>0.0</td>\n",
       "      <td>...</td>\n",
       "      <td>0.0</td>\n",
       "      <td>0.0</td>\n",
       "      <td>0.0</td>\n",
       "      <td>0.0</td>\n",
       "      <td>0.0</td>\n",
       "      <td>0.0</td>\n",
       "      <td>0.0</td>\n",
       "      <td>0.0</td>\n",
       "      <td>0.0</td>\n",
       "      <td>0.0</td>\n",
       "    </tr>\n",
       "    <tr>\n",
       "      <th>11110</th>\n",
       "      <td>0.0</td>\n",
       "      <td>0.0</td>\n",
       "      <td>0.0</td>\n",
       "      <td>0.0</td>\n",
       "      <td>0.0</td>\n",
       "      <td>0.0</td>\n",
       "      <td>0.0</td>\n",
       "      <td>0.0</td>\n",
       "      <td>0.0</td>\n",
       "      <td>0.0</td>\n",
       "      <td>...</td>\n",
       "      <td>0.0</td>\n",
       "      <td>0.0</td>\n",
       "      <td>0.0</td>\n",
       "      <td>0.0</td>\n",
       "      <td>0.0</td>\n",
       "      <td>0.0</td>\n",
       "      <td>0.0</td>\n",
       "      <td>0.0</td>\n",
       "      <td>0.0</td>\n",
       "      <td>0.0</td>\n",
       "    </tr>\n",
       "    <tr>\n",
       "      <th>11111</th>\n",
       "      <td>0.0</td>\n",
       "      <td>0.0</td>\n",
       "      <td>0.0</td>\n",
       "      <td>0.0</td>\n",
       "      <td>0.0</td>\n",
       "      <td>0.0</td>\n",
       "      <td>0.0</td>\n",
       "      <td>0.0</td>\n",
       "      <td>0.0</td>\n",
       "      <td>0.0</td>\n",
       "      <td>...</td>\n",
       "      <td>0.0</td>\n",
       "      <td>0.0</td>\n",
       "      <td>0.0</td>\n",
       "      <td>0.0</td>\n",
       "      <td>0.0</td>\n",
       "      <td>0.0</td>\n",
       "      <td>0.0</td>\n",
       "      <td>0.0</td>\n",
       "      <td>0.0</td>\n",
       "      <td>0.0</td>\n",
       "    </tr>\n",
       "    <tr>\n",
       "      <th>11112</th>\n",
       "      <td>0.0</td>\n",
       "      <td>0.0</td>\n",
       "      <td>0.0</td>\n",
       "      <td>0.0</td>\n",
       "      <td>0.0</td>\n",
       "      <td>0.0</td>\n",
       "      <td>0.0</td>\n",
       "      <td>0.0</td>\n",
       "      <td>0.0</td>\n",
       "      <td>0.0</td>\n",
       "      <td>...</td>\n",
       "      <td>0.0</td>\n",
       "      <td>0.0</td>\n",
       "      <td>0.0</td>\n",
       "      <td>0.0</td>\n",
       "      <td>0.0</td>\n",
       "      <td>0.0</td>\n",
       "      <td>0.0</td>\n",
       "      <td>0.0</td>\n",
       "      <td>0.0</td>\n",
       "      <td>0.0</td>\n",
       "    </tr>\n",
       "  </tbody>\n",
       "</table>\n",
       "<p>11113 rows × 150 columns</p>\n",
       "</div>"
      ],
      "text/plain": [
       "       Banka  Banská Bystrica  Banská Štiavnica  Bardejov  Bernolákovo  \\\n",
       "0        0.0              0.0               0.0       0.0          0.0   \n",
       "1        0.0              0.0               0.0       0.0          0.0   \n",
       "2        0.0              0.0               0.0       0.0          0.0   \n",
       "3        0.0              0.0               0.0       0.0          0.0   \n",
       "4        0.0              0.0               0.0       0.0          0.0   \n",
       "...      ...              ...               ...       ...          ...   \n",
       "11108    0.0              0.0               0.0       0.0          0.0   \n",
       "11109    0.0              0.0               0.0       0.0          0.0   \n",
       "11110    0.0              0.0               0.0       0.0          0.0   \n",
       "11111    0.0              0.0               0.0       0.0          0.0   \n",
       "11112    0.0              0.0               0.0       0.0          0.0   \n",
       "\n",
       "       Biely Kostol  Bratislava - mestská časť Devínska Nová Ves  \\\n",
       "0               0.0                                          0.0   \n",
       "1               0.0                                          0.0   \n",
       "2               0.0                                          0.0   \n",
       "3               0.0                                          0.0   \n",
       "4               0.0                                          0.0   \n",
       "...             ...                                          ...   \n",
       "11108           0.0                                          0.0   \n",
       "11109           0.0                                          0.0   \n",
       "11110           0.0                                          0.0   \n",
       "11111           0.0                                          0.0   \n",
       "11112           0.0                                          0.0   \n",
       "\n",
       "       Bratislava - mestská časť Dúbravka  Bratislava - mestská časť Jarovce  \\\n",
       "0                                     0.0                                0.0   \n",
       "1                                     0.0                                0.0   \n",
       "2                                     0.0                                0.0   \n",
       "3                                     0.0                                0.0   \n",
       "4                                     0.0                                0.0   \n",
       "...                                   ...                                ...   \n",
       "11108                                 0.0                                0.0   \n",
       "11109                                 0.0                                0.0   \n",
       "11110                                 0.0                                0.0   \n",
       "11111                                 0.0                                0.0   \n",
       "11112                                 0.0                                0.0   \n",
       "\n",
       "       Bratislava - mestská časť Karlova Ves  ...  Zvolen  Čadca  Šahy  \\\n",
       "0                                        0.0  ...     0.0    0.0   0.0   \n",
       "1                                        0.0  ...     0.0    0.0   0.0   \n",
       "2                                        0.0  ...     0.0    0.0   0.0   \n",
       "3                                        0.0  ...     0.0    0.0   0.0   \n",
       "4                                        0.0  ...     0.0    0.0   0.0   \n",
       "...                                      ...  ...     ...    ...   ...   \n",
       "11108                                    0.0  ...     0.0    0.0   0.0   \n",
       "11109                                    0.0  ...     0.0    0.0   0.0   \n",
       "11110                                    0.0  ...     0.0    0.0   0.0   \n",
       "11111                                    0.0  ...     0.0    0.0   0.0   \n",
       "11112                                    0.0  ...     0.0    0.0   0.0   \n",
       "\n",
       "       Šamorín  Šaľa  Štrba  Štúrovo  Šurany  Žiar nad Hronom  Žilina  \n",
       "0          0.0   0.0    0.0      1.0     0.0              0.0     0.0  \n",
       "1          0.0   0.0    0.0      1.0     0.0              0.0     0.0  \n",
       "2          0.0   0.0    0.0      1.0     0.0              0.0     0.0  \n",
       "3          0.0   0.0    0.0      1.0     0.0              0.0     0.0  \n",
       "4          0.0   0.0    0.0      1.0     0.0              0.0     0.0  \n",
       "...        ...   ...    ...      ...     ...              ...     ...  \n",
       "11108      0.0   0.0    0.0      0.0     0.0              0.0     0.0  \n",
       "11109      0.0   0.0    0.0      0.0     0.0              0.0     0.0  \n",
       "11110      0.0   0.0    0.0      0.0     0.0              0.0     0.0  \n",
       "11111      0.0   0.0    0.0      0.0     0.0              0.0     0.0  \n",
       "11112      0.0   0.0    0.0      0.0     0.0              0.0     0.0  \n",
       "\n",
       "[11113 rows x 150 columns]"
      ]
     },
     "execution_count": 61,
     "metadata": {},
     "output_type": "execute_result"
    }
   ],
   "source": [
    "# convert the original \"name_nsi\" column to the encoded categories\n",
    "pd.DataFrame(ohe.transform(data_df[['name_nsi']]).toarray()).rename(columns={i: catg for i, catg in enumerate(ohe.categories_[0])})"
   ]
  },
  {
   "cell_type": "markdown",
   "metadata": {},
   "source": [
    "#### condition"
   ]
  },
  {
   "cell_type": "code",
   "execution_count": 62,
   "metadata": {},
   "outputs": [
    {
     "data": {
      "text/plain": [
       "Complete reconstruction    3158\n",
       "New building               3085\n",
       "Partial reconstruction     2682\n",
       "Original condition         1511\n",
       "Under construction          335\n",
       "Development project          44\n",
       "Name: condition, dtype: int64"
      ]
     },
     "execution_count": 62,
     "metadata": {},
     "output_type": "execute_result"
    }
   ],
   "source": [
    "data_df['condition'].value_counts()"
   ]
  },
  {
   "cell_type": "code",
   "execution_count": 63,
   "metadata": {},
   "outputs": [
    {
     "data": {
      "text/html": [
       "<style>#sk-container-id-2 {color: black;}#sk-container-id-2 pre{padding: 0;}#sk-container-id-2 div.sk-toggleable {background-color: white;}#sk-container-id-2 label.sk-toggleable__label {cursor: pointer;display: block;width: 100%;margin-bottom: 0;padding: 0.3em;box-sizing: border-box;text-align: center;}#sk-container-id-2 label.sk-toggleable__label-arrow:before {content: \"▸\";float: left;margin-right: 0.25em;color: #696969;}#sk-container-id-2 label.sk-toggleable__label-arrow:hover:before {color: black;}#sk-container-id-2 div.sk-estimator:hover label.sk-toggleable__label-arrow:before {color: black;}#sk-container-id-2 div.sk-toggleable__content {max-height: 0;max-width: 0;overflow: hidden;text-align: left;background-color: #f0f8ff;}#sk-container-id-2 div.sk-toggleable__content pre {margin: 0.2em;color: black;border-radius: 0.25em;background-color: #f0f8ff;}#sk-container-id-2 input.sk-toggleable__control:checked~div.sk-toggleable__content {max-height: 200px;max-width: 100%;overflow: auto;}#sk-container-id-2 input.sk-toggleable__control:checked~label.sk-toggleable__label-arrow:before {content: \"▾\";}#sk-container-id-2 div.sk-estimator input.sk-toggleable__control:checked~label.sk-toggleable__label {background-color: #d4ebff;}#sk-container-id-2 div.sk-label input.sk-toggleable__control:checked~label.sk-toggleable__label {background-color: #d4ebff;}#sk-container-id-2 input.sk-hidden--visually {border: 0;clip: rect(1px 1px 1px 1px);clip: rect(1px, 1px, 1px, 1px);height: 1px;margin: -1px;overflow: hidden;padding: 0;position: absolute;width: 1px;}#sk-container-id-2 div.sk-estimator {font-family: monospace;background-color: #f0f8ff;border: 1px dotted black;border-radius: 0.25em;box-sizing: border-box;margin-bottom: 0.5em;}#sk-container-id-2 div.sk-estimator:hover {background-color: #d4ebff;}#sk-container-id-2 div.sk-parallel-item::after {content: \"\";width: 100%;border-bottom: 1px solid gray;flex-grow: 1;}#sk-container-id-2 div.sk-label:hover label.sk-toggleable__label {background-color: #d4ebff;}#sk-container-id-2 div.sk-serial::before {content: \"\";position: absolute;border-left: 1px solid gray;box-sizing: border-box;top: 0;bottom: 0;left: 50%;z-index: 0;}#sk-container-id-2 div.sk-serial {display: flex;flex-direction: column;align-items: center;background-color: white;padding-right: 0.2em;padding-left: 0.2em;position: relative;}#sk-container-id-2 div.sk-item {position: relative;z-index: 1;}#sk-container-id-2 div.sk-parallel {display: flex;align-items: stretch;justify-content: center;background-color: white;position: relative;}#sk-container-id-2 div.sk-item::before, #sk-container-id-2 div.sk-parallel-item::before {content: \"\";position: absolute;border-left: 1px solid gray;box-sizing: border-box;top: 0;bottom: 0;left: 50%;z-index: -1;}#sk-container-id-2 div.sk-parallel-item {display: flex;flex-direction: column;z-index: 1;position: relative;background-color: white;}#sk-container-id-2 div.sk-parallel-item:first-child::after {align-self: flex-end;width: 50%;}#sk-container-id-2 div.sk-parallel-item:last-child::after {align-self: flex-start;width: 50%;}#sk-container-id-2 div.sk-parallel-item:only-child::after {width: 0;}#sk-container-id-2 div.sk-dashed-wrapped {border: 1px dashed gray;margin: 0 0.4em 0.5em 0.4em;box-sizing: border-box;padding-bottom: 0.4em;background-color: white;}#sk-container-id-2 div.sk-label label {font-family: monospace;font-weight: bold;display: inline-block;line-height: 1.2em;}#sk-container-id-2 div.sk-label-container {text-align: center;}#sk-container-id-2 div.sk-container {/* jupyter's `normalize.less` sets `[hidden] { display: none; }` but bootstrap.min.css set `[hidden] { display: none !important; }` so we also need the `!important` here to be able to override the default hidden behavior on the sphinx rendered scikit-learn.org. See: https://github.com/scikit-learn/scikit-learn/issues/21755 */display: inline-block !important;position: relative;}#sk-container-id-2 div.sk-text-repr-fallback {display: none;}</style><div id=\"sk-container-id-2\" class=\"sk-top-container\"><div class=\"sk-text-repr-fallback\"><pre>OneHotEncoder(handle_unknown=&#x27;ignore&#x27;)</pre><b>In a Jupyter environment, please rerun this cell to show the HTML representation or trust the notebook. <br />On GitHub, the HTML representation is unable to render, please try loading this page with nbviewer.org.</b></div><div class=\"sk-container\" hidden><div class=\"sk-item\"><div class=\"sk-estimator sk-toggleable\"><input class=\"sk-toggleable__control sk-hidden--visually\" id=\"sk-estimator-id-2\" type=\"checkbox\" checked><label for=\"sk-estimator-id-2\" class=\"sk-toggleable__label sk-toggleable__label-arrow\">OneHotEncoder</label><div class=\"sk-toggleable__content\"><pre>OneHotEncoder(handle_unknown=&#x27;ignore&#x27;)</pre></div></div></div></div></div>"
      ],
      "text/plain": [
       "OneHotEncoder(handle_unknown='ignore')"
      ]
     },
     "execution_count": 63,
     "metadata": {},
     "output_type": "execute_result"
    }
   ],
   "source": [
    "ohe = OneHotEncoder(handle_unknown='ignore')\n",
    "ohe.fit(data_df[['condition']])"
   ]
  },
  {
   "cell_type": "code",
   "execution_count": 64,
   "metadata": {},
   "outputs": [
    {
     "data": {
      "text/plain": [
       "[array(['Complete reconstruction', 'Development project', 'New building',\n",
       "        'Original condition', 'Partial reconstruction',\n",
       "        'Under construction', nan], dtype=object)]"
      ]
     },
     "execution_count": 64,
     "metadata": {},
     "output_type": "execute_result"
    }
   ],
   "source": [
    "# the categories learned during the fit process\n",
    "ohe.categories_"
   ]
  },
  {
   "cell_type": "code",
   "execution_count": 65,
   "metadata": {},
   "outputs": [
    {
     "data": {
      "text/plain": [
       "array([0., 0., 0., 0., 1., 0., 0.])"
      ]
     },
     "execution_count": 65,
     "metadata": {},
     "output_type": "execute_result"
    }
   ],
   "source": [
    "# encode the \"condition\" with the learned categories during the fit process\n",
    "ohe.transform(data_df[['condition']]).toarray()[0]"
   ]
  },
  {
   "cell_type": "code",
   "execution_count": 66,
   "metadata": {},
   "outputs": [
    {
     "data": {
      "text/html": [
       "<div>\n",
       "<style scoped>\n",
       "    .dataframe tbody tr th:only-of-type {\n",
       "        vertical-align: middle;\n",
       "    }\n",
       "\n",
       "    .dataframe tbody tr th {\n",
       "        vertical-align: top;\n",
       "    }\n",
       "\n",
       "    .dataframe thead th {\n",
       "        text-align: right;\n",
       "    }\n",
       "</style>\n",
       "<table border=\"1\" class=\"dataframe\">\n",
       "  <thead>\n",
       "    <tr style=\"text-align: right;\">\n",
       "      <th></th>\n",
       "      <th>Complete reconstruction</th>\n",
       "      <th>Development project</th>\n",
       "      <th>New building</th>\n",
       "      <th>Original condition</th>\n",
       "      <th>Partial reconstruction</th>\n",
       "      <th>Under construction</th>\n",
       "      <th>NaN</th>\n",
       "    </tr>\n",
       "  </thead>\n",
       "  <tbody>\n",
       "    <tr>\n",
       "      <th>0</th>\n",
       "      <td>0.0</td>\n",
       "      <td>0.0</td>\n",
       "      <td>0.0</td>\n",
       "      <td>0.0</td>\n",
       "      <td>1.0</td>\n",
       "      <td>0.0</td>\n",
       "      <td>0.0</td>\n",
       "    </tr>\n",
       "    <tr>\n",
       "      <th>1</th>\n",
       "      <td>1.0</td>\n",
       "      <td>0.0</td>\n",
       "      <td>0.0</td>\n",
       "      <td>0.0</td>\n",
       "      <td>0.0</td>\n",
       "      <td>0.0</td>\n",
       "      <td>0.0</td>\n",
       "    </tr>\n",
       "    <tr>\n",
       "      <th>2</th>\n",
       "      <td>0.0</td>\n",
       "      <td>0.0</td>\n",
       "      <td>0.0</td>\n",
       "      <td>0.0</td>\n",
       "      <td>1.0</td>\n",
       "      <td>0.0</td>\n",
       "      <td>0.0</td>\n",
       "    </tr>\n",
       "    <tr>\n",
       "      <th>3</th>\n",
       "      <td>1.0</td>\n",
       "      <td>0.0</td>\n",
       "      <td>0.0</td>\n",
       "      <td>0.0</td>\n",
       "      <td>0.0</td>\n",
       "      <td>0.0</td>\n",
       "      <td>0.0</td>\n",
       "    </tr>\n",
       "    <tr>\n",
       "      <th>4</th>\n",
       "      <td>1.0</td>\n",
       "      <td>0.0</td>\n",
       "      <td>0.0</td>\n",
       "      <td>0.0</td>\n",
       "      <td>0.0</td>\n",
       "      <td>0.0</td>\n",
       "      <td>0.0</td>\n",
       "    </tr>\n",
       "    <tr>\n",
       "      <th>...</th>\n",
       "      <td>...</td>\n",
       "      <td>...</td>\n",
       "      <td>...</td>\n",
       "      <td>...</td>\n",
       "      <td>...</td>\n",
       "      <td>...</td>\n",
       "      <td>...</td>\n",
       "    </tr>\n",
       "    <tr>\n",
       "      <th>11108</th>\n",
       "      <td>0.0</td>\n",
       "      <td>0.0</td>\n",
       "      <td>0.0</td>\n",
       "      <td>1.0</td>\n",
       "      <td>0.0</td>\n",
       "      <td>0.0</td>\n",
       "      <td>0.0</td>\n",
       "    </tr>\n",
       "    <tr>\n",
       "      <th>11109</th>\n",
       "      <td>0.0</td>\n",
       "      <td>0.0</td>\n",
       "      <td>0.0</td>\n",
       "      <td>1.0</td>\n",
       "      <td>0.0</td>\n",
       "      <td>0.0</td>\n",
       "      <td>0.0</td>\n",
       "    </tr>\n",
       "    <tr>\n",
       "      <th>11110</th>\n",
       "      <td>1.0</td>\n",
       "      <td>0.0</td>\n",
       "      <td>0.0</td>\n",
       "      <td>0.0</td>\n",
       "      <td>0.0</td>\n",
       "      <td>0.0</td>\n",
       "      <td>0.0</td>\n",
       "    </tr>\n",
       "    <tr>\n",
       "      <th>11111</th>\n",
       "      <td>0.0</td>\n",
       "      <td>0.0</td>\n",
       "      <td>0.0</td>\n",
       "      <td>0.0</td>\n",
       "      <td>1.0</td>\n",
       "      <td>0.0</td>\n",
       "      <td>0.0</td>\n",
       "    </tr>\n",
       "    <tr>\n",
       "      <th>11112</th>\n",
       "      <td>1.0</td>\n",
       "      <td>0.0</td>\n",
       "      <td>0.0</td>\n",
       "      <td>0.0</td>\n",
       "      <td>0.0</td>\n",
       "      <td>0.0</td>\n",
       "      <td>0.0</td>\n",
       "    </tr>\n",
       "  </tbody>\n",
       "</table>\n",
       "<p>11113 rows × 7 columns</p>\n",
       "</div>"
      ],
      "text/plain": [
       "       Complete reconstruction  Development project  New building  \\\n",
       "0                          0.0                  0.0           0.0   \n",
       "1                          1.0                  0.0           0.0   \n",
       "2                          0.0                  0.0           0.0   \n",
       "3                          1.0                  0.0           0.0   \n",
       "4                          1.0                  0.0           0.0   \n",
       "...                        ...                  ...           ...   \n",
       "11108                      0.0                  0.0           0.0   \n",
       "11109                      0.0                  0.0           0.0   \n",
       "11110                      1.0                  0.0           0.0   \n",
       "11111                      0.0                  0.0           0.0   \n",
       "11112                      1.0                  0.0           0.0   \n",
       "\n",
       "       Original condition  Partial reconstruction  Under construction  NaN  \n",
       "0                     0.0                     1.0                 0.0  0.0  \n",
       "1                     0.0                     0.0                 0.0  0.0  \n",
       "2                     0.0                     1.0                 0.0  0.0  \n",
       "3                     0.0                     0.0                 0.0  0.0  \n",
       "4                     0.0                     0.0                 0.0  0.0  \n",
       "...                   ...                     ...                 ...  ...  \n",
       "11108                 1.0                     0.0                 0.0  0.0  \n",
       "11109                 1.0                     0.0                 0.0  0.0  \n",
       "11110                 0.0                     0.0                 0.0  0.0  \n",
       "11111                 0.0                     1.0                 0.0  0.0  \n",
       "11112                 0.0                     0.0                 0.0  0.0  \n",
       "\n",
       "[11113 rows x 7 columns]"
      ]
     },
     "execution_count": 66,
     "metadata": {},
     "output_type": "execute_result"
    }
   ],
   "source": [
    "# convert the original \"condition\" column to the encoded categories\n",
    "pd.DataFrame(ohe.transform(data_df[['condition']]).toarray()).rename(columns={i: catg for i, catg in enumerate(ohe.categories_[0])})"
   ]
  },
  {
   "cell_type": "markdown",
   "metadata": {},
   "source": [
    "#### certificate"
   ]
  },
  {
   "cell_type": "code",
   "execution_count": 67,
   "metadata": {},
   "outputs": [
    {
     "data": {
      "text/plain": [
       "none    2594\n",
       "A       1027\n",
       "B        638\n",
       "C         98\n",
       "G         37\n",
       "D         14\n",
       "E          5\n",
       "F          0\n",
       "Name: certificate, dtype: int64"
      ]
     },
     "execution_count": 67,
     "metadata": {},
     "output_type": "execute_result"
    }
   ],
   "source": [
    "data_df['certificate'].value_counts()"
   ]
  },
  {
   "cell_type": "code",
   "execution_count": 68,
   "metadata": {},
   "outputs": [
    {
     "data": {
      "text/html": [
       "<style>#sk-container-id-3 {color: black;}#sk-container-id-3 pre{padding: 0;}#sk-container-id-3 div.sk-toggleable {background-color: white;}#sk-container-id-3 label.sk-toggleable__label {cursor: pointer;display: block;width: 100%;margin-bottom: 0;padding: 0.3em;box-sizing: border-box;text-align: center;}#sk-container-id-3 label.sk-toggleable__label-arrow:before {content: \"▸\";float: left;margin-right: 0.25em;color: #696969;}#sk-container-id-3 label.sk-toggleable__label-arrow:hover:before {color: black;}#sk-container-id-3 div.sk-estimator:hover label.sk-toggleable__label-arrow:before {color: black;}#sk-container-id-3 div.sk-toggleable__content {max-height: 0;max-width: 0;overflow: hidden;text-align: left;background-color: #f0f8ff;}#sk-container-id-3 div.sk-toggleable__content pre {margin: 0.2em;color: black;border-radius: 0.25em;background-color: #f0f8ff;}#sk-container-id-3 input.sk-toggleable__control:checked~div.sk-toggleable__content {max-height: 200px;max-width: 100%;overflow: auto;}#sk-container-id-3 input.sk-toggleable__control:checked~label.sk-toggleable__label-arrow:before {content: \"▾\";}#sk-container-id-3 div.sk-estimator input.sk-toggleable__control:checked~label.sk-toggleable__label {background-color: #d4ebff;}#sk-container-id-3 div.sk-label input.sk-toggleable__control:checked~label.sk-toggleable__label {background-color: #d4ebff;}#sk-container-id-3 input.sk-hidden--visually {border: 0;clip: rect(1px 1px 1px 1px);clip: rect(1px, 1px, 1px, 1px);height: 1px;margin: -1px;overflow: hidden;padding: 0;position: absolute;width: 1px;}#sk-container-id-3 div.sk-estimator {font-family: monospace;background-color: #f0f8ff;border: 1px dotted black;border-radius: 0.25em;box-sizing: border-box;margin-bottom: 0.5em;}#sk-container-id-3 div.sk-estimator:hover {background-color: #d4ebff;}#sk-container-id-3 div.sk-parallel-item::after {content: \"\";width: 100%;border-bottom: 1px solid gray;flex-grow: 1;}#sk-container-id-3 div.sk-label:hover label.sk-toggleable__label {background-color: #d4ebff;}#sk-container-id-3 div.sk-serial::before {content: \"\";position: absolute;border-left: 1px solid gray;box-sizing: border-box;top: 0;bottom: 0;left: 50%;z-index: 0;}#sk-container-id-3 div.sk-serial {display: flex;flex-direction: column;align-items: center;background-color: white;padding-right: 0.2em;padding-left: 0.2em;position: relative;}#sk-container-id-3 div.sk-item {position: relative;z-index: 1;}#sk-container-id-3 div.sk-parallel {display: flex;align-items: stretch;justify-content: center;background-color: white;position: relative;}#sk-container-id-3 div.sk-item::before, #sk-container-id-3 div.sk-parallel-item::before {content: \"\";position: absolute;border-left: 1px solid gray;box-sizing: border-box;top: 0;bottom: 0;left: 50%;z-index: -1;}#sk-container-id-3 div.sk-parallel-item {display: flex;flex-direction: column;z-index: 1;position: relative;background-color: white;}#sk-container-id-3 div.sk-parallel-item:first-child::after {align-self: flex-end;width: 50%;}#sk-container-id-3 div.sk-parallel-item:last-child::after {align-self: flex-start;width: 50%;}#sk-container-id-3 div.sk-parallel-item:only-child::after {width: 0;}#sk-container-id-3 div.sk-dashed-wrapped {border: 1px dashed gray;margin: 0 0.4em 0.5em 0.4em;box-sizing: border-box;padding-bottom: 0.4em;background-color: white;}#sk-container-id-3 div.sk-label label {font-family: monospace;font-weight: bold;display: inline-block;line-height: 1.2em;}#sk-container-id-3 div.sk-label-container {text-align: center;}#sk-container-id-3 div.sk-container {/* jupyter's `normalize.less` sets `[hidden] { display: none; }` but bootstrap.min.css set `[hidden] { display: none !important; }` so we also need the `!important` here to be able to override the default hidden behavior on the sphinx rendered scikit-learn.org. See: https://github.com/scikit-learn/scikit-learn/issues/21755 */display: inline-block !important;position: relative;}#sk-container-id-3 div.sk-text-repr-fallback {display: none;}</style><div id=\"sk-container-id-3\" class=\"sk-top-container\"><div class=\"sk-text-repr-fallback\"><pre>OneHotEncoder(handle_unknown=&#x27;ignore&#x27;)</pre><b>In a Jupyter environment, please rerun this cell to show the HTML representation or trust the notebook. <br />On GitHub, the HTML representation is unable to render, please try loading this page with nbviewer.org.</b></div><div class=\"sk-container\" hidden><div class=\"sk-item\"><div class=\"sk-estimator sk-toggleable\"><input class=\"sk-toggleable__control sk-hidden--visually\" id=\"sk-estimator-id-3\" type=\"checkbox\" checked><label for=\"sk-estimator-id-3\" class=\"sk-toggleable__label sk-toggleable__label-arrow\">OneHotEncoder</label><div class=\"sk-toggleable__content\"><pre>OneHotEncoder(handle_unknown=&#x27;ignore&#x27;)</pre></div></div></div></div></div>"
      ],
      "text/plain": [
       "OneHotEncoder(handle_unknown='ignore')"
      ]
     },
     "execution_count": 68,
     "metadata": {},
     "output_type": "execute_result"
    }
   ],
   "source": [
    "ohe = OneHotEncoder(handle_unknown='ignore')\n",
    "ohe.fit(data_df[['certificate']])"
   ]
  },
  {
   "cell_type": "code",
   "execution_count": 69,
   "metadata": {},
   "outputs": [
    {
     "data": {
      "text/plain": [
       "[array(['A', 'B', 'C', 'D', 'E', 'G', 'none', nan], dtype=object)]"
      ]
     },
     "execution_count": 69,
     "metadata": {},
     "output_type": "execute_result"
    }
   ],
   "source": [
    "# the categories learned during the fit process\n",
    "ohe.categories_"
   ]
  },
  {
   "cell_type": "code",
   "execution_count": 70,
   "metadata": {},
   "outputs": [
    {
     "data": {
      "text/plain": [
       "array([0., 0., 0., 0., 0., 0., 0., 1.])"
      ]
     },
     "execution_count": 70,
     "metadata": {},
     "output_type": "execute_result"
    }
   ],
   "source": [
    "# encode the \"certificate\" with the learned categories during the fit process\n",
    "ohe.transform(data_df[['certificate']]).toarray()[0]"
   ]
  },
  {
   "cell_type": "code",
   "execution_count": 71,
   "metadata": {},
   "outputs": [
    {
     "data": {
      "text/html": [
       "<div>\n",
       "<style scoped>\n",
       "    .dataframe tbody tr th:only-of-type {\n",
       "        vertical-align: middle;\n",
       "    }\n",
       "\n",
       "    .dataframe tbody tr th {\n",
       "        vertical-align: top;\n",
       "    }\n",
       "\n",
       "    .dataframe thead th {\n",
       "        text-align: right;\n",
       "    }\n",
       "</style>\n",
       "<table border=\"1\" class=\"dataframe\">\n",
       "  <thead>\n",
       "    <tr style=\"text-align: right;\">\n",
       "      <th></th>\n",
       "      <th>A</th>\n",
       "      <th>B</th>\n",
       "      <th>C</th>\n",
       "      <th>D</th>\n",
       "      <th>E</th>\n",
       "      <th>G</th>\n",
       "      <th>none</th>\n",
       "      <th>NaN</th>\n",
       "    </tr>\n",
       "  </thead>\n",
       "  <tbody>\n",
       "    <tr>\n",
       "      <th>0</th>\n",
       "      <td>0.0</td>\n",
       "      <td>0.0</td>\n",
       "      <td>0.0</td>\n",
       "      <td>0.0</td>\n",
       "      <td>0.0</td>\n",
       "      <td>0.0</td>\n",
       "      <td>0.0</td>\n",
       "      <td>1.0</td>\n",
       "    </tr>\n",
       "    <tr>\n",
       "      <th>1</th>\n",
       "      <td>0.0</td>\n",
       "      <td>0.0</td>\n",
       "      <td>1.0</td>\n",
       "      <td>0.0</td>\n",
       "      <td>0.0</td>\n",
       "      <td>0.0</td>\n",
       "      <td>0.0</td>\n",
       "      <td>0.0</td>\n",
       "    </tr>\n",
       "    <tr>\n",
       "      <th>2</th>\n",
       "      <td>0.0</td>\n",
       "      <td>0.0</td>\n",
       "      <td>0.0</td>\n",
       "      <td>0.0</td>\n",
       "      <td>0.0</td>\n",
       "      <td>0.0</td>\n",
       "      <td>0.0</td>\n",
       "      <td>1.0</td>\n",
       "    </tr>\n",
       "    <tr>\n",
       "      <th>3</th>\n",
       "      <td>0.0</td>\n",
       "      <td>0.0</td>\n",
       "      <td>0.0</td>\n",
       "      <td>0.0</td>\n",
       "      <td>0.0</td>\n",
       "      <td>0.0</td>\n",
       "      <td>1.0</td>\n",
       "      <td>0.0</td>\n",
       "    </tr>\n",
       "    <tr>\n",
       "      <th>4</th>\n",
       "      <td>0.0</td>\n",
       "      <td>0.0</td>\n",
       "      <td>0.0</td>\n",
       "      <td>0.0</td>\n",
       "      <td>0.0</td>\n",
       "      <td>0.0</td>\n",
       "      <td>0.0</td>\n",
       "      <td>1.0</td>\n",
       "    </tr>\n",
       "    <tr>\n",
       "      <th>...</th>\n",
       "      <td>...</td>\n",
       "      <td>...</td>\n",
       "      <td>...</td>\n",
       "      <td>...</td>\n",
       "      <td>...</td>\n",
       "      <td>...</td>\n",
       "      <td>...</td>\n",
       "      <td>...</td>\n",
       "    </tr>\n",
       "    <tr>\n",
       "      <th>11108</th>\n",
       "      <td>0.0</td>\n",
       "      <td>0.0</td>\n",
       "      <td>0.0</td>\n",
       "      <td>0.0</td>\n",
       "      <td>0.0</td>\n",
       "      <td>0.0</td>\n",
       "      <td>0.0</td>\n",
       "      <td>1.0</td>\n",
       "    </tr>\n",
       "    <tr>\n",
       "      <th>11109</th>\n",
       "      <td>0.0</td>\n",
       "      <td>0.0</td>\n",
       "      <td>0.0</td>\n",
       "      <td>0.0</td>\n",
       "      <td>0.0</td>\n",
       "      <td>0.0</td>\n",
       "      <td>1.0</td>\n",
       "      <td>0.0</td>\n",
       "    </tr>\n",
       "    <tr>\n",
       "      <th>11110</th>\n",
       "      <td>0.0</td>\n",
       "      <td>0.0</td>\n",
       "      <td>0.0</td>\n",
       "      <td>0.0</td>\n",
       "      <td>0.0</td>\n",
       "      <td>0.0</td>\n",
       "      <td>0.0</td>\n",
       "      <td>1.0</td>\n",
       "    </tr>\n",
       "    <tr>\n",
       "      <th>11111</th>\n",
       "      <td>0.0</td>\n",
       "      <td>0.0</td>\n",
       "      <td>0.0</td>\n",
       "      <td>0.0</td>\n",
       "      <td>0.0</td>\n",
       "      <td>0.0</td>\n",
       "      <td>0.0</td>\n",
       "      <td>1.0</td>\n",
       "    </tr>\n",
       "    <tr>\n",
       "      <th>11112</th>\n",
       "      <td>0.0</td>\n",
       "      <td>0.0</td>\n",
       "      <td>0.0</td>\n",
       "      <td>0.0</td>\n",
       "      <td>0.0</td>\n",
       "      <td>0.0</td>\n",
       "      <td>0.0</td>\n",
       "      <td>1.0</td>\n",
       "    </tr>\n",
       "  </tbody>\n",
       "</table>\n",
       "<p>11113 rows × 8 columns</p>\n",
       "</div>"
      ],
      "text/plain": [
       "         A    B    C    D    E    G  none  NaN\n",
       "0      0.0  0.0  0.0  0.0  0.0  0.0   0.0  1.0\n",
       "1      0.0  0.0  1.0  0.0  0.0  0.0   0.0  0.0\n",
       "2      0.0  0.0  0.0  0.0  0.0  0.0   0.0  1.0\n",
       "3      0.0  0.0  0.0  0.0  0.0  0.0   1.0  0.0\n",
       "4      0.0  0.0  0.0  0.0  0.0  0.0   0.0  1.0\n",
       "...    ...  ...  ...  ...  ...  ...   ...  ...\n",
       "11108  0.0  0.0  0.0  0.0  0.0  0.0   0.0  1.0\n",
       "11109  0.0  0.0  0.0  0.0  0.0  0.0   1.0  0.0\n",
       "11110  0.0  0.0  0.0  0.0  0.0  0.0   0.0  1.0\n",
       "11111  0.0  0.0  0.0  0.0  0.0  0.0   0.0  1.0\n",
       "11112  0.0  0.0  0.0  0.0  0.0  0.0   0.0  1.0\n",
       "\n",
       "[11113 rows x 8 columns]"
      ]
     },
     "execution_count": 71,
     "metadata": {},
     "output_type": "execute_result"
    }
   ],
   "source": [
    "# convert the original \"certificate\" column to the encoded categories\n",
    "pd.DataFrame(ohe.transform(data_df[['certificate']]).toarray()).rename(columns={i: catg for i, catg in enumerate(ohe.categories_[0])})"
   ]
  },
  {
   "cell_type": "markdown",
   "metadata": {},
   "source": [
    "#### type"
   ]
  },
  {
   "cell_type": "code",
   "execution_count": 72,
   "metadata": {},
   "outputs": [
    {
     "data": {
      "text/plain": [
       "3-room apartment            4283\n",
       "2-room apartment            4228\n",
       "1-room apartment            1379\n",
       "4-room apartment             876\n",
       "Studio                       307\n",
       "5 or more room apartment      40\n",
       "Name: type, dtype: int64"
      ]
     },
     "execution_count": 72,
     "metadata": {},
     "output_type": "execute_result"
    }
   ],
   "source": [
    "data_df['type'].value_counts()"
   ]
  },
  {
   "cell_type": "code",
   "execution_count": 73,
   "metadata": {},
   "outputs": [
    {
     "data": {
      "text/html": [
       "<style>#sk-container-id-4 {color: black;}#sk-container-id-4 pre{padding: 0;}#sk-container-id-4 div.sk-toggleable {background-color: white;}#sk-container-id-4 label.sk-toggleable__label {cursor: pointer;display: block;width: 100%;margin-bottom: 0;padding: 0.3em;box-sizing: border-box;text-align: center;}#sk-container-id-4 label.sk-toggleable__label-arrow:before {content: \"▸\";float: left;margin-right: 0.25em;color: #696969;}#sk-container-id-4 label.sk-toggleable__label-arrow:hover:before {color: black;}#sk-container-id-4 div.sk-estimator:hover label.sk-toggleable__label-arrow:before {color: black;}#sk-container-id-4 div.sk-toggleable__content {max-height: 0;max-width: 0;overflow: hidden;text-align: left;background-color: #f0f8ff;}#sk-container-id-4 div.sk-toggleable__content pre {margin: 0.2em;color: black;border-radius: 0.25em;background-color: #f0f8ff;}#sk-container-id-4 input.sk-toggleable__control:checked~div.sk-toggleable__content {max-height: 200px;max-width: 100%;overflow: auto;}#sk-container-id-4 input.sk-toggleable__control:checked~label.sk-toggleable__label-arrow:before {content: \"▾\";}#sk-container-id-4 div.sk-estimator input.sk-toggleable__control:checked~label.sk-toggleable__label {background-color: #d4ebff;}#sk-container-id-4 div.sk-label input.sk-toggleable__control:checked~label.sk-toggleable__label {background-color: #d4ebff;}#sk-container-id-4 input.sk-hidden--visually {border: 0;clip: rect(1px 1px 1px 1px);clip: rect(1px, 1px, 1px, 1px);height: 1px;margin: -1px;overflow: hidden;padding: 0;position: absolute;width: 1px;}#sk-container-id-4 div.sk-estimator {font-family: monospace;background-color: #f0f8ff;border: 1px dotted black;border-radius: 0.25em;box-sizing: border-box;margin-bottom: 0.5em;}#sk-container-id-4 div.sk-estimator:hover {background-color: #d4ebff;}#sk-container-id-4 div.sk-parallel-item::after {content: \"\";width: 100%;border-bottom: 1px solid gray;flex-grow: 1;}#sk-container-id-4 div.sk-label:hover label.sk-toggleable__label {background-color: #d4ebff;}#sk-container-id-4 div.sk-serial::before {content: \"\";position: absolute;border-left: 1px solid gray;box-sizing: border-box;top: 0;bottom: 0;left: 50%;z-index: 0;}#sk-container-id-4 div.sk-serial {display: flex;flex-direction: column;align-items: center;background-color: white;padding-right: 0.2em;padding-left: 0.2em;position: relative;}#sk-container-id-4 div.sk-item {position: relative;z-index: 1;}#sk-container-id-4 div.sk-parallel {display: flex;align-items: stretch;justify-content: center;background-color: white;position: relative;}#sk-container-id-4 div.sk-item::before, #sk-container-id-4 div.sk-parallel-item::before {content: \"\";position: absolute;border-left: 1px solid gray;box-sizing: border-box;top: 0;bottom: 0;left: 50%;z-index: -1;}#sk-container-id-4 div.sk-parallel-item {display: flex;flex-direction: column;z-index: 1;position: relative;background-color: white;}#sk-container-id-4 div.sk-parallel-item:first-child::after {align-self: flex-end;width: 50%;}#sk-container-id-4 div.sk-parallel-item:last-child::after {align-self: flex-start;width: 50%;}#sk-container-id-4 div.sk-parallel-item:only-child::after {width: 0;}#sk-container-id-4 div.sk-dashed-wrapped {border: 1px dashed gray;margin: 0 0.4em 0.5em 0.4em;box-sizing: border-box;padding-bottom: 0.4em;background-color: white;}#sk-container-id-4 div.sk-label label {font-family: monospace;font-weight: bold;display: inline-block;line-height: 1.2em;}#sk-container-id-4 div.sk-label-container {text-align: center;}#sk-container-id-4 div.sk-container {/* jupyter's `normalize.less` sets `[hidden] { display: none; }` but bootstrap.min.css set `[hidden] { display: none !important; }` so we also need the `!important` here to be able to override the default hidden behavior on the sphinx rendered scikit-learn.org. See: https://github.com/scikit-learn/scikit-learn/issues/21755 */display: inline-block !important;position: relative;}#sk-container-id-4 div.sk-text-repr-fallback {display: none;}</style><div id=\"sk-container-id-4\" class=\"sk-top-container\"><div class=\"sk-text-repr-fallback\"><pre>OneHotEncoder(handle_unknown=&#x27;ignore&#x27;)</pre><b>In a Jupyter environment, please rerun this cell to show the HTML representation or trust the notebook. <br />On GitHub, the HTML representation is unable to render, please try loading this page with nbviewer.org.</b></div><div class=\"sk-container\" hidden><div class=\"sk-item\"><div class=\"sk-estimator sk-toggleable\"><input class=\"sk-toggleable__control sk-hidden--visually\" id=\"sk-estimator-id-4\" type=\"checkbox\" checked><label for=\"sk-estimator-id-4\" class=\"sk-toggleable__label sk-toggleable__label-arrow\">OneHotEncoder</label><div class=\"sk-toggleable__content\"><pre>OneHotEncoder(handle_unknown=&#x27;ignore&#x27;)</pre></div></div></div></div></div>"
      ],
      "text/plain": [
       "OneHotEncoder(handle_unknown='ignore')"
      ]
     },
     "execution_count": 73,
     "metadata": {},
     "output_type": "execute_result"
    }
   ],
   "source": [
    "ohe = OneHotEncoder(handle_unknown='ignore')\n",
    "ohe.fit(data_df[['type']])"
   ]
  },
  {
   "cell_type": "code",
   "execution_count": 74,
   "metadata": {},
   "outputs": [
    {
     "data": {
      "text/plain": [
       "[array(['1-room apartment', '2-room apartment', '3-room apartment',\n",
       "        '4-room apartment', '5 or more room apartment', 'Studio'],\n",
       "       dtype=object)]"
      ]
     },
     "execution_count": 74,
     "metadata": {},
     "output_type": "execute_result"
    }
   ],
   "source": [
    "# the categories learned during the fit process\n",
    "ohe.categories_"
   ]
  },
  {
   "cell_type": "code",
   "execution_count": 75,
   "metadata": {},
   "outputs": [
    {
     "data": {
      "text/plain": [
       "array([1., 0., 0., 0., 0., 0.])"
      ]
     },
     "execution_count": 75,
     "metadata": {},
     "output_type": "execute_result"
    }
   ],
   "source": [
    "# encode the \"type\" with the learned categories during the fit process\n",
    "ohe.transform(data_df[['type']]).toarray()[0]"
   ]
  },
  {
   "cell_type": "code",
   "execution_count": 76,
   "metadata": {},
   "outputs": [
    {
     "data": {
      "text/html": [
       "<div>\n",
       "<style scoped>\n",
       "    .dataframe tbody tr th:only-of-type {\n",
       "        vertical-align: middle;\n",
       "    }\n",
       "\n",
       "    .dataframe tbody tr th {\n",
       "        vertical-align: top;\n",
       "    }\n",
       "\n",
       "    .dataframe thead th {\n",
       "        text-align: right;\n",
       "    }\n",
       "</style>\n",
       "<table border=\"1\" class=\"dataframe\">\n",
       "  <thead>\n",
       "    <tr style=\"text-align: right;\">\n",
       "      <th></th>\n",
       "      <th>1-room apartment</th>\n",
       "      <th>2-room apartment</th>\n",
       "      <th>3-room apartment</th>\n",
       "      <th>4-room apartment</th>\n",
       "      <th>5 or more room apartment</th>\n",
       "      <th>Studio</th>\n",
       "    </tr>\n",
       "  </thead>\n",
       "  <tbody>\n",
       "    <tr>\n",
       "      <th>0</th>\n",
       "      <td>1.0</td>\n",
       "      <td>0.0</td>\n",
       "      <td>0.0</td>\n",
       "      <td>0.0</td>\n",
       "      <td>0.0</td>\n",
       "      <td>0.0</td>\n",
       "    </tr>\n",
       "    <tr>\n",
       "      <th>1</th>\n",
       "      <td>0.0</td>\n",
       "      <td>0.0</td>\n",
       "      <td>1.0</td>\n",
       "      <td>0.0</td>\n",
       "      <td>0.0</td>\n",
       "      <td>0.0</td>\n",
       "    </tr>\n",
       "    <tr>\n",
       "      <th>2</th>\n",
       "      <td>0.0</td>\n",
       "      <td>1.0</td>\n",
       "      <td>0.0</td>\n",
       "      <td>0.0</td>\n",
       "      <td>0.0</td>\n",
       "      <td>0.0</td>\n",
       "    </tr>\n",
       "    <tr>\n",
       "      <th>3</th>\n",
       "      <td>0.0</td>\n",
       "      <td>0.0</td>\n",
       "      <td>1.0</td>\n",
       "      <td>0.0</td>\n",
       "      <td>0.0</td>\n",
       "      <td>0.0</td>\n",
       "    </tr>\n",
       "    <tr>\n",
       "      <th>4</th>\n",
       "      <td>0.0</td>\n",
       "      <td>0.0</td>\n",
       "      <td>1.0</td>\n",
       "      <td>0.0</td>\n",
       "      <td>0.0</td>\n",
       "      <td>0.0</td>\n",
       "    </tr>\n",
       "    <tr>\n",
       "      <th>...</th>\n",
       "      <td>...</td>\n",
       "      <td>...</td>\n",
       "      <td>...</td>\n",
       "      <td>...</td>\n",
       "      <td>...</td>\n",
       "      <td>...</td>\n",
       "    </tr>\n",
       "    <tr>\n",
       "      <th>11108</th>\n",
       "      <td>0.0</td>\n",
       "      <td>1.0</td>\n",
       "      <td>0.0</td>\n",
       "      <td>0.0</td>\n",
       "      <td>0.0</td>\n",
       "      <td>0.0</td>\n",
       "    </tr>\n",
       "    <tr>\n",
       "      <th>11109</th>\n",
       "      <td>0.0</td>\n",
       "      <td>1.0</td>\n",
       "      <td>0.0</td>\n",
       "      <td>0.0</td>\n",
       "      <td>0.0</td>\n",
       "      <td>0.0</td>\n",
       "    </tr>\n",
       "    <tr>\n",
       "      <th>11110</th>\n",
       "      <td>0.0</td>\n",
       "      <td>0.0</td>\n",
       "      <td>0.0</td>\n",
       "      <td>1.0</td>\n",
       "      <td>0.0</td>\n",
       "      <td>0.0</td>\n",
       "    </tr>\n",
       "    <tr>\n",
       "      <th>11111</th>\n",
       "      <td>0.0</td>\n",
       "      <td>0.0</td>\n",
       "      <td>1.0</td>\n",
       "      <td>0.0</td>\n",
       "      <td>0.0</td>\n",
       "      <td>0.0</td>\n",
       "    </tr>\n",
       "    <tr>\n",
       "      <th>11112</th>\n",
       "      <td>0.0</td>\n",
       "      <td>0.0</td>\n",
       "      <td>1.0</td>\n",
       "      <td>0.0</td>\n",
       "      <td>0.0</td>\n",
       "      <td>0.0</td>\n",
       "    </tr>\n",
       "  </tbody>\n",
       "</table>\n",
       "<p>11113 rows × 6 columns</p>\n",
       "</div>"
      ],
      "text/plain": [
       "       1-room apartment  2-room apartment  3-room apartment  4-room apartment  \\\n",
       "0                   1.0               0.0               0.0               0.0   \n",
       "1                   0.0               0.0               1.0               0.0   \n",
       "2                   0.0               1.0               0.0               0.0   \n",
       "3                   0.0               0.0               1.0               0.0   \n",
       "4                   0.0               0.0               1.0               0.0   \n",
       "...                 ...               ...               ...               ...   \n",
       "11108               0.0               1.0               0.0               0.0   \n",
       "11109               0.0               1.0               0.0               0.0   \n",
       "11110               0.0               0.0               0.0               1.0   \n",
       "11111               0.0               0.0               1.0               0.0   \n",
       "11112               0.0               0.0               1.0               0.0   \n",
       "\n",
       "       5 or more room apartment  Studio  \n",
       "0                           0.0     0.0  \n",
       "1                           0.0     0.0  \n",
       "2                           0.0     0.0  \n",
       "3                           0.0     0.0  \n",
       "4                           0.0     0.0  \n",
       "...                         ...     ...  \n",
       "11108                       0.0     0.0  \n",
       "11109                       0.0     0.0  \n",
       "11110                       0.0     0.0  \n",
       "11111                       0.0     0.0  \n",
       "11112                       0.0     0.0  \n",
       "\n",
       "[11113 rows x 6 columns]"
      ]
     },
     "execution_count": 76,
     "metadata": {},
     "output_type": "execute_result"
    }
   ],
   "source": [
    "# convert the original \"type\" column to the encoded categories\n",
    "pd.DataFrame(ohe.transform(data_df[['type']]).toarray()).rename(columns={i: catg for i, catg in enumerate(ohe.categories_[0])})"
   ]
  },
  {
   "cell_type": "markdown",
   "metadata": {},
   "source": [
    "#### district"
   ]
  },
  {
   "cell_type": "code",
   "execution_count": 77,
   "metadata": {},
   "outputs": [
    {
     "data": {
      "text/plain": [
       "Bratislava II      982\n",
       "Bratislava IV      558\n",
       "Bratislava I       492\n",
       "Senec              471\n",
       "Dunajská Streda    413\n",
       "                  ... \n",
       "Sabinov              0\n",
       "Tvrdošín             0\n",
       "Svidník              0\n",
       "Stará Ľubovňa        0\n",
       "Stropkov             0\n",
       "Name: district, Length: 79, dtype: int64"
      ]
     },
     "execution_count": 77,
     "metadata": {},
     "output_type": "execute_result"
    }
   ],
   "source": [
    "\n",
    "data_df['district'].value_counts()"
   ]
  },
  {
   "cell_type": "code",
   "execution_count": 78,
   "metadata": {},
   "outputs": [
    {
     "data": {
      "text/html": [
       "<style>#sk-container-id-5 {color: black;}#sk-container-id-5 pre{padding: 0;}#sk-container-id-5 div.sk-toggleable {background-color: white;}#sk-container-id-5 label.sk-toggleable__label {cursor: pointer;display: block;width: 100%;margin-bottom: 0;padding: 0.3em;box-sizing: border-box;text-align: center;}#sk-container-id-5 label.sk-toggleable__label-arrow:before {content: \"▸\";float: left;margin-right: 0.25em;color: #696969;}#sk-container-id-5 label.sk-toggleable__label-arrow:hover:before {color: black;}#sk-container-id-5 div.sk-estimator:hover label.sk-toggleable__label-arrow:before {color: black;}#sk-container-id-5 div.sk-toggleable__content {max-height: 0;max-width: 0;overflow: hidden;text-align: left;background-color: #f0f8ff;}#sk-container-id-5 div.sk-toggleable__content pre {margin: 0.2em;color: black;border-radius: 0.25em;background-color: #f0f8ff;}#sk-container-id-5 input.sk-toggleable__control:checked~div.sk-toggleable__content {max-height: 200px;max-width: 100%;overflow: auto;}#sk-container-id-5 input.sk-toggleable__control:checked~label.sk-toggleable__label-arrow:before {content: \"▾\";}#sk-container-id-5 div.sk-estimator input.sk-toggleable__control:checked~label.sk-toggleable__label {background-color: #d4ebff;}#sk-container-id-5 div.sk-label input.sk-toggleable__control:checked~label.sk-toggleable__label {background-color: #d4ebff;}#sk-container-id-5 input.sk-hidden--visually {border: 0;clip: rect(1px 1px 1px 1px);clip: rect(1px, 1px, 1px, 1px);height: 1px;margin: -1px;overflow: hidden;padding: 0;position: absolute;width: 1px;}#sk-container-id-5 div.sk-estimator {font-family: monospace;background-color: #f0f8ff;border: 1px dotted black;border-radius: 0.25em;box-sizing: border-box;margin-bottom: 0.5em;}#sk-container-id-5 div.sk-estimator:hover {background-color: #d4ebff;}#sk-container-id-5 div.sk-parallel-item::after {content: \"\";width: 100%;border-bottom: 1px solid gray;flex-grow: 1;}#sk-container-id-5 div.sk-label:hover label.sk-toggleable__label {background-color: #d4ebff;}#sk-container-id-5 div.sk-serial::before {content: \"\";position: absolute;border-left: 1px solid gray;box-sizing: border-box;top: 0;bottom: 0;left: 50%;z-index: 0;}#sk-container-id-5 div.sk-serial {display: flex;flex-direction: column;align-items: center;background-color: white;padding-right: 0.2em;padding-left: 0.2em;position: relative;}#sk-container-id-5 div.sk-item {position: relative;z-index: 1;}#sk-container-id-5 div.sk-parallel {display: flex;align-items: stretch;justify-content: center;background-color: white;position: relative;}#sk-container-id-5 div.sk-item::before, #sk-container-id-5 div.sk-parallel-item::before {content: \"\";position: absolute;border-left: 1px solid gray;box-sizing: border-box;top: 0;bottom: 0;left: 50%;z-index: -1;}#sk-container-id-5 div.sk-parallel-item {display: flex;flex-direction: column;z-index: 1;position: relative;background-color: white;}#sk-container-id-5 div.sk-parallel-item:first-child::after {align-self: flex-end;width: 50%;}#sk-container-id-5 div.sk-parallel-item:last-child::after {align-self: flex-start;width: 50%;}#sk-container-id-5 div.sk-parallel-item:only-child::after {width: 0;}#sk-container-id-5 div.sk-dashed-wrapped {border: 1px dashed gray;margin: 0 0.4em 0.5em 0.4em;box-sizing: border-box;padding-bottom: 0.4em;background-color: white;}#sk-container-id-5 div.sk-label label {font-family: monospace;font-weight: bold;display: inline-block;line-height: 1.2em;}#sk-container-id-5 div.sk-label-container {text-align: center;}#sk-container-id-5 div.sk-container {/* jupyter's `normalize.less` sets `[hidden] { display: none; }` but bootstrap.min.css set `[hidden] { display: none !important; }` so we also need the `!important` here to be able to override the default hidden behavior on the sphinx rendered scikit-learn.org. See: https://github.com/scikit-learn/scikit-learn/issues/21755 */display: inline-block !important;position: relative;}#sk-container-id-5 div.sk-text-repr-fallback {display: none;}</style><div id=\"sk-container-id-5\" class=\"sk-top-container\"><div class=\"sk-text-repr-fallback\"><pre>OneHotEncoder(handle_unknown=&#x27;ignore&#x27;)</pre><b>In a Jupyter environment, please rerun this cell to show the HTML representation or trust the notebook. <br />On GitHub, the HTML representation is unable to render, please try loading this page with nbviewer.org.</b></div><div class=\"sk-container\" hidden><div class=\"sk-item\"><div class=\"sk-estimator sk-toggleable\"><input class=\"sk-toggleable__control sk-hidden--visually\" id=\"sk-estimator-id-5\" type=\"checkbox\" checked><label for=\"sk-estimator-id-5\" class=\"sk-toggleable__label sk-toggleable__label-arrow\">OneHotEncoder</label><div class=\"sk-toggleable__content\"><pre>OneHotEncoder(handle_unknown=&#x27;ignore&#x27;)</pre></div></div></div></div></div>"
      ],
      "text/plain": [
       "OneHotEncoder(handle_unknown='ignore')"
      ]
     },
     "execution_count": 78,
     "metadata": {},
     "output_type": "execute_result"
    }
   ],
   "source": [
    "ohe = OneHotEncoder(handle_unknown='ignore')\n",
    "ohe.fit(data_df[['district']])"
   ]
  },
  {
   "cell_type": "code",
   "execution_count": 79,
   "metadata": {},
   "outputs": [
    {
     "data": {
      "text/plain": [
       "[array(['Banská Bystrica', 'Banská Štiavnica', 'Bardejov', 'Bratislava I',\n",
       "        'Bratislava II', 'Bratislava III', 'Bratislava IV', 'Bratislava V',\n",
       "        'Brezno', 'Bytča', 'Bánovce nad Bebravou', 'Detva', 'Dolný Kubín',\n",
       "        'Dunajská Streda', 'Galanta', 'Hlohovec', 'Humenné', 'Ilava',\n",
       "        'Kežmarok', 'Komárno', 'Košice - okolie', 'Košice I', 'Košice II',\n",
       "        'Košice III', 'Košice IV', 'Kysucké Nové Mesto', 'Levice',\n",
       "        'Levoča', 'Liptovský Mikuláš', 'Lučenec', 'Malacky', 'Martin',\n",
       "        'Medzilaborce', 'Michalovce', 'Myjava', 'Nitra',\n",
       "        'Nové Mesto nad Váhom', 'Nové Zámky', 'Partizánske', 'Pezinok',\n",
       "        'Piešťany', 'Poltár', 'Poprad', 'Považská Bystrica', 'Prešov',\n",
       "        'Prievidza', 'Púchov', 'Revúca', 'Rimavská Sobota', 'Rožňava',\n",
       "        'Ružomberok', 'Senec', 'Senica', 'Skalica', 'Snina', 'Sobrance',\n",
       "        'Spišská Nová Ves', 'Topoľčany', 'Trebišov', 'Trenčín', 'Trnava',\n",
       "        'Turčianske Teplice', 'Veľký Krtíš', 'Vranov nad Topľou',\n",
       "        'Zlaté Moravce', 'Zvolen', 'Čadca', 'Šaľa', 'Žarnovica',\n",
       "        'Žiar nad Hronom', 'Žilina'], dtype=object)]"
      ]
     },
     "execution_count": 79,
     "metadata": {},
     "output_type": "execute_result"
    }
   ],
   "source": [
    "# the categories learned during the fit process\n",
    "ohe.categories_"
   ]
  },
  {
   "cell_type": "code",
   "execution_count": 80,
   "metadata": {},
   "outputs": [
    {
     "data": {
      "text/plain": [
       "array([0., 0., 0., 0., 0., 0., 0., 0., 0., 0., 0., 0., 0., 0., 0., 0., 0.,\n",
       "       0., 0., 0., 0., 0., 0., 0., 0., 0., 0., 0., 0., 0., 0., 0., 0., 0.,\n",
       "       0., 0., 0., 1., 0., 0., 0., 0., 0., 0., 0., 0., 0., 0., 0., 0., 0.,\n",
       "       0., 0., 0., 0., 0., 0., 0., 0., 0., 0., 0., 0., 0., 0., 0., 0., 0.,\n",
       "       0., 0., 0.])"
      ]
     },
     "execution_count": 80,
     "metadata": {},
     "output_type": "execute_result"
    }
   ],
   "source": [
    "# encode the \"district\" with the learned categories during the fit process\n",
    "ohe.transform(data_df[['district']]).toarray()[0]"
   ]
  },
  {
   "cell_type": "code",
   "execution_count": 81,
   "metadata": {},
   "outputs": [
    {
     "data": {
      "text/html": [
       "<div>\n",
       "<style scoped>\n",
       "    .dataframe tbody tr th:only-of-type {\n",
       "        vertical-align: middle;\n",
       "    }\n",
       "\n",
       "    .dataframe tbody tr th {\n",
       "        vertical-align: top;\n",
       "    }\n",
       "\n",
       "    .dataframe thead th {\n",
       "        text-align: right;\n",
       "    }\n",
       "</style>\n",
       "<table border=\"1\" class=\"dataframe\">\n",
       "  <thead>\n",
       "    <tr style=\"text-align: right;\">\n",
       "      <th></th>\n",
       "      <th>Banská Bystrica</th>\n",
       "      <th>Banská Štiavnica</th>\n",
       "      <th>Bardejov</th>\n",
       "      <th>Bratislava I</th>\n",
       "      <th>Bratislava II</th>\n",
       "      <th>Bratislava III</th>\n",
       "      <th>Bratislava IV</th>\n",
       "      <th>Bratislava V</th>\n",
       "      <th>Brezno</th>\n",
       "      <th>Bytča</th>\n",
       "      <th>...</th>\n",
       "      <th>Turčianske Teplice</th>\n",
       "      <th>Veľký Krtíš</th>\n",
       "      <th>Vranov nad Topľou</th>\n",
       "      <th>Zlaté Moravce</th>\n",
       "      <th>Zvolen</th>\n",
       "      <th>Čadca</th>\n",
       "      <th>Šaľa</th>\n",
       "      <th>Žarnovica</th>\n",
       "      <th>Žiar nad Hronom</th>\n",
       "      <th>Žilina</th>\n",
       "    </tr>\n",
       "  </thead>\n",
       "  <tbody>\n",
       "    <tr>\n",
       "      <th>0</th>\n",
       "      <td>0.0</td>\n",
       "      <td>0.0</td>\n",
       "      <td>0.0</td>\n",
       "      <td>0.0</td>\n",
       "      <td>0.0</td>\n",
       "      <td>0.0</td>\n",
       "      <td>0.0</td>\n",
       "      <td>0.0</td>\n",
       "      <td>0.0</td>\n",
       "      <td>0.0</td>\n",
       "      <td>...</td>\n",
       "      <td>0.0</td>\n",
       "      <td>0.0</td>\n",
       "      <td>0.0</td>\n",
       "      <td>0.0</td>\n",
       "      <td>0.0</td>\n",
       "      <td>0.0</td>\n",
       "      <td>0.0</td>\n",
       "      <td>0.0</td>\n",
       "      <td>0.0</td>\n",
       "      <td>0.0</td>\n",
       "    </tr>\n",
       "    <tr>\n",
       "      <th>1</th>\n",
       "      <td>0.0</td>\n",
       "      <td>0.0</td>\n",
       "      <td>0.0</td>\n",
       "      <td>0.0</td>\n",
       "      <td>0.0</td>\n",
       "      <td>0.0</td>\n",
       "      <td>0.0</td>\n",
       "      <td>0.0</td>\n",
       "      <td>0.0</td>\n",
       "      <td>0.0</td>\n",
       "      <td>...</td>\n",
       "      <td>0.0</td>\n",
       "      <td>0.0</td>\n",
       "      <td>0.0</td>\n",
       "      <td>0.0</td>\n",
       "      <td>0.0</td>\n",
       "      <td>0.0</td>\n",
       "      <td>0.0</td>\n",
       "      <td>0.0</td>\n",
       "      <td>0.0</td>\n",
       "      <td>0.0</td>\n",
       "    </tr>\n",
       "    <tr>\n",
       "      <th>2</th>\n",
       "      <td>0.0</td>\n",
       "      <td>0.0</td>\n",
       "      <td>0.0</td>\n",
       "      <td>0.0</td>\n",
       "      <td>0.0</td>\n",
       "      <td>0.0</td>\n",
       "      <td>0.0</td>\n",
       "      <td>0.0</td>\n",
       "      <td>0.0</td>\n",
       "      <td>0.0</td>\n",
       "      <td>...</td>\n",
       "      <td>0.0</td>\n",
       "      <td>0.0</td>\n",
       "      <td>0.0</td>\n",
       "      <td>0.0</td>\n",
       "      <td>0.0</td>\n",
       "      <td>0.0</td>\n",
       "      <td>0.0</td>\n",
       "      <td>0.0</td>\n",
       "      <td>0.0</td>\n",
       "      <td>0.0</td>\n",
       "    </tr>\n",
       "    <tr>\n",
       "      <th>3</th>\n",
       "      <td>0.0</td>\n",
       "      <td>0.0</td>\n",
       "      <td>0.0</td>\n",
       "      <td>0.0</td>\n",
       "      <td>0.0</td>\n",
       "      <td>0.0</td>\n",
       "      <td>0.0</td>\n",
       "      <td>0.0</td>\n",
       "      <td>0.0</td>\n",
       "      <td>0.0</td>\n",
       "      <td>...</td>\n",
       "      <td>0.0</td>\n",
       "      <td>0.0</td>\n",
       "      <td>0.0</td>\n",
       "      <td>0.0</td>\n",
       "      <td>0.0</td>\n",
       "      <td>0.0</td>\n",
       "      <td>0.0</td>\n",
       "      <td>0.0</td>\n",
       "      <td>0.0</td>\n",
       "      <td>0.0</td>\n",
       "    </tr>\n",
       "    <tr>\n",
       "      <th>4</th>\n",
       "      <td>0.0</td>\n",
       "      <td>0.0</td>\n",
       "      <td>0.0</td>\n",
       "      <td>0.0</td>\n",
       "      <td>0.0</td>\n",
       "      <td>0.0</td>\n",
       "      <td>0.0</td>\n",
       "      <td>0.0</td>\n",
       "      <td>0.0</td>\n",
       "      <td>0.0</td>\n",
       "      <td>...</td>\n",
       "      <td>0.0</td>\n",
       "      <td>0.0</td>\n",
       "      <td>0.0</td>\n",
       "      <td>0.0</td>\n",
       "      <td>0.0</td>\n",
       "      <td>0.0</td>\n",
       "      <td>0.0</td>\n",
       "      <td>0.0</td>\n",
       "      <td>0.0</td>\n",
       "      <td>0.0</td>\n",
       "    </tr>\n",
       "    <tr>\n",
       "      <th>...</th>\n",
       "      <td>...</td>\n",
       "      <td>...</td>\n",
       "      <td>...</td>\n",
       "      <td>...</td>\n",
       "      <td>...</td>\n",
       "      <td>...</td>\n",
       "      <td>...</td>\n",
       "      <td>...</td>\n",
       "      <td>...</td>\n",
       "      <td>...</td>\n",
       "      <td>...</td>\n",
       "      <td>...</td>\n",
       "      <td>...</td>\n",
       "      <td>...</td>\n",
       "      <td>...</td>\n",
       "      <td>...</td>\n",
       "      <td>...</td>\n",
       "      <td>...</td>\n",
       "      <td>...</td>\n",
       "      <td>...</td>\n",
       "      <td>...</td>\n",
       "    </tr>\n",
       "    <tr>\n",
       "      <th>11108</th>\n",
       "      <td>0.0</td>\n",
       "      <td>0.0</td>\n",
       "      <td>0.0</td>\n",
       "      <td>0.0</td>\n",
       "      <td>0.0</td>\n",
       "      <td>0.0</td>\n",
       "      <td>0.0</td>\n",
       "      <td>0.0</td>\n",
       "      <td>0.0</td>\n",
       "      <td>0.0</td>\n",
       "      <td>...</td>\n",
       "      <td>0.0</td>\n",
       "      <td>0.0</td>\n",
       "      <td>1.0</td>\n",
       "      <td>0.0</td>\n",
       "      <td>0.0</td>\n",
       "      <td>0.0</td>\n",
       "      <td>0.0</td>\n",
       "      <td>0.0</td>\n",
       "      <td>0.0</td>\n",
       "      <td>0.0</td>\n",
       "    </tr>\n",
       "    <tr>\n",
       "      <th>11109</th>\n",
       "      <td>0.0</td>\n",
       "      <td>0.0</td>\n",
       "      <td>0.0</td>\n",
       "      <td>0.0</td>\n",
       "      <td>0.0</td>\n",
       "      <td>0.0</td>\n",
       "      <td>0.0</td>\n",
       "      <td>0.0</td>\n",
       "      <td>0.0</td>\n",
       "      <td>0.0</td>\n",
       "      <td>...</td>\n",
       "      <td>0.0</td>\n",
       "      <td>0.0</td>\n",
       "      <td>1.0</td>\n",
       "      <td>0.0</td>\n",
       "      <td>0.0</td>\n",
       "      <td>0.0</td>\n",
       "      <td>0.0</td>\n",
       "      <td>0.0</td>\n",
       "      <td>0.0</td>\n",
       "      <td>0.0</td>\n",
       "    </tr>\n",
       "    <tr>\n",
       "      <th>11110</th>\n",
       "      <td>0.0</td>\n",
       "      <td>0.0</td>\n",
       "      <td>0.0</td>\n",
       "      <td>0.0</td>\n",
       "      <td>0.0</td>\n",
       "      <td>0.0</td>\n",
       "      <td>0.0</td>\n",
       "      <td>0.0</td>\n",
       "      <td>0.0</td>\n",
       "      <td>0.0</td>\n",
       "      <td>...</td>\n",
       "      <td>0.0</td>\n",
       "      <td>0.0</td>\n",
       "      <td>1.0</td>\n",
       "      <td>0.0</td>\n",
       "      <td>0.0</td>\n",
       "      <td>0.0</td>\n",
       "      <td>0.0</td>\n",
       "      <td>0.0</td>\n",
       "      <td>0.0</td>\n",
       "      <td>0.0</td>\n",
       "    </tr>\n",
       "    <tr>\n",
       "      <th>11111</th>\n",
       "      <td>0.0</td>\n",
       "      <td>0.0</td>\n",
       "      <td>0.0</td>\n",
       "      <td>0.0</td>\n",
       "      <td>0.0</td>\n",
       "      <td>0.0</td>\n",
       "      <td>0.0</td>\n",
       "      <td>0.0</td>\n",
       "      <td>0.0</td>\n",
       "      <td>0.0</td>\n",
       "      <td>...</td>\n",
       "      <td>0.0</td>\n",
       "      <td>0.0</td>\n",
       "      <td>1.0</td>\n",
       "      <td>0.0</td>\n",
       "      <td>0.0</td>\n",
       "      <td>0.0</td>\n",
       "      <td>0.0</td>\n",
       "      <td>0.0</td>\n",
       "      <td>0.0</td>\n",
       "      <td>0.0</td>\n",
       "    </tr>\n",
       "    <tr>\n",
       "      <th>11112</th>\n",
       "      <td>0.0</td>\n",
       "      <td>0.0</td>\n",
       "      <td>0.0</td>\n",
       "      <td>0.0</td>\n",
       "      <td>0.0</td>\n",
       "      <td>0.0</td>\n",
       "      <td>0.0</td>\n",
       "      <td>0.0</td>\n",
       "      <td>0.0</td>\n",
       "      <td>0.0</td>\n",
       "      <td>...</td>\n",
       "      <td>0.0</td>\n",
       "      <td>0.0</td>\n",
       "      <td>1.0</td>\n",
       "      <td>0.0</td>\n",
       "      <td>0.0</td>\n",
       "      <td>0.0</td>\n",
       "      <td>0.0</td>\n",
       "      <td>0.0</td>\n",
       "      <td>0.0</td>\n",
       "      <td>0.0</td>\n",
       "    </tr>\n",
       "  </tbody>\n",
       "</table>\n",
       "<p>11113 rows × 71 columns</p>\n",
       "</div>"
      ],
      "text/plain": [
       "       Banská Bystrica  Banská Štiavnica  Bardejov  Bratislava I  \\\n",
       "0                  0.0               0.0       0.0           0.0   \n",
       "1                  0.0               0.0       0.0           0.0   \n",
       "2                  0.0               0.0       0.0           0.0   \n",
       "3                  0.0               0.0       0.0           0.0   \n",
       "4                  0.0               0.0       0.0           0.0   \n",
       "...                ...               ...       ...           ...   \n",
       "11108              0.0               0.0       0.0           0.0   \n",
       "11109              0.0               0.0       0.0           0.0   \n",
       "11110              0.0               0.0       0.0           0.0   \n",
       "11111              0.0               0.0       0.0           0.0   \n",
       "11112              0.0               0.0       0.0           0.0   \n",
       "\n",
       "       Bratislava II  Bratislava III  Bratislava IV  Bratislava V  Brezno  \\\n",
       "0                0.0             0.0            0.0           0.0     0.0   \n",
       "1                0.0             0.0            0.0           0.0     0.0   \n",
       "2                0.0             0.0            0.0           0.0     0.0   \n",
       "3                0.0             0.0            0.0           0.0     0.0   \n",
       "4                0.0             0.0            0.0           0.0     0.0   \n",
       "...              ...             ...            ...           ...     ...   \n",
       "11108            0.0             0.0            0.0           0.0     0.0   \n",
       "11109            0.0             0.0            0.0           0.0     0.0   \n",
       "11110            0.0             0.0            0.0           0.0     0.0   \n",
       "11111            0.0             0.0            0.0           0.0     0.0   \n",
       "11112            0.0             0.0            0.0           0.0     0.0   \n",
       "\n",
       "       Bytča  ...  Turčianske Teplice  Veľký Krtíš  Vranov nad Topľou  \\\n",
       "0        0.0  ...                 0.0          0.0                0.0   \n",
       "1        0.0  ...                 0.0          0.0                0.0   \n",
       "2        0.0  ...                 0.0          0.0                0.0   \n",
       "3        0.0  ...                 0.0          0.0                0.0   \n",
       "4        0.0  ...                 0.0          0.0                0.0   \n",
       "...      ...  ...                 ...          ...                ...   \n",
       "11108    0.0  ...                 0.0          0.0                1.0   \n",
       "11109    0.0  ...                 0.0          0.0                1.0   \n",
       "11110    0.0  ...                 0.0          0.0                1.0   \n",
       "11111    0.0  ...                 0.0          0.0                1.0   \n",
       "11112    0.0  ...                 0.0          0.0                1.0   \n",
       "\n",
       "       Zlaté Moravce  Zvolen  Čadca  Šaľa  Žarnovica  Žiar nad Hronom  Žilina  \n",
       "0                0.0     0.0    0.0   0.0        0.0              0.0     0.0  \n",
       "1                0.0     0.0    0.0   0.0        0.0              0.0     0.0  \n",
       "2                0.0     0.0    0.0   0.0        0.0              0.0     0.0  \n",
       "3                0.0     0.0    0.0   0.0        0.0              0.0     0.0  \n",
       "4                0.0     0.0    0.0   0.0        0.0              0.0     0.0  \n",
       "...              ...     ...    ...   ...        ...              ...     ...  \n",
       "11108            0.0     0.0    0.0   0.0        0.0              0.0     0.0  \n",
       "11109            0.0     0.0    0.0   0.0        0.0              0.0     0.0  \n",
       "11110            0.0     0.0    0.0   0.0        0.0              0.0     0.0  \n",
       "11111            0.0     0.0    0.0   0.0        0.0              0.0     0.0  \n",
       "11112            0.0     0.0    0.0   0.0        0.0              0.0     0.0  \n",
       "\n",
       "[11113 rows x 71 columns]"
      ]
     },
     "execution_count": 81,
     "metadata": {},
     "output_type": "execute_result"
    }
   ],
   "source": [
    "# convert the original \"district\" column to the encoded categories\n",
    "pd.DataFrame(ohe.transform(data_df[['district']]).toarray()).rename(columns={i: catg for i, catg in enumerate(ohe.categories_[0])})"
   ]
  },
  {
   "cell_type": "markdown",
   "metadata": {},
   "source": [
    "Combining the onehotencoded categories into a new dataset named \"result_df\""
   ]
  },
  {
   "cell_type": "code",
   "execution_count": 82,
   "metadata": {},
   "outputs": [
    {
     "name": "stdout",
     "output_type": "stream",
     "text": [
      "      name_nsi     price     index                condition      area  \\\n",
      "2      Štúrovo  107000.0  8.300000   Partial reconstruction  0.325000   \n",
      "3      Štúrovo  105000.0  7.834874  Complete reconstruction  0.625000   \n",
      "4      Štúrovo   82000.0  7.834874   Partial reconstruction  0.516667   \n",
      "5      Štúrovo  102000.0  7.834874  Complete reconstruction  0.629167   \n",
      "6      Štúrovo  129000.0  8.200000  Complete reconstruction  0.516667   \n",
      "...        ...       ...       ...                      ...       ...   \n",
      "11104      NaN       NaN       NaN                      NaN       NaN   \n",
      "11108      NaN       NaN       NaN                      NaN       NaN   \n",
      "11109      NaN       NaN       NaN                      NaN       NaN   \n",
      "11110      NaN       NaN       NaN                      NaN       NaN   \n",
      "11111      NaN       NaN       NaN                      NaN       NaN   \n",
      "\n",
      "       provision certificate  total_floors     floor  lift  ...  \\\n",
      "2            0.0         NaN      0.666667  0.714286   0.0  ...   \n",
      "3            1.0           C      1.000000  0.857143   1.0  ...   \n",
      "4            0.0         NaN      0.797983  0.571429   0.0  ...   \n",
      "5            0.0        none      1.000000  0.571429   0.0  ...   \n",
      "6            0.0         NaN      0.797983  0.796115   0.0  ...   \n",
      "...          ...         ...           ...       ...   ...  ...   \n",
      "11104        NaN         NaN           NaN       NaN   NaN  ...   \n",
      "11108        NaN         NaN           NaN       NaN   NaN  ...   \n",
      "11109        NaN         NaN           NaN       NaN   NaN  ...   \n",
      "11110        NaN         NaN           NaN       NaN   NaN  ...   \n",
      "11111        NaN         NaN           NaN       NaN   NaN  ...   \n",
      "\n",
      "       certificate_G certificate_none  certificate_nan  \\\n",
      "2                0.0              0.0              1.0   \n",
      "3                0.0              1.0              0.0   \n",
      "4                0.0              0.0              1.0   \n",
      "5                0.0              1.0              0.0   \n",
      "6                0.0              0.0              1.0   \n",
      "...              ...              ...              ...   \n",
      "11104            0.0              1.0              0.0   \n",
      "11108            0.0              0.0              1.0   \n",
      "11109            0.0              1.0              0.0   \n",
      "11110            0.0              0.0              1.0   \n",
      "11111            0.0              0.0              1.0   \n",
      "\n",
      "      condition_Complete reconstruction  condition_Development project  \\\n",
      "2                                   0.0                            0.0   \n",
      "3                                   1.0                            0.0   \n",
      "4                                   1.0                            0.0   \n",
      "5                                   1.0                            0.0   \n",
      "6                                   0.0                            0.0   \n",
      "...                                 ...                            ...   \n",
      "11104                               0.0                            0.0   \n",
      "11108                               0.0                            0.0   \n",
      "11109                               0.0                            0.0   \n",
      "11110                               1.0                            0.0   \n",
      "11111                               0.0                            0.0   \n",
      "\n",
      "       condition_New building  condition_Original condition  \\\n",
      "2                         0.0                           0.0   \n",
      "3                         0.0                           0.0   \n",
      "4                         0.0                           0.0   \n",
      "5                         0.0                           0.0   \n",
      "6                         0.0                           1.0   \n",
      "...                       ...                           ...   \n",
      "11104                     0.0                           0.0   \n",
      "11108                     0.0                           1.0   \n",
      "11109                     0.0                           1.0   \n",
      "11110                     0.0                           0.0   \n",
      "11111                     0.0                           0.0   \n",
      "\n",
      "       condition_Partial reconstruction  condition_Under construction  \\\n",
      "2                                   1.0                           0.0   \n",
      "3                                   0.0                           0.0   \n",
      "4                                   0.0                           0.0   \n",
      "5                                   0.0                           0.0   \n",
      "6                                   0.0                           0.0   \n",
      "...                                 ...                           ...   \n",
      "11104                               1.0                           0.0   \n",
      "11108                               0.0                           0.0   \n",
      "11109                               0.0                           0.0   \n",
      "11110                               0.0                           0.0   \n",
      "11111                               1.0                           0.0   \n",
      "\n",
      "       condition_nan  \n",
      "2                0.0  \n",
      "3                0.0  \n",
      "4                0.0  \n",
      "5                0.0  \n",
      "6                0.0  \n",
      "...              ...  \n",
      "11104            0.0  \n",
      "11108            0.0  \n",
      "11109            0.0  \n",
      "11110            0.0  \n",
      "11111            0.0  \n",
      "\n",
      "[13978 rows x 256 columns]\n"
     ]
    }
   ],
   "source": [
    "categorical_columns = ['district', 'type', 'name_nsi', 'certificate', 'condition']\n",
    "ohe = OneHotEncoder()\n",
    "encoded_array = ohe.fit_transform(data_df[categorical_columns]).toarray()\n",
    "feature_names = ohe.get_feature_names_out(categorical_columns)\n",
    "encoded_df = pd.DataFrame(encoded_array, columns=feature_names)\n",
    "result_df = pd.concat([data_df, encoded_df], axis=1)\n",
    "print(result_df)"
   ]
  },
  {
   "cell_type": "markdown",
   "metadata": {},
   "source": [
    "## Addtional Analysis"
   ]
  },
  {
   "cell_type": "code",
   "execution_count": 83,
   "metadata": {},
   "outputs": [
    {
     "data": {
      "text/plain": [
       "3-room apartment            4283\n",
       "2-room apartment            4228\n",
       "1-room apartment            1379\n",
       "4-room apartment             876\n",
       "Studio                       307\n",
       "5 or more room apartment      40\n",
       "Name: type, dtype: int64"
      ]
     },
     "execution_count": 83,
     "metadata": {},
     "output_type": "execute_result"
    }
   ],
   "source": [
    "# Houses could have different types, here are the top types:\n",
    "data_df['type'].value_counts()"
   ]
  },
  {
   "cell_type": "markdown",
   "metadata": {},
   "source": [
    "We want to calculate \"price per living sqft\" from the current features, an important measurement of final house price. Let's check the differences between different house types."
   ]
  },
  {
   "cell_type": "code",
   "execution_count": 84,
   "metadata": {},
   "outputs": [
    {
     "data": {
      "image/png": "[encoded data removed]",
      "text/plain": [
       "<Figure size 640x480 with 1 Axes>"
      ]
     },
     "metadata": {},
     "output_type": "display_data"
    }
   ],
   "source": [
    "common_types = data_df['type'].isin(['3-room apartment', '2-room apartment', '1-room apartment', \n",
    "                                     '4-room apartment', 'Studio', '5 or more room apartment'])\n",
    "data_df['Price per living sqft'] = data_df['price'] / data_df['area']\n",
    "ax = sns.boxplot(x='type', y='Price per living sqft', data=data_df[common_types], fliersize=0)\n",
    "ax.set_ylim([0, 800000]);"
   ]
  },
  {
   "cell_type": "markdown",
   "metadata": {},
   "source": [
    "It looks like 3 rooms apartment has the lowest median whereas studio has the highest median "
   ]
  },
  {
   "cell_type": "markdown",
   "metadata": {},
   "source": [
    "Sale price per living sqft is often related with house locations. Let's check the price for the top 20 zip codes."
   ]
  },
  {
   "cell_type": "code",
   "execution_count": 85,
   "metadata": {},
   "outputs": [
    {
     "data": {
      "text/plain": [
       "Bratislava - mestská časť Ružinov        724\n",
       "Bratislava - mestská časť Staré Mesto    492\n",
       "Bratislava - mestská časť Petržalka      354\n",
       "Žilina                                   353\n",
       "Nitra                                    341\n",
       "Trnava                                   331\n",
       "Nové Zámky                               296\n",
       "Trenčín                                  285\n",
       "Bratislava - mestská časť Nové Mesto     266\n",
       "Banská Bystrica                          265\n",
       "Dunajská Streda                          259\n",
       "Komárno                                  242\n",
       "Martin                                   227\n",
       "Prešov                                   212\n",
       "Zvolen                                   200\n",
       "Bratislava - mestská časť Dúbravka       190\n",
       "Levice                                   176\n",
       "Prievidza                                171\n",
       "Piešťany                                 164\n",
       "Galanta                                  149\n",
       "Name: name_nsi, dtype: int64"
      ]
     },
     "execution_count": 85,
     "metadata": {},
     "output_type": "execute_result"
    }
   ],
   "source": [
    "data_df['name_nsi'].value_counts()[:20]"
   ]
  },
  {
   "cell_type": "code",
   "execution_count": 86,
   "metadata": {},
   "outputs": [
    {
     "data": {
      "image/png": "[encoded data removed]",
      "text/plain": [
       "<Figure size 640x480 with 1 Axes>"
      ]
     },
     "metadata": {},
     "output_type": "display_data"
    }
   ],
   "source": [
    "data_df['name_nsi'] = data_df['name_nsi'].astype('string')\n",
    "data_df['Price per living sqft'] = data_df['price'] / data_df['area']\n",
    "mask = data_df['name_nsi'].isin(['Bratislava - mestská časť Ružinov','Nové Zámky', 'Galanta'])\n",
    "ax = sns.boxplot(x='name_nsi', y='Price per living sqft', data=data_df[mask])\n",
    "ax.set_ylim([0, 800000]);"
   ]
  },
  {
   "cell_type": "code",
   "execution_count": 87,
   "metadata": {},
   "outputs": [
    {
     "data": {
      "image/png": "[encoded data removed]",
      "text/plain": [
       "<Figure size 640x480 with 1 Axes>"
      ]
     },
     "metadata": {},
     "output_type": "display_data"
    }
   ],
   "source": [
    "d = data_df[data_df['name_nsi'].isin(data_df['name_nsi'].value_counts()[:20].keys())]\n",
    "ax = sns.boxplot(x='name_nsi', y='Price per living sqft', data=d, fliersize=0)\n",
    "ax.set_ylim([0, 800000])\n",
    "ax.set_xticklabels(ax.get_xticklabels(), rotation=90);"
   ]
  },
  {
   "cell_type": "markdown",
   "metadata": {},
   "source": [
    "## Correlation between numeric columns\n",
    "- price           float64\n",
    "- index           float64\n",
    "- area            float64\n",
    "- total_floors    float64\n",
    "- floor           float64\n",
    "- rooms           float64"
   ]
  },
  {
   "cell_type": "code",
   "execution_count": 88,
   "metadata": {},
   "outputs": [
    {
     "data": {
      "image/png": "[encoded data removed]",
      "text/plain": [
       "<Figure size 600x600 with 2 Axes>"
      ]
     },
     "metadata": {},
     "output_type": "display_data"
    }
   ],
   "source": [
    "_, ax = plt.subplots(figsize=(6,6))\n",
    "columns = ['price', 'index', 'area', 'total_floors', 'floor', 'rooms']\n",
    "sns.heatmap(data_df[columns].corr(),annot=True,cmap='RdYlGn', ax=ax);\n",
    "\n",
    "\n"
   ]
  },
  {
   "cell_type": "markdown",
   "metadata": {},
   "source": [
    "# discussion of important observations\n",
    "- Originally my data had (15403, 27) 15403 samples with 27 features. However, a lot of my features contained null values, so I dropped the columns with 70% null values, thus left a dataset with 14 features. And then, after cleaning and dropping outliers, my data left with a 13978 samples.\n",
    "- My dataset contained both categorical data as well as numeric data. \n",
    "    - categorical = (['district', 'type', 'name_nsi', 'certificate', 'condition'])\n",
    "    - num_value = (['price', 'index', 'area', 'provision', 'total_floors', 'floor', 'lift', 'cellar', 'rooms' ])\n",
    "- Looking at my \"additional analysis\", it looks like 3 rooms apartment has the lowest median, whereas studio has the highest median\n",
    "    - In addition, \"Mesto\" community has the highest median price per living sqrt and \"Komarno\" has the lowest median.\n",
    "- According to the heat map, price is closely related to rooms and area, and it is not related to floor, total_floors, and index. "
   ]
  }
 ],
 "metadata": {
  "kernelspec": {
   "display_name": "base",
   "language": "python",
   "name": "python3"
  },
  "language_info": {
   "codemirror_mode": {
    "name": "ipython",
    "version": 3
   },
   "file_extension": ".py",
   "mimetype": "text/x-python",
   "name": "python",
   "nbconvert_exporter": "python",
   "pygments_lexer": "ipython3",
   "version": "3.11.4"
  },
  "orig_nbformat": 4
 },
 "nbformat": 4,
 "nbformat_minor": 2
}
