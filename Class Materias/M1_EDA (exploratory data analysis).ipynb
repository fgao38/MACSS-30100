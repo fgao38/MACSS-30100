{
 "cells": [
  {
   "cell_type": "markdown",
   "id": "a69890b1",
   "metadata": {},
   "source": [
    "### Exploratory data analysis\n",
    "\n",
    "There are 5 parts in this notebook. \n",
    "For each analysis, we provide some examples for you to follow. Your task is to conduct your own analysis following the logics provided in the examples, maked as \"Your task\".\n",
    "\n",
    "- **Part-1: Data overview**\n",
    "    > check the #samples, #attributes <br>\n",
    "    > attribute types <br>\n",
    "    \n",
    "- **Part-2: Data cleaning**\n",
    "    > organize attributes into appripriate data types (e.g., numerical, categorical, datatime, text, image, ...) <br>\n",
    "    > missing value and outlier detection <br>\n",
    "    \n",
    "- **Part-3: Data transformation**\n",
    "    > normalize numerical data <br>\n",
    "    > transform text data: tokenization, stemming, and lemmatization <br>\n",
    "    \n",
    "- **Part-4: Feature engineering**\n",
    "    > encode categorical data <br>\n",
    "    > convert DataTime data <br>\n",
    "    > text feature representation <br>\n",
    "\n",
    "- **Part-5: Additional analysis**\n",
    "    > create new features <br>\n",
    "    > colinearty check <br>"
   ]
  },
  {
   "cell_type": "code",
   "execution_count": 1,
   "id": "692bd036",
   "metadata": {},
   "outputs": [],
   "source": [
    "import numpy as np\n",
    "import pandas as pd\n",
    "import matplotlib.pyplot as plt\n",
    "import seaborn as sns"
   ]
  },
  {
   "cell_type": "markdown",
   "id": "0af5ac4f",
   "metadata": {},
   "source": [
    "### Data overview"
   ]
  },
  {
   "cell_type": "code",
   "execution_count": 2,
   "id": "6ae08ebe",
   "metadata": {},
   "outputs": [],
   "source": [
    "# read data from file to a pandas dataframe\n",
    "data_df = pd.read_feather('house_sales.ftr') "
   ]
  },
  {
   "cell_type": "code",
   "execution_count": 3,
   "id": "b787489f",
   "metadata": {},
   "outputs": [
    {
     "data": {
      "text/plain": [
       "(164944, 1789)"
      ]
     },
     "execution_count": 3,
     "metadata": {},
     "output_type": "execute_result"
    }
   ],
   "source": [
    "# check the shape of the data frame: row: #samples (short for number of samples), column: #attributes (short for number of attributes)\n",
    "data_df.shape"
   ]
  },
  {
   "cell_type": "code",
   "execution_count": 4,
   "id": "3c2617ca",
   "metadata": {},
   "outputs": [
    {
     "data": {
      "text/html": [
       "<div>\n",
       "<style scoped>\n",
       "    .dataframe tbody tr th:only-of-type {\n",
       "        vertical-align: middle;\n",
       "    }\n",
       "\n",
       "    .dataframe tbody tr th {\n",
       "        vertical-align: top;\n",
       "    }\n",
       "\n",
       "    .dataframe thead th {\n",
       "        text-align: right;\n",
       "    }\n",
       "</style>\n",
       "<table border=\"1\" class=\"dataframe\">\n",
       "  <thead>\n",
       "    <tr style=\"text-align: right;\">\n",
       "      <th></th>\n",
       "      <th>Id</th>\n",
       "      <th>Address</th>\n",
       "      <th>Sold Price</th>\n",
       "      <th>Sold On</th>\n",
       "      <th>Summary</th>\n",
       "      <th>Type</th>\n",
       "      <th>Year built</th>\n",
       "      <th>Heating</th>\n",
       "      <th>Cooling</th>\n",
       "      <th>Parking</th>\n",
       "      <th>...</th>\n",
       "      <th>Well Disclosure</th>\n",
       "      <th>remodeled</th>\n",
       "      <th>DOH2</th>\n",
       "      <th>SerialX</th>\n",
       "      <th>Full Baths</th>\n",
       "      <th>Tax Legal Lot Number</th>\n",
       "      <th>Tax Legal Block Number</th>\n",
       "      <th>Tax Legal Tract Number</th>\n",
       "      <th>Building Name</th>\n",
       "      <th>Zip</th>\n",
       "    </tr>\n",
       "  </thead>\n",
       "  <tbody>\n",
       "    <tr>\n",
       "      <th>0</th>\n",
       "      <td>2080183300</td>\n",
       "      <td>11205 Monterey,</td>\n",
       "      <td>$2,000,000</td>\n",
       "      <td>01/31/20</td>\n",
       "      <td>11205 Monterey, San Martin, CA 95046 is a sing...</td>\n",
       "      <td>SingleFamily</td>\n",
       "      <td>No Data</td>\n",
       "      <td>No Data</td>\n",
       "      <td>No Data</td>\n",
       "      <td>0 spaces</td>\n",
       "      <td>...</td>\n",
       "      <td>None</td>\n",
       "      <td>None</td>\n",
       "      <td>None</td>\n",
       "      <td>None</td>\n",
       "      <td>None</td>\n",
       "      <td>None</td>\n",
       "      <td>None</td>\n",
       "      <td>None</td>\n",
       "      <td>None</td>\n",
       "      <td>95046</td>\n",
       "    </tr>\n",
       "    <tr>\n",
       "      <th>1</th>\n",
       "      <td>20926300</td>\n",
       "      <td>5281 Castle Rd,</td>\n",
       "      <td>$2,100,000</td>\n",
       "      <td>02/25/21</td>\n",
       "      <td>Spectacular Mountain and incredible L.A. City ...</td>\n",
       "      <td>SingleFamily</td>\n",
       "      <td>1951</td>\n",
       "      <td>Central</td>\n",
       "      <td>Central Air, Dual</td>\n",
       "      <td>Driveway, Driveway - Brick</td>\n",
       "      <td>...</td>\n",
       "      <td>None</td>\n",
       "      <td>None</td>\n",
       "      <td>None</td>\n",
       "      <td>None</td>\n",
       "      <td>None</td>\n",
       "      <td>None</td>\n",
       "      <td>None</td>\n",
       "      <td>None</td>\n",
       "      <td>None</td>\n",
       "      <td>91011</td>\n",
       "    </tr>\n",
       "    <tr>\n",
       "      <th>2</th>\n",
       "      <td>19595300</td>\n",
       "      <td>3581 Butcher Dr,</td>\n",
       "      <td>$1,125,000</td>\n",
       "      <td>11/06/19</td>\n",
       "      <td>Eichler Style home! with Santa Clara High! in ...</td>\n",
       "      <td>SingleFamily</td>\n",
       "      <td>1954</td>\n",
       "      <td>Central Forced Air - Gas</td>\n",
       "      <td>Central AC</td>\n",
       "      <td>Garage, Garage - Attached, Covered</td>\n",
       "      <td>...</td>\n",
       "      <td>None</td>\n",
       "      <td>None</td>\n",
       "      <td>None</td>\n",
       "      <td>None</td>\n",
       "      <td>None</td>\n",
       "      <td>None</td>\n",
       "      <td>None</td>\n",
       "      <td>None</td>\n",
       "      <td>None</td>\n",
       "      <td>95051</td>\n",
       "    </tr>\n",
       "    <tr>\n",
       "      <th>3</th>\n",
       "      <td>300472200</td>\n",
       "      <td>2021 N Milpitas Blvd,</td>\n",
       "      <td>$36,250,000</td>\n",
       "      <td>10/02/20</td>\n",
       "      <td>2021 N Milpitas Blvd, Milpitas, CA 95035 is a ...</td>\n",
       "      <td>Apartment</td>\n",
       "      <td>1989</td>\n",
       "      <td>Other</td>\n",
       "      <td>No Data</td>\n",
       "      <td>Mixed, Covered</td>\n",
       "      <td>...</td>\n",
       "      <td>None</td>\n",
       "      <td>None</td>\n",
       "      <td>None</td>\n",
       "      <td>None</td>\n",
       "      <td>None</td>\n",
       "      <td>None</td>\n",
       "      <td>None</td>\n",
       "      <td>None</td>\n",
       "      <td>None</td>\n",
       "      <td>95035</td>\n",
       "    </tr>\n",
       "    <tr>\n",
       "      <th>4</th>\n",
       "      <td>2074492000</td>\n",
       "      <td>LOT 4 Tool Box Spring Rd,</td>\n",
       "      <td>$140,000</td>\n",
       "      <td>10/19/20</td>\n",
       "      <td>Beautiful level lot  dotted with pine trees ro...</td>\n",
       "      <td>VacantLand</td>\n",
       "      <td>No Data</td>\n",
       "      <td>No Data</td>\n",
       "      <td>No Data</td>\n",
       "      <td>0 spaces</td>\n",
       "      <td>...</td>\n",
       "      <td>None</td>\n",
       "      <td>None</td>\n",
       "      <td>None</td>\n",
       "      <td>None</td>\n",
       "      <td>None</td>\n",
       "      <td>None</td>\n",
       "      <td>None</td>\n",
       "      <td>None</td>\n",
       "      <td>None</td>\n",
       "      <td>92561</td>\n",
       "    </tr>\n",
       "  </tbody>\n",
       "</table>\n",
       "<p>5 rows × 1789 columns</p>\n",
       "</div>"
      ],
      "text/plain": [
       "           Id                    Address   Sold Price   Sold On  \\\n",
       "0  2080183300            11205 Monterey,   $2,000,000  01/31/20   \n",
       "1    20926300            5281 Castle Rd,   $2,100,000  02/25/21   \n",
       "2    19595300           3581 Butcher Dr,   $1,125,000  11/06/19   \n",
       "3   300472200      2021 N Milpitas Blvd,  $36,250,000  10/02/20   \n",
       "4  2074492000  LOT 4 Tool Box Spring Rd,     $140,000  10/19/20   \n",
       "\n",
       "                                             Summary          Type Year built  \\\n",
       "0  11205 Monterey, San Martin, CA 95046 is a sing...  SingleFamily    No Data   \n",
       "1  Spectacular Mountain and incredible L.A. City ...  SingleFamily       1951   \n",
       "2  Eichler Style home! with Santa Clara High! in ...  SingleFamily       1954   \n",
       "3  2021 N Milpitas Blvd, Milpitas, CA 95035 is a ...     Apartment       1989   \n",
       "4  Beautiful level lot  dotted with pine trees ro...    VacantLand    No Data   \n",
       "\n",
       "                    Heating            Cooling  \\\n",
       "0                   No Data            No Data   \n",
       "1                   Central  Central Air, Dual   \n",
       "2  Central Forced Air - Gas         Central AC   \n",
       "3                     Other            No Data   \n",
       "4                   No Data            No Data   \n",
       "\n",
       "                              Parking  ... Well Disclosure remodeled  DOH2  \\\n",
       "0                            0 spaces  ...            None      None  None   \n",
       "1          Driveway, Driveway - Brick  ...            None      None  None   \n",
       "2  Garage, Garage - Attached, Covered  ...            None      None  None   \n",
       "3                      Mixed, Covered  ...            None      None  None   \n",
       "4                            0 spaces  ...            None      None  None   \n",
       "\n",
       "  SerialX Full Baths Tax Legal Lot Number Tax Legal Block Number  \\\n",
       "0    None       None                 None                   None   \n",
       "1    None       None                 None                   None   \n",
       "2    None       None                 None                   None   \n",
       "3    None       None                 None                   None   \n",
       "4    None       None                 None                   None   \n",
       "\n",
       "  Tax Legal Tract Number Building Name    Zip  \n",
       "0                   None          None  95046  \n",
       "1                   None          None  91011  \n",
       "2                   None          None  95051  \n",
       "3                   None          None  95035  \n",
       "4                   None          None  92561  \n",
       "\n",
       "[5 rows x 1789 columns]"
      ]
     },
     "execution_count": 4,
     "metadata": {},
     "output_type": "execute_result"
    }
   ],
   "source": [
    "# get an overview of the top-n rows/samples\n",
    "data_df.head()"
   ]
  },
  {
   "cell_type": "markdown",
   "id": "b82d9c08",
   "metadata": {},
   "source": [
    "### Data cleaning"
   ]
  },
  {
   "cell_type": "markdown",
   "id": "c25cd609",
   "metadata": {},
   "source": [
    "#### check missing values"
   ]
  },
  {
   "cell_type": "code",
   "execution_count": 5,
   "id": "c2ef5ca0",
   "metadata": {},
   "outputs": [
    {
     "data": {
      "text/plain": [
       "Id                             0\n",
       "Address                        0\n",
       "Sold Price                    85\n",
       "Sold On                        0\n",
       "Summary                     3117\n",
       "                           ...  \n",
       "Tax Legal Lot Number      164943\n",
       "Tax Legal Block Number    164943\n",
       "Tax Legal Tract Number    164943\n",
       "Building Name             164943\n",
       "Zip                            0\n",
       "Length: 1789, dtype: int64"
      ]
     },
     "execution_count": 5,
     "metadata": {},
     "output_type": "execute_result"
    }
   ],
   "source": [
    "null_sum = data_df.isnull().sum()\n",
    "null_sum"
   ]
  },
  {
   "cell_type": "code",
   "execution_count": 6,
   "id": "90f4cc99",
   "metadata": {},
   "outputs": [],
   "source": [
    "# Drop columns that have at least 30% missing values \n",
    "data_df.drop(columns=data_df.columns[null_sum > len(data_df) * 0.3], inplace=True)"
   ]
  },
  {
   "cell_type": "code",
   "execution_count": 7,
   "id": "063fd277",
   "metadata": {},
   "outputs": [
    {
     "data": {
      "text/plain": [
       "((164944, 32),\n",
       " Index(['Id', 'Address', 'Sold Price', 'Sold On', 'Summary', 'Type',\n",
       "        'Year built', 'Heating', 'Cooling', 'Parking', 'Bedrooms', 'Bathrooms',\n",
       "        'Total interior livable area', 'Total spaces', 'Garage spaces',\n",
       "        'Home type', 'Region', 'Elementary School', 'Elementary School Score',\n",
       "        'Elementary School Distance', 'High School', 'High School Score',\n",
       "        'High School Distance', 'Heating features', 'Parking features',\n",
       "        'Lot size', 'Parcel number', 'Tax assessed value', 'Annual tax amount',\n",
       "        'Listed On', 'Listed Price', 'Zip'],\n",
       "       dtype='object'))"
      ]
     },
     "execution_count": 7,
     "metadata": {},
     "output_type": "execute_result"
    }
   ],
   "source": [
    "# check the remaining columns\n",
    "data_df.shape, data_df.columns\n",
    "\n",
    "# (original = 1789, dropped = 32) "
   ]
  },
  {
   "cell_type": "code",
   "execution_count": 8,
   "id": "2afd8f01",
   "metadata": {},
   "outputs": [
    {
     "data": {
      "text/plain": [
       "Id                             object\n",
       "Address                        object\n",
       "Sold Price                     object\n",
       "Sold On                        object\n",
       "Summary                        object\n",
       "Type                           object\n",
       "Year built                     object\n",
       "Heating                        object\n",
       "Cooling                        object\n",
       "Parking                        object\n",
       "Bedrooms                       object\n",
       "Bathrooms                      object\n",
       "Total interior livable area    object\n",
       "Total spaces                   object\n",
       "Garage spaces                  object\n",
       "Home type                      object\n",
       "Region                         object\n",
       "Elementary School              object\n",
       "Elementary School Score        object\n",
       "Elementary School Distance     object\n",
       "High School                    object\n",
       "High School Score              object\n",
       "High School Distance           object\n",
       "Heating features               object\n",
       "Parking features               object\n",
       "Lot size                       object\n",
       "Parcel number                  object\n",
       "Tax assessed value             object\n",
       "Annual tax amount              object\n",
       "Listed On                      object\n",
       "Listed Price                   object\n",
       "Zip                            object\n",
       "dtype: object"
      ]
     },
     "execution_count": 8,
     "metadata": {},
     "output_type": "execute_result"
    }
   ],
   "source": [
    "# check the data types: columns with mixed types are stored with the object dtype.\n",
    "data_df.dtypes "
   ]
  },
  {
   "cell_type": "markdown",
   "id": "4e14334f",
   "metadata": {},
   "source": [
    "#### organize columns into different data types\n",
    "The .dtype attribute shows that the current data type for each column is \"object\", this is either because the column contains missing values or because it contains values of different types.   \n",
    "\n",
    "We will organize the columns into the following common data types based on the observation (decide the data type based on its values):\n",
    "- Categorical: \n",
    "    > Id, Type, Home type, Region, Elementary School, High School, Parcel number, Zip <br>\n",
    "- Numerical: \n",
    "    > Sold Price, Bedrooms, Bathrooms, Total interior livable area, Total spaces, Garage spaces, Elementary School Score, Elementary School Distance, High School Score, High School Distance, Lot size, Tax assessed value, Annual tax amount, Listed Price <br>\n",
    "- DateTime: \n",
    "    > Sold On, Year built, Listed On <br>\n",
    "- String/Text: \n",
    "    > Address, Summary, Heating, Cooling, Parking, Heating features, Parking features <br>\n",
    "\n",
    "In the following part, we will: \n",
    "- convert the original data into the organized data type \n",
    "- do data processing for the converted data"
   ]
  },
  {
   "cell_type": "markdown",
   "id": "fce4ec35",
   "metadata": {},
   "source": [
    "#### process categorical data"
   ]
  },
  {
   "cell_type": "code",
   "execution_count": 9,
   "id": "22c7ff81",
   "metadata": {},
   "outputs": [
    {
     "data": {
      "text/html": [
       "<div>\n",
       "<style scoped>\n",
       "    .dataframe tbody tr th:only-of-type {\n",
       "        vertical-align: middle;\n",
       "    }\n",
       "\n",
       "    .dataframe tbody tr th {\n",
       "        vertical-align: top;\n",
       "    }\n",
       "\n",
       "    .dataframe thead th {\n",
       "        text-align: right;\n",
       "    }\n",
       "</style>\n",
       "<table border=\"1\" class=\"dataframe\">\n",
       "  <thead>\n",
       "    <tr style=\"text-align: right;\">\n",
       "      <th></th>\n",
       "      <th>Id</th>\n",
       "      <th>Type</th>\n",
       "      <th>Home type</th>\n",
       "      <th>Region</th>\n",
       "      <th>Elementary School</th>\n",
       "      <th>High School</th>\n",
       "      <th>Parcel number</th>\n",
       "      <th>Zip</th>\n",
       "    </tr>\n",
       "  </thead>\n",
       "  <tbody>\n",
       "    <tr>\n",
       "      <th>0</th>\n",
       "      <td>2080183300</td>\n",
       "      <td>SingleFamily</td>\n",
       "      <td>SingleFamily</td>\n",
       "      <td>San Martin</td>\n",
       "      <td>Rucker Elementary School</td>\n",
       "      <td>Christopher High School</td>\n",
       "      <td>NaN</td>\n",
       "      <td>95046</td>\n",
       "    </tr>\n",
       "    <tr>\n",
       "      <th>1</th>\n",
       "      <td>20926300</td>\n",
       "      <td>SingleFamily</td>\n",
       "      <td>SingleFamily</td>\n",
       "      <td>La Canada Flintridge</td>\n",
       "      <td>Mountain Avenue Elementary School</td>\n",
       "      <td>Crescenta Valley High School</td>\n",
       "      <td>5870016003</td>\n",
       "      <td>91011</td>\n",
       "    </tr>\n",
       "    <tr>\n",
       "      <th>2</th>\n",
       "      <td>19595300</td>\n",
       "      <td>SingleFamily</td>\n",
       "      <td>SingleFamily</td>\n",
       "      <td>Santa Clara</td>\n",
       "      <td>Pomeroy Elementary School</td>\n",
       "      <td>Santa Clara High School</td>\n",
       "      <td>29022100</td>\n",
       "      <td>95051</td>\n",
       "    </tr>\n",
       "    <tr>\n",
       "      <th>3</th>\n",
       "      <td>300472200</td>\n",
       "      <td>Apartment</td>\n",
       "      <td>Apartment</td>\n",
       "      <td>Milpitas</td>\n",
       "      <td>Joseph Weller Elementary School</td>\n",
       "      <td>Milpitas High School</td>\n",
       "      <td>02201015</td>\n",
       "      <td>95035</td>\n",
       "    </tr>\n",
       "    <tr>\n",
       "      <th>4</th>\n",
       "      <td>2074492000</td>\n",
       "      <td>VacantLand</td>\n",
       "      <td>NaN</td>\n",
       "      <td>Mountain Center</td>\n",
       "      <td>Mcsweeny Elementary School</td>\n",
       "      <td>West Valley High School</td>\n",
       "      <td>NaN</td>\n",
       "      <td>92561</td>\n",
       "    </tr>\n",
       "    <tr>\n",
       "      <th>...</th>\n",
       "      <td>...</td>\n",
       "      <td>...</td>\n",
       "      <td>...</td>\n",
       "      <td>...</td>\n",
       "      <td>...</td>\n",
       "      <td>...</td>\n",
       "      <td>...</td>\n",
       "      <td>...</td>\n",
       "    </tr>\n",
       "    <tr>\n",
       "      <th>164939</th>\n",
       "      <td>72555199</td>\n",
       "      <td>Condo</td>\n",
       "      <td>Condo</td>\n",
       "      <td>Richmond</td>\n",
       "      <td>Washington Elementary School</td>\n",
       "      <td>Kennedy High School</td>\n",
       "      <td>5607700878</td>\n",
       "      <td>94804</td>\n",
       "    </tr>\n",
       "    <tr>\n",
       "      <th>164940</th>\n",
       "      <td>94643599</td>\n",
       "      <td>Condo</td>\n",
       "      <td>Condo</td>\n",
       "      <td>Los Angeles</td>\n",
       "      <td>Charles H. Kim Elementary School</td>\n",
       "      <td>NaN</td>\n",
       "      <td>5503030207</td>\n",
       "      <td>90010</td>\n",
       "    </tr>\n",
       "    <tr>\n",
       "      <th>164941</th>\n",
       "      <td>300479799</td>\n",
       "      <td>Condo</td>\n",
       "      <td>Condo</td>\n",
       "      <td>Mountain View</td>\n",
       "      <td>Edith Landels Elementary School</td>\n",
       "      <td>Mountain View High School</td>\n",
       "      <td>16088037</td>\n",
       "      <td>94043</td>\n",
       "    </tr>\n",
       "    <tr>\n",
       "      <th>164942</th>\n",
       "      <td>15504399</td>\n",
       "      <td>SingleFamily</td>\n",
       "      <td>SingleFamily</td>\n",
       "      <td>Pacifica</td>\n",
       "      <td>Cabrillo Elementary School</td>\n",
       "      <td>Jefferson High School</td>\n",
       "      <td>022402090</td>\n",
       "      <td>94044</td>\n",
       "    </tr>\n",
       "    <tr>\n",
       "      <th>164943</th>\n",
       "      <td>16143099</td>\n",
       "      <td>SingleFamily</td>\n",
       "      <td>SingleFamily</td>\n",
       "      <td>Freedom</td>\n",
       "      <td>Calabasas Elementary School</td>\n",
       "      <td>Aptos High School</td>\n",
       "      <td>04921207</td>\n",
       "      <td>95019</td>\n",
       "    </tr>\n",
       "  </tbody>\n",
       "</table>\n",
       "<p>164944 rows × 8 columns</p>\n",
       "</div>"
      ],
      "text/plain": [
       "                Id          Type     Home type                Region  \\\n",
       "0       2080183300  SingleFamily  SingleFamily            San Martin   \n",
       "1         20926300  SingleFamily  SingleFamily  La Canada Flintridge   \n",
       "2         19595300  SingleFamily  SingleFamily           Santa Clara   \n",
       "3        300472200     Apartment     Apartment              Milpitas   \n",
       "4       2074492000    VacantLand           NaN       Mountain Center   \n",
       "...            ...           ...           ...                   ...   \n",
       "164939    72555199         Condo         Condo              Richmond   \n",
       "164940    94643599         Condo         Condo           Los Angeles   \n",
       "164941   300479799         Condo         Condo         Mountain View   \n",
       "164942    15504399  SingleFamily  SingleFamily              Pacifica   \n",
       "164943    16143099  SingleFamily  SingleFamily               Freedom   \n",
       "\n",
       "                        Elementary School                   High School  \\\n",
       "0                Rucker Elementary School       Christopher High School   \n",
       "1       Mountain Avenue Elementary School  Crescenta Valley High School   \n",
       "2               Pomeroy Elementary School       Santa Clara High School   \n",
       "3         Joseph Weller Elementary School          Milpitas High School   \n",
       "4              Mcsweeny Elementary School       West Valley High School   \n",
       "...                                   ...                           ...   \n",
       "164939       Washington Elementary School           Kennedy High School   \n",
       "164940   Charles H. Kim Elementary School                           NaN   \n",
       "164941    Edith Landels Elementary School     Mountain View High School   \n",
       "164942         Cabrillo Elementary School         Jefferson High School   \n",
       "164943        Calabasas Elementary School             Aptos High School   \n",
       "\n",
       "       Parcel number    Zip  \n",
       "0                NaN  95046  \n",
       "1         5870016003  91011  \n",
       "2           29022100  95051  \n",
       "3           02201015  95035  \n",
       "4                NaN  92561  \n",
       "...              ...    ...  \n",
       "164939    5607700878  94804  \n",
       "164940    5503030207  90010  \n",
       "164941      16088037  94043  \n",
       "164942     022402090  94044  \n",
       "164943      04921207  95019  \n",
       "\n",
       "[164944 rows x 8 columns]"
      ]
     },
     "execution_count": 9,
     "metadata": {},
     "output_type": "execute_result"
    }
   ],
   "source": [
    "# Convert the following columns to categorical data types \n",
    "cat_col = ['Id', 'Type', 'Home type', 'Region', 'Elementary School', 'High School', 'Parcel number', 'Zip']\n",
    "data_df[cat_col] = data_df[cat_col].astype('category')\n",
    "data_df[cat_col]"
   ]
  },
  {
   "cell_type": "code",
   "execution_count": 10,
   "id": "77eb7a5a",
   "metadata": {},
   "outputs": [
    {
     "data": {
      "text/plain": [
       "Id                   category\n",
       "Type                 category\n",
       "Home type            category\n",
       "Region               category\n",
       "Elementary School    category\n",
       "High School          category\n",
       "Parcel number        category\n",
       "Zip                  category\n",
       "dtype: object"
      ]
     },
     "execution_count": 10,
     "metadata": {},
     "output_type": "execute_result"
    }
   ],
   "source": [
    "# the following columns now all have the categorical data types\n",
    "data_df[cat_col].dtypes"
   ]
  },
  {
   "cell_type": "markdown",
   "id": "0d5a9676",
   "metadata": {},
   "source": [
    "**check outliers of each categorical feature**\n",
    "- Here we take the \"Type\" column as an example to show the logics"
   ]
  },
  {
   "cell_type": "code",
   "execution_count": 11,
   "id": "34624fa9",
   "metadata": {},
   "outputs": [
    {
     "data": {
      "text/plain": [
       "SingleFamily                        102040\n",
       "Condo                                27443\n",
       "MultiFamily                           7346\n",
       "Townhouse                             7108\n",
       "VacantLand                            6199\n",
       "                                     ...  \n",
       "Low-Rise (1-3), Full, Unit Above         1\n",
       "Low-Rise (1-3), Ground Floor             1\n",
       "Low-Rise (1-3), Live/Work                1\n",
       "Low-Rise (1-3), Semi-Attached            1\n",
       "Hi-Rise (9+), Studio                     1\n",
       "Name: Type, Length: 317, dtype: int64"
      ]
     },
     "execution_count": 11,
     "metadata": {},
     "output_type": "execute_result"
    }
   ],
   "source": [
    "# count the #samples fall into each category\n",
    "data_df['Type'].value_counts() "
   ]
  },
  {
   "cell_type": "code",
   "execution_count": 12,
   "id": "9c4d944e",
   "metadata": {},
   "outputs": [
    {
     "data": {
      "text/plain": [
       "[<matplotlib.lines.Line2D at 0x1448641d0>]"
      ]
     },
     "execution_count": 12,
     "metadata": {},
     "output_type": "execute_result"
    },
    {
     "data": {
      "image/png": "[encoded data removed]",
      "text/plain": [
       "<Figure size 640x480 with 1 Axes>"
      ]
     },
     "metadata": {},
     "output_type": "display_data"
    }
   ],
   "source": [
    "# an alternative method to check the #samples in each category\n",
    "plt.plot(data_df['Type'].value_counts().values)"
   ]
  },
  {
   "cell_type": "code",
   "execution_count": 13,
   "id": "a00185af",
   "metadata": {},
   "outputs": [
    {
     "data": {
      "text/plain": [
       "array([102040,  27443,   7346,   7108,   6199,   5849,   3605,   1922,\n",
       "          463,    176,     76,     56,     51,     48,     42,     27,\n",
       "           21,     19,     19,     19,     18,     15,     14,     14,\n",
       "           13,     13,     13,     12,     12,     12,     11,     11,\n",
       "           10,     10,     10,      9,      9,      8,      8,      7,\n",
       "            7,      7,      7,      7,      7,      6,      6,      6,\n",
       "            6,      6,      6,      6,      6,      5,      5,      5,\n",
       "            5,      5,      5,      5,      5,      5,      5,      4,\n",
       "            4,      4,      4,      4,      4,      4,      4,      4,\n",
       "            4,      4,      3,      3,      3,      3,      3,      3,\n",
       "            3,      3,      3,      3,      3,      3,      3,      3,\n",
       "            3,      3,      3,      3,      3,      2,      2,      2,\n",
       "            2,      2,      2,      2,      2,      2,      2,      2,\n",
       "            2,      2,      2,      2,      2,      2,      2,      2,\n",
       "            2,      2,      2,      2,      2,      2,      2,      2,\n",
       "            2,      2,      2,      2,      2,      2,      2,      2,\n",
       "            2,      2,      2,      2,      2,      2,      2,      2,\n",
       "            2,      1,      1,      1,      1,      1,      1,      1,\n",
       "            1,      1,      1,      1,      1,      1,      1,      1,\n",
       "            1,      1,      1,      1,      1,      1,      1,      1,\n",
       "            1,      1,      1,      1,      1,      1,      1,      1,\n",
       "            1,      1,      1,      1,      1,      1,      1,      1,\n",
       "            1,      1,      1,      1,      1,      1,      1,      1,\n",
       "            1,      1,      1,      1,      1,      1,      1,      1,\n",
       "            1,      1,      1,      1,      1,      1,      1,      1,\n",
       "            1,      1,      1,      1,      1,      1,      1,      1,\n",
       "            1,      1,      1,      1,      1,      1,      1,      1,\n",
       "            1,      1,      1,      1,      1,      1,      1,      1,\n",
       "            1,      1,      1,      1,      1,      1,      1,      1,\n",
       "            1,      1,      1,      1,      1,      1,      1,      1,\n",
       "            1,      1,      1,      1,      1,      1,      1,      1,\n",
       "            1,      1,      1,      1,      1,      1,      1,      1,\n",
       "            1,      1,      1,      1,      1,      1,      1,      1,\n",
       "            1,      1,      1,      1,      1,      1,      1,      1,\n",
       "            1,      1,      1,      1,      1,      1,      1,      1,\n",
       "            1,      1,      1,      1,      1,      1,      1,      1,\n",
       "            1,      1,      1,      1,      1,      1,      1,      1,\n",
       "            1,      1,      1,      1,      1,      1,      1,      1,\n",
       "            1,      1,      1,      1,      1,      1,      1,      1,\n",
       "            1,      1,      1,      1,      1])"
      ]
     },
     "execution_count": 13,
     "metadata": {},
     "output_type": "execute_result"
    }
   ],
   "source": [
    "# a closer look at the #samples in each category\n",
    "data_df['Type'].value_counts().values"
   ]
  },
  {
   "cell_type": "markdown",
   "id": "e4eb334e",
   "metadata": {},
   "source": [
    "According to the above observation, we take categories that only have a small #samples as outlier/minority categories. There are typically two ways to deal with the outliers: \n",
    "- We can directly **remove** the outlier categories\n",
    "- We can also **merge** the minority categories with majority ones (example shown below)"
   ]
  },
  {
   "cell_type": "code",
   "execution_count": 14,
   "id": "30c5b8f6",
   "metadata": {},
   "outputs": [
    {
     "data": {
      "text/plain": [
       "CategoricalIndex(['RURLRES', 'Full',\n",
       "                  'Luxury, New Construction, Mid-Rise (4-8)',\n",
       "                  'SINGLE, RURLRES', '4+ Story', 'Apartments', '2 Story, Full',\n",
       "                  'Junior', '1 Story', 'Luxury, 2 Level',\n",
       "                  ...\n",
       "                  '1 Level, Top Floor, Unit Below, Flat', 'Leased Land',\n",
       "                  '1 Level, Top Floor, Unit Below',\n",
       "                  '1 Level, Top Floor, Low-Rise (1-3), Full, Attached',\n",
       "                  'Low-Rise (1-3), End Unit',\n",
       "                  'Low-Rise (1-3), Full, Unit Above',\n",
       "                  'Low-Rise (1-3), Ground Floor', 'Low-Rise (1-3), Live/Work',\n",
       "                  'Low-Rise (1-3), Semi-Attached', 'Hi-Rise (9+), Studio'],\n",
       "                 categories=['1 Level', '1 Level, Attached', '1 Level, Flat', '1 Level, Flat, Low-Rise (1-3)', ..., 'Unit Below, Low-Rise (1-3), Unit Above', 'Unknown', 'Vacant Land', 'VacantLand'], ordered=False, dtype='category', length=282)"
      ]
     },
     "execution_count": 14,
     "metadata": {},
     "output_type": "execute_result"
    }
   ],
   "source": [
    "# remove samples whose \"Type\" belongs to the minority categories \n",
    "# our criteria here is to remove categories that have less than 10 samples\n",
    "value_cts = data_df['Type'].value_counts()\n",
    "cat_to_remove = value_cts[value_cts < 10].keys()\n",
    "cat_to_remove"
   ]
  },
  {
   "cell_type": "code",
   "execution_count": 15,
   "id": "e3d7f38e",
   "metadata": {},
   "outputs": [
    {
     "name": "stdout",
     "output_type": "stream",
     "text": [
      "Data size before dropping minority categories: (164944, 32)\n",
      "Data size after dropping minority categories: (164401, 32)\n"
     ]
    }
   ],
   "source": [
    "print(\"Data size before dropping minority categories:\", data_df.shape)\n",
    "data_df.drop(data_df[data_df['Type'].isin(cat_to_remove)].index, inplace=True)\n",
    "print(\"Data size after dropping minority categories:\", data_df.shape)"
   ]
  },
  {
   "cell_type": "code",
   "execution_count": 16,
   "id": "bae287e6",
   "metadata": {},
   "outputs": [
    {
     "data": {
      "text/plain": [
       "SingleFamily            102040\n",
       "Condo                    27443\n",
       "MultiFamily               7346\n",
       "Townhouse                 7108\n",
       "VacantLand                6199\n",
       "Unknown                   5849\n",
       "MobileManufactured        3605\n",
       "Apartment                 1922\n",
       "Single Family              463\n",
       "Cooperative                176\n",
       "Residential Lot             76\n",
       "Single Family Lot           56\n",
       "MFD-F                       51\n",
       "Acreage                     48\n",
       "2 Story                     42\n",
       "3 Story                     27\n",
       "Hi-Rise (9+), Luxury        21\n",
       "Duplex                      19\n",
       "RESIDENTIAL                 19\n",
       "Condominium                 19\n",
       "Mid-Rise (4-8)              18\n",
       "31                          15\n",
       "Vacant Land                 14\n",
       "Hi-Rise (9+)                14\n",
       "Low-Rise (1-3)              13\n",
       "Detached                    13\n",
       "Manufactured Home           13\n",
       "Mobile Home                 12\n",
       "3 Story, Duplex             12\n",
       "Detached, 2 Story           12\n",
       "Top Floor                   11\n",
       "Residential Sub Lot         11\n",
       "ACREAGE                     10\n",
       "Lots/Land                   10\n",
       "SINGLE                      10\n",
       "Name: Type, dtype: Int64"
      ]
     },
     "execution_count": 16,
     "metadata": {},
     "output_type": "execute_result"
    }
   ],
   "source": [
    "# double check the remaining categories \n",
    "data_df['Type'].astype('string').value_counts()\n",
    "\n",
    "# check what happens if not using astype('string') in the above expression?"
   ]
  },
  {
   "cell_type": "code",
   "execution_count": 17,
   "id": "57736195",
   "metadata": {},
   "outputs": [],
   "source": [
    "# merge minority categories with majority ones (e.g., SINGLE --> SingleFamily, Lots/Land-->VacantLand)\n",
    "data_df['Type'].replace(['SINGLE', 'Lots/Land'],['SingleFamily', 'VacantLand'], inplace=True)"
   ]
  },
  {
   "cell_type": "code",
   "execution_count": 18,
   "id": "decb8e88",
   "metadata": {},
   "outputs": [
    {
     "data": {
      "text/plain": [
       "SingleFamily                                    102050\n",
       "Condo                                            27443\n",
       "MultiFamily                                       7346\n",
       "Townhouse                                         7108\n",
       "VacantLand                                        6209\n",
       "                                                 ...  \n",
       "Detached, Fixer Upper                                0\n",
       "Detached, 4+ Story                                   0\n",
       "Detached, 3 Story, Full                              0\n",
       "Detached, 3 Story, Attached                          0\n",
       "Hi-Rise (9+), Luxury, Unit Below, Unit Above         0\n",
       "Name: Type, Length: 315, dtype: int64"
      ]
     },
     "execution_count": 18,
     "metadata": {},
     "output_type": "execute_result"
    }
   ],
   "source": [
    "# In the resulting categories, 'SINGLE' is merged with \"SingleFamily\" and 'Lots/Land' is merged with 'VacantLand'\n",
    "data_df['Type'].value_counts()"
   ]
  },
  {
   "cell_type": "markdown",
   "id": "88b2229b",
   "metadata": {},
   "source": [
    "#### Your task: apply the logic for processing the \"Type\" column to process one of the following columns:\n",
    "- Region\n",
    "- Elementary School\n",
    "- High School\n",
    "\n",
    "*Notes:*\n",
    "- You can decide whether to remove outliers or not and what specific threshold to use, based on your observation and common sense. \n",
    "- You can also decide whether it makes sense to merge multiple categories.\n",
    "- Please write down your thoughts as comments in the corresponding code cell."
   ]
  },
  {
   "cell_type": "code",
   "execution_count": 19,
   "id": "96ad1f33",
   "metadata": {},
   "outputs": [
    {
     "data": {
      "text/plain": [
       "Fairfax Senior High School               3600\n",
       "University Senior High School Charter    3503\n",
       "Independence High School                 2911\n",
       "Harbor High School                       2373\n",
       "Belmont Senior High School               2124\n",
       "                                         ... \n",
       "Fortuna Union High School                   1\n",
       "Felicitas And Gonzalo Mendez High           1\n",
       "Douglas County High School                  1\n",
       "Charles D. Jones Junior High School         1\n",
       "www.greatschools.org                        1\n",
       "Name: High School, Length: 946, dtype: int64"
      ]
     },
     "execution_count": 19,
     "metadata": {},
     "output_type": "execute_result"
    }
   ],
   "source": [
    "# Count the sample in High School\n",
    "data_df['High School'].value_counts() "
   ]
  },
  {
   "cell_type": "code",
   "execution_count": 20,
   "id": "8bdcd9ad",
   "metadata": {},
   "outputs": [
    {
     "data": {
      "text/plain": [
       "[<matplotlib.lines.Line2D at 0x1448eabd0>]"
      ]
     },
     "execution_count": 20,
     "metadata": {},
     "output_type": "execute_result"
    },
    {
     "data": {
      "image/png": "[encoded data removed]",
      "text/plain": [
       "<Figure size 640x480 with 1 Axes>"
      ]
     },
     "metadata": {},
     "output_type": "display_data"
    }
   ],
   "source": [
    "# check the #samples in High School\n",
    "plt.plot(data_df['High School'].value_counts().values)"
   ]
  },
  {
   "cell_type": "code",
   "execution_count": 21,
   "id": "9a85ef46",
   "metadata": {},
   "outputs": [
    {
     "data": {
      "text/plain": [
       "array([3600, 3503, 2911, 2373, 2124, 1725, 1693, 1617, 1586, 1569, 1535,\n",
       "       1426, 1411, 1398, 1389, 1384, 1374, 1357, 1295, 1293, 1274, 1261,\n",
       "       1218, 1188, 1138, 1122, 1104, 1101, 1090, 1028, 1010,  988,  971,\n",
       "        962,  942,  941,  940,  935,  935,  931,  930,  908,  889,  872,\n",
       "        864,  863,  851,  827,  820,  820,  810,  808,  797,  787,  783,\n",
       "        768,  755,  740,  739,  738,  718,  694,  694,  688,  687,  684,\n",
       "        684,  649,  609,  577,  553,  549,  548,  543,  531,  529,  525,\n",
       "        525,  521,  520,  497,  489,  481,  470,  462,  447,  437,  436,\n",
       "        429,  428,  428,  425,  421,  402,  388,  376,  376,  349,  345,\n",
       "        340,  321,  309,  309,  305,  291,  274,  271,  270,  259,  257,\n",
       "        255,  255,  254,  254,  250,  250,  248,  244,  239,  236,  233,\n",
       "        232,  230,  227,  225,  217,  214,  203,  195,  194,  194,  193,\n",
       "        187,  181,  179,  176,  176,  176,  174,  171,  170,  170,  169,\n",
       "        168,  167,  166,  164,  163,  162,  161,  161,  159,  157,  157,\n",
       "        156,  156,  153,  153,  150,  149,  149,  146,  145,  144,  142,\n",
       "        141,  141,  140,  137,  137,  135,  133,  133,  132,  131,  131,\n",
       "        130,  130,  129,  125,  125,  125,  124,  123,  123,  122,  122,\n",
       "        120,  120,  118,  118,  118,  118,  117,  117,  116,  116,  116,\n",
       "        115,  115,  114,  112,  111,  110,  110,  109,  109,  109,  108,\n",
       "        107,  106,  106,  106,  104,  104,  104,  104,  103,  103,  103,\n",
       "        103,  102,  100,  100,  100,  100,   99,   98,   98,   98,   97,\n",
       "         96,   95,   94,   94,   93,   92,   92,   90,   90,   90,   90,\n",
       "         90,   89,   88,   88,   88,   88,   87,   87,   86,   86,   86,\n",
       "         86,   85,   85,   84,   84,   84,   84,   84,   83,   83,   83,\n",
       "         82,   82,   82,   82,   82,   82,   82,   82,   81,   81,   81,\n",
       "         80,   80,   79,   79,   78,   78,   78,   78,   78,   78,   78,\n",
       "         78,   78,   78,   78,   77,   77,   77,   77,   77,   77,   76,\n",
       "         76,   76,   76,   76,   76,   76,   75,   75,   75,   75,   75,\n",
       "         75,   75,   74,   74,   74,   74,   74,   74,   73,   73,   73,\n",
       "         73,   73,   73,   73,   73,   73,   73,   72,   72,   72,   72,\n",
       "         72,   72,   71,   71,   71,   71,   71,   71,   71,   71,   71,\n",
       "         71,   70,   70,   70,   70,   70,   69,   69,   69,   68,   68,\n",
       "         67,   67,   67,   67,   67,   67,   67,   67,   66,   65,   65,\n",
       "         65,   65,   64,   64,   63,   63,   63,   63,   62,   62,   62,\n",
       "         62,   62,   61,   61,   61,   60,   60,   60,   60,   60,   60,\n",
       "         59,   59,   59,   59,   59,   59,   58,   58,   58,   58,   58,\n",
       "         58,   58,   58,   57,   57,   57,   57,   57,   56,   56,   56,\n",
       "         56,   55,   55,   55,   55,   55,   55,   55,   55,   55,   55,\n",
       "         54,   54,   54,   54,   54,   54,   54,   54,   54,   54,   53,\n",
       "         53,   53,   53,   53,   53,   53,   53,   53,   53,   52,   52,\n",
       "         52,   52,   52,   52,   51,   51,   51,   51,   51,   51,   51,\n",
       "         51,   51,   50,   50,   50,   50,   50,   50,   50,   50,   50,\n",
       "         50,   50,   50,   49,   49,   49,   49,   49,   49,   49,   49,\n",
       "         49,   49,   49,   49,   48,   48,   48,   48,   48,   48,   48,\n",
       "         47,   47,   47,   47,   47,   47,   47,   47,   46,   46,   46,\n",
       "         46,   46,   46,   46,   46,   46,   45,   45,   45,   45,   45,\n",
       "         45,   45,   45,   45,   45,   45,   45,   45,   45,   44,   44,\n",
       "         44,   44,   44,   44,   44,   44,   44,   43,   43,   43,   43,\n",
       "         43,   43,   43,   43,   43,   43,   43,   43,   43,   42,   42,\n",
       "         42,   42,   42,   42,   42,   42,   42,   42,   42,   42,   42,\n",
       "         42,   42,   41,   41,   41,   41,   41,   41,   41,   41,   41,\n",
       "         41,   41,   41,   41,   41,   41,   41,   41,   41,   41,   41,\n",
       "         41,   41,   40,   40,   40,   40,   40,   40,   40,   40,   40,\n",
       "         40,   40,   40,   40,   40,   39,   39,   39,   39,   39,   39,\n",
       "         39,   39,   39,   39,   39,   39,   39,   39,   39,   39,   39,\n",
       "         39,   39,   39,   39,   39,   39,   38,   38,   38,   38,   38,\n",
       "         38,   38,   38,   38,   38,   38,   38,   38,   38,   38,   38,\n",
       "         38,   38,   38,   38,   38,   38,   37,   37,   37,   37,   37,\n",
       "         37,   37,   37,   37,   37,   37,   37,   37,   37,   37,   37,\n",
       "         37,   37,   36,   36,   36,   36,   36,   36,   36,   36,   36,\n",
       "         36,   36,   35,   35,   35,   35,   35,   35,   35,   35,   34,\n",
       "         34,   34,   34,   34,   34,   34,   34,   34,   34,   34,   34,\n",
       "         33,   33,   33,   33,   33,   33,   33,   33,   33,   33,   32,\n",
       "         32,   32,   32,   32,   32,   32,   32,   32,   31,   31,   31,\n",
       "         31,   31,   31,   31,   31,   31,   31,   31,   31,   31,   31,\n",
       "         31,   30,   30,   30,   30,   30,   30,   30,   30,   30,   30,\n",
       "         30,   29,   29,   29,   29,   29,   29,   29,   29,   28,   28,\n",
       "         28,   28,   28,   28,   27,   27,   27,   27,   27,   27,   27,\n",
       "         26,   26,   26,   26,   26,   26,   26,   26,   26,   26,   26,\n",
       "         25,   25,   25,   25,   25,   25,   25,   25,   25,   25,   24,\n",
       "         24,   24,   24,   24,   24,   24,   24,   24,   24,   24,   24,\n",
       "         24,   24,   24,   24,   23,   23,   23,   23,   23,   23,   23,\n",
       "         23,   22,   22,   22,   22,   22,   22,   22,   22,   21,   21,\n",
       "         21,   21,   21,   21,   21,   21,   21,   21,   21,   21,   21,\n",
       "         21,   21,   20,   20,   20,   20,   20,   20,   19,   19,   19,\n",
       "         19,   19,   19,   19,   19,   18,   18,   18,   18,   18,   18,\n",
       "         18,   18,   18,   18,   18,   17,   17,   17,   16,   16,   16,\n",
       "         16,   16,   16,   15,   15,   15,   15,   15,   15,   15,   15,\n",
       "         14,   14,   14,   14,   14,   14,   14,   13,   13,   13,   13,\n",
       "         12,   12,   12,   11,   11,   11,   11,   11,   10,   10,   10,\n",
       "         10,    9,    9,    9,    8,    8,    8,    8,    7,    7,    7,\n",
       "          7,    6,    6,    6,    6,    6,    5,    5,    5,    5,    5,\n",
       "          5,    4,    4,    4,    4,    3,    3,    3,    3,    3,    3,\n",
       "          3,    3,    2,    2,    2,    2,    2,    2,    2,    1,    1,\n",
       "          1,    1,    1,    1,    1,    1,    1,    1,    1,    1,    1,\n",
       "          1,    1,    1,    1,    1,    1,    1,    1,    1,    1,    1])"
      ]
     },
     "execution_count": 21,
     "metadata": {},
     "output_type": "execute_result"
    }
   ],
   "source": [
    "# a closer look at the #samples in High School\n",
    "data_df['High School'].value_counts().values"
   ]
  },
  {
   "cell_type": "code",
   "execution_count": 22,
   "id": "9aad300d",
   "metadata": {},
   "outputs": [
    {
     "data": {
      "text/plain": [
       "array([32800, 18464, 15272, ...,     1,     1,     1])"
      ]
     },
     "execution_count": 22,
     "metadata": {},
     "output_type": "execute_result"
    }
   ],
   "source": [
    "# a closer look at the #samples in Region\n",
    "data_df['Region'].value_counts().values"
   ]
  },
  {
   "cell_type": "code",
   "execution_count": 23,
   "id": "b8c6e97d",
   "metadata": {},
   "outputs": [
    {
     "data": {
      "text/plain": [
       "CategoricalIndex(['Vanden High School', 'Lynwood High School',\n",
       "                  'Troy High School', 'Southwest Senior High School',\n",
       "                  'Channel Islands High School', 'Monterey Trail High School',\n",
       "                  'Mountain Empire High School', 'Fontana High School',\n",
       "                  'Murrieta Mesa High School', 'Jurupa Hills High School',\n",
       "                  ...\n",
       "                  'Metwest High School', 'Kerman High School',\n",
       "                  'Herlong High School', 'Henley High School',\n",
       "                  'GREATSCHOOLS.ORG', 'Fortuna Union High School',\n",
       "                  'Felicitas And Gonzalo Mendez High',\n",
       "                  'Douglas County High School',\n",
       "                  'Charles D. Jones Junior High School',\n",
       "                  'www.greatschools.org'],\n",
       "                 categories=['Abraham Lincoln High School', 'Abraham Lincoln Senior High School', 'Academy For Multiligual Arts And Science At M..., 'Acalanes High School', ..., 'Yucaipa High School', 'Yucca Valley High School', 'e3 Civic High School', 'www.greatschools.org'], ordered=False, dtype='category', length=124)"
      ]
     },
     "execution_count": 23,
     "metadata": {},
     "output_type": "execute_result"
    }
   ],
   "source": [
    "# remove samples whose \"High School\" belongs to the minority categories \n",
    "# remove categories that have less than 20 samples\n",
    "# I decide to drop the value less than 20 and not to merge the highschools because unlike rooms, I think each highschool is unique.\n",
    "value_cts = data_df['High School'].value_counts()\n",
    "cat_to_remove_highschool = value_cts[value_cts < 20].keys()\n",
    "cat_to_remove_highschool"
   ]
  },
  {
   "cell_type": "code",
   "execution_count": 24,
   "id": "e01cf4eb",
   "metadata": {},
   "outputs": [
    {
     "name": "stdout",
     "output_type": "stream",
     "text": [
      "High School Data size before dropping minority categories: (164401, 32)\n",
      "High School Data size after dropping minority categories: (163278, 32)\n"
     ]
    }
   ],
   "source": [
    "print(\"High School Data size before dropping minority categories:\", data_df.shape)\n",
    "data_df.drop(data_df[data_df['High School'].isin(cat_to_remove_highschool)].index, inplace=True)\n",
    "print(\"High School Data size after dropping minority categories:\", data_df.shape)"
   ]
  },
  {
   "cell_type": "code",
   "execution_count": 25,
   "id": "ed1598eb",
   "metadata": {},
   "outputs": [
    {
     "data": {
      "text/plain": [
       "Fairfax Senior High School               3600\n",
       "University Senior High School Charter    3503\n",
       "Independence High School                 2911\n",
       "Harbor High School                       2373\n",
       "Belmont Senior High School               2124\n",
       "                                         ... \n",
       "William Workman High School                20\n",
       "Black Butte Junior High School             20\n",
       "El Diamante High School                    20\n",
       "Great Oak High School                      20\n",
       "Alpaugh Junior-Senior High School          20\n",
       "Name: High School, Length: 822, dtype: Int64"
      ]
     },
     "execution_count": 25,
     "metadata": {},
     "output_type": "execute_result"
    }
   ],
   "source": [
    "# double check the remaining categories in High School\n",
    "data_df['High School'].astype('string').value_counts()\n"
   ]
  },
  {
   "cell_type": "markdown",
   "id": "fa2c6c43",
   "metadata": {},
   "source": [
    "**Analyze Home type**"
   ]
  },
  {
   "cell_type": "code",
   "execution_count": 26,
   "id": "218d34a9",
   "metadata": {},
   "outputs": [
    {
     "data": {
      "text/plain": [
       "SingleFamily          101870\n",
       "Condo                  27426\n",
       "MultiFamily             7349\n",
       "Townhouse               7069\n",
       "Unknown                 5843\n",
       "MobileManufactured      3591\n",
       "Apartment               1923\n",
       "Cooperative              176\n",
       "Name: Home type, dtype: int64"
      ]
     },
     "execution_count": 26,
     "metadata": {},
     "output_type": "execute_result"
    }
   ],
   "source": [
    "# The category distribution for \"Home type\" seems reasonable \n",
    "# We will just use it as it is without further processing\n",
    "data_df['Home type'].value_counts()"
   ]
  },
  {
   "cell_type": "markdown",
   "id": "dc9388c6",
   "metadata": {},
   "source": [
    "#### process numerical data"
   ]
  },
  {
   "cell_type": "code",
   "execution_count": 27,
   "id": "e40adf41",
   "metadata": {},
   "outputs": [],
   "source": [
    "num_col = ['Sold Price', 'Bathrooms', 'Total interior livable area', 'Total spaces', 'Garage spaces', \n",
    "           'Elementary School Score', 'Elementary School Distance', 'High School Score', 'High School Distance', \n",
    "           'Lot size', 'Tax assessed value', 'Annual tax amount', 'Listed Price']"
   ]
  },
  {
   "cell_type": "markdown",
   "id": "22bb38be",
   "metadata": {},
   "source": [
    "Convert currency from string format (e.g., $1,000,000) to float. "
   ]
  },
  {
   "cell_type": "code",
   "execution_count": 28,
   "id": "bc4b497d",
   "metadata": {},
   "outputs": [],
   "source": [
    "currency = ['Sold Price', 'Listed Price', 'Tax assessed value', 'Annual tax amount']\n",
    "for c in currency:\n",
    "    data_df[c] = data_df[c].replace(r'[$,-]', '', regex=True).replace(r'^\\s*$', np.nan, regex=True).astype(float)"
   ]
  },
  {
   "cell_type": "markdown",
   "id": "059f2021",
   "metadata": {},
   "source": [
    "Convert areas from string format such as 1000 sqft and 1 Acres to float as well. "
   ]
  },
  {
   "cell_type": "code",
   "execution_count": 29,
   "id": "13d67c9d",
   "metadata": {},
   "outputs": [
    {
     "name": "stdout",
     "output_type": "stream",
     "text": [
      "Total interior livable area\n",
      "Lot size\n"
     ]
    }
   ],
   "source": [
    "areas = ['Total interior livable area', 'Lot size']\n",
    "for c in areas:\n",
    "    print(c)\n",
    "    # attribute measured by Acres\n",
    "    acres = data_df[c].str.contains('Acres') == True\n",
    "    \n",
    "    # e.g., 13,168 sqrt --> 13168\n",
    "    col = data_df[c].replace(r'\\b sqft\\b|\\b Acres\\b|\\b,\\b','', regex=True).astype(float)\n",
    "    \n",
    "    # Acres --> sqft\n",
    "    col[acres] *= 43560\n",
    "    \n",
    "    data_df[c] = col"
   ]
  },
  {
   "cell_type": "markdown",
   "id": "e4fed403",
   "metadata": {},
   "source": [
    "Now we can convert the numerical columns to the \"float\" data type "
   ]
  },
  {
   "cell_type": "code",
   "execution_count": 30,
   "id": "a42f9ede",
   "metadata": {},
   "outputs": [
    {
     "data": {
      "text/html": [
       "<div>\n",
       "<style scoped>\n",
       "    .dataframe tbody tr th:only-of-type {\n",
       "        vertical-align: middle;\n",
       "    }\n",
       "\n",
       "    .dataframe tbody tr th {\n",
       "        vertical-align: top;\n",
       "    }\n",
       "\n",
       "    .dataframe thead th {\n",
       "        text-align: right;\n",
       "    }\n",
       "</style>\n",
       "<table border=\"1\" class=\"dataframe\">\n",
       "  <thead>\n",
       "    <tr style=\"text-align: right;\">\n",
       "      <th></th>\n",
       "      <th>Sold Price</th>\n",
       "      <th>Bathrooms</th>\n",
       "      <th>Total interior livable area</th>\n",
       "      <th>Total spaces</th>\n",
       "      <th>Garage spaces</th>\n",
       "      <th>Elementary School Score</th>\n",
       "      <th>Elementary School Distance</th>\n",
       "      <th>High School Score</th>\n",
       "      <th>High School Distance</th>\n",
       "      <th>Lot size</th>\n",
       "      <th>Tax assessed value</th>\n",
       "      <th>Annual tax amount</th>\n",
       "      <th>Listed Price</th>\n",
       "    </tr>\n",
       "  </thead>\n",
       "  <tbody>\n",
       "    <tr>\n",
       "      <th>0</th>\n",
       "      <td>2000000.0</td>\n",
       "      <td>2.0</td>\n",
       "      <td>2000.0</td>\n",
       "      <td>0.0</td>\n",
       "      <td>0.0</td>\n",
       "      <td>6.0</td>\n",
       "      <td>0.7</td>\n",
       "      <td>6.0</td>\n",
       "      <td>1.4</td>\n",
       "      <td>NaN</td>\n",
       "      <td>NaN</td>\n",
       "      <td>NaN</td>\n",
       "      <td>NaN</td>\n",
       "    </tr>\n",
       "    <tr>\n",
       "      <th>1</th>\n",
       "      <td>2100000.0</td>\n",
       "      <td>3.0</td>\n",
       "      <td>2806.0</td>\n",
       "      <td>2.0</td>\n",
       "      <td>2.0</td>\n",
       "      <td>9.0</td>\n",
       "      <td>0.4</td>\n",
       "      <td>9.0</td>\n",
       "      <td>1.2</td>\n",
       "      <td>13168.0</td>\n",
       "      <td>1829308.0</td>\n",
       "      <td>22330.0</td>\n",
       "      <td>1950000.0</td>\n",
       "    </tr>\n",
       "    <tr>\n",
       "      <th>2</th>\n",
       "      <td>1125000.0</td>\n",
       "      <td>2.0</td>\n",
       "      <td>1517.0</td>\n",
       "      <td>2.0</td>\n",
       "      <td>2.0</td>\n",
       "      <td>4.0</td>\n",
       "      <td>0.6</td>\n",
       "      <td>6.0</td>\n",
       "      <td>0.8</td>\n",
       "      <td>4795.0</td>\n",
       "      <td>1125000.0</td>\n",
       "      <td>13472.0</td>\n",
       "      <td>1299888.0</td>\n",
       "    </tr>\n",
       "    <tr>\n",
       "      <th>3</th>\n",
       "      <td>36250000.0</td>\n",
       "      <td>0.0</td>\n",
       "      <td>98052.0</td>\n",
       "      <td>175.0</td>\n",
       "      <td>175.0</td>\n",
       "      <td>7.0</td>\n",
       "      <td>0.4</td>\n",
       "      <td>9.0</td>\n",
       "      <td>0.9</td>\n",
       "      <td>178596.0</td>\n",
       "      <td>14521205.0</td>\n",
       "      <td>175211.0</td>\n",
       "      <td>NaN</td>\n",
       "    </tr>\n",
       "    <tr>\n",
       "      <th>4</th>\n",
       "      <td>140000.0</td>\n",
       "      <td>NaN</td>\n",
       "      <td>NaN</td>\n",
       "      <td>NaN</td>\n",
       "      <td>NaN</td>\n",
       "      <td>3.0</td>\n",
       "      <td>23.8</td>\n",
       "      <td>5.0</td>\n",
       "      <td>25.8</td>\n",
       "      <td>NaN</td>\n",
       "      <td>NaN</td>\n",
       "      <td>NaN</td>\n",
       "      <td>NaN</td>\n",
       "    </tr>\n",
       "    <tr>\n",
       "      <th>...</th>\n",
       "      <td>...</td>\n",
       "      <td>...</td>\n",
       "      <td>...</td>\n",
       "      <td>...</td>\n",
       "      <td>...</td>\n",
       "      <td>...</td>\n",
       "      <td>...</td>\n",
       "      <td>...</td>\n",
       "      <td>...</td>\n",
       "      <td>...</td>\n",
       "      <td>...</td>\n",
       "      <td>...</td>\n",
       "      <td>...</td>\n",
       "    </tr>\n",
       "    <tr>\n",
       "      <th>164939</th>\n",
       "      <td>563527.0</td>\n",
       "      <td>2.0</td>\n",
       "      <td>959.0</td>\n",
       "      <td>0.0</td>\n",
       "      <td>0.0</td>\n",
       "      <td>3.0</td>\n",
       "      <td>2.5</td>\n",
       "      <td>2.0</td>\n",
       "      <td>1.3</td>\n",
       "      <td>2178.0</td>\n",
       "      <td>486031.0</td>\n",
       "      <td>8243.0</td>\n",
       "      <td>548000.0</td>\n",
       "    </tr>\n",
       "    <tr>\n",
       "      <th>164940</th>\n",
       "      <td>2650000.0</td>\n",
       "      <td>3.0</td>\n",
       "      <td>2400.0</td>\n",
       "      <td>2.0</td>\n",
       "      <td>2.0</td>\n",
       "      <td>6.0</td>\n",
       "      <td>0.5</td>\n",
       "      <td>NaN</td>\n",
       "      <td>NaN</td>\n",
       "      <td>53578.8</td>\n",
       "      <td>2757060.0</td>\n",
       "      <td>33279.0</td>\n",
       "      <td>2750000.0</td>\n",
       "    </tr>\n",
       "    <tr>\n",
       "      <th>164941</th>\n",
       "      <td>1357000.0</td>\n",
       "      <td>NaN</td>\n",
       "      <td>1355.0</td>\n",
       "      <td>2.0</td>\n",
       "      <td>2.0</td>\n",
       "      <td>7.0</td>\n",
       "      <td>1.2</td>\n",
       "      <td>8.0</td>\n",
       "      <td>2.1</td>\n",
       "      <td>1651.0</td>\n",
       "      <td>1356661.0</td>\n",
       "      <td>16427.0</td>\n",
       "      <td>NaN</td>\n",
       "    </tr>\n",
       "    <tr>\n",
       "      <th>164942</th>\n",
       "      <td>1400000.0</td>\n",
       "      <td>3.0</td>\n",
       "      <td>2227.0</td>\n",
       "      <td>0.0</td>\n",
       "      <td>0.0</td>\n",
       "      <td>7.0</td>\n",
       "      <td>2.0</td>\n",
       "      <td>4.0</td>\n",
       "      <td>6.2</td>\n",
       "      <td>5401.0</td>\n",
       "      <td>272767.0</td>\n",
       "      <td>4165.0</td>\n",
       "      <td>1398000.0</td>\n",
       "    </tr>\n",
       "    <tr>\n",
       "      <th>164943</th>\n",
       "      <td>225000.0</td>\n",
       "      <td>2.0</td>\n",
       "      <td>1906.0</td>\n",
       "      <td>0.0</td>\n",
       "      <td>0.0</td>\n",
       "      <td>3.0</td>\n",
       "      <td>0.3</td>\n",
       "      <td>7.0</td>\n",
       "      <td>5.1</td>\n",
       "      <td>7405.0</td>\n",
       "      <td>324003.0</td>\n",
       "      <td>4619.0</td>\n",
       "      <td>NaN</td>\n",
       "    </tr>\n",
       "  </tbody>\n",
       "</table>\n",
       "<p>163278 rows × 13 columns</p>\n",
       "</div>"
      ],
      "text/plain": [
       "        Sold Price  Bathrooms  Total interior livable area  Total spaces  \\\n",
       "0        2000000.0        2.0                       2000.0           0.0   \n",
       "1        2100000.0        3.0                       2806.0           2.0   \n",
       "2        1125000.0        2.0                       1517.0           2.0   \n",
       "3       36250000.0        0.0                      98052.0         175.0   \n",
       "4         140000.0        NaN                          NaN           NaN   \n",
       "...            ...        ...                          ...           ...   \n",
       "164939    563527.0        2.0                        959.0           0.0   \n",
       "164940   2650000.0        3.0                       2400.0           2.0   \n",
       "164941   1357000.0        NaN                       1355.0           2.0   \n",
       "164942   1400000.0        3.0                       2227.0           0.0   \n",
       "164943    225000.0        2.0                       1906.0           0.0   \n",
       "\n",
       "        Garage spaces  Elementary School Score  Elementary School Distance  \\\n",
       "0                 0.0                      6.0                         0.7   \n",
       "1                 2.0                      9.0                         0.4   \n",
       "2                 2.0                      4.0                         0.6   \n",
       "3               175.0                      7.0                         0.4   \n",
       "4                 NaN                      3.0                        23.8   \n",
       "...               ...                      ...                         ...   \n",
       "164939            0.0                      3.0                         2.5   \n",
       "164940            2.0                      6.0                         0.5   \n",
       "164941            2.0                      7.0                         1.2   \n",
       "164942            0.0                      7.0                         2.0   \n",
       "164943            0.0                      3.0                         0.3   \n",
       "\n",
       "        High School Score  High School Distance  Lot size  Tax assessed value  \\\n",
       "0                     6.0                   1.4       NaN                 NaN   \n",
       "1                     9.0                   1.2   13168.0           1829308.0   \n",
       "2                     6.0                   0.8    4795.0           1125000.0   \n",
       "3                     9.0                   0.9  178596.0          14521205.0   \n",
       "4                     5.0                  25.8       NaN                 NaN   \n",
       "...                   ...                   ...       ...                 ...   \n",
       "164939                2.0                   1.3    2178.0            486031.0   \n",
       "164940                NaN                   NaN   53578.8           2757060.0   \n",
       "164941                8.0                   2.1    1651.0           1356661.0   \n",
       "164942                4.0                   6.2    5401.0            272767.0   \n",
       "164943                7.0                   5.1    7405.0            324003.0   \n",
       "\n",
       "        Annual tax amount  Listed Price  \n",
       "0                     NaN           NaN  \n",
       "1                 22330.0     1950000.0  \n",
       "2                 13472.0     1299888.0  \n",
       "3                175211.0           NaN  \n",
       "4                     NaN           NaN  \n",
       "...                   ...           ...  \n",
       "164939             8243.0      548000.0  \n",
       "164940            33279.0     2750000.0  \n",
       "164941            16427.0           NaN  \n",
       "164942             4165.0     1398000.0  \n",
       "164943             4619.0           NaN  \n",
       "\n",
       "[163278 rows x 13 columns]"
      ]
     },
     "execution_count": 30,
     "metadata": {},
     "output_type": "execute_result"
    }
   ],
   "source": [
    "data_df[num_col] = data_df[num_col].astype('float')\n",
    "data_df[num_col]"
   ]
  },
  {
   "cell_type": "code",
   "execution_count": 31,
   "id": "3cfe1a09",
   "metadata": {},
   "outputs": [
    {
     "data": {
      "text/plain": [
       "Sold Price                     float64\n",
       "Bathrooms                      float64\n",
       "Total interior livable area    float64\n",
       "Total spaces                   float64\n",
       "Garage spaces                  float64\n",
       "Elementary School Score        float64\n",
       "Elementary School Distance     float64\n",
       "High School Score              float64\n",
       "High School Distance           float64\n",
       "Lot size                       float64\n",
       "Tax assessed value             float64\n",
       "Annual tax amount              float64\n",
       "Listed Price                   float64\n",
       "dtype: object"
      ]
     },
     "execution_count": 31,
     "metadata": {},
     "output_type": "execute_result"
    }
   ],
   "source": [
    "# the following columns now all have the numerical data types\n",
    "data_df[num_col].dtypes"
   ]
  },
  {
   "cell_type": "markdown",
   "id": "6fd5a1c2",
   "metadata": {},
   "source": [
    "Before moving forward, we will first deal with columns that contain missing values"
   ]
  },
  {
   "cell_type": "code",
   "execution_count": 32,
   "id": "606a19c0",
   "metadata": {},
   "outputs": [
    {
     "data": {
      "text/plain": [
       "85"
      ]
     },
     "execution_count": 32,
     "metadata": {},
     "output_type": "execute_result"
    }
   ],
   "source": [
    "# check the missing values of \"Sold Price\"\n",
    "data_df['Sold Price'].isna().sum()"
   ]
  },
  {
   "cell_type": "code",
   "execution_count": 33,
   "id": "5ab8034d",
   "metadata": {},
   "outputs": [],
   "source": [
    "# we will drop samples where the \"Sold Price\" is missing\n",
    "data_df.drop(data_df[data_df['Sold Price'].isna()].index, inplace=True)"
   ]
  },
  {
   "cell_type": "code",
   "execution_count": 34,
   "id": "a40cc7ad",
   "metadata": {},
   "outputs": [],
   "source": [
    "# for the other numerical columns, we will fill in missing values with the mean of that column\n",
    "for col in num_col:\n",
    "    if col != \"Sold Price\":\n",
    "        data_df[col].fillna(value = data_df[col].mean(), inplace=True)"
   ]
  },
  {
   "cell_type": "code",
   "execution_count": 35,
   "id": "3d2b223c",
   "metadata": {},
   "outputs": [
    {
     "data": {
      "text/html": [
       "<div>\n",
       "<style scoped>\n",
       "    .dataframe tbody tr th:only-of-type {\n",
       "        vertical-align: middle;\n",
       "    }\n",
       "\n",
       "    .dataframe tbody tr th {\n",
       "        vertical-align: top;\n",
       "    }\n",
       "\n",
       "    .dataframe thead th {\n",
       "        text-align: right;\n",
       "    }\n",
       "</style>\n",
       "<table border=\"1\" class=\"dataframe\">\n",
       "  <thead>\n",
       "    <tr style=\"text-align: right;\">\n",
       "      <th></th>\n",
       "      <th>Sold Price</th>\n",
       "      <th>Bathrooms</th>\n",
       "      <th>Total interior livable area</th>\n",
       "      <th>Total spaces</th>\n",
       "      <th>Garage spaces</th>\n",
       "      <th>Elementary School Score</th>\n",
       "      <th>Elementary School Distance</th>\n",
       "      <th>High School Score</th>\n",
       "      <th>High School Distance</th>\n",
       "      <th>Lot size</th>\n",
       "      <th>Tax assessed value</th>\n",
       "      <th>Annual tax amount</th>\n",
       "      <th>Listed Price</th>\n",
       "    </tr>\n",
       "  </thead>\n",
       "  <tbody>\n",
       "    <tr>\n",
       "      <th>count</th>\n",
       "      <td>1.631930e+05</td>\n",
       "      <td>163193.000000</td>\n",
       "      <td>1.631930e+05</td>\n",
       "      <td>163193.000000</td>\n",
       "      <td>163193.000000</td>\n",
       "      <td>163193.000000</td>\n",
       "      <td>163193.000000</td>\n",
       "      <td>163193.000000</td>\n",
       "      <td>163193.000000</td>\n",
       "      <td>1.631930e+05</td>\n",
       "      <td>1.631930e+05</td>\n",
       "      <td>1.631930e+05</td>\n",
       "      <td>1.631930e+05</td>\n",
       "    </tr>\n",
       "    <tr>\n",
       "      <th>mean</th>\n",
       "      <td>1.198788e+06</td>\n",
       "      <td>2.305571</td>\n",
       "      <td>3.197301e+03</td>\n",
       "      <td>1.709147</td>\n",
       "      <td>1.611449</td>\n",
       "      <td>5.658944</td>\n",
       "      <td>1.258352</td>\n",
       "      <td>6.094184</td>\n",
       "      <td>2.571646</td>\n",
       "      <td>9.501348e+05</td>\n",
       "      <td>8.933982e+05</td>\n",
       "      <td>1.127661e+04</td>\n",
       "      <td>1.201431e+06</td>\n",
       "    </tr>\n",
       "    <tr>\n",
       "      <th>std</th>\n",
       "      <td>3.351113e+06</td>\n",
       "      <td>1.530922</td>\n",
       "      <td>4.368419e+05</td>\n",
       "      <td>28.225814</td>\n",
       "      <td>28.206409</td>\n",
       "      <td>1.973375</td>\n",
       "      <td>2.715323</td>\n",
       "      <td>1.900032</td>\n",
       "      <td>3.797646</td>\n",
       "      <td>1.237834e+08</td>\n",
       "      <td>2.947064e+06</td>\n",
       "      <td>3.615766e+04</td>\n",
       "      <td>2.512857e+06</td>\n",
       "    </tr>\n",
       "    <tr>\n",
       "      <th>min</th>\n",
       "      <td>1.000000e+00</td>\n",
       "      <td>0.000000</td>\n",
       "      <td>1.000000e+00</td>\n",
       "      <td>-26.000000</td>\n",
       "      <td>-26.000000</td>\n",
       "      <td>1.000000</td>\n",
       "      <td>0.000000</td>\n",
       "      <td>1.000000</td>\n",
       "      <td>0.000000</td>\n",
       "      <td>0.000000e+00</td>\n",
       "      <td>0.000000e+00</td>\n",
       "      <td>0.000000e+00</td>\n",
       "      <td>1.000000e+00</td>\n",
       "    </tr>\n",
       "    <tr>\n",
       "      <th>25%</th>\n",
       "      <td>4.350000e+05</td>\n",
       "      <td>2.000000</td>\n",
       "      <td>1.218000e+03</td>\n",
       "      <td>0.000000</td>\n",
       "      <td>0.000000</td>\n",
       "      <td>4.000000</td>\n",
       "      <td>0.300000</td>\n",
       "      <td>5.000000</td>\n",
       "      <td>0.900000</td>\n",
       "      <td>5.218000e+03</td>\n",
       "      <td>2.990000e+05</td>\n",
       "      <td>4.044000e+03</td>\n",
       "      <td>5.999990e+05</td>\n",
       "    </tr>\n",
       "    <tr>\n",
       "      <th>50%</th>\n",
       "      <td>8.100000e+05</td>\n",
       "      <td>2.000000</td>\n",
       "      <td>1.672000e+03</td>\n",
       "      <td>1.000000</td>\n",
       "      <td>1.000000</td>\n",
       "      <td>5.658944</td>\n",
       "      <td>0.600000</td>\n",
       "      <td>6.094184</td>\n",
       "      <td>1.600000</td>\n",
       "      <td>7.681000e+03</td>\n",
       "      <td>6.732000e+05</td>\n",
       "      <td>8.802000e+03</td>\n",
       "      <td>1.160000e+06</td>\n",
       "    </tr>\n",
       "    <tr>\n",
       "      <th>75%</th>\n",
       "      <td>1.375000e+06</td>\n",
       "      <td>3.000000</td>\n",
       "      <td>2.580000e+03</td>\n",
       "      <td>2.000000</td>\n",
       "      <td>2.000000</td>\n",
       "      <td>7.000000</td>\n",
       "      <td>1.258352</td>\n",
       "      <td>7.000000</td>\n",
       "      <td>2.571646</td>\n",
       "      <td>7.197200e+04</td>\n",
       "      <td>9.484050e+05</td>\n",
       "      <td>1.206500e+04</td>\n",
       "      <td>1.201431e+06</td>\n",
       "    </tr>\n",
       "    <tr>\n",
       "      <th>max</th>\n",
       "      <td>8.660000e+08</td>\n",
       "      <td>256.000000</td>\n",
       "      <td>1.764164e+08</td>\n",
       "      <td>9999.000000</td>\n",
       "      <td>9999.000000</td>\n",
       "      <td>10.000000</td>\n",
       "      <td>76.400000</td>\n",
       "      <td>10.000000</td>\n",
       "      <td>77.800000</td>\n",
       "      <td>4.856770e+10</td>\n",
       "      <td>8.256328e+08</td>\n",
       "      <td>9.977342e+06</td>\n",
       "      <td>6.250000e+08</td>\n",
       "    </tr>\n",
       "  </tbody>\n",
       "</table>\n",
       "</div>"
      ],
      "text/plain": [
       "         Sold Price      Bathrooms  Total interior livable area  \\\n",
       "count  1.631930e+05  163193.000000                 1.631930e+05   \n",
       "mean   1.198788e+06       2.305571                 3.197301e+03   \n",
       "std    3.351113e+06       1.530922                 4.368419e+05   \n",
       "min    1.000000e+00       0.000000                 1.000000e+00   \n",
       "25%    4.350000e+05       2.000000                 1.218000e+03   \n",
       "50%    8.100000e+05       2.000000                 1.672000e+03   \n",
       "75%    1.375000e+06       3.000000                 2.580000e+03   \n",
       "max    8.660000e+08     256.000000                 1.764164e+08   \n",
       "\n",
       "        Total spaces  Garage spaces  Elementary School Score  \\\n",
       "count  163193.000000  163193.000000            163193.000000   \n",
       "mean        1.709147       1.611449                 5.658944   \n",
       "std        28.225814      28.206409                 1.973375   \n",
       "min       -26.000000     -26.000000                 1.000000   \n",
       "25%         0.000000       0.000000                 4.000000   \n",
       "50%         1.000000       1.000000                 5.658944   \n",
       "75%         2.000000       2.000000                 7.000000   \n",
       "max      9999.000000    9999.000000                10.000000   \n",
       "\n",
       "       Elementary School Distance  High School Score  High School Distance  \\\n",
       "count               163193.000000      163193.000000         163193.000000   \n",
       "mean                     1.258352           6.094184              2.571646   \n",
       "std                      2.715323           1.900032              3.797646   \n",
       "min                      0.000000           1.000000              0.000000   \n",
       "25%                      0.300000           5.000000              0.900000   \n",
       "50%                      0.600000           6.094184              1.600000   \n",
       "75%                      1.258352           7.000000              2.571646   \n",
       "max                     76.400000          10.000000             77.800000   \n",
       "\n",
       "           Lot size  Tax assessed value  Annual tax amount  Listed Price  \n",
       "count  1.631930e+05        1.631930e+05       1.631930e+05  1.631930e+05  \n",
       "mean   9.501348e+05        8.933982e+05       1.127661e+04  1.201431e+06  \n",
       "std    1.237834e+08        2.947064e+06       3.615766e+04  2.512857e+06  \n",
       "min    0.000000e+00        0.000000e+00       0.000000e+00  1.000000e+00  \n",
       "25%    5.218000e+03        2.990000e+05       4.044000e+03  5.999990e+05  \n",
       "50%    7.681000e+03        6.732000e+05       8.802000e+03  1.160000e+06  \n",
       "75%    7.197200e+04        9.484050e+05       1.206500e+04  1.201431e+06  \n",
       "max    4.856770e+10        8.256328e+08       9.977342e+06  6.250000e+08  "
      ]
     },
     "execution_count": 35,
     "metadata": {},
     "output_type": "execute_result"
    }
   ],
   "source": [
    "# descriptive statistics for the numerical columns\n",
    "data_df[num_col].describe()\n",
    "# If the describe() function is applied on non-numerical columns, the statistics won't make sense."
   ]
  },
  {
   "cell_type": "markdown",
   "id": "1867dc2b",
   "metadata": {},
   "source": [
    "According to the descriptive statistics, multiple columns have outliers:\n",
    "- Bathrooms, Total interior livable area, Total spaces, Garage spaces, Lot size\n",
    "\n",
    "We will analyze them separately."
   ]
  },
  {
   "cell_type": "markdown",
   "id": "c705ebfb",
   "metadata": {},
   "source": [
    "#### Analyze \"Bathrooms\""
   ]
  },
  {
   "cell_type": "code",
   "execution_count": 36,
   "id": "4c6835b8",
   "metadata": {},
   "outputs": [
    {
     "data": {
      "text/plain": [
       "<Axes: xlabel='Bathrooms'>"
      ]
     },
     "execution_count": 36,
     "metadata": {},
     "output_type": "execute_result"
    },
    {
     "data": {
      "image/png": "[encoded data removed]",
      "text/plain": [
       "<Figure size 640x480 with 1 Axes>"
      ]
     },
     "metadata": {},
     "output_type": "display_data"
    }
   ],
   "source": [
    "# draw box plot to check outliers\n",
    "sns.set_style(\"darkgrid\",{'axes.grid' : True})\n",
    "sns.boxplot(x=data_df['Bathrooms'], orient='h')"
   ]
  },
  {
   "cell_type": "markdown",
   "id": "37aacc44",
   "metadata": {},
   "source": [
    "Apply the concept introduced in the slides to calculate the following statistics of the boxplot"
   ]
  },
  {
   "cell_type": "code",
   "execution_count": 37,
   "id": "5b3c7dd8",
   "metadata": {},
   "outputs": [
    {
     "name": "stdout",
     "output_type": "stream",
     "text": [
      "2.0 3.0 0.5 4.5\n"
     ]
    }
   ],
   "source": [
    "Q1 = data_df['Bathrooms'].quantile(0.25)\n",
    "Q3 = data_df['Bathrooms'].quantile(0.75)\n",
    "IQR = Q3 - Q1\n",
    "lower_thresh = Q1 - 1.5*IQR\n",
    "upper_thresh = Q3 + 1.5*IQR\n",
    "print(Q1, Q3, lower_thresh, upper_thresh)"
   ]
  },
  {
   "cell_type": "code",
   "execution_count": 38,
   "id": "79a18c58",
   "metadata": {},
   "outputs": [
    {
     "data": {
      "text/plain": [
       "(160212, 32)"
      ]
     },
     "execution_count": 38,
     "metadata": {},
     "output_type": "execute_result"
    }
   ],
   "source": [
    "# Based on the above calculation, we will remove samples that have \"Bathrooms\" strictly above 5 (>5) as outliers\n",
    "data_df.drop(data_df[data_df['Bathrooms'] > 5].index, inplace=True)\n",
    "data_df.shape"
   ]
  },
  {
   "cell_type": "code",
   "execution_count": 39,
   "id": "c5fae75b",
   "metadata": {},
   "outputs": [
    {
     "data": {
      "text/plain": [
       "<Axes: xlabel='Bathrooms', ylabel='Count'>"
      ]
     },
     "execution_count": 39,
     "metadata": {},
     "output_type": "execute_result"
    },
    {
     "data": {
      "image/png": "[encoded data removed]",
      "text/plain": [
       "<Figure size 640x480 with 1 Axes>"
      ]
     },
     "metadata": {},
     "output_type": "display_data"
    }
   ],
   "source": [
    "# check the new distribution of the \"Bathrooms\"\n",
    "sns.histplot(data_df['Bathrooms'])"
   ]
  },
  {
   "cell_type": "markdown",
   "id": "eb26adb3",
   "metadata": {},
   "source": [
    "#### Your task: please apply the logic for processing the \"Bathroom\" column to process one of the following columns:\n",
    "- Total interior livable area \n",
    "- Total spaces \n",
    "- Garage spaces \n",
    "- Lot size\n",
    "\n",
    "*Notes:*\n",
    "- You can decide the upper/lower threshold of removing outliers, it doesn't have to be the exact upper/lower threshold calculated from the boxplot. "
   ]
  },
  {
   "cell_type": "markdown",
   "id": "007e74a6",
   "metadata": {},
   "source": [
    "**Example: analyze \"Total interior livable area\"**"
   ]
  },
  {
   "cell_type": "code",
   "execution_count": 40,
   "id": "3afff2cd",
   "metadata": {},
   "outputs": [
    {
     "data": {
      "text/plain": [
       "<Axes: xlabel='Total interior livable area'>"
      ]
     },
     "execution_count": 40,
     "metadata": {},
     "output_type": "execute_result"
    },
    {
     "data": {
      "image/png": "[encoded data removed]",
      "text/plain": [
       "<Figure size 640x480 with 1 Axes>"
      ]
     },
     "metadata": {},
     "output_type": "display_data"
    }
   ],
   "source": [
    "# draw box plot to check outliers\n",
    "sns.set_style(\"darkgrid\",{'axes.grid' : True})\n",
    "sns.boxplot(x=data_df['Total interior livable area'], orient='h')"
   ]
  },
  {
   "cell_type": "code",
   "execution_count": 41,
   "id": "74c50c0b",
   "metadata": {},
   "outputs": [
    {
     "data": {
      "text/plain": [
       "(1210.0, 2496.0, -719.0, 4425.0)"
      ]
     },
     "execution_count": 41,
     "metadata": {},
     "output_type": "execute_result"
    }
   ],
   "source": [
    "Q1 = data_df['Total interior livable area'].quantile(0.25)\n",
    "Q3 = data_df['Total interior livable area'].quantile(0.75)\n",
    "IQR = Q3 - Q1\n",
    "lower_thresh = Q1 - 1.5*IQR\n",
    "upper_thresh = Q3 + 1.5*IQR\n",
    "Q1, Q3, lower_thresh, upper_thresh"
   ]
  },
  {
   "cell_type": "code",
   "execution_count": 42,
   "id": "f1188f2a",
   "metadata": {},
   "outputs": [
    {
     "data": {
      "text/plain": [
       "(160212, 32)"
      ]
     },
     "execution_count": 42,
     "metadata": {},
     "output_type": "execute_result"
    }
   ],
   "source": [
    "data_df.shape"
   ]
  },
  {
   "cell_type": "code",
   "execution_count": 43,
   "id": "c4d84bb9",
   "metadata": {},
   "outputs": [
    {
     "data": {
      "text/plain": [
       "(158617, 32)"
      ]
     },
     "execution_count": 43,
     "metadata": {},
     "output_type": "execute_result"
    }
   ],
   "source": [
    "# Based on the above calculation, we will remove samples that have \"Bathrooms\" strictly above 5 (>5) as outliers\n",
    "data_df.drop(data_df[data_df['Total interior livable area'] > 5000].index, inplace=True)\n",
    "data_df.shape"
   ]
  },
  {
   "cell_type": "code",
   "execution_count": 44,
   "id": "4112501c",
   "metadata": {},
   "outputs": [
    {
     "data": {
      "text/plain": [
       "<Axes: xlabel='Total interior livable area', ylabel='Count'>"
      ]
     },
     "execution_count": 44,
     "metadata": {},
     "output_type": "execute_result"
    },
    {
     "data": {
      "image/png": "[encoded data removed]",
      "text/plain": [
       "<Figure size 640x480 with 1 Axes>"
      ]
     },
     "metadata": {},
     "output_type": "display_data"
    }
   ],
   "source": [
    "# check the new distribution of the \"Total interior livable area\"\n",
    "sns.histplot(data_df['Total interior livable area'])"
   ]
  },
  {
   "cell_type": "markdown",
   "id": "48c0a83f",
   "metadata": {},
   "source": [
    "**Your analysis below**"
   ]
  },
  {
   "cell_type": "code",
   "execution_count": 45,
   "id": "d2908dec",
   "metadata": {},
   "outputs": [
    {
     "data": {
      "text/plain": [
       "<Axes: xlabel='Lot size'>"
      ]
     },
     "execution_count": 45,
     "metadata": {},
     "output_type": "execute_result"
    },
    {
     "data": {
      "image/png": "[encoded data removed]",
      "text/plain": [
       "<Figure size 640x480 with 1 Axes>"
      ]
     },
     "metadata": {},
     "output_type": "display_data"
    }
   ],
   "source": [
    "# draw box plot to check outliers\n",
    "sns.set_style(\"darkgrid\",{'axes.grid' : True})\n",
    "sns.boxplot(x=data_df['Lot size'], orient='h')"
   ]
  },
  {
   "cell_type": "code",
   "execution_count": 46,
   "id": "cc8843f3",
   "metadata": {},
   "outputs": [
    {
     "data": {
      "text/plain": [
       "(5190.0, 74923.2, -99409.79999999999, 179523.0)"
      ]
     },
     "execution_count": 46,
     "metadata": {},
     "output_type": "execute_result"
    }
   ],
   "source": [
    "Q1 = data_df['Lot size'].quantile(0.25)\n",
    "Q3 = data_df['Lot size'].quantile(0.75)\n",
    "IQR = Q3 - Q1\n",
    "lower_thresh = Q1 - 1.5*IQR\n",
    "upper_thresh = Q3 + 1.5*IQR\n",
    "Q1, Q3, lower_thresh, upper_thresh"
   ]
  },
  {
   "cell_type": "code",
   "execution_count": 47,
   "id": "5f7e5890",
   "metadata": {},
   "outputs": [
    {
     "data": {
      "text/plain": [
       "(158617, 32)"
      ]
     },
     "execution_count": 47,
     "metadata": {},
     "output_type": "execute_result"
    }
   ],
   "source": [
    "data_df.shape"
   ]
  },
  {
   "cell_type": "code",
   "execution_count": 48,
   "id": "08c92c25",
   "metadata": {},
   "outputs": [
    {
     "data": {
      "text/plain": [
       "(123784, 32)"
      ]
     },
     "execution_count": 48,
     "metadata": {},
     "output_type": "execute_result"
    }
   ],
   "source": [
    "# Based on the above calculation, we will remove samples that have \"Lot size\" strictly above 180000 as outliers\n",
    "data_df.drop(data_df[data_df['Lot size'] > 180000].index, inplace=True)\n",
    "data_df.shape"
   ]
  },
  {
   "cell_type": "code",
   "execution_count": 49,
   "id": "4f83e960",
   "metadata": {},
   "outputs": [
    {
     "data": {
      "text/plain": [
       "<Axes: xlabel='Lot size', ylabel='Count'>"
      ]
     },
     "execution_count": 49,
     "metadata": {},
     "output_type": "execute_result"
    },
    {
     "data": {
      "image/png": "[encoded data removed]",
      "text/plain": [
       "<Figure size 640x480 with 1 Axes>"
      ]
     },
     "metadata": {},
     "output_type": "display_data"
    }
   ],
   "source": [
    "# check the new distribution of the \"Total interior livable area\"\n",
    "sns.histplot(data_df['Lot size'])"
   ]
  },
  {
   "cell_type": "markdown",
   "id": "eecc28a5",
   "metadata": {},
   "source": [
    "### Data transformation\n",
    "After performing data cleaning for each data type separately, we will move forward to do data transformation for each data type."
   ]
  },
  {
   "cell_type": "markdown",
   "id": "9e77d43e",
   "metadata": {},
   "source": [
    "#### Normalize numerical data"
   ]
  },
  {
   "cell_type": "code",
   "execution_count": 50,
   "id": "5aedfa4f",
   "metadata": {},
   "outputs": [],
   "source": [
    "# Total interior livable area, Total spaces, Garage spaces, Lot size"
   ]
  },
  {
   "cell_type": "code",
   "execution_count": 51,
   "id": "fa3bc194",
   "metadata": {},
   "outputs": [
    {
     "data": {
      "text/plain": [
       "<Axes: xlabel='Total interior livable area', ylabel='Count'>"
      ]
     },
     "execution_count": 51,
     "metadata": {},
     "output_type": "execute_result"
    },
    {
     "data": {
      "image/png": "[encoded data removed]",
      "text/plain": [
       "<Figure size 640x480 with 1 Axes>"
      ]
     },
     "metadata": {},
     "output_type": "display_data"
    }
   ],
   "source": [
    "# check the distribution of the \"Total interior livable area\" (before normalization)\n",
    "sns.histplot(data_df['Total interior livable area'])"
   ]
  },
  {
   "cell_type": "code",
   "execution_count": 52,
   "id": "fe7a4fc0",
   "metadata": {},
   "outputs": [],
   "source": [
    "from sklearn.preprocessing import MinMaxScaler\n",
    "scaler = MinMaxScaler(feature_range=(0,1))\n",
    "data_df['Total interior livable area_normalized'] = scaler.fit_transform(data_df[['Total interior livable area']].values)"
   ]
  },
  {
   "cell_type": "code",
   "execution_count": 53,
   "id": "dc996291",
   "metadata": {},
   "outputs": [
    {
     "data": {
      "text/plain": [
       "<Axes: xlabel='Total interior livable area_normalized', ylabel='Count'>"
      ]
     },
     "execution_count": 53,
     "metadata": {},
     "output_type": "execute_result"
    },
    {
     "data": {
      "image/png": "[encoded data removed]",
      "text/plain": [
       "<Figure size 640x480 with 1 Axes>"
      ]
     },
     "metadata": {},
     "output_type": "display_data"
    }
   ],
   "source": [
    "# check the distribution of the \"Total interior livable area\" (after normalization)\n",
    "sns.histplot(data_df['Total interior livable area_normalized'])"
   ]
  },
  {
   "cell_type": "markdown",
   "id": "7a59472a",
   "metadata": {},
   "source": [
    "Compare the data distribution before VS after normalization, we can see that:\n",
    "- normalization does not change the shape and distribution of the data\n",
    "- the absolute values of the data are changed, but the relative values do not change\n",
    "- after normalization, it's more intuitive to understand the relative value among all samples"
   ]
  },
  {
   "cell_type": "markdown",
   "id": "6cd80cec",
   "metadata": {},
   "source": [
    "#### Your task: please apply the logic for normalization of the \"Total interior livable area\" column to process one of the following columns:\n",
    "- Total spaces \n",
    "- Garage spaces \n",
    "- Lot size"
   ]
  },
  {
   "cell_type": "code",
   "execution_count": 54,
   "id": "83fc6dc7",
   "metadata": {},
   "outputs": [],
   "source": [
    "scaler = MinMaxScaler(feature_range=(0,1))\n",
    "data_df['Lot size'] = scaler.fit_transform(data_df[['Lot size']].values)"
   ]
  },
  {
   "cell_type": "code",
   "execution_count": 55,
   "id": "bf027bf1",
   "metadata": {},
   "outputs": [
    {
     "data": {
      "text/plain": [
       "<Axes: xlabel='Lot size', ylabel='Count'>"
      ]
     },
     "execution_count": 55,
     "metadata": {},
     "output_type": "execute_result"
    },
    {
     "data": {
      "image/png": "[encoded data removed]",
      "text/plain": [
       "<Figure size 640x480 with 1 Axes>"
      ]
     },
     "metadata": {},
     "output_type": "display_data"
    }
   ],
   "source": [
    "# check the distribution of the \"Lot size\" (after normalization)\n",
    "sns.histplot(data_df['Lot size'])"
   ]
  },
  {
   "cell_type": "markdown",
   "id": "2ca1057b",
   "metadata": {},
   "source": [
    "**Additional analysis**: for attributes with large values, we typically apply **log scaling** to process."
   ]
  },
  {
   "cell_type": "code",
   "execution_count": 56,
   "id": "20d2bc2b",
   "metadata": {},
   "outputs": [
    {
     "data": {
      "image/png": "[encoded data removed]",
      "text/plain": [
       "<Figure size 640x480 with 1 Axes>"
      ]
     },
     "metadata": {},
     "output_type": "display_data"
    }
   ],
   "source": [
    "# Check the histogram of the 'Sold Price' after apply log scaling.\n",
    "ax = sns.histplot(np.log10(data_df['Sold Price']))\n",
    "ax.set_xlim([3, 8])\n",
    "ax.set_xticks(range(3, 9))\n",
    "ax.set_xticklabels(['%.0e'%a for a in 10**ax.get_xticks()]);\n",
    "\n",
    "# feel free to explore what will happen without log scaling"
   ]
  },
  {
   "cell_type": "markdown",
   "id": "45c7501f",
   "metadata": {},
   "source": [
    "#### Text transformation \n",
    "- tokenization, stemming, lemmatization"
   ]
  },
  {
   "cell_type": "code",
   "execution_count": 57,
   "id": "f74a04da",
   "metadata": {},
   "outputs": [],
   "source": [
    "import nltk"
   ]
  },
  {
   "cell_type": "code",
   "execution_count": 58,
   "id": "4c368bea",
   "metadata": {},
   "outputs": [],
   "source": [
    "text_col = ['Address', 'Summary', 'Heating', 'Cooling', 'Parking', 'Heating features', 'Parking features']"
   ]
  },
  {
   "cell_type": "code",
   "execution_count": 59,
   "id": "72a687da",
   "metadata": {},
   "outputs": [
    {
     "data": {
      "text/html": [
       "<div>\n",
       "<style scoped>\n",
       "    .dataframe tbody tr th:only-of-type {\n",
       "        vertical-align: middle;\n",
       "    }\n",
       "\n",
       "    .dataframe tbody tr th {\n",
       "        vertical-align: top;\n",
       "    }\n",
       "\n",
       "    .dataframe thead th {\n",
       "        text-align: right;\n",
       "    }\n",
       "</style>\n",
       "<table border=\"1\" class=\"dataframe\">\n",
       "  <thead>\n",
       "    <tr style=\"text-align: right;\">\n",
       "      <th></th>\n",
       "      <th>Address</th>\n",
       "      <th>Summary</th>\n",
       "      <th>Heating</th>\n",
       "      <th>Cooling</th>\n",
       "      <th>Parking</th>\n",
       "      <th>Heating features</th>\n",
       "      <th>Parking features</th>\n",
       "    </tr>\n",
       "  </thead>\n",
       "  <tbody>\n",
       "    <tr>\n",
       "      <th>1</th>\n",
       "      <td>5281 Castle Rd,</td>\n",
       "      <td>Spectacular Mountain and incredible L.A. City ...</td>\n",
       "      <td>Central</td>\n",
       "      <td>Central Air, Dual</td>\n",
       "      <td>Driveway, Driveway - Brick</td>\n",
       "      <td>Central</td>\n",
       "      <td>Driveway, Driveway - Brick</td>\n",
       "    </tr>\n",
       "    <tr>\n",
       "      <th>2</th>\n",
       "      <td>3581 Butcher Dr,</td>\n",
       "      <td>Eichler Style home! with Santa Clara High! in ...</td>\n",
       "      <td>Central Forced Air - Gas</td>\n",
       "      <td>Central AC</td>\n",
       "      <td>Garage, Garage - Attached, Covered</td>\n",
       "      <td>Forced air, Gas</td>\n",
       "      <td>Garage, Garage - Attached, Covered</td>\n",
       "    </tr>\n",
       "    <tr>\n",
       "      <th>5</th>\n",
       "      <td>4707 La Villa Mari UNIT J,</td>\n",
       "      <td>AGENTS READ PRIVATE REMARKS BEFORE CALLING;  S...</td>\n",
       "      <td>Central</td>\n",
       "      <td>None</td>\n",
       "      <td>Garage - Attached</td>\n",
       "      <td>Forced air</td>\n",
       "      <td>Garage - Attached</td>\n",
       "    </tr>\n",
       "    <tr>\n",
       "      <th>6</th>\n",
       "      <td>7517 Deveron Ct,</td>\n",
       "      <td>This lovely rental is located in the prestigio...</td>\n",
       "      <td>Forced air, Gas</td>\n",
       "      <td>Central</td>\n",
       "      <td>Garage, Garage - Attached, Covered</td>\n",
       "      <td>Forced air, Gas</td>\n",
       "      <td>Garage, Garage - Attached, Covered</td>\n",
       "    </tr>\n",
       "    <tr>\n",
       "      <th>7</th>\n",
       "      <td>3025 E 8th St,</td>\n",
       "      <td>3025 E 8th St, Los Angeles, CA 90023 is a sing...</td>\n",
       "      <td>Wall</td>\n",
       "      <td>Wall/Window Unit(s)</td>\n",
       "      <td>Garage, Covered</td>\n",
       "      <td>Wall</td>\n",
       "      <td>Garage, Covered</td>\n",
       "    </tr>\n",
       "    <tr>\n",
       "      <th>...</th>\n",
       "      <td>...</td>\n",
       "      <td>...</td>\n",
       "      <td>...</td>\n",
       "      <td>...</td>\n",
       "      <td>...</td>\n",
       "      <td>...</td>\n",
       "      <td>...</td>\n",
       "    </tr>\n",
       "    <tr>\n",
       "      <th>164939</th>\n",
       "      <td>88 Lakeshore Ct,</td>\n",
       "      <td>STUNNING LAKE VIEW AND BAY VIEW! Exquisite Res...</td>\n",
       "      <td>Baseboard, Electric</td>\n",
       "      <td>None</td>\n",
       "      <td>Carport, Covered, Guest</td>\n",
       "      <td>Baseboard, Electric</td>\n",
       "      <td>Carport, Covered, Guest</td>\n",
       "    </tr>\n",
       "    <tr>\n",
       "      <th>164940</th>\n",
       "      <td>3785 Wilshire Blvd PENTHOUSE 3,</td>\n",
       "      <td>Arguably the best unit at Solair. This top flo...</td>\n",
       "      <td>Central</td>\n",
       "      <td>Central</td>\n",
       "      <td>Covered</td>\n",
       "      <td>Other</td>\n",
       "      <td>Covered</td>\n",
       "    </tr>\n",
       "    <tr>\n",
       "      <th>164941</th>\n",
       "      <td>312 Circuit Way,</td>\n",
       "      <td>312 Circuit Way, Mountain View, CA 94043 is a ...</td>\n",
       "      <td>Other</td>\n",
       "      <td>No Data</td>\n",
       "      <td>Garage, Garage - Attached, Covered</td>\n",
       "      <td>Other</td>\n",
       "      <td>Garage, Garage - Attached, Covered</td>\n",
       "    </tr>\n",
       "    <tr>\n",
       "      <th>164942</th>\n",
       "      <td>2 Cape Breton Ct,</td>\n",
       "      <td>Park Pacifica CHECK OUT THE VIDEO  Entering Ca...</td>\n",
       "      <td>Central Forced Air - Gas</td>\n",
       "      <td>None</td>\n",
       "      <td>Underground/Basement, Garage - Attached</td>\n",
       "      <td>Forced air, Gas</td>\n",
       "      <td>Underground/Basement, Garage - Attached</td>\n",
       "    </tr>\n",
       "    <tr>\n",
       "      <th>164943</th>\n",
       "      <td>25 Calabasas Rd,</td>\n",
       "      <td>25 Calabasas Rd, Freedom, CA 95019 is a single...</td>\n",
       "      <td>Wall</td>\n",
       "      <td>No Data</td>\n",
       "      <td>Garage, Garage - Attached</td>\n",
       "      <td>Wall</td>\n",
       "      <td>Garage, Garage - Attached</td>\n",
       "    </tr>\n",
       "  </tbody>\n",
       "</table>\n",
       "<p>123784 rows × 7 columns</p>\n",
       "</div>"
      ],
      "text/plain": [
       "                                Address  \\\n",
       "1                       5281 Castle Rd,   \n",
       "2                      3581 Butcher Dr,   \n",
       "5            4707 La Villa Mari UNIT J,   \n",
       "6                      7517 Deveron Ct,   \n",
       "7                        3025 E 8th St,   \n",
       "...                                 ...   \n",
       "164939                 88 Lakeshore Ct,   \n",
       "164940  3785 Wilshire Blvd PENTHOUSE 3,   \n",
       "164941                 312 Circuit Way,   \n",
       "164942                2 Cape Breton Ct,   \n",
       "164943                 25 Calabasas Rd,   \n",
       "\n",
       "                                                  Summary  \\\n",
       "1       Spectacular Mountain and incredible L.A. City ...   \n",
       "2       Eichler Style home! with Santa Clara High! in ...   \n",
       "5       AGENTS READ PRIVATE REMARKS BEFORE CALLING;  S...   \n",
       "6       This lovely rental is located in the prestigio...   \n",
       "7       3025 E 8th St, Los Angeles, CA 90023 is a sing...   \n",
       "...                                                   ...   \n",
       "164939  STUNNING LAKE VIEW AND BAY VIEW! Exquisite Res...   \n",
       "164940  Arguably the best unit at Solair. This top flo...   \n",
       "164941  312 Circuit Way, Mountain View, CA 94043 is a ...   \n",
       "164942  Park Pacifica CHECK OUT THE VIDEO  Entering Ca...   \n",
       "164943  25 Calabasas Rd, Freedom, CA 95019 is a single...   \n",
       "\n",
       "                         Heating              Cooling  \\\n",
       "1                        Central    Central Air, Dual   \n",
       "2       Central Forced Air - Gas           Central AC   \n",
       "5                        Central                 None   \n",
       "6                Forced air, Gas              Central   \n",
       "7                           Wall  Wall/Window Unit(s)   \n",
       "...                          ...                  ...   \n",
       "164939       Baseboard, Electric                 None   \n",
       "164940                   Central              Central   \n",
       "164941                     Other              No Data   \n",
       "164942  Central Forced Air - Gas                 None   \n",
       "164943                      Wall              No Data   \n",
       "\n",
       "                                        Parking     Heating features  \\\n",
       "1                    Driveway, Driveway - Brick              Central   \n",
       "2            Garage, Garage - Attached, Covered      Forced air, Gas   \n",
       "5                             Garage - Attached           Forced air   \n",
       "6            Garage, Garage - Attached, Covered      Forced air, Gas   \n",
       "7                               Garage, Covered                 Wall   \n",
       "...                                         ...                  ...   \n",
       "164939                  Carport, Covered, Guest  Baseboard, Electric   \n",
       "164940                                  Covered                Other   \n",
       "164941       Garage, Garage - Attached, Covered                Other   \n",
       "164942  Underground/Basement, Garage - Attached      Forced air, Gas   \n",
       "164943                Garage, Garage - Attached                 Wall   \n",
       "\n",
       "                               Parking features  \n",
       "1                    Driveway, Driveway - Brick  \n",
       "2            Garage, Garage - Attached, Covered  \n",
       "5                             Garage - Attached  \n",
       "6            Garage, Garage - Attached, Covered  \n",
       "7                               Garage, Covered  \n",
       "...                                         ...  \n",
       "164939                  Carport, Covered, Guest  \n",
       "164940                                  Covered  \n",
       "164941       Garage, Garage - Attached, Covered  \n",
       "164942  Underground/Basement, Garage - Attached  \n",
       "164943                Garage, Garage - Attached  \n",
       "\n",
       "[123784 rows x 7 columns]"
      ]
     },
     "execution_count": 59,
     "metadata": {},
     "output_type": "execute_result"
    }
   ],
   "source": [
    "data_df[text_col]"
   ]
  },
  {
   "cell_type": "markdown",
   "id": "73da2042",
   "metadata": {},
   "source": [
    "#### Example analysis for the \"Summary\" column"
   ]
  },
  {
   "cell_type": "markdown",
   "id": "8a3dd78c",
   "metadata": {},
   "source": [
    "**tokenization**: the process of breaking down text into the smallest unit in a sentence (e.g., tokens can be words, numbers, punctuation marks)"
   ]
  },
  {
   "cell_type": "code",
   "execution_count": 60,
   "id": "50316fe4",
   "metadata": {},
   "outputs": [
    {
     "name": "stderr",
     "output_type": "stream",
     "text": [
      "[nltk_data] Downloading package punkt to /Users/scott/nltk_data...\n",
      "[nltk_data]   Package punkt is already up-to-date!\n",
      "[nltk_data] Downloading package wordnet to /Users/scott/nltk_data...\n",
      "[nltk_data]   Package wordnet is already up-to-date!\n",
      "[nltk_data] Downloading package omw-1.4 to /Users/scott/nltk_data...\n",
      "[nltk_data]   Package omw-1.4 is already up-to-date!\n"
     ]
    },
    {
     "data": {
      "text/plain": [
       "True"
      ]
     },
     "execution_count": 60,
     "metadata": {},
     "output_type": "execute_result"
    }
   ],
   "source": [
    "from nltk import sent_tokenize\n",
    "from nltk import word_tokenize\n",
    "nltk.download('punkt')\n",
    "nltk.download('wordnet')\n",
    "nltk.download('omw-1.4')"
   ]
  },
  {
   "cell_type": "code",
   "execution_count": 61,
   "id": "7c26962b",
   "metadata": {},
   "outputs": [
    {
     "data": {
      "text/plain": [
       "'Spectacular Mountain and incredible L.A. City Skyline Views. This elegant building is located in a quiet residential area. A circular driveway leads you to this elegant beautiful home. This warm and private house features three bedrooms and three baths. Spacious formal Living room, dinning room and a high ceiling family room with a wet bar.  Remodeled  kitchen with granite counter top and cozy breakfast area. The sliding doors open to a very private backyard with generous deck,fire pit, swimming pool, Spa, grass area and LA views. The master bedroom and other two bedrooms on the one side of the house. Upper level loft perfect for a den or office with doors leading to the balcony you can enjoy the incredible view!'"
      ]
     },
     "execution_count": 61,
     "metadata": {},
     "output_type": "execute_result"
    }
   ],
   "source": [
    "# take the \"Summary\" from the first sample as an example\n",
    "text = data_df.iloc[0]['Summary']\n",
    "text"
   ]
  },
  {
   "cell_type": "code",
   "execution_count": 62,
   "id": "7fba1ad2",
   "metadata": {},
   "outputs": [
    {
     "data": {
      "text/plain": [
       "['Spectacular Mountain and incredible L.A. City Skyline Views.',\n",
       " 'This elegant building is located in a quiet residential area.',\n",
       " 'A circular driveway leads you to this elegant beautiful home.',\n",
       " 'This warm and private house features three bedrooms and three baths.',\n",
       " 'Spacious formal Living room, dinning room and a high ceiling family room with a wet bar.',\n",
       " 'Remodeled  kitchen with granite counter top and cozy breakfast area.',\n",
       " 'The sliding doors open to a very private backyard with generous deck,fire pit, swimming pool, Spa, grass area and LA views.',\n",
       " 'The master bedroom and other two bedrooms on the one side of the house.',\n",
       " 'Upper level loft perfect for a den or office with doors leading to the balcony you can enjoy the incredible view!']"
      ]
     },
     "execution_count": 62,
     "metadata": {},
     "output_type": "execute_result"
    }
   ],
   "source": [
    "nltk.sent_tokenize(text)"
   ]
  },
  {
   "cell_type": "code",
   "execution_count": 63,
   "id": "ddd0f3c6",
   "metadata": {},
   "outputs": [
    {
     "name": "stdout",
     "output_type": "stream",
     "text": [
      "['Spectacular', 'Mountain', 'and', 'incredible', 'L.A.', 'City', 'Skyline', 'Views', '.', 'This', 'elegant', 'building', 'is', 'located', 'in', 'a', 'quiet', 'residential', 'area', '.', 'A', 'circular', 'driveway', 'leads', 'you', 'to', 'this', 'elegant', 'beautiful', 'home', '.', 'This', 'warm', 'and', 'private', 'house', 'features', 'three', 'bedrooms', 'and', 'three', 'baths', '.', 'Spacious', 'formal', 'Living', 'room', ',', 'dinning', 'room', 'and', 'a', 'high', 'ceiling', 'family', 'room', 'with', 'a', 'wet', 'bar', '.', 'Remodeled', 'kitchen', 'with', 'granite', 'counter', 'top', 'and', 'cozy', 'breakfast', 'area', '.', 'The', 'sliding', 'doors', 'open', 'to', 'a', 'very', 'private', 'backyard', 'with', 'generous', 'deck', ',', 'fire', 'pit', ',', 'swimming', 'pool', ',', 'Spa', ',', 'grass', 'area', 'and', 'LA', 'views', '.', 'The', 'master', 'bedroom', 'and', 'other', 'two', 'bedrooms', 'on', 'the', 'one', 'side', 'of', 'the', 'house', '.', 'Upper', 'level', 'loft', 'perfect', 'for', 'a', 'den', 'or', 'office', 'with', 'doors', 'leading', 'to', 'the', 'balcony', 'you', 'can', 'enjoy', 'the', 'incredible', 'view', '!']\n"
     ]
    }
   ],
   "source": [
    "print(nltk.word_tokenize(text))"
   ]
  },
  {
   "cell_type": "markdown",
   "id": "1887fb29",
   "metadata": {},
   "source": [
    "**Stemming**: apply rule-based method (e.g., cut the suffixes in words) to find the root of the word"
   ]
  },
  {
   "cell_type": "code",
   "execution_count": 64,
   "id": "f1b2a0ed",
   "metadata": {},
   "outputs": [
    {
     "data": {
      "text/plain": [
       "'leav'"
      ]
     },
     "execution_count": 64,
     "metadata": {},
     "output_type": "execute_result"
    }
   ],
   "source": [
    "from nltk.stem import PorterStemmer\n",
    "ps = PorterStemmer()\n",
    "word = (\"leaves\") \n",
    "ps.stem(word)"
   ]
  },
  {
   "cell_type": "markdown",
   "id": "87c6d36b",
   "metadata": {},
   "source": [
    "**lemmatization**: use lexical based knowledge to get the base forms of words"
   ]
  },
  {
   "cell_type": "code",
   "execution_count": 65,
   "id": "f79aa34a",
   "metadata": {},
   "outputs": [
    {
     "data": {
      "text/plain": [
       "'leaf'"
      ]
     },
     "execution_count": 65,
     "metadata": {},
     "output_type": "execute_result"
    }
   ],
   "source": [
    "import nltk\n",
    "from nltk.stem import WordNetLemmatizer \n",
    "lemmatizer = WordNetLemmatizer()\n",
    "lemmatizer.lemmatize(\"leaves\")"
   ]
  },
  {
   "cell_type": "code",
   "execution_count": 66,
   "id": "da97ddf6",
   "metadata": {},
   "outputs": [
    {
     "name": "stdout",
     "output_type": "stream",
     "text": [
      "['Spectacular', 'Mountain', 'and', 'incredible', 'L.A.', 'City', 'Skyline', 'Views', '.', 'This', 'elegant', 'building', 'is', 'located', 'in', 'a', 'quiet', 'residential', 'area', '.', 'A', 'circular', 'driveway', 'lead', 'you', 'to', 'this', 'elegant', 'beautiful', 'home', '.', 'This', 'warm', 'and', 'private', 'house', 'feature', 'three', 'bedroom', 'and', 'three', 'bath', '.', 'Spacious', 'formal', 'Living', 'room', ',', 'dinning', 'room', 'and', 'a', 'high', 'ceiling', 'family', 'room', 'with', 'a', 'wet', 'bar', '.', 'Remodeled', 'kitchen', 'with', 'granite', 'counter', 'top', 'and', 'cozy', 'breakfast', 'area', '.', 'The', 'sliding', 'door', 'open', 'to', 'a', 'very', 'private', 'backyard', 'with', 'generous', 'deck', ',', 'fire', 'pit', ',', 'swimming', 'pool', ',', 'Spa', ',', 'grass', 'area', 'and', 'LA', 'view', '.', 'The', 'master', 'bedroom', 'and', 'other', 'two', 'bedroom', 'on', 'the', 'one', 'side', 'of', 'the', 'house', '.', 'Upper', 'level', 'loft', 'perfect', 'for', 'a', 'den', 'or', 'office', 'with', 'door', 'leading', 'to', 'the', 'balcony', 'you', 'can', 'enjoy', 'the', 'incredible', 'view', '!']\n"
     ]
    }
   ],
   "source": [
    "# combine tokenization and lemmatization together\n",
    "word_list = nltk.word_tokenize(text)\n",
    "word_lem = [lemmatizer.lemmatize(tok) for tok in word_list]\n",
    "print(word_lem)"
   ]
  },
  {
   "cell_type": "markdown",
   "id": "25568e8b",
   "metadata": {},
   "source": [
    "### Feature Engineering"
   ]
  },
  {
   "cell_type": "markdown",
   "id": "4aafb54b",
   "metadata": {},
   "source": [
    "#### Numerical data\n",
    "- directly use the values"
   ]
  },
  {
   "cell_type": "markdown",
   "id": "89be0d2f",
   "metadata": {},
   "source": [
    "#### Categorical data representation\n",
    "- encoding (one-hot/ordinal encoder)"
   ]
  },
  {
   "cell_type": "code",
   "execution_count": 67,
   "id": "9d2cb3a7",
   "metadata": {},
   "outputs": [
    {
     "data": {
      "text/plain": [
       "SingleFamily          90706\n",
       "Condo                 15404\n",
       "Townhouse              5961\n",
       "MultiFamily            5899\n",
       "Unknown                3587\n",
       "Apartment              1148\n",
       "MobileManufactured     1041\n",
       "Cooperative              38\n",
       "Name: Home type, dtype: int64"
      ]
     },
     "execution_count": 67,
     "metadata": {},
     "output_type": "execute_result"
    }
   ],
   "source": [
    "# we will use the \"Home type\" column as an example to show the encoding logics\n",
    "data_df['Home type'].value_counts()"
   ]
  },
  {
   "cell_type": "code",
   "execution_count": 68,
   "id": "30a7f82a",
   "metadata": {},
   "outputs": [],
   "source": [
    "from sklearn.preprocessing import OneHotEncoder"
   ]
  },
  {
   "cell_type": "code",
   "execution_count": 69,
   "id": "61d28e33",
   "metadata": {},
   "outputs": [
    {
     "data": {
      "text/html": [
       "<style>#sk-container-id-1 {color: black;}#sk-container-id-1 pre{padding: 0;}#sk-container-id-1 div.sk-toggleable {background-color: white;}#sk-container-id-1 label.sk-toggleable__label {cursor: pointer;display: block;width: 100%;margin-bottom: 0;padding: 0.3em;box-sizing: border-box;text-align: center;}#sk-container-id-1 label.sk-toggleable__label-arrow:before {content: \"▸\";float: left;margin-right: 0.25em;color: #696969;}#sk-container-id-1 label.sk-toggleable__label-arrow:hover:before {color: black;}#sk-container-id-1 div.sk-estimator:hover label.sk-toggleable__label-arrow:before {color: black;}#sk-container-id-1 div.sk-toggleable__content {max-height: 0;max-width: 0;overflow: hidden;text-align: left;background-color: #f0f8ff;}#sk-container-id-1 div.sk-toggleable__content pre {margin: 0.2em;color: black;border-radius: 0.25em;background-color: #f0f8ff;}#sk-container-id-1 input.sk-toggleable__control:checked~div.sk-toggleable__content {max-height: 200px;max-width: 100%;overflow: auto;}#sk-container-id-1 input.sk-toggleable__control:checked~label.sk-toggleable__label-arrow:before {content: \"▾\";}#sk-container-id-1 div.sk-estimator input.sk-toggleable__control:checked~label.sk-toggleable__label {background-color: #d4ebff;}#sk-container-id-1 div.sk-label input.sk-toggleable__control:checked~label.sk-toggleable__label {background-color: #d4ebff;}#sk-container-id-1 input.sk-hidden--visually {border: 0;clip: rect(1px 1px 1px 1px);clip: rect(1px, 1px, 1px, 1px);height: 1px;margin: -1px;overflow: hidden;padding: 0;position: absolute;width: 1px;}#sk-container-id-1 div.sk-estimator {font-family: monospace;background-color: #f0f8ff;border: 1px dotted black;border-radius: 0.25em;box-sizing: border-box;margin-bottom: 0.5em;}#sk-container-id-1 div.sk-estimator:hover {background-color: #d4ebff;}#sk-container-id-1 div.sk-parallel-item::after {content: \"\";width: 100%;border-bottom: 1px solid gray;flex-grow: 1;}#sk-container-id-1 div.sk-label:hover label.sk-toggleable__label {background-color: #d4ebff;}#sk-container-id-1 div.sk-serial::before {content: \"\";position: absolute;border-left: 1px solid gray;box-sizing: border-box;top: 0;bottom: 0;left: 50%;z-index: 0;}#sk-container-id-1 div.sk-serial {display: flex;flex-direction: column;align-items: center;background-color: white;padding-right: 0.2em;padding-left: 0.2em;position: relative;}#sk-container-id-1 div.sk-item {position: relative;z-index: 1;}#sk-container-id-1 div.sk-parallel {display: flex;align-items: stretch;justify-content: center;background-color: white;position: relative;}#sk-container-id-1 div.sk-item::before, #sk-container-id-1 div.sk-parallel-item::before {content: \"\";position: absolute;border-left: 1px solid gray;box-sizing: border-box;top: 0;bottom: 0;left: 50%;z-index: -1;}#sk-container-id-1 div.sk-parallel-item {display: flex;flex-direction: column;z-index: 1;position: relative;background-color: white;}#sk-container-id-1 div.sk-parallel-item:first-child::after {align-self: flex-end;width: 50%;}#sk-container-id-1 div.sk-parallel-item:last-child::after {align-self: flex-start;width: 50%;}#sk-container-id-1 div.sk-parallel-item:only-child::after {width: 0;}#sk-container-id-1 div.sk-dashed-wrapped {border: 1px dashed gray;margin: 0 0.4em 0.5em 0.4em;box-sizing: border-box;padding-bottom: 0.4em;background-color: white;}#sk-container-id-1 div.sk-label label {font-family: monospace;font-weight: bold;display: inline-block;line-height: 1.2em;}#sk-container-id-1 div.sk-label-container {text-align: center;}#sk-container-id-1 div.sk-container {/* jupyter's `normalize.less` sets `[hidden] { display: none; }` but bootstrap.min.css set `[hidden] { display: none !important; }` so we also need the `!important` here to be able to override the default hidden behavior on the sphinx rendered scikit-learn.org. See: https://github.com/scikit-learn/scikit-learn/issues/21755 */display: inline-block !important;position: relative;}#sk-container-id-1 div.sk-text-repr-fallback {display: none;}</style><div id=\"sk-container-id-1\" class=\"sk-top-container\"><div class=\"sk-text-repr-fallback\"><pre>OneHotEncoder(handle_unknown=&#x27;ignore&#x27;)</pre><b>In a Jupyter environment, please rerun this cell to show the HTML representation or trust the notebook. <br />On GitHub, the HTML representation is unable to render, please try loading this page with nbviewer.org.</b></div><div class=\"sk-container\" hidden><div class=\"sk-item\"><div class=\"sk-estimator sk-toggleable\"><input class=\"sk-toggleable__control sk-hidden--visually\" id=\"sk-estimator-id-1\" type=\"checkbox\" checked><label for=\"sk-estimator-id-1\" class=\"sk-toggleable__label sk-toggleable__label-arrow\">OneHotEncoder</label><div class=\"sk-toggleable__content\"><pre>OneHotEncoder(handle_unknown=&#x27;ignore&#x27;)</pre></div></div></div></div></div>"
      ],
      "text/plain": [
       "OneHotEncoder(handle_unknown='ignore')"
      ]
     },
     "execution_count": 69,
     "metadata": {},
     "output_type": "execute_result"
    }
   ],
   "source": [
    "ohe = OneHotEncoder(handle_unknown='ignore')\n",
    "ohe.fit(data_df[['Home type']])"
   ]
  },
  {
   "cell_type": "code",
   "execution_count": 70,
   "id": "4cefa75e",
   "metadata": {},
   "outputs": [
    {
     "data": {
      "text/plain": [
       "[array(['Apartment', 'Condo', 'Cooperative', 'MobileManufactured',\n",
       "        'MultiFamily', 'SingleFamily', 'Townhouse', 'Unknown'],\n",
       "       dtype=object)]"
      ]
     },
     "execution_count": 70,
     "metadata": {},
     "output_type": "execute_result"
    }
   ],
   "source": [
    "# the categories learned during the fit process\n",
    "ohe.categories_"
   ]
  },
  {
   "cell_type": "code",
   "execution_count": 71,
   "id": "5115dc0b",
   "metadata": {},
   "outputs": [
    {
     "data": {
      "text/plain": [
       "array([0., 0., 0., 0., 0., 1., 0., 0.])"
      ]
     },
     "execution_count": 71,
     "metadata": {},
     "output_type": "execute_result"
    }
   ],
   "source": [
    "# encode the \"Home type\" with the learned categories during the fit process\n",
    "ohe.transform(data_df[['Home type']]).toarray()[0]"
   ]
  },
  {
   "cell_type": "code",
   "execution_count": 72,
   "id": "1b6c9f77",
   "metadata": {},
   "outputs": [
    {
     "data": {
      "text/html": [
       "<div>\n",
       "<style scoped>\n",
       "    .dataframe tbody tr th:only-of-type {\n",
       "        vertical-align: middle;\n",
       "    }\n",
       "\n",
       "    .dataframe tbody tr th {\n",
       "        vertical-align: top;\n",
       "    }\n",
       "\n",
       "    .dataframe thead th {\n",
       "        text-align: right;\n",
       "    }\n",
       "</style>\n",
       "<table border=\"1\" class=\"dataframe\">\n",
       "  <thead>\n",
       "    <tr style=\"text-align: right;\">\n",
       "      <th></th>\n",
       "      <th>Apartment</th>\n",
       "      <th>Condo</th>\n",
       "      <th>Cooperative</th>\n",
       "      <th>MobileManufactured</th>\n",
       "      <th>MultiFamily</th>\n",
       "      <th>SingleFamily</th>\n",
       "      <th>Townhouse</th>\n",
       "      <th>Unknown</th>\n",
       "    </tr>\n",
       "  </thead>\n",
       "  <tbody>\n",
       "    <tr>\n",
       "      <th>0</th>\n",
       "      <td>0.0</td>\n",
       "      <td>0.0</td>\n",
       "      <td>0.0</td>\n",
       "      <td>0.0</td>\n",
       "      <td>0.0</td>\n",
       "      <td>1.0</td>\n",
       "      <td>0.0</td>\n",
       "      <td>0.0</td>\n",
       "    </tr>\n",
       "    <tr>\n",
       "      <th>1</th>\n",
       "      <td>0.0</td>\n",
       "      <td>0.0</td>\n",
       "      <td>0.0</td>\n",
       "      <td>0.0</td>\n",
       "      <td>0.0</td>\n",
       "      <td>1.0</td>\n",
       "      <td>0.0</td>\n",
       "      <td>0.0</td>\n",
       "    </tr>\n",
       "    <tr>\n",
       "      <th>2</th>\n",
       "      <td>0.0</td>\n",
       "      <td>0.0</td>\n",
       "      <td>0.0</td>\n",
       "      <td>0.0</td>\n",
       "      <td>0.0</td>\n",
       "      <td>0.0</td>\n",
       "      <td>1.0</td>\n",
       "      <td>0.0</td>\n",
       "    </tr>\n",
       "    <tr>\n",
       "      <th>3</th>\n",
       "      <td>1.0</td>\n",
       "      <td>0.0</td>\n",
       "      <td>0.0</td>\n",
       "      <td>0.0</td>\n",
       "      <td>0.0</td>\n",
       "      <td>0.0</td>\n",
       "      <td>0.0</td>\n",
       "      <td>0.0</td>\n",
       "    </tr>\n",
       "    <tr>\n",
       "      <th>4</th>\n",
       "      <td>0.0</td>\n",
       "      <td>0.0</td>\n",
       "      <td>0.0</td>\n",
       "      <td>0.0</td>\n",
       "      <td>0.0</td>\n",
       "      <td>1.0</td>\n",
       "      <td>0.0</td>\n",
       "      <td>0.0</td>\n",
       "    </tr>\n",
       "    <tr>\n",
       "      <th>...</th>\n",
       "      <td>...</td>\n",
       "      <td>...</td>\n",
       "      <td>...</td>\n",
       "      <td>...</td>\n",
       "      <td>...</td>\n",
       "      <td>...</td>\n",
       "      <td>...</td>\n",
       "      <td>...</td>\n",
       "    </tr>\n",
       "    <tr>\n",
       "      <th>123779</th>\n",
       "      <td>0.0</td>\n",
       "      <td>1.0</td>\n",
       "      <td>0.0</td>\n",
       "      <td>0.0</td>\n",
       "      <td>0.0</td>\n",
       "      <td>0.0</td>\n",
       "      <td>0.0</td>\n",
       "      <td>0.0</td>\n",
       "    </tr>\n",
       "    <tr>\n",
       "      <th>123780</th>\n",
       "      <td>0.0</td>\n",
       "      <td>1.0</td>\n",
       "      <td>0.0</td>\n",
       "      <td>0.0</td>\n",
       "      <td>0.0</td>\n",
       "      <td>0.0</td>\n",
       "      <td>0.0</td>\n",
       "      <td>0.0</td>\n",
       "    </tr>\n",
       "    <tr>\n",
       "      <th>123781</th>\n",
       "      <td>0.0</td>\n",
       "      <td>1.0</td>\n",
       "      <td>0.0</td>\n",
       "      <td>0.0</td>\n",
       "      <td>0.0</td>\n",
       "      <td>0.0</td>\n",
       "      <td>0.0</td>\n",
       "      <td>0.0</td>\n",
       "    </tr>\n",
       "    <tr>\n",
       "      <th>123782</th>\n",
       "      <td>0.0</td>\n",
       "      <td>0.0</td>\n",
       "      <td>0.0</td>\n",
       "      <td>0.0</td>\n",
       "      <td>0.0</td>\n",
       "      <td>1.0</td>\n",
       "      <td>0.0</td>\n",
       "      <td>0.0</td>\n",
       "    </tr>\n",
       "    <tr>\n",
       "      <th>123783</th>\n",
       "      <td>0.0</td>\n",
       "      <td>0.0</td>\n",
       "      <td>0.0</td>\n",
       "      <td>0.0</td>\n",
       "      <td>0.0</td>\n",
       "      <td>1.0</td>\n",
       "      <td>0.0</td>\n",
       "      <td>0.0</td>\n",
       "    </tr>\n",
       "  </tbody>\n",
       "</table>\n",
       "<p>123784 rows × 8 columns</p>\n",
       "</div>"
      ],
      "text/plain": [
       "        Apartment  Condo  Cooperative  MobileManufactured  MultiFamily  \\\n",
       "0             0.0    0.0          0.0                 0.0          0.0   \n",
       "1             0.0    0.0          0.0                 0.0          0.0   \n",
       "2             0.0    0.0          0.0                 0.0          0.0   \n",
       "3             1.0    0.0          0.0                 0.0          0.0   \n",
       "4             0.0    0.0          0.0                 0.0          0.0   \n",
       "...           ...    ...          ...                 ...          ...   \n",
       "123779        0.0    1.0          0.0                 0.0          0.0   \n",
       "123780        0.0    1.0          0.0                 0.0          0.0   \n",
       "123781        0.0    1.0          0.0                 0.0          0.0   \n",
       "123782        0.0    0.0          0.0                 0.0          0.0   \n",
       "123783        0.0    0.0          0.0                 0.0          0.0   \n",
       "\n",
       "        SingleFamily  Townhouse  Unknown  \n",
       "0                1.0        0.0      0.0  \n",
       "1                1.0        0.0      0.0  \n",
       "2                0.0        1.0      0.0  \n",
       "3                0.0        0.0      0.0  \n",
       "4                1.0        0.0      0.0  \n",
       "...              ...        ...      ...  \n",
       "123779           0.0        0.0      0.0  \n",
       "123780           0.0        0.0      0.0  \n",
       "123781           0.0        0.0      0.0  \n",
       "123782           1.0        0.0      0.0  \n",
       "123783           1.0        0.0      0.0  \n",
       "\n",
       "[123784 rows x 8 columns]"
      ]
     },
     "execution_count": 72,
     "metadata": {},
     "output_type": "execute_result"
    }
   ],
   "source": [
    "# convert the original \"Home type\" column to the encoded categories\n",
    "pd.DataFrame(ohe.transform(data_df[['Home type']]).toarray()).rename(columns={i: catg for i, catg in enumerate(ohe.categories_[0])})"
   ]
  },
  {
   "cell_type": "markdown",
   "id": "65a8922c",
   "metadata": {},
   "source": [
    "#### Date-time representation\n",
    "- generate a corresponding feature list such as: [year, month, day]"
   ]
  },
  {
   "cell_type": "code",
   "execution_count": 73,
   "id": "428df942",
   "metadata": {},
   "outputs": [],
   "source": [
    "data_col = ['Sold On', 'Year built', 'Listed On']"
   ]
  },
  {
   "cell_type": "code",
   "execution_count": 74,
   "id": "eb314702",
   "metadata": {},
   "outputs": [
    {
     "data": {
      "text/plain": [
       "1     02/25/21\n",
       "2     11/06/19\n",
       "5     02/24/21\n",
       "6     08/31/19\n",
       "7     11/06/19\n",
       "8     01/30/21\n",
       "10    01/13/21\n",
       "11    12/18/20\n",
       "12    04/30/20\n",
       "14    09/03/20\n",
       "Name: Sold On, dtype: object"
      ]
     },
     "execution_count": 74,
     "metadata": {},
     "output_type": "execute_result"
    }
   ],
   "source": [
    "# we will use the \"Sold On\" column as an example to show the processing logics\n",
    "data_df.iloc[:10]['Sold On']"
   ]
  },
  {
   "cell_type": "code",
   "execution_count": 75,
   "id": "dcc42a27",
   "metadata": {},
   "outputs": [],
   "source": [
    "# convert the column to DataTime type\n",
    "data_df['Sold On'] = pd.to_datetime(data_df['Sold On'], infer_datetime_format=True)"
   ]
  },
  {
   "cell_type": "code",
   "execution_count": 76,
   "id": "9a0698d8",
   "metadata": {},
   "outputs": [
    {
     "data": {
      "text/html": [
       "<div>\n",
       "<style scoped>\n",
       "    .dataframe tbody tr th:only-of-type {\n",
       "        vertical-align: middle;\n",
       "    }\n",
       "\n",
       "    .dataframe tbody tr th {\n",
       "        vertical-align: top;\n",
       "    }\n",
       "\n",
       "    .dataframe thead th {\n",
       "        text-align: right;\n",
       "    }\n",
       "</style>\n",
       "<table border=\"1\" class=\"dataframe\">\n",
       "  <thead>\n",
       "    <tr style=\"text-align: right;\">\n",
       "      <th></th>\n",
       "      <th>Sold On</th>\n",
       "      <th>Sold_Year</th>\n",
       "      <th>Sold_Month</th>\n",
       "      <th>Sold_Day</th>\n",
       "    </tr>\n",
       "  </thead>\n",
       "  <tbody>\n",
       "    <tr>\n",
       "      <th>1</th>\n",
       "      <td>2021-02-25</td>\n",
       "      <td>2021</td>\n",
       "      <td>2</td>\n",
       "      <td>25</td>\n",
       "    </tr>\n",
       "    <tr>\n",
       "      <th>2</th>\n",
       "      <td>2019-11-06</td>\n",
       "      <td>2019</td>\n",
       "      <td>11</td>\n",
       "      <td>6</td>\n",
       "    </tr>\n",
       "    <tr>\n",
       "      <th>5</th>\n",
       "      <td>2021-02-24</td>\n",
       "      <td>2021</td>\n",
       "      <td>2</td>\n",
       "      <td>24</td>\n",
       "    </tr>\n",
       "    <tr>\n",
       "      <th>6</th>\n",
       "      <td>2019-08-31</td>\n",
       "      <td>2019</td>\n",
       "      <td>8</td>\n",
       "      <td>31</td>\n",
       "    </tr>\n",
       "    <tr>\n",
       "      <th>7</th>\n",
       "      <td>2019-11-06</td>\n",
       "      <td>2019</td>\n",
       "      <td>11</td>\n",
       "      <td>6</td>\n",
       "    </tr>\n",
       "    <tr>\n",
       "      <th>...</th>\n",
       "      <td>...</td>\n",
       "      <td>...</td>\n",
       "      <td>...</td>\n",
       "      <td>...</td>\n",
       "    </tr>\n",
       "    <tr>\n",
       "      <th>164939</th>\n",
       "      <td>2021-02-19</td>\n",
       "      <td>2021</td>\n",
       "      <td>2</td>\n",
       "      <td>19</td>\n",
       "    </tr>\n",
       "    <tr>\n",
       "      <th>164940</th>\n",
       "      <td>2018-05-31</td>\n",
       "      <td>2018</td>\n",
       "      <td>5</td>\n",
       "      <td>31</td>\n",
       "    </tr>\n",
       "    <tr>\n",
       "      <th>164941</th>\n",
       "      <td>2019-11-04</td>\n",
       "      <td>2019</td>\n",
       "      <td>11</td>\n",
       "      <td>4</td>\n",
       "    </tr>\n",
       "    <tr>\n",
       "      <th>164942</th>\n",
       "      <td>2020-07-23</td>\n",
       "      <td>2020</td>\n",
       "      <td>7</td>\n",
       "      <td>23</td>\n",
       "    </tr>\n",
       "    <tr>\n",
       "      <th>164943</th>\n",
       "      <td>2019-11-27</td>\n",
       "      <td>2019</td>\n",
       "      <td>11</td>\n",
       "      <td>27</td>\n",
       "    </tr>\n",
       "  </tbody>\n",
       "</table>\n",
       "<p>123784 rows × 4 columns</p>\n",
       "</div>"
      ],
      "text/plain": [
       "          Sold On  Sold_Year  Sold_Month  Sold_Day\n",
       "1      2021-02-25       2021           2        25\n",
       "2      2019-11-06       2019          11         6\n",
       "5      2021-02-24       2021           2        24\n",
       "6      2019-08-31       2019           8        31\n",
       "7      2019-11-06       2019          11         6\n",
       "...           ...        ...         ...       ...\n",
       "164939 2021-02-19       2021           2        19\n",
       "164940 2018-05-31       2018           5        31\n",
       "164941 2019-11-04       2019          11         4\n",
       "164942 2020-07-23       2020           7        23\n",
       "164943 2019-11-27       2019          11        27\n",
       "\n",
       "[123784 rows x 4 columns]"
      ]
     },
     "execution_count": 76,
     "metadata": {},
     "output_type": "execute_result"
    }
   ],
   "source": [
    "# extract year/month/day or other corresponding features\n",
    "data_df['Sold_Year'] = data_df['Sold On'].apply(lambda time: time.year)\n",
    "data_df['Sold_Month'] = data_df['Sold On'].apply(lambda time: time.month)\n",
    "data_df['Sold_Day'] = data_df['Sold On'].apply(lambda time: time.day)\n",
    "\n",
    "data_df[['Sold On', 'Sold_Year', 'Sold_Month', 'Sold_Day']]"
   ]
  },
  {
   "cell_type": "markdown",
   "id": "3417b8e9",
   "metadata": {},
   "source": [
    "#### Text data representation\n",
    "- vectorization\n",
    "- embedding"
   ]
  },
  {
   "cell_type": "code",
   "execution_count": 77,
   "id": "c20d1974",
   "metadata": {},
   "outputs": [],
   "source": [
    "from sklearn.feature_extraction.text import CountVectorizer"
   ]
  },
  {
   "cell_type": "markdown",
   "id": "bf1186dd",
   "metadata": {},
   "source": [
    "#### Let's take the \"Summary\" column to show an example."
   ]
  },
  {
   "cell_type": "code",
   "execution_count": 78,
   "id": "4a2a6904",
   "metadata": {},
   "outputs": [],
   "source": [
    "# fill in missing values with empty string\n",
    "data_df['Summary'].fillna(value='', inplace=True)"
   ]
  },
  {
   "cell_type": "markdown",
   "id": "1ff95794",
   "metadata": {},
   "source": [
    "Take the \"Summary\" from top-100 samples to form a sample corpus, do tokenization and lemmatization"
   ]
  },
  {
   "cell_type": "code",
   "execution_count": 79,
   "id": "45413fa6",
   "metadata": {},
   "outputs": [],
   "source": [
    "corpus = data_df.iloc[:100]['Summary']\n",
    "corpus_lem = []\n",
    "for text in corpus:\n",
    "    word_list = nltk.word_tokenize(text)\n",
    "    word_lem = [lemmatizer.lemmatize(tok) for tok in word_list]\n",
    "    corpus_lem.append(' '.join(word_lem))"
   ]
  },
  {
   "cell_type": "markdown",
   "id": "b26699d9",
   "metadata": {},
   "source": [
    "Vectorize the lemmatized corpus with multiple conditions set by the parameters. **Be careful about the parameter settings.**"
   ]
  },
  {
   "cell_type": "code",
   "execution_count": 80,
   "id": "19629b6f",
   "metadata": {},
   "outputs": [],
   "source": [
    "vectorizer = CountVectorizer(min_df=5, max_df=0.8,ngram_range=(1,1),binary=False,stop_words='english')\n",
    "X = vectorizer.fit_transform(corpus_lem)"
   ]
  },
  {
   "cell_type": "code",
   "execution_count": 81,
   "id": "a2011fc7",
   "metadata": {},
   "outputs": [
    {
     "data": {
      "text/plain": [
       "(100, 268)"
      ]
     },
     "execution_count": 81,
     "metadata": {},
     "output_type": "execute_result"
    }
   ],
   "source": [
    "# check the feature matrix of the vectorized corpus\n",
    "X.shape"
   ]
  },
  {
   "cell_type": "code",
   "execution_count": 82,
   "id": "6ae16076",
   "metadata": {},
   "outputs": [
    {
     "data": {
      "text/plain": [
       "array(['000', '2018', '2019', '2020', '280', '300', '400', '500',\n",
       "       'access', 'acre', 'additional', 'air', 'amazing', 'angeles',\n",
       "       'apple', 'appliance', 'area', 'attached', 'ave', 'away',\n",
       "       'backyard', 'balcony', 'bar', 'bath', 'bathroom', 'beach',\n",
       "       'beautiful', 'beautifully', 'bedroom', 'bedrooms', 'best', 'block',\n",
       "       'boast', 'brand', 'breakfast', 'bright', 'built', 'buyer', 'ca',\n",
       "       'cabinet', 'car', 'carpet', 'ceiling', 'center', 'central',\n",
       "       'charming', 'check', 'city', 'close', 'closet', 'come',\n",
       "       'community', 'commute', 'complete', 'condo', 'contains',\n",
       "       'conveniently', 'counter', 'countertop', 'covered', 'cozy',\n",
       "       'credit', 'cul', 'custom', 'deck', 'den', 'desirable', 'detached',\n",
       "       'dining', 'distance', 'district', 'door', 'double', 'downstairs',\n",
       "       'downtown', 'dr', 'drive', 'driveway', 'dryer', 'dual', 'easy',\n",
       "       'elementary', 'enjoy', 'entertaining', 'excellent', 'expansive',\n",
       "       'exterior', 'extra', 'family', 'fan', 'feature', 'fireplace',\n",
       "       'fixture', 'floor', 'flooring', 'formal', 'freeway', 'freshly',\n",
       "       'ft', 'fully', 'garage', 'garden', 'gas', 'gated', 'glass',\n",
       "       'gorgeous', 'gourmet', 'granite', 'great', 'guest', 'ha',\n",
       "       'hardwood', 'heart', 'heater', 'high', 'highly', 'hills', 'house',\n",
       "       'huge', 'ideal', 'includes', 'including', 'inside', 'interior',\n",
       "       'investment', 'island', 'jose', 'just', 'kitchen', 'la', 'lake',\n",
       "       'laminate', 'landscaping', 'large', 'laundry', 'lead', 'led',\n",
       "       'level', 'light', 'lighting', 'like', 'living', 'll', 'located',\n",
       "       'location', 'long', 'los', 'lot', 'love', 'lovely', 'low', 'main',\n",
       "       'make', 'master', 'mile', 'minute', 'miss', 'mo', 'modern',\n",
       "       'month', 'mountain', 'natural', 'near', 'nearby', 'need',\n",
       "       'neighborhood', 'new', 'newer', 'newly', 'offer', 'office', 'open',\n",
       "       'opportunity', 'outdoor', 'outside', 'owner', 'paint', 'pane',\n",
       "       'panel', 'park', 'parking', 'patio', 'pay', 'perfect', 'plan',\n",
       "       'plenty', 'plus', 'pool', 'potential', 'private', 'property',\n",
       "       'provide', 'quartz', 'quiet', 'range', 'ready', 'rear', 'recessed',\n",
       "       'remodeled', 'rent', 'rental', 'restaurant', 'right', 'roof',\n",
       "       'room', 'sac', 'san', 'santa', 'school', 'separate', 'sewer', 'sf',\n",
       "       'shop', 'shopping', 'shower', 'silicon', 'single', 'sink',\n",
       "       'skylight', 'sliding', 'solar', 'sold', 'spa', 'space', 'spacious',\n",
       "       'sq', 'stainless', 'steel', 'step', 'storage', 'story', 'street',\n",
       "       'style', 'suite', 'tenant', 'tile', 'time', 'today', 'trail',\n",
       "       'tree', 'unit', 'updated', 'upgrade', 'upgraded', 'upstairs',\n",
       "       'utility', 'valley', 'vanity', 'vaulted', 'verify', 'view',\n",
       "       'village', 'wa', 'walk', 'walking', 'warm', 'washer', 'water',\n",
       "       'way', 'welcome', 'white', 'window', 'wonderful', 'wood', 'work',\n",
       "       'yard', 'year', 'zestimate'], dtype=object)"
      ]
     },
     "execution_count": 82,
     "metadata": {},
     "output_type": "execute_result"
    }
   ],
   "source": [
    "# check the extracted features during the vectorization\n",
    "feature_names = vectorizer.get_feature_names_out()\n",
    "feature_names"
   ]
  },
  {
   "cell_type": "markdown",
   "id": "11efd958",
   "metadata": {},
   "source": [
    "Find out the top-10 most frequent features "
   ]
  },
  {
   "cell_type": "code",
   "execution_count": 84,
   "id": "89c6b807",
   "metadata": {},
   "outputs": [],
   "source": [
    "def get_topn_features(X, feature_names, topn=10):\n",
    "    \"\"\"\n",
    "    Inputs:\n",
    "        X: feature matrix\n",
    "        feature_names: extracted features during vectorization\n",
    "        topn: the number of most frequent features to return\n",
    "    Outputs:\n",
    "        topn most frequent features and their frequency\n",
    "    \"\"\"\n",
    "    feature_ct = np.asarray(np.sum(X, axis=0)).reshape(-1)\n",
    "\n",
    "    feature_freq = []\n",
    "    \n",
    "    for i in np.argsort(feature_ct)[::-1][:topn]:\n",
    "        feature_freq.append({'feature':feature_names[i], 'frequency':feature_ct[i]})\n",
    "    \n",
    "    return pd.DataFrame(feature_freq)"
   ]
  },
  {
   "cell_type": "code",
   "execution_count": 85,
   "id": "25e342fb",
   "metadata": {},
   "outputs": [
    {
     "data": {
      "text/html": [
       "<div>\n",
       "<style scoped>\n",
       "    .dataframe tbody tr th:only-of-type {\n",
       "        vertical-align: middle;\n",
       "    }\n",
       "\n",
       "    .dataframe tbody tr th {\n",
       "        vertical-align: top;\n",
       "    }\n",
       "\n",
       "    .dataframe thead th {\n",
       "        text-align: right;\n",
       "    }\n",
       "</style>\n",
       "<table border=\"1\" class=\"dataframe\">\n",
       "  <thead>\n",
       "    <tr style=\"text-align: right;\">\n",
       "      <th></th>\n",
       "      <th>feature</th>\n",
       "      <th>frequency</th>\n",
       "    </tr>\n",
       "  </thead>\n",
       "  <tbody>\n",
       "    <tr>\n",
       "      <th>0</th>\n",
       "      <td>room</td>\n",
       "      <td>98</td>\n",
       "    </tr>\n",
       "    <tr>\n",
       "      <th>1</th>\n",
       "      <td>bedroom</td>\n",
       "      <td>96</td>\n",
       "    </tr>\n",
       "    <tr>\n",
       "      <th>2</th>\n",
       "      <td>new</td>\n",
       "      <td>95</td>\n",
       "    </tr>\n",
       "    <tr>\n",
       "      <th>3</th>\n",
       "      <td>kitchen</td>\n",
       "      <td>68</td>\n",
       "    </tr>\n",
       "    <tr>\n",
       "      <th>4</th>\n",
       "      <td>bathroom</td>\n",
       "      <td>58</td>\n",
       "    </tr>\n",
       "    <tr>\n",
       "      <th>5</th>\n",
       "      <td>family</td>\n",
       "      <td>55</td>\n",
       "    </tr>\n",
       "    <tr>\n",
       "      <th>6</th>\n",
       "      <td>ha</td>\n",
       "      <td>55</td>\n",
       "    </tr>\n",
       "    <tr>\n",
       "      <th>7</th>\n",
       "      <td>living</td>\n",
       "      <td>54</td>\n",
       "    </tr>\n",
       "    <tr>\n",
       "      <th>8</th>\n",
       "      <td>garage</td>\n",
       "      <td>51</td>\n",
       "    </tr>\n",
       "    <tr>\n",
       "      <th>9</th>\n",
       "      <td>bath</td>\n",
       "      <td>51</td>\n",
       "    </tr>\n",
       "  </tbody>\n",
       "</table>\n",
       "</div>"
      ],
      "text/plain": [
       "    feature  frequency\n",
       "0      room         98\n",
       "1   bedroom         96\n",
       "2       new         95\n",
       "3   kitchen         68\n",
       "4  bathroom         58\n",
       "5    family         55\n",
       "6        ha         55\n",
       "7    living         54\n",
       "8    garage         51\n",
       "9      bath         51"
      ]
     },
     "execution_count": 85,
     "metadata": {},
     "output_type": "execute_result"
    }
   ],
   "source": [
    "get_topn_features(X, feature_names, topn=10)"
   ]
  },
  {
   "cell_type": "markdown",
   "id": "29a83671",
   "metadata": {},
   "source": [
    "From the top-10 most frequent features, we observe that most houses describe the house conditions from the aspect of new, bedroom, bathroom, living, kitchen, floor. <br>\n",
    "**However**, it is unclear why \"ha\" appears to be a frequent word. We need to find out documents that contain \"ha\" and explore the specific reason."
   ]
  },
  {
   "cell_type": "code",
   "execution_count": 86,
   "id": "2c30c005",
   "metadata": {},
   "outputs": [
    {
     "data": {
      "text/plain": [
       "(array([110]),)"
      ]
     },
     "execution_count": 86,
     "metadata": {},
     "output_type": "execute_result"
    }
   ],
   "source": [
    "# find the index of \"ha\" from the feature list\n",
    "np.where(feature_names == 'ha')"
   ]
  },
  {
   "cell_type": "code",
   "execution_count": 87,
   "id": "b8899d8c",
   "metadata": {},
   "outputs": [
    {
     "data": {
      "text/plain": [
       "array([\"Welcome to 1318 Joplin Dr # 3 , San Jose . This unit is a great fit for a starter home it 's also a great investor home . The location is fantastic- and so is the price ! Jump onto nearby freeway for your commute . Take a 5 minute drive to Almaden Ranch , Costco and many other nearby shopping center . Entertain guest with the open floor plan that is presented downstairs . Also enjoy time with guest on the patio area . This home is a great find . Make it yours today !\",\n",
       "       'This fabulous 2019 Brand Newly Built Traditional Cape Cod home captivates with spatial grandeur and top-tier finish for prime comfort . The impressive foyer open to a living room adjoining a study room . The open floor plan ha an expansive living , dining and family room with a fireplace . The custom designed gourmet kitchen includes gorgeous cabinet with high-end stainless steel Wolf and Sub Zero appliance , wine cooler , and a vibrant white quartz countertop . This smart house ha speaker all throughout the inside and outside of the house that you can control with the touch of your phone making it perfect for entertaining . Warm European Oak floor , high ceiling , all highlighted with recess led lighting and beautiful picture window throughout the house give a bright , cheerful and plenty of natural lighthouse . The Ultra Private Master Suite ha a customized walk-in closet that lead to a luxurious spa styled bath highlighted by it dual sink vanity , a free-standing tub , and a seamless glass shower . Step out into a peaceful balcony for great relaxation . The second floor ha four bedroom and a separate laundry room along with additional second balcony great for family , guest , and friend . The living room/den open up into a beautiful and colorful yard with a pool , jacuzzi , and built-in BBQ . The lavishing landscape ha lot of flower all along the front and back of the house and artificial grass . 2 Car garage , This sensational masterpiece located on a wonderful street'],\n",
       "      dtype='<U1927')"
      ]
     },
     "execution_count": 87,
     "metadata": {},
     "output_type": "execute_result"
    }
   ],
   "source": [
    "# find \"ha\" from the lemmatized corpus\n",
    "np.array(corpus_lem)[np.where(X[:, 109].toarray() > 0)[0]][:2] # only select two samples for visualization purpose"
   ]
  },
  {
   "cell_type": "code",
   "execution_count": 88,
   "id": "401ad74e",
   "metadata": {},
   "outputs": [
    {
     "data": {
      "text/plain": [
       "array([\"Welcome to 1318 Joplin Dr #3, San Jose. This unit is a great fit for a starter home it's also a great investor home. The location is fantastic- and so is the price! Jump onto nearby freeways for your commute. Take a 5 minute drive to Almaden Ranch, Costco and many other nearby shopping centers.  Entertain guests with the open floor plan that is presented downstairs. Also enjoy time with guests on the patio area. This home is a great find. Make it yours today!\",\n",
       "       'This fabulous 2019 Brand Newly Built Traditional Cape Cod home captivates with spatial grandeur and top-tier finishes for prime comfort. The impressive foyer opens to a living room adjoining a study room. The open floor plan has an expansive living, dining and family room with a fireplace. The custom designed gourmet kitchen includes gorgeous cabinets with high-end stainless steel Wolf and Sub Zero appliances, wine cooler, and a vibrant white quartz countertop. This smart house has speakers all throughout the inside and outside of the house that you can control with the touch of your phone making it perfect for entertaining. Warm European Oak floors, high ceilings, all highlighted with recess led lighting and beautiful picture windows throughout the house gives a bright, cheerful and plenty of natural lighthouse. The Ultra Private Master Suite has a customized walk-in closet that leads to a luxurious spa styled bath highlighted by its dual sink vanities, a free-standing tub, and a seamless glass shower. Step out into a peaceful balcony for great relaxation. The second floor has four bedrooms and a separate laundry room along with additional second balcony great for families, guest, and friends. The living room/den opens up into a beautiful and colorful yard with a pool, jacuzzi, and built-in BBQ. The lavishing landscape has lots of flowers all along the front and back of the house and artificial grass. 2 Car garage, This sensational masterpiece located on a wonderful street'],\n",
       "      dtype=object)"
      ]
     },
     "execution_count": 88,
     "metadata": {},
     "output_type": "execute_result"
    }
   ],
   "source": [
    "# find \"ha\" from the raw corpus before tokenization and lemmatization\n",
    "corpus.values[np.where(X[:, 109].toarray() > 0)[0]][:2] # only select two samples for visualization purpose"
   ]
  },
  {
   "cell_type": "code",
   "execution_count": 89,
   "id": "3d7cd892",
   "metadata": {},
   "outputs": [
    {
     "data": {
      "text/plain": [
       "'ha'"
      ]
     },
     "execution_count": 89,
     "metadata": {},
     "output_type": "execute_result"
    }
   ],
   "source": [
    "# according to the above observation, it seems like \"ha\" is the lemma of \"has\"\n",
    "lemmatizer.lemmatize('has')"
   ]
  },
  {
   "cell_type": "markdown",
   "id": "e4643fe9",
   "metadata": {},
   "source": [
    "Based on the above exploration, we know that \"ha\" appears to be a frequent word, because it is lemmatized from \"has\", which is frequently used in the \"Summary\" description. <br>\n",
    "According to our common sense, \"ha\" doesn't provide deeper understanding of the house's \"Summary\" information. So we can process it as a stop-word and remove it during the vectorization process."
   ]
  },
  {
   "cell_type": "code",
   "execution_count": 90,
   "id": "e88a1ed2",
   "metadata": {},
   "outputs": [],
   "source": [
    "# add self-defined stop-words\n",
    "from sklearn.feature_extraction import text \n",
    "new_stop_words = text.ENGLISH_STOP_WORDS.union(['ha'])\n",
    "# start from vectorization to repeat the above process \n",
    "# In real-world tasks, you might need to repeat the above process multiple times to remove unreasonable features"
   ]
  },
  {
   "cell_type": "markdown",
   "id": "b06f8f4f",
   "metadata": {},
   "source": [
    "#### Your task:\n",
    "- In the above process, we showed the logics for doing text feature engineering, on 100 samples.\n",
    "- In the following part, please apply the similar logic to process the \"Summary\" column for all samples. \n",
    "- Find out the top-20 most frequent words (you might repeat the process multiple times until the top-20 most frequent words make sense to you)"
   ]
  },
  {
   "cell_type": "code",
   "execution_count": 91,
   "id": "fda8bdfe",
   "metadata": {},
   "outputs": [],
   "source": [
    "corpus_new = data_df['Summary']\n",
    "corpus_lem_new = []\n",
    "for text in corpus_new:\n",
    "    word_list = nltk.word_tokenize(text)\n",
    "    word_lem_new = [lemmatizer.lemmatize(tok) for tok in word_list]\n",
    "    corpus_lem_new.append(' '.join(word_lem_new))"
   ]
  },
  {
   "cell_type": "code",
   "execution_count": 92,
   "id": "e97f9ff6",
   "metadata": {},
   "outputs": [],
   "source": [
    "from sklearn.feature_extraction import text \n",
    "new_stop_words = text.ENGLISH_STOP_WORDS.union(['ha'])\n",
    "vectorizer = CountVectorizer(min_df=5, max_df=0.8,ngram_range=(1,1),binary=False,stop_words= list(new_stop_words)) \n",
    "Y = vectorizer.fit_transform(corpus_lem_new)"
   ]
  },
  {
   "cell_type": "code",
   "execution_count": 93,
   "id": "ecdce27c",
   "metadata": {},
   "outputs": [
    {
     "data": {
      "text/plain": [
       "(123784, 19765)"
      ]
     },
     "execution_count": 93,
     "metadata": {},
     "output_type": "execute_result"
    }
   ],
   "source": [
    "Y.shape"
   ]
  },
  {
   "cell_type": "code",
   "execution_count": 94,
   "id": "587463f9",
   "metadata": {},
   "outputs": [
    {
     "data": {
      "text/plain": [
       "array(['00', '000', '0000', ..., 'â½', 'â¾', 'ãƒâ'], dtype=object)"
      ]
     },
     "execution_count": 94,
     "metadata": {},
     "output_type": "execute_result"
    }
   ],
   "source": [
    "feature_names = vectorizer.get_feature_names_out()\n",
    "feature_names"
   ]
  },
  {
   "cell_type": "code",
   "execution_count": 98,
   "id": "f0e34a00",
   "metadata": {},
   "outputs": [],
   "source": [
    "def get_topn_features(Y, feature_names, topn = 20):\n",
    "    \"\"\"\n",
    "    Inputs:\n",
    "        X: feature matrix\n",
    "        feature_names: extracted features during vectorization\n",
    "        topn: the number of most frequent features to return\n",
    "    Outputs:\n",
    "        topn most frequent features and their frequency\n",
    "    \"\"\"\n",
    "    feature_ct = np.asarray(np.sum(Y, axis=0)).reshape(-1)\n",
    "\n",
    "    feature_freq = []\n",
    "    \n",
    "    for i in np.argsort(feature_ct)[::-1][:topn]:\n",
    "        feature_freq.append({'feature':feature_names[i], 'frequency':feature_ct[i]})\n",
    "    \n",
    "    return pd.DataFrame(feature_freq)"
   ]
  },
  {
   "cell_type": "code",
   "execution_count": 99,
   "metadata": {},
   "outputs": [
    {
     "data": {
      "text/html": [
       "<div>\n",
       "<style scoped>\n",
       "    .dataframe tbody tr th:only-of-type {\n",
       "        vertical-align: middle;\n",
       "    }\n",
       "\n",
       "    .dataframe tbody tr th {\n",
       "        vertical-align: top;\n",
       "    }\n",
       "\n",
       "    .dataframe thead th {\n",
       "        text-align: right;\n",
       "    }\n",
       "</style>\n",
       "<table border=\"1\" class=\"dataframe\">\n",
       "  <thead>\n",
       "    <tr style=\"text-align: right;\">\n",
       "      <th></th>\n",
       "      <th>feature</th>\n",
       "      <th>frequency</th>\n",
       "    </tr>\n",
       "  </thead>\n",
       "  <tbody>\n",
       "    <tr>\n",
       "      <th>0</th>\n",
       "      <td>home</td>\n",
       "      <td>225607</td>\n",
       "    </tr>\n",
       "    <tr>\n",
       "      <th>1</th>\n",
       "      <td>bedroom</td>\n",
       "      <td>123186</td>\n",
       "    </tr>\n",
       "    <tr>\n",
       "      <th>2</th>\n",
       "      <td>room</td>\n",
       "      <td>121965</td>\n",
       "    </tr>\n",
       "    <tr>\n",
       "      <th>3</th>\n",
       "      <td>kitchen</td>\n",
       "      <td>82780</td>\n",
       "    </tr>\n",
       "    <tr>\n",
       "      <th>4</th>\n",
       "      <td>new</td>\n",
       "      <td>79356</td>\n",
       "    </tr>\n",
       "    <tr>\n",
       "      <th>5</th>\n",
       "      <td>bathroom</td>\n",
       "      <td>75112</td>\n",
       "    </tr>\n",
       "    <tr>\n",
       "      <th>6</th>\n",
       "      <td>living</td>\n",
       "      <td>68354</td>\n",
       "    </tr>\n",
       "    <tr>\n",
       "      <th>7</th>\n",
       "      <td>floor</td>\n",
       "      <td>67042</td>\n",
       "    </tr>\n",
       "    <tr>\n",
       "      <th>8</th>\n",
       "      <td>large</td>\n",
       "      <td>64897</td>\n",
       "    </tr>\n",
       "    <tr>\n",
       "      <th>9</th>\n",
       "      <td>family</td>\n",
       "      <td>62581</td>\n",
       "    </tr>\n",
       "    <tr>\n",
       "      <th>10</th>\n",
       "      <td>bath</td>\n",
       "      <td>58337</td>\n",
       "    </tr>\n",
       "    <tr>\n",
       "      <th>11</th>\n",
       "      <td>area</td>\n",
       "      <td>57300</td>\n",
       "    </tr>\n",
       "    <tr>\n",
       "      <th>12</th>\n",
       "      <td>contains</td>\n",
       "      <td>51936</td>\n",
       "    </tr>\n",
       "    <tr>\n",
       "      <th>13</th>\n",
       "      <td>house</td>\n",
       "      <td>50928</td>\n",
       "    </tr>\n",
       "    <tr>\n",
       "      <th>14</th>\n",
       "      <td>zestimate</td>\n",
       "      <td>50594</td>\n",
       "    </tr>\n",
       "    <tr>\n",
       "      <th>15</th>\n",
       "      <td>built</td>\n",
       "      <td>48572</td>\n",
       "    </tr>\n",
       "    <tr>\n",
       "      <th>16</th>\n",
       "      <td>open</td>\n",
       "      <td>45104</td>\n",
       "    </tr>\n",
       "    <tr>\n",
       "      <th>17</th>\n",
       "      <td>garage</td>\n",
       "      <td>45063</td>\n",
       "    </tr>\n",
       "    <tr>\n",
       "      <th>18</th>\n",
       "      <td>master</td>\n",
       "      <td>43092</td>\n",
       "    </tr>\n",
       "    <tr>\n",
       "      <th>19</th>\n",
       "      <td>space</td>\n",
       "      <td>42911</td>\n",
       "    </tr>\n",
       "  </tbody>\n",
       "</table>\n",
       "</div>"
      ],
      "text/plain": [
       "      feature  frequency\n",
       "0        home     225607\n",
       "1     bedroom     123186\n",
       "2        room     121965\n",
       "3     kitchen      82780\n",
       "4         new      79356\n",
       "5    bathroom      75112\n",
       "6      living      68354\n",
       "7       floor      67042\n",
       "8       large      64897\n",
       "9      family      62581\n",
       "10       bath      58337\n",
       "11       area      57300\n",
       "12   contains      51936\n",
       "13      house      50928\n",
       "14  zestimate      50594\n",
       "15      built      48572\n",
       "16       open      45104\n",
       "17     garage      45063\n",
       "18     master      43092\n",
       "19      space      42911"
      ]
     },
     "execution_count": 99,
     "metadata": {},
     "output_type": "execute_result"
    }
   ],
   "source": [
    "get_topn_features(Y, feature_names, topn = 20)"
   ]
  },
  {
   "cell_type": "markdown",
   "id": "d434e5bf",
   "metadata": {},
   "source": [
    "### Additional Analysis (optional)"
   ]
  },
  {
   "cell_type": "code",
   "execution_count": 100,
   "id": "b2b92eae",
   "metadata": {},
   "outputs": [
    {
     "data": {
      "text/plain": [
       "SingleFamily          90291\n",
       "Condo                 15384\n",
       "Townhouse              5963\n",
       "MultiFamily            5865\n",
       "Unknown                3586\n",
       "Apartment              1147\n",
       "MobileManufactured     1035\n",
       "Single Family           277\n",
       "2 Story                  40\n",
       "Cooperative              38\n",
       "Name: Type, dtype: int64"
      ]
     },
     "execution_count": 100,
     "metadata": {},
     "output_type": "execute_result"
    }
   ],
   "source": [
    "# Houses could have different types, here are the top types:\n",
    "data_df['Type'].value_counts()[0:10]"
   ]
  },
  {
   "cell_type": "markdown",
   "id": "b8fb83a6",
   "metadata": {},
   "source": [
    "We want to calculate \"price per living sqft\" from the current features, an important measurement of final house price. Let's check the differences between different house types."
   ]
  },
  {
   "cell_type": "code",
   "execution_count": 101,
   "id": "82d270ba",
   "metadata": {},
   "outputs": [
    {
     "data": {
      "image/png": "[encoded data removed]",
      "text/plain": [
       "<Figure size 640x480 with 1 Axes>"
      ]
     },
     "metadata": {},
     "output_type": "display_data"
    }
   ],
   "source": [
    "common_types = data_df['Type'].isin(['SingleFamily', 'Condo', 'MultiFamily', 'Townhouse'])\n",
    "data_df['Price per living sqft'] = data_df['Sold Price'] / data_df['Total interior livable area']\n",
    "ax = sns.boxplot(x='Type', y='Price per living sqft', data=data_df[common_types], fliersize=0)\n",
    "ax.set_ylim([0, 2000]);"
   ]
  },
  {
   "cell_type": "markdown",
   "id": "3735322c",
   "metadata": {},
   "source": [
    "Sale price per living sqft is often related with house locations. Let's check the price for the top 20 zip codes."
   ]
  },
  {
   "cell_type": "code",
   "execution_count": 102,
   "id": "e67e3098",
   "metadata": {},
   "outputs": [
    {
     "data": {
      "text/plain": [
       "95124    760\n",
       "95118    760\n",
       "95135    755\n",
       "94087    752\n",
       "95148    746\n",
       "95127    733\n",
       "90002    730\n",
       "95014    725\n",
       "95132    724\n",
       "95032    721\n",
       "95129    721\n",
       "90043    718\n",
       "94303    718\n",
       "94116    717\n",
       "90003    717\n",
       "95120    716\n",
       "95122    715\n",
       "90047    713\n",
       "95123    712\n",
       "90011    711\n",
       "Name: Zip, dtype: int64"
      ]
     },
     "execution_count": 102,
     "metadata": {},
     "output_type": "execute_result"
    }
   ],
   "source": [
    "data_df['Zip'].value_counts()[:20]"
   ]
  },
  {
   "cell_type": "code",
   "execution_count": 104,
   "id": "228187d4",
   "metadata": {},
   "outputs": [
    {
     "data": {
      "image/png": "[encoded data removed]",
      "text/plain": [
       "<Figure size 640x480 with 1 Axes>"
      ]
     },
     "metadata": {},
     "output_type": "display_data"
    }
   ],
   "source": [
    "data_df['Zip'] = data_df['Zip'].astype('string')\n",
    "data_df['Price per living sqft'] = data_df['Sold Price'] / data_df['Total interior livable area']\n",
    "mask = data_df['Zip'].isin(['95131','94114', '94118'])\n",
    "ax = sns.boxplot(x='Zip', y='Price per living sqft', data=data_df[mask])\n",
    "ax.set_ylim([0, 3000]);"
   ]
  },
  {
   "cell_type": "code",
   "execution_count": 105,
   "id": "67626b56",
   "metadata": {},
   "outputs": [
    {
     "data": {
      "image/png": "[encoded data removed]",
      "text/plain": [
       "<Figure size 640x480 with 1 Axes>"
      ]
     },
     "metadata": {},
     "output_type": "display_data"
    }
   ],
   "source": [
    "d = data_df[data_df['Zip'].isin(data_df['Zip'].value_counts()[:20].keys())]\n",
    "ax = sns.boxplot(x='Zip', y='Price per living sqft', data=d, fliersize=0)\n",
    "ax.set_ylim([0, 2000])\n",
    "ax.set_xticklabels(ax.get_xticklabels(), rotation=90);"
   ]
  },
  {
   "cell_type": "markdown",
   "id": "12bbafe4",
   "metadata": {},
   "source": [
    "In some cases, we also need to check the correlations among multiple columns:\n",
    "- as a way to measure colinearty\n",
    "- visualize the correlation matrix as a heatmap"
   ]
  },
  {
   "cell_type": "code",
   "execution_count": 106,
   "id": "4a0c8c7f",
   "metadata": {},
   "outputs": [
    {
     "data": {
      "image/png": "[encoded data removed]",
      "text/plain": [
       "<Figure size 600x600 with 2 Axes>"
      ]
     },
     "metadata": {},
     "output_type": "display_data"
    }
   ],
   "source": [
    "_, ax = plt.subplots(figsize=(6,6))\n",
    "columns = ['Sold Price', 'Listed Price', 'Annual tax amount', 'Price per living sqft', 'Elementary School Score', 'High School Score']\n",
    "sns.heatmap(data_df[columns].corr(),annot=True,cmap='RdYlGn', ax=ax);"
   ]
  },
  {
   "cell_type": "markdown",
   "id": "6eb92c53",
   "metadata": {},
   "source": [
    "According to the heat map, we can observe that:\n",
    "- sold price is not closely correlated with the listed price\n",
    "- sold price has some correlation with the annual tax amount\n",
    "\n",
    "**Optional**: what other conclusions do you have? Could you explain these correlations from social science perspective?\n"
   ]
  },
  {
   "cell_type": "code",
   "execution_count": null,
   "id": "d4fc295d",
   "metadata": {},
   "outputs": [],
   "source": [
    "# It is weird that the \"Sold Price\" is actually not correlated with any other features except for annual tax income. \n",
    "# From my understanding, I thought the sold price should be closely related to Elemntary school and high school score. "
   ]
  },
  {
   "cell_type": "code",
   "execution_count": null,
   "id": "b796ee74",
   "metadata": {},
   "outputs": [],
   "source": [
    "# It is suprising that the \"listed price\" is not strongly correlated with \"highschool score\" and \"elementary score\".\n",
    "# This is surprising because a highschool/elementary score should raise the listed price. This is taking into account the children's education.\n"
   ]
  },
  {
   "cell_type": "markdown",
   "id": "aa020e10",
   "metadata": {},
   "source": [
    "### Summary\n",
    "\n",
    "This notebook demonstrates the basic technologies of doing data analysis for different data types, including\n",
    "\n",
    "  - Data overview (understanding column data types, values, and distributions)\n",
    "  - Data cleaning (remove missing values, outlier detection)\n",
    "  - Data transformation (normalization, tokenization, lemmatization)\n",
    "  - Feature engineering (encoding categorical data, text feature representation)\n",
    "  - Understanding the interactions between columns (colinearty examination)\n",
    "\n",
    "We only explored a small aspect of the data. You are welcome to dive deep into more details."
   ]
  }
 ],
 "metadata": {
  "kernelspec": {
   "display_name": "Python 3",
   "language": "python",
   "name": "python3"
  },
  "language_info": {
   "codemirror_mode": {
    "name": "ipython",
    "version": 3
   },
   "file_extension": ".py",
   "mimetype": "text/x-python",
   "name": "python",
   "nbconvert_exporter": "python",
   "pygments_lexer": "ipython3",
   "version": "3.11.4"
  },
  "toc": {
   "base_numbering": 1,
   "nav_menu": {},
   "number_sections": true,
   "sideBar": true,
   "skip_h1_title": false,
   "title_cell": "Table of Contents",
   "title_sidebar": "Contents",
   "toc_cell": false,
   "toc_position": {
    "height": "calc(100% - 180px)",
    "left": "10px",
    "top": "150px",
    "width": "211.165px"
   },
   "toc_section_display": true,
   "toc_window_display": true
  }
 },
 "nbformat": 4,
 "nbformat_minor": 5
}
