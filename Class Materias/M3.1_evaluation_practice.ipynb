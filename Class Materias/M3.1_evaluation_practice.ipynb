{
 "cells": [
  {
   "cell_type": "markdown",
   "id": "ef667af1",
   "metadata": {},
   "source": [
    "# Model evaluation methods"
   ]
  },
  {
   "cell_type": "code",
   "execution_count": 27,
   "id": "2e9955bb",
   "metadata": {},
   "outputs": [],
   "source": [
    "import numpy as np\n",
    "from collections import Counter\n",
    "from sklearn.metrics import confusion_matrix\n",
    "\n",
    "import matplotlib.pyplot as plt\n",
    "%matplotlib inline"
   ]
  },
  {
   "cell_type": "markdown",
   "id": "8d13999b",
   "metadata": {},
   "source": [
    "## Binary class evaluation"
   ]
  },
  {
   "cell_type": "code",
   "execution_count": 6,
   "id": "4571898f",
   "metadata": {},
   "outputs": [
    {
     "data": {
      "text/plain": [
       "Counter({0.0: 90, 1.0: 10})"
      ]
     },
     "execution_count": 6,
     "metadata": {},
     "output_type": "execute_result"
    }
   ],
   "source": [
    "y_true = list(np.zeros(90))+list(np.ones(10))\n",
    "Counter(y_true)"
   ]
  },
  {
   "cell_type": "code",
   "execution_count": 7,
   "id": "f64b37b5",
   "metadata": {},
   "outputs": [
    {
     "data": {
      "text/plain": [
       "Counter({0.0: 100})"
      ]
     },
     "execution_count": 7,
     "metadata": {},
     "output_type": "execute_result"
    }
   ],
   "source": [
    "y_pred = np.zeros(100)\n",
    "Counter(y_pred)"
   ]
  },
  {
   "cell_type": "code",
   "execution_count": 12,
   "id": "f8ab0584",
   "metadata": {},
   "outputs": [
    {
     "data": {
      "text/plain": [
       "array([[90,  0],\n",
       "       [10,  0]])"
      ]
     },
     "execution_count": 12,
     "metadata": {},
     "output_type": "execute_result"
    }
   ],
   "source": [
    "confusion_matrix(y_true, y_pred,labels=[0,1])"
   ]
  },
  {
   "cell_type": "code",
   "execution_count": 14,
   "id": "42b54a7b",
   "metadata": {},
   "outputs": [
    {
     "data": {
      "text/plain": [
       "(90, 0, 10, 0)"
      ]
     },
     "execution_count": 14,
     "metadata": {},
     "output_type": "execute_result"
    }
   ],
   "source": [
    "tn, fp, fn, tp = confusion_matrix(y_true, y_pred,labels=[1,0]).ravel()\n",
    "tn, fp, fn, tp "
   ]
  },
  {
   "cell_type": "markdown",
   "id": "1681677d",
   "metadata": {},
   "source": [
    "**What will happy if you change labels=[1,0]?**"
   ]
  },
  {
   "cell_type": "code",
   "execution_count": 16,
   "id": "67205c08",
   "metadata": {},
   "outputs": [
    {
     "data": {
      "text/plain": [
       "(0, 10, 0, 90)"
      ]
     },
     "execution_count": 16,
     "metadata": {},
     "output_type": "execute_result"
    }
   ],
   "source": [
    "confusion_matrix(y_true, y_pred,labels=[1,0])\n",
    "tp, fn, fp, tn = confusion_matrix(y_true, y_pred,labels=[1,0]).ravel()\n",
    "tp, fn, fp, tn "
   ]
  },
  {
   "cell_type": "markdown",
   "id": "1d009dd0",
   "metadata": {},
   "source": [
    "### classification report"
   ]
  },
  {
   "cell_type": "code",
   "execution_count": 17,
   "id": "859e58df",
   "metadata": {},
   "outputs": [],
   "source": [
    "from sklearn.metrics import classification_report"
   ]
  },
  {
   "cell_type": "code",
   "execution_count": 19,
   "id": "74e1d952",
   "metadata": {},
   "outputs": [
    {
     "name": "stdout",
     "output_type": "stream",
     "text": [
      "              precision    recall  f1-score   support\n",
      "\n",
      "         0.0       0.90      1.00      0.95        90\n",
      "         1.0       0.00      0.00      0.00        10\n",
      "\n",
      "    accuracy                           0.90       100\n",
      "   macro avg       0.45      0.50      0.47       100\n",
      "weighted avg       0.81      0.90      0.85       100\n",
      "\n"
     ]
    },
    {
     "name": "stderr",
     "output_type": "stream",
     "text": [
      "/Users/zhaowang/opt/anaconda3/lib/python3.8/site-packages/sklearn/metrics/_classification.py:1471: UndefinedMetricWarning: Precision and F-score are ill-defined and being set to 0.0 in labels with no predicted samples. Use `zero_division` parameter to control this behavior.\n",
      "  _warn_prf(average, modifier, msg_start, len(result))\n",
      "/Users/zhaowang/opt/anaconda3/lib/python3.8/site-packages/sklearn/metrics/_classification.py:1471: UndefinedMetricWarning: Precision and F-score are ill-defined and being set to 0.0 in labels with no predicted samples. Use `zero_division` parameter to control this behavior.\n",
      "  _warn_prf(average, modifier, msg_start, len(result))\n",
      "/Users/zhaowang/opt/anaconda3/lib/python3.8/site-packages/sklearn/metrics/_classification.py:1471: UndefinedMetricWarning: Precision and F-score are ill-defined and being set to 0.0 in labels with no predicted samples. Use `zero_division` parameter to control this behavior.\n",
      "  _warn_prf(average, modifier, msg_start, len(result))\n"
     ]
    }
   ],
   "source": [
    "print(classification_report(y_true, y_pred))"
   ]
  },
  {
   "cell_type": "code",
   "execution_count": 20,
   "id": "a6020305",
   "metadata": {},
   "outputs": [
    {
     "name": "stdout",
     "output_type": "stream",
     "text": [
      "              precision    recall  f1-score   support\n",
      "\n",
      "         0.0       0.90      1.00      0.95        90\n",
      "         1.0        nan      0.00       nan        10\n",
      "\n",
      "    accuracy                           0.90       100\n",
      "   macro avg       0.90      0.50      0.95       100\n",
      "weighted avg       0.90      0.90      0.95       100\n",
      "\n"
     ]
    }
   ],
   "source": [
    "print(classification_report(y_true, y_pred, zero_division=np.nan))"
   ]
  },
  {
   "cell_type": "code",
   "execution_count": 21,
   "id": "ad42e5b7",
   "metadata": {},
   "outputs": [],
   "source": [
    "from sklearn.metrics import accuracy_score"
   ]
  },
  {
   "cell_type": "code",
   "execution_count": 22,
   "id": "f91b7a07",
   "metadata": {},
   "outputs": [
    {
     "data": {
      "text/plain": [
       "0.9"
      ]
     },
     "execution_count": 22,
     "metadata": {},
     "output_type": "execute_result"
    }
   ],
   "source": [
    "accuracy_score(y_true, y_pred)"
   ]
  },
  {
   "cell_type": "markdown",
   "id": "22bda072",
   "metadata": {},
   "source": [
    "### roc curve"
   ]
  },
  {
   "cell_type": "code",
   "execution_count": 30,
   "id": "6f38e76a",
   "metadata": {},
   "outputs": [],
   "source": [
    "from sklearn.metrics import roc_curve, roc_auc_score"
   ]
  },
  {
   "cell_type": "code",
   "execution_count": 38,
   "id": "bb0bc7a7",
   "metadata": {},
   "outputs": [
    {
     "data": {
      "text/plain": [
       "array([0.39282598, 0.20756695, 0.49732922, 0.02706221, 0.21013414,\n",
       "       0.40141884, 0.07298702, 0.11641046, 0.45761409, 0.31702051,\n",
       "       0.34327086, 0.36115801, 0.45474867, 0.24323976, 0.12896629,\n",
       "       0.47887159, 0.43790216, 0.40820704, 0.17452582, 0.27234694,\n",
       "       0.29615825, 0.09916606, 0.3383791 , 0.39961174, 0.39394098,\n",
       "       0.07899097, 0.4806826 , 0.39277918, 0.31052003, 0.03588483,\n",
       "       0.40018893, 0.20190236, 0.47407006, 0.14729278, 0.15764707,\n",
       "       0.28577713, 0.29971061, 0.07154964, 0.05051806, 0.30878082,\n",
       "       0.283464  , 0.18764183, 0.09924077, 0.24604425, 0.29310964,\n",
       "       0.29567316, 0.3830047 , 0.26234544, 0.06774621, 0.44506015,\n",
       "       0.06178355, 0.12639959, 0.13440452, 0.43574678, 0.11538142,\n",
       "       0.08231322, 0.09987939, 0.3689719 , 0.33278719, 0.15899759,\n",
       "       0.36383385, 0.48246419, 0.07384712, 0.07889321, 0.3204355 ,\n",
       "       0.20371421, 0.3862775 , 0.31274523, 0.04582724, 0.44562453,\n",
       "       0.40595005, 0.11465188, 0.38428451, 0.01978508, 0.46404659,\n",
       "       0.04472726, 0.24378015, 0.1843261 , 0.18653932, 0.26053256,\n",
       "       0.34151518, 0.37326972, 0.44251358, 0.48526375, 0.30042352,\n",
       "       0.44499482, 0.13527491, 0.20203895, 0.47170628, 0.4150859 ,\n",
       "       0.00700719, 0.14091525, 0.47005668, 0.12191815, 0.43840935,\n",
       "       0.1643472 , 0.32192248, 0.32063293, 0.24792641, 0.34909347])"
      ]
     },
     "execution_count": 38,
     "metadata": {},
     "output_type": "execute_result"
    }
   ],
   "source": [
    "# generate a list of y_score as probability of being positive\n",
    "y_score = np.random.uniform(0,0.5,100)\n",
    "y_score"
   ]
  },
  {
   "cell_type": "code",
   "execution_count": 39,
   "id": "6d616711",
   "metadata": {},
   "outputs": [],
   "source": [
    "fpr, tpr, thresholds = roc_curve(y_true, y_score, pos_label=1)"
   ]
  },
  {
   "cell_type": "code",
   "execution_count": 42,
   "id": "ebd6ddc5",
   "metadata": {},
   "outputs": [
    {
     "data": {
      "text/plain": [
       "array([       inf, 0.49732922, 0.47170628, 0.47005668, 0.44251358,\n",
       "       0.43840935, 0.36115801, 0.34909347, 0.33278719, 0.32063293,\n",
       "       0.26053256, 0.24792641, 0.17452582, 0.1643472 , 0.14729278,\n",
       "       0.14091525, 0.12639959, 0.12191815, 0.01978508, 0.00700719])"
      ]
     },
     "execution_count": 42,
     "metadata": {},
     "output_type": "execute_result"
    }
   ],
   "source": [
    "thresholds"
   ]
  },
  {
   "cell_type": "code",
   "execution_count": 43,
   "id": "5a190c59",
   "metadata": {},
   "outputs": [
    {
     "data": {
      "text/plain": [
       "0.4833333333333333"
      ]
     },
     "execution_count": 43,
     "metadata": {},
     "output_type": "execute_result"
    }
   ],
   "source": [
    "roc_score = roc_auc_score(y_true, y_score)\n",
    "roc_score"
   ]
  },
  {
   "cell_type": "code",
   "execution_count": 50,
   "id": "3c0ebf71",
   "metadata": {},
   "outputs": [
    {
     "data": {
      "image/png": "[encoded data removed]",
      "text/plain": [
       "<Figure size 432x288 with 1 Axes>"
      ]
     },
     "metadata": {
      "needs_background": "light"
     },
     "output_type": "display_data"
    }
   ],
   "source": [
    "plt.plot(fpr,tpr,'o-',label=\"roc_auc_score:\"+str(roc_score.round(2)))\n",
    "plt.ylabel('True Positive Rate')\n",
    "plt.xlabel('False Positive Rate')\n",
    "plt.legend()\n",
    "plt.show()\n",
    "# can you change the font size of the xlabel and ylabel?"
   ]
  },
  {
   "cell_type": "markdown",
   "id": "18ebf3cb",
   "metadata": {},
   "source": [
    "## Multi-class evaluation"
   ]
  },
  {
   "cell_type": "code",
   "execution_count": 47,
   "id": "0b166e0b",
   "metadata": {},
   "outputs": [
    {
     "data": {
      "text/plain": [
       "array([[2, 0, 0],\n",
       "       [0, 0, 1],\n",
       "       [1, 0, 2]])"
      ]
     },
     "execution_count": 47,
     "metadata": {},
     "output_type": "execute_result"
    }
   ],
   "source": [
    "y_true = [\"cat\", \"ant\", \"cat\", \"cat\", \"ant\", \"bird\"]\n",
    "y_pred = [\"ant\", \"ant\", \"cat\", \"cat\", \"ant\", \"cat\"]\n",
    "confusion_matrix(y_true, y_pred, labels=[\"ant\", \"bird\", \"cat\"])"
   ]
  },
  {
   "cell_type": "code",
   "execution_count": 49,
   "id": "f4494b56",
   "metadata": {},
   "outputs": [
    {
     "name": "stdout",
     "output_type": "stream",
     "text": [
      "              precision    recall  f1-score   support\n",
      "\n",
      "         ant       0.67      1.00      0.80         2\n",
      "        bird        nan      0.00       nan         1\n",
      "         cat       0.67      0.67      0.67         3\n",
      "\n",
      "    accuracy                           0.67         6\n",
      "   macro avg       0.67      0.56      0.73         6\n",
      "weighted avg       0.67      0.67      0.72         6\n",
      "\n"
     ]
    }
   ],
   "source": [
    "print(classification_report(y_true, y_pred,zero_division=np.nan))"
   ]
  }
 ],
 "metadata": {
  "kernelspec": {
   "display_name": "Python 3",
   "language": "python",
   "name": "python3"
  },
  "language_info": {
   "codemirror_mode": {
    "name": "ipython",
    "version": 3
   },
   "file_extension": ".py",
   "mimetype": "text/x-python",
   "name": "python",
   "nbconvert_exporter": "python",
   "pygments_lexer": "ipython3",
   "version": "3.8.8"
  },
  "toc": {
   "base_numbering": 1,
   "nav_menu": {},
   "number_sections": true,
   "sideBar": true,
   "skip_h1_title": false,
   "title_cell": "Table of Contents",
   "title_sidebar": "Contents",
   "toc_cell": false,
   "toc_position": {},
   "toc_section_display": true,
   "toc_window_display": false
  }
 },
 "nbformat": 4,
 "nbformat_minor": 5
}
