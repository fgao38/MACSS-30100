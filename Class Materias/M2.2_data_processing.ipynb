{
 "cells": [
  {
   "cell_type": "markdown",
   "id": "fa8d58de",
   "metadata": {},
   "source": [
    "### Data processing\n",
    "- Data errors exploration\n",
    "    - categorical outliers\n",
    "    - numerical outliers\n",
    "- Data transformation: \n",
    "    - Numerical data normalization\n",
    "    - Text: tokenization, stemming and lemmatization\n",
    "- Feature engineering: \n",
    "    - Numerical\n",
    "    - Categorical\n",
    "    - Text\n"
   ]
  },
  {
   "cell_type": "markdown",
   "id": "e73b6365",
   "metadata": {},
   "source": [
    "### Data transformation"
   ]
  },
  {
   "cell_type": "markdown",
   "id": "c2fde0a3",
   "metadata": {},
   "source": [
    "#### numerical data normalization"
   ]
  },
  {
   "cell_type": "markdown",
   "id": "9aea57bf",
   "metadata": {},
   "source": [
    "- Minmax scaler"
   ]
  },
  {
   "cell_type": "code",
   "execution_count": 1,
   "id": "53b2ba97",
   "metadata": {},
   "outputs": [],
   "source": [
    "import sklearn\n",
    "from sklearn.preprocessing import MinMaxScaler"
   ]
  },
  {
   "cell_type": "code",
   "execution_count": 3,
   "id": "37712902",
   "metadata": {},
   "outputs": [],
   "source": [
    "data = [[-1, 2], \n",
    "        [-0.5, 6], \n",
    "        [0, 10], \n",
    "        [1, 18]]\n",
    "scaler = MinMaxScaler() # feature_range=(0,1) by default"
   ]
  },
  {
   "cell_type": "code",
   "execution_count": 4,
   "id": "3a08996f",
   "metadata": {},
   "outputs": [
    {
     "data": {
      "text/html": [
       "<style>#sk-container-id-1 {color: black;}#sk-container-id-1 pre{padding: 0;}#sk-container-id-1 div.sk-toggleable {background-color: white;}#sk-container-id-1 label.sk-toggleable__label {cursor: pointer;display: block;width: 100%;margin-bottom: 0;padding: 0.3em;box-sizing: border-box;text-align: center;}#sk-container-id-1 label.sk-toggleable__label-arrow:before {content: \"▸\";float: left;margin-right: 0.25em;color: #696969;}#sk-container-id-1 label.sk-toggleable__label-arrow:hover:before {color: black;}#sk-container-id-1 div.sk-estimator:hover label.sk-toggleable__label-arrow:before {color: black;}#sk-container-id-1 div.sk-toggleable__content {max-height: 0;max-width: 0;overflow: hidden;text-align: left;background-color: #f0f8ff;}#sk-container-id-1 div.sk-toggleable__content pre {margin: 0.2em;color: black;border-radius: 0.25em;background-color: #f0f8ff;}#sk-container-id-1 input.sk-toggleable__control:checked~div.sk-toggleable__content {max-height: 200px;max-width: 100%;overflow: auto;}#sk-container-id-1 input.sk-toggleable__control:checked~label.sk-toggleable__label-arrow:before {content: \"▾\";}#sk-container-id-1 div.sk-estimator input.sk-toggleable__control:checked~label.sk-toggleable__label {background-color: #d4ebff;}#sk-container-id-1 div.sk-label input.sk-toggleable__control:checked~label.sk-toggleable__label {background-color: #d4ebff;}#sk-container-id-1 input.sk-hidden--visually {border: 0;clip: rect(1px 1px 1px 1px);clip: rect(1px, 1px, 1px, 1px);height: 1px;margin: -1px;overflow: hidden;padding: 0;position: absolute;width: 1px;}#sk-container-id-1 div.sk-estimator {font-family: monospace;background-color: #f0f8ff;border: 1px dotted black;border-radius: 0.25em;box-sizing: border-box;margin-bottom: 0.5em;}#sk-container-id-1 div.sk-estimator:hover {background-color: #d4ebff;}#sk-container-id-1 div.sk-parallel-item::after {content: \"\";width: 100%;border-bottom: 1px solid gray;flex-grow: 1;}#sk-container-id-1 div.sk-label:hover label.sk-toggleable__label {background-color: #d4ebff;}#sk-container-id-1 div.sk-serial::before {content: \"\";position: absolute;border-left: 1px solid gray;box-sizing: border-box;top: 0;bottom: 0;left: 50%;z-index: 0;}#sk-container-id-1 div.sk-serial {display: flex;flex-direction: column;align-items: center;background-color: white;padding-right: 0.2em;padding-left: 0.2em;position: relative;}#sk-container-id-1 div.sk-item {position: relative;z-index: 1;}#sk-container-id-1 div.sk-parallel {display: flex;align-items: stretch;justify-content: center;background-color: white;position: relative;}#sk-container-id-1 div.sk-item::before, #sk-container-id-1 div.sk-parallel-item::before {content: \"\";position: absolute;border-left: 1px solid gray;box-sizing: border-box;top: 0;bottom: 0;left: 50%;z-index: -1;}#sk-container-id-1 div.sk-parallel-item {display: flex;flex-direction: column;z-index: 1;position: relative;background-color: white;}#sk-container-id-1 div.sk-parallel-item:first-child::after {align-self: flex-end;width: 50%;}#sk-container-id-1 div.sk-parallel-item:last-child::after {align-self: flex-start;width: 50%;}#sk-container-id-1 div.sk-parallel-item:only-child::after {width: 0;}#sk-container-id-1 div.sk-dashed-wrapped {border: 1px dashed gray;margin: 0 0.4em 0.5em 0.4em;box-sizing: border-box;padding-bottom: 0.4em;background-color: white;}#sk-container-id-1 div.sk-label label {font-family: monospace;font-weight: bold;display: inline-block;line-height: 1.2em;}#sk-container-id-1 div.sk-label-container {text-align: center;}#sk-container-id-1 div.sk-container {/* jupyter's `normalize.less` sets `[hidden] { display: none; }` but bootstrap.min.css set `[hidden] { display: none !important; }` so we also need the `!important` here to be able to override the default hidden behavior on the sphinx rendered scikit-learn.org. See: https://github.com/scikit-learn/scikit-learn/issues/21755 */display: inline-block !important;position: relative;}#sk-container-id-1 div.sk-text-repr-fallback {display: none;}</style><div id=\"sk-container-id-1\" class=\"sk-top-container\"><div class=\"sk-text-repr-fallback\"><pre>MinMaxScaler()</pre><b>In a Jupyter environment, please rerun this cell to show the HTML representation or trust the notebook. <br />On GitHub, the HTML representation is unable to render, please try loading this page with nbviewer.org.</b></div><div class=\"sk-container\" hidden><div class=\"sk-item\"><div class=\"sk-estimator sk-toggleable\"><input class=\"sk-toggleable__control sk-hidden--visually\" id=\"sk-estimator-id-1\" type=\"checkbox\" checked><label for=\"sk-estimator-id-1\" class=\"sk-toggleable__label sk-toggleable__label-arrow\">MinMaxScaler</label><div class=\"sk-toggleable__content\"><pre>MinMaxScaler()</pre></div></div></div></div></div>"
      ],
      "text/plain": [
       "MinMaxScaler()"
      ]
     },
     "execution_count": 4,
     "metadata": {},
     "output_type": "execute_result"
    }
   ],
   "source": [
    "scaler.fit(data)"
   ]
  },
  {
   "cell_type": "code",
   "execution_count": 5,
   "id": "1d5cfd3c",
   "metadata": {},
   "outputs": [
    {
     "data": {
      "text/plain": [
       "(array([-1.,  2.]), array([ 1., 18.]))"
      ]
     },
     "execution_count": 5,
     "metadata": {},
     "output_type": "execute_result"
    }
   ],
   "source": [
    "scaler.data_min_, scaler.data_max_"
   ]
  },
  {
   "cell_type": "code",
   "execution_count": 7,
   "id": "3ec329a9",
   "metadata": {},
   "outputs": [
    {
     "data": {
      "text/plain": [
       "array([[0.  , 0.  ],\n",
       "       [0.25, 0.25],\n",
       "       [0.5 , 0.5 ],\n",
       "       [1.  , 1.  ]])"
      ]
     },
     "execution_count": 7,
     "metadata": {},
     "output_type": "execute_result"
    }
   ],
   "source": [
    "# transform data from original range to [0,1]\n",
    "scaler.transform(data)"
   ]
  },
  {
   "cell_type": "code",
   "execution_count": 6,
   "id": "1f995ac2",
   "metadata": {},
   "outputs": [
    {
     "data": {
      "text/plain": [
       "array([[1.5, 0. ]])"
      ]
     },
     "execution_count": 6,
     "metadata": {},
     "output_type": "execute_result"
    }
   ],
   "source": [
    "scaler.transform([[2, 2]])"
   ]
  },
  {
   "cell_type": "markdown",
   "id": "8598531d",
   "metadata": {},
   "source": [
    "- Self-practice with StandardScaler \n",
    "    - https://scikit-learn.org/stable/modules/generated/sklearn.preprocessing.StandardScaler.html\n",
    "   "
   ]
  },
  {
   "cell_type": "code",
   "execution_count": null,
   "id": "0376469e",
   "metadata": {},
   "outputs": [],
   "source": []
  },
  {
   "cell_type": "markdown",
   "id": "25039a6d",
   "metadata": {},
   "source": [
    "#### Data transformation: text data tokenization, stemming/lemmatization"
   ]
  },
  {
   "cell_type": "code",
   "execution_count": 9,
   "id": "88ea3835",
   "metadata": {},
   "outputs": [],
   "source": [
    "import nltk\n",
    "from nltk import sent_tokenize\n",
    "from nltk import word_tokenize"
   ]
  },
  {
   "cell_type": "code",
   "execution_count": 10,
   "id": "365d12d8",
   "metadata": {},
   "outputs": [
    {
     "data": {
      "text/plain": [
       "[\"At eight o'clock on Thursday morning.\", \"Arthur didn't feel very good.\"]"
      ]
     },
     "execution_count": 10,
     "metadata": {},
     "output_type": "execute_result"
    }
   ],
   "source": [
    "nltk.sent_tokenize(\"At eight o'clock on Thursday morning. Arthur didn't feel very good.\")"
   ]
  },
  {
   "cell_type": "code",
   "execution_count": 11,
   "id": "5e59acf2",
   "metadata": {},
   "outputs": [
    {
     "data": {
      "text/plain": [
       "['At',\n",
       " 'eight',\n",
       " \"o'clock\",\n",
       " 'on',\n",
       " 'Thursday',\n",
       " 'morning',\n",
       " '.',\n",
       " 'Arthur',\n",
       " 'did',\n",
       " \"n't\",\n",
       " 'feel',\n",
       " 'very',\n",
       " 'good',\n",
       " '.']"
      ]
     },
     "execution_count": 11,
     "metadata": {},
     "output_type": "execute_result"
    }
   ],
   "source": [
    "nltk.word_tokenize(\"At eight o'clock on Thursday morning. Arthur didn't feel very good.\")"
   ]
  },
  {
   "cell_type": "code",
   "execution_count": 12,
   "id": "9a63566a",
   "metadata": {},
   "outputs": [
    {
     "data": {
      "text/plain": [
       "'leav'"
      ]
     },
     "execution_count": 12,
     "metadata": {},
     "output_type": "execute_result"
    }
   ],
   "source": [
    "from nltk.stem import PorterStemmer\n",
    "ps = PorterStemmer()\n",
    "word = (\"leaves\") \n",
    "ps.stem(word)"
   ]
  },
  {
   "cell_type": "code",
   "execution_count": 13,
   "id": "7a96b487",
   "metadata": {},
   "outputs": [
    {
     "data": {
      "text/plain": [
       "'leaf'"
      ]
     },
     "execution_count": 13,
     "metadata": {},
     "output_type": "execute_result"
    }
   ],
   "source": [
    "from nltk.stem import WordNetLemmatizer \n",
    "lemmatizer = WordNetLemmatizer()\n",
    "lemmatizer.lemmatize(\"leaves\")"
   ]
  },
  {
   "cell_type": "markdown",
   "id": "72c6b54b",
   "metadata": {},
   "source": [
    "### Feature engineering"
   ]
  },
  {
   "cell_type": "markdown",
   "id": "ba9d25c7",
   "metadata": {},
   "source": [
    "#### Feature engineering: categorical data "
   ]
  },
  {
   "cell_type": "code",
   "execution_count": 8,
   "id": "389f8f8e",
   "metadata": {},
   "outputs": [],
   "source": [
    "from sklearn.preprocessing import OneHotEncoder"
   ]
  },
  {
   "cell_type": "code",
   "execution_count": 9,
   "id": "a1423c13",
   "metadata": {},
   "outputs": [],
   "source": [
    "oh_enc = OneHotEncoder(handle_unknown='ignore')\n",
    "X = [['Male'], \n",
    "     ['Female'], \n",
    "     ['Female']]"
   ]
  },
  {
   "cell_type": "code",
   "execution_count": 10,
   "id": "3fa9cf67",
   "metadata": {},
   "outputs": [
    {
     "data": {
      "text/html": [
       "<style>#sk-container-id-2 {color: black;}#sk-container-id-2 pre{padding: 0;}#sk-container-id-2 div.sk-toggleable {background-color: white;}#sk-container-id-2 label.sk-toggleable__label {cursor: pointer;display: block;width: 100%;margin-bottom: 0;padding: 0.3em;box-sizing: border-box;text-align: center;}#sk-container-id-2 label.sk-toggleable__label-arrow:before {content: \"▸\";float: left;margin-right: 0.25em;color: #696969;}#sk-container-id-2 label.sk-toggleable__label-arrow:hover:before {color: black;}#sk-container-id-2 div.sk-estimator:hover label.sk-toggleable__label-arrow:before {color: black;}#sk-container-id-2 div.sk-toggleable__content {max-height: 0;max-width: 0;overflow: hidden;text-align: left;background-color: #f0f8ff;}#sk-container-id-2 div.sk-toggleable__content pre {margin: 0.2em;color: black;border-radius: 0.25em;background-color: #f0f8ff;}#sk-container-id-2 input.sk-toggleable__control:checked~div.sk-toggleable__content {max-height: 200px;max-width: 100%;overflow: auto;}#sk-container-id-2 input.sk-toggleable__control:checked~label.sk-toggleable__label-arrow:before {content: \"▾\";}#sk-container-id-2 div.sk-estimator input.sk-toggleable__control:checked~label.sk-toggleable__label {background-color: #d4ebff;}#sk-container-id-2 div.sk-label input.sk-toggleable__control:checked~label.sk-toggleable__label {background-color: #d4ebff;}#sk-container-id-2 input.sk-hidden--visually {border: 0;clip: rect(1px 1px 1px 1px);clip: rect(1px, 1px, 1px, 1px);height: 1px;margin: -1px;overflow: hidden;padding: 0;position: absolute;width: 1px;}#sk-container-id-2 div.sk-estimator {font-family: monospace;background-color: #f0f8ff;border: 1px dotted black;border-radius: 0.25em;box-sizing: border-box;margin-bottom: 0.5em;}#sk-container-id-2 div.sk-estimator:hover {background-color: #d4ebff;}#sk-container-id-2 div.sk-parallel-item::after {content: \"\";width: 100%;border-bottom: 1px solid gray;flex-grow: 1;}#sk-container-id-2 div.sk-label:hover label.sk-toggleable__label {background-color: #d4ebff;}#sk-container-id-2 div.sk-serial::before {content: \"\";position: absolute;border-left: 1px solid gray;box-sizing: border-box;top: 0;bottom: 0;left: 50%;z-index: 0;}#sk-container-id-2 div.sk-serial {display: flex;flex-direction: column;align-items: center;background-color: white;padding-right: 0.2em;padding-left: 0.2em;position: relative;}#sk-container-id-2 div.sk-item {position: relative;z-index: 1;}#sk-container-id-2 div.sk-parallel {display: flex;align-items: stretch;justify-content: center;background-color: white;position: relative;}#sk-container-id-2 div.sk-item::before, #sk-container-id-2 div.sk-parallel-item::before {content: \"\";position: absolute;border-left: 1px solid gray;box-sizing: border-box;top: 0;bottom: 0;left: 50%;z-index: -1;}#sk-container-id-2 div.sk-parallel-item {display: flex;flex-direction: column;z-index: 1;position: relative;background-color: white;}#sk-container-id-2 div.sk-parallel-item:first-child::after {align-self: flex-end;width: 50%;}#sk-container-id-2 div.sk-parallel-item:last-child::after {align-self: flex-start;width: 50%;}#sk-container-id-2 div.sk-parallel-item:only-child::after {width: 0;}#sk-container-id-2 div.sk-dashed-wrapped {border: 1px dashed gray;margin: 0 0.4em 0.5em 0.4em;box-sizing: border-box;padding-bottom: 0.4em;background-color: white;}#sk-container-id-2 div.sk-label label {font-family: monospace;font-weight: bold;display: inline-block;line-height: 1.2em;}#sk-container-id-2 div.sk-label-container {text-align: center;}#sk-container-id-2 div.sk-container {/* jupyter's `normalize.less` sets `[hidden] { display: none; }` but bootstrap.min.css set `[hidden] { display: none !important; }` so we also need the `!important` here to be able to override the default hidden behavior on the sphinx rendered scikit-learn.org. See: https://github.com/scikit-learn/scikit-learn/issues/21755 */display: inline-block !important;position: relative;}#sk-container-id-2 div.sk-text-repr-fallback {display: none;}</style><div id=\"sk-container-id-2\" class=\"sk-top-container\"><div class=\"sk-text-repr-fallback\"><pre>OneHotEncoder(handle_unknown=&#x27;ignore&#x27;)</pre><b>In a Jupyter environment, please rerun this cell to show the HTML representation or trust the notebook. <br />On GitHub, the HTML representation is unable to render, please try loading this page with nbviewer.org.</b></div><div class=\"sk-container\" hidden><div class=\"sk-item\"><div class=\"sk-estimator sk-toggleable\"><input class=\"sk-toggleable__control sk-hidden--visually\" id=\"sk-estimator-id-2\" type=\"checkbox\" checked><label for=\"sk-estimator-id-2\" class=\"sk-toggleable__label sk-toggleable__label-arrow\">OneHotEncoder</label><div class=\"sk-toggleable__content\"><pre>OneHotEncoder(handle_unknown=&#x27;ignore&#x27;)</pre></div></div></div></div></div>"
      ],
      "text/plain": [
       "OneHotEncoder(handle_unknown='ignore')"
      ]
     },
     "execution_count": 10,
     "metadata": {},
     "output_type": "execute_result"
    }
   ],
   "source": [
    "oh_enc.fit(X)"
   ]
  },
  {
   "cell_type": "code",
   "execution_count": 11,
   "id": "d1e9fb83",
   "metadata": {},
   "outputs": [
    {
     "data": {
      "text/plain": [
       "array([[0., 1.],\n",
       "       [1., 0.],\n",
       "       [1., 0.]])"
      ]
     },
     "execution_count": 11,
     "metadata": {},
     "output_type": "execute_result"
    }
   ],
   "source": [
    "oh_enc.transform(X).toarray()"
   ]
  },
  {
   "cell_type": "code",
   "execution_count": 12,
   "id": "75ed3792",
   "metadata": {},
   "outputs": [
    {
     "data": {
      "text/plain": [
       "[array(['Female', 'Male'], dtype=object)]"
      ]
     },
     "execution_count": 12,
     "metadata": {},
     "output_type": "execute_result"
    }
   ],
   "source": [
    "oh_enc.categories_"
   ]
  },
  {
   "cell_type": "code",
   "execution_count": 13,
   "id": "ac19daff",
   "metadata": {},
   "outputs": [
    {
     "data": {
      "text/plain": [
       "array([[1., 0.],\n",
       "       [0., 1.]])"
      ]
     },
     "execution_count": 13,
     "metadata": {},
     "output_type": "execute_result"
    }
   ],
   "source": [
    "oh_enc.transform([['Female'], ['Male']]).toarray()"
   ]
  },
  {
   "cell_type": "code",
   "execution_count": 29,
   "id": "11a3beb0",
   "metadata": {},
   "outputs": [
    {
     "data": {
      "text/plain": [
       "array(['gender_Female', 'gender_Male'], dtype=object)"
      ]
     },
     "execution_count": 29,
     "metadata": {},
     "output_type": "execute_result"
    }
   ],
   "source": [
    "oh_enc.get_feature_names_out(['gender'])"
   ]
  },
  {
   "cell_type": "code",
   "execution_count": 30,
   "id": "4b59e53d",
   "metadata": {},
   "outputs": [
    {
     "data": {
      "text/plain": [
       "array([['Male'],\n",
       "       ['Female']], dtype=object)"
      ]
     },
     "execution_count": 30,
     "metadata": {},
     "output_type": "execute_result"
    }
   ],
   "source": [
    "oh_enc.inverse_transform([[0, 1], [1, 0]])"
   ]
  },
  {
   "cell_type": "markdown",
   "id": "ca7c1164",
   "metadata": {},
   "source": [
    "- Ordinal encoder"
   ]
  },
  {
   "cell_type": "code",
   "execution_count": 31,
   "id": "a372cce4",
   "metadata": {},
   "outputs": [],
   "source": [
    "from sklearn.preprocessing import OrdinalEncoder\n",
    "od_enc = OrdinalEncoder()"
   ]
  },
  {
   "cell_type": "code",
   "execution_count": 32,
   "id": "54dbad47",
   "metadata": {},
   "outputs": [],
   "source": [
    "X = [['Male', 1], \n",
    "     ['Female', 3], \n",
    "     ['Female', 2]]"
   ]
  },
  {
   "cell_type": "code",
   "execution_count": 33,
   "id": "6e03ba5d",
   "metadata": {},
   "outputs": [
    {
     "data": {
      "text/plain": [
       "OrdinalEncoder()"
      ]
     },
     "execution_count": 33,
     "metadata": {},
     "output_type": "execute_result"
    }
   ],
   "source": [
    "od_enc.fit(X)"
   ]
  },
  {
   "cell_type": "code",
   "execution_count": 34,
   "id": "1fc8438c",
   "metadata": {},
   "outputs": [
    {
     "data": {
      "text/plain": [
       "[array(['Female', 'Male'], dtype=object), array([1, 2, 3], dtype=object)]"
      ]
     },
     "execution_count": 34,
     "metadata": {},
     "output_type": "execute_result"
    }
   ],
   "source": [
    "od_enc.categories_"
   ]
  },
  {
   "cell_type": "code",
   "execution_count": 35,
   "id": "dcd32c7c",
   "metadata": {},
   "outputs": [
    {
     "data": {
      "text/plain": [
       "array([['Male', '1'],\n",
       "       ['Female', '3'],\n",
       "       ['Female', '2']], dtype='<U21')"
      ]
     },
     "execution_count": 35,
     "metadata": {},
     "output_type": "execute_result"
    }
   ],
   "source": [
    "import numpy as np\n",
    "np.array(X)"
   ]
  },
  {
   "cell_type": "code",
   "execution_count": 36,
   "id": "6160b3fd",
   "metadata": {},
   "outputs": [
    {
     "data": {
      "text/plain": [
       "array([[1., 0.],\n",
       "       [0., 2.],\n",
       "       [0., 1.]])"
      ]
     },
     "execution_count": 36,
     "metadata": {},
     "output_type": "execute_result"
    }
   ],
   "source": [
    "od_enc.fit_transform(X)"
   ]
  },
  {
   "cell_type": "code",
   "execution_count": 37,
   "id": "ec99f3db",
   "metadata": {},
   "outputs": [
    {
     "data": {
      "text/plain": [
       "array([[0., 2.],\n",
       "       [1., 0.]])"
      ]
     },
     "execution_count": 37,
     "metadata": {},
     "output_type": "execute_result"
    }
   ],
   "source": [
    "od_enc.transform([['Female', 3], ['Male', 1]])"
   ]
  },
  {
   "cell_type": "markdown",
   "id": "40645af1",
   "metadata": {},
   "source": [
    "#### Feature engineering: text data"
   ]
  },
  {
   "cell_type": "markdown",
   "id": "decb3dad",
   "metadata": {},
   "source": [
    "- CountVectorizer\n",
    "    - https://scikit-learn.org/stable/modules/generated/sklearn.feature_extraction.text.CountVectorizer.html"
   ]
  },
  {
   "cell_type": "code",
   "execution_count": 14,
   "id": "1c164dfc",
   "metadata": {},
   "outputs": [],
   "source": [
    "from sklearn.feature_extraction.text import CountVectorizer"
   ]
  },
  {
   "cell_type": "code",
   "execution_count": 15,
   "id": "79d99c4a",
   "metadata": {},
   "outputs": [],
   "source": [
    "corpus = [\n",
    "    'This is the first document.',\n",
    "    'This document is the second document.',\n",
    "    'And this is the third one.',\n",
    "    'Is this the first document?',\n",
    "]"
   ]
  },
  {
   "cell_type": "code",
   "execution_count": 16,
   "id": "b27d5f8b",
   "metadata": {},
   "outputs": [],
   "source": [
    "vectorizer = CountVectorizer()"
   ]
  },
  {
   "cell_type": "code",
   "execution_count": 19,
   "id": "6b433e79",
   "metadata": {},
   "outputs": [
    {
     "data": {
      "text/plain": [
       "(4, 9)"
      ]
     },
     "execution_count": 19,
     "metadata": {},
     "output_type": "execute_result"
    }
   ],
   "source": [
    "X = vectorizer.fit_transform(corpus)\n",
    "# explore other parameter settings: lowercase, stop_words, ngram_range(), max_df, min_df, binary\n",
    "X.shape"
   ]
  },
  {
   "cell_type": "code",
   "execution_count": 18,
   "id": "c54ed676",
   "metadata": {},
   "outputs": [
    {
     "data": {
      "text/plain": [
       "array(['and', 'document', 'first', 'is', 'one', 'second', 'the', 'third',\n",
       "       'this'], dtype=object)"
      ]
     },
     "execution_count": 18,
     "metadata": {},
     "output_type": "execute_result"
    }
   ],
   "source": [
    "vectorizer.get_feature_names_out()"
   ]
  },
  {
   "cell_type": "code",
   "execution_count": 44,
   "id": "63ca8d80",
   "metadata": {},
   "outputs": [
    {
     "name": "stdout",
     "output_type": "stream",
     "text": [
      "[[0 1 1 1 0 0 1 0 1]\n",
      " [0 2 0 1 0 1 1 0 1]\n",
      " [1 0 0 1 1 0 1 1 1]\n",
      " [0 1 1 1 0 0 1 0 1]]\n"
     ]
    }
   ],
   "source": [
    "print(X.toarray())"
   ]
  },
  {
   "cell_type": "code",
   "execution_count": 45,
   "id": "543e85e2",
   "metadata": {},
   "outputs": [
    {
     "data": {
      "text/plain": [
       "(4, 9)"
      ]
     },
     "execution_count": 45,
     "metadata": {},
     "output_type": "execute_result"
    }
   ],
   "source": [
    "X.shape"
   ]
  },
  {
   "cell_type": "markdown",
   "id": "4611fbb7",
   "metadata": {},
   "source": [
    "- TfidfVectorizer\n",
    "    - https://scikit-learn.org/stable/modules/generated/sklearn.feature_extraction.text.TfidfVectorizer.html\n",
    "    "
   ]
  },
  {
   "cell_type": "code",
   "execution_count": 22,
   "id": "9de631bd",
   "metadata": {},
   "outputs": [],
   "source": [
    "from sklearn.feature_extraction.text import TfidfVectorizer"
   ]
  },
  {
   "cell_type": "code",
   "execution_count": 23,
   "id": "b551c98c",
   "metadata": {},
   "outputs": [],
   "source": [
    "corpus = [\n",
    "    'This is the first document.',\n",
    "    'This document is the second document.',\n",
    "    'And this is the third one.',\n",
    "    'Is this the first document?',\n",
    "]"
   ]
  },
  {
   "cell_type": "code",
   "execution_count": 24,
   "id": "57280839",
   "metadata": {},
   "outputs": [],
   "source": [
    "vectorizer = TfidfVectorizer()"
   ]
  },
  {
   "cell_type": "markdown",
   "id": "761cb90e",
   "metadata": {},
   "source": [
    "- self practice: explore other parameter settings in TfidfVectorizer: \n",
    "    - E.g., lowercase, stop_words, ngram_range(), max_df, min_df, binary, use_idf, smooth_idf"
   ]
  },
  {
   "cell_type": "code",
   "execution_count": 25,
   "id": "44326f59",
   "metadata": {},
   "outputs": [],
   "source": [
    "X = vectorizer.fit_transform(corpus)"
   ]
  },
  {
   "cell_type": "code",
   "execution_count": 26,
   "id": "6d11aa80",
   "metadata": {},
   "outputs": [
    {
     "data": {
      "text/plain": [
       "array(['and', 'document', 'first', 'is', 'one', 'second', 'the', 'third',\n",
       "       'this'], dtype=object)"
      ]
     },
     "execution_count": 26,
     "metadata": {},
     "output_type": "execute_result"
    }
   ],
   "source": [
    "vectorizer.get_feature_names_out()"
   ]
  },
  {
   "cell_type": "code",
   "execution_count": 27,
   "id": "26ed690c",
   "metadata": {},
   "outputs": [
    {
     "name": "stdout",
     "output_type": "stream",
     "text": [
      "(4, 9)\n"
     ]
    }
   ],
   "source": [
    "print(X.shape)"
   ]
  },
  {
   "cell_type": "code",
   "execution_count": 28,
   "id": "2660b773",
   "metadata": {},
   "outputs": [
    {
     "data": {
      "text/plain": [
       "array([[0.        , 0.46979139, 0.58028582, 0.38408524, 0.        ,\n",
       "        0.        , 0.38408524, 0.        , 0.38408524],\n",
       "       [0.        , 0.6876236 , 0.        , 0.28108867, 0.        ,\n",
       "        0.53864762, 0.28108867, 0.        , 0.28108867],\n",
       "       [0.51184851, 0.        , 0.        , 0.26710379, 0.51184851,\n",
       "        0.        , 0.26710379, 0.51184851, 0.26710379],\n",
       "       [0.        , 0.46979139, 0.58028582, 0.38408524, 0.        ,\n",
       "        0.        , 0.38408524, 0.        , 0.38408524]])"
      ]
     },
     "execution_count": 28,
     "metadata": {},
     "output_type": "execute_result"
    }
   ],
   "source": [
    "X.toarray()"
   ]
  },
  {
   "cell_type": "markdown",
   "id": "3414c7ec",
   "metadata": {},
   "source": [
    "- Word embedding"
   ]
  },
  {
   "cell_type": "code",
   "execution_count": 68,
   "id": "50444a39",
   "metadata": {},
   "outputs": [
    {
     "name": "stdout",
     "output_type": "stream",
     "text": [
      "[=================================================-] 99.8% 1660.1/1662.8MB downloaded\n"
     ]
    }
   ],
   "source": [
    "import gensim.downloader as api\n",
    "wv = api.load('word2vec-google-news-300')"
   ]
  },
  {
   "cell_type": "code",
   "execution_count": 75,
   "id": "307756fc",
   "metadata": {
    "collapsed": true
   },
   "outputs": [
    {
     "data": {
      "text/plain": [
       "array([-0.2 , -0.1 , -0.03,  0.22, -0.12,  0.01,  0.31, -0.21, -0.09,\n",
       "        0.36, -0.27, -0.05, -0.09,  0.13, -0.07, -0.21,  0.13, -0.05,\n",
       "        0.02,  0.23,  0.27,  0.11,  0.03,  0.41,  0.04,  0.01, -0.17,\n",
       "       -0.2 , -0.03,  0.01, -0.06, -0.07,  0.19,  0.42, -0.23, -0.17,\n",
       "       -0.21,  0.13, -0.  , -0.15,  0.11, -0.19,  0.07,  0.15,  0.12,\n",
       "        0.11, -0.03,  0.02, -0.  , -0.02, -0.03,  0.03, -0.32,  0.2 ,\n",
       "       -0.24,  0.09, -0.07, -0.01, -0.04, -0.01,  0.01,  0.14,  0.05,\n",
       "        0.15,  0.01, -0.18, -0.07, -0.02, -0.25,  0.31,  0.04, -0.09,\n",
       "        0.1 ,  0.05,  0.09, -0.11, -0.12,  0.11,  0.15, -0.08, -0.16,\n",
       "        0.18, -0.11,  0.17,  0.28, -0.06, -0.01,  0.03, -0.02,  0.09,\n",
       "        0.38, -0.11, -0.19, -0.14, -0.09,  0.06,  0.11, -0.07,  0.04,\n",
       "       -0.08,  0.17,  0.21, -0.13, -0.24, -0.51,  0.31, -0.64, -0.01,\n",
       "        0.14,  0.13,  0.24,  0.22,  0.01, -0.12,  0.33, -0.23,  0.08,\n",
       "       -0.18,  0.12,  0.07,  0.12,  0.13,  0.06, -0.06,  0.19, -0.02,\n",
       "        0.05, -0.02, -0.12, -0.12,  0.08,  0.46,  0.3 ,  0.29,  0.22,\n",
       "        0.15, -0.04,  0.11,  0.27, -0.08, -0.07, -0.3 ,  0.05, -0.11,\n",
       "        0.37, -0.4 ,  0.19, -0.12,  0.04,  0.24, -0.25,  0.33, -0.15,\n",
       "       -0.11, -0.38, -0.27, -0.1 ,  0.09, -0.03,  0.08,  0.01, -0.01,\n",
       "        0.17, -0.2 , -0.07, -0.04, -0.01, -0.05, -0.09,  0.22, -0.26,\n",
       "        0.07,  0.45,  0.31,  0.21, -0.02,  0.05, -0.09,  0.19,  0.19,\n",
       "       -0.38,  0.02, -0.25,  0.01,  0.2 ,  0.02,  0.25, -0.12,  0.17,\n",
       "        0.24,  0.09, -0.13, -0.25, -0.22, -0.08,  0.05,  0.11, -0.01,\n",
       "        0.13, -0.32, -0.01,  0.16,  0.23, -0.04,  0.12,  0.06, -0.01,\n",
       "        0.09,  0.01,  0.47,  0.12,  0.35, -0.14, -0.35,  0.18,  0.19,\n",
       "        0.06, -0.33,  0.2 , -0.17, -0.09,  0.04,  0.01, -0.08, -0.04,\n",
       "        0.15, -0.33,  0.02,  0.26,  0.28, -0.28, -0.1 , -0.31, -0.18,\n",
       "        0.19,  0.13,  0.22,  0.01, -0.07, -0.16, -0.04, -0.23,  0.2 ,\n",
       "        0.21,  0.14, -0.12, -0.22,  0.12,  0.31, -0.22, -0.09,  0.06,\n",
       "        0.19,  0.05,  0.09,  0.  , -0.42, -0.09, -0.03, -0.08,  0.01,\n",
       "        0.37, -0.08,  0.18, -0.26, -0.35,  0.05, -0.05,  0.52,  0.4 ,\n",
       "        0.08,  0.21,  0.06,  0.15, -0.13, -0.38, -0.38,  0.11, -0.17,\n",
       "        0.19,  0.12, -0.1 ,  0.31, -0.31,  0.31, -0.01,  0.06,  0.15,\n",
       "       -0.04, -0.2 , -0.16, -0.21, -0.01, -0.16,  0.06, -0.11, -0.2 ,\n",
       "        0.22,  0.17,  0.23], dtype=float32)"
      ]
     },
     "execution_count": 75,
     "metadata": {},
     "output_type": "execute_result"
    }
   ],
   "source": [
    "np.round(wv['king'] - wv['man'],2)"
   ]
  },
  {
   "cell_type": "code",
   "execution_count": 70,
   "id": "fc537af1",
   "metadata": {
    "collapsed": true
   },
   "outputs": [
    {
     "data": {
      "text/plain": [
       "array([-0.23791504, -0.06640625,  0.03369141,  0.23095703,  0.01367188,\n",
       "        0.01855469,  0.04296875, -0.24243164, -0.30908203,  0.00708008,\n",
       "        0.02148438, -0.03710938,  0.16699219,  0.12418365,  0.15991211,\n",
       "        0.01855469,  0.2602539 ,  0.0065918 ,  0.00341797,  0.12475586,\n",
       "        0.21948242,  0.18481445, -0.18115234,  0.28955078,  0.05529785,\n",
       "        0.17919922, -0.13769531, -0.171875  , -0.16113281,  0.04492188,\n",
       "       -0.2998047 , -0.12463379,  0.1430664 ,  0.31835938, -0.23925781,\n",
       "       -0.2548828 , -0.21044922,  0.3125    ,  0.00097656, -0.015625  ,\n",
       "        0.26416016, -0.38793945,  0.11132812, -0.00341797,  0.04589844,\n",
       "       -0.02294922,  0.072052  ,  0.11010742,  0.18688965,  0.11523438,\n",
       "       -0.07043457,  0.09702301, -0.00268555, -0.07080078, -0.0859375 ,\n",
       "        0.01318359, -0.25146484, -0.10253906, -0.08886719, -0.10565186,\n",
       "       -0.1640625 ,  0.10351562, -0.00439453,  0.03466797,  0.13452148,\n",
       "       -0.2993164 , -0.10662842, -0.02734375, -0.3828125 ,  0.19091797,\n",
       "       -0.02246094, -0.00097656,  0.02636719,  0.02197266, -0.08349609,\n",
       "       -0.10351562,  0.11022949,  0.06097412, -0.06445312, -0.2133789 ,\n",
       "       -0.30737305,  0.12426758,  0.09667969,  0.03662109,  0.52368164,\n",
       "       -0.109375  , -0.09277344,  0.05712891,  0.07519531,  0.13684082,\n",
       "        0.5917969 , -0.02539062, -0.03222656, -0.04016113,  0.06542969,\n",
       "        0.03295898,  0.01098633, -0.0847168 , -0.02832031,  0.02536011,\n",
       "        0.15490723,  0.1328125 ,  0.1328125 , -0.02539062, -0.6220703 ,\n",
       "        0.21923828, -0.6533203 ,  0.11328125, -0.11669922,  0.03613281,\n",
       "        0.2645874 ,  0.10058594, -0.03125   ,  0.06884766,  0.35742188,\n",
       "        0.0859375 ,  0.25195312, -0.16015625,  0.11547852, -0.0703125 ,\n",
       "        0.04150391, -0.1375122 ,  0.1932373 , -0.19335938,  0.24121094,\n",
       "       -0.13824463, -0.14135742,  0.1274414 , -0.19946289, -0.05712891,\n",
       "        0.15917969,  0.5361328 ,  0.1887207 ,  0.45581055, -0.0065918 ,\n",
       "        0.12939453, -0.21191406,  0.2548828 ,  0.22070312, -0.11767578,\n",
       "       -0.16210938, -0.14013672, -0.04418945, -0.28173828,  0.30810547,\n",
       "       -0.24487305,  0.1373825 ,  0.01660156,  0.08007812,  0.14477539,\n",
       "       -0.26293945,  0.31835938, -0.01123047, -0.08496094, -0.3330078 ,\n",
       "       -0.3623047 ,  0.0378418 , -0.02914429,  0.08203125,  0.07714844,\n",
       "        0.1430664 ,  0.17749023,  0.11914062, -0.11264038,  0.07470703,\n",
       "        0.03808594, -0.02978516, -0.12207031, -0.09887695,  0.23025513,\n",
       "       -0.08251953,  0.09179688,  0.42773438,  0.21069336,  0.00585938,\n",
       "       -0.03710938, -0.24172974, -0.08349609,  0.16015625,  0.03753662,\n",
       "       -0.24121094,  0.24313354,  0.06445312,  0.17919922,  0.34960938,\n",
       "       -0.13720703,  0.17626953, -0.2944336 ,  0.0078125 ,  0.32788086,\n",
       "       -0.05738831, -0.17773438, -0.13928223, -0.19042969, -0.00878906,\n",
       "        0.078125  ,  0.2631836 ,  0.16210938, -0.05957031, -0.33666992,\n",
       "        0.18159485, -0.00634766,  0.1262207 , -0.0078125 ,  0.1920166 ,\n",
       "       -0.01171875,  0.04345703,  0.10791016, -0.04296875,  0.7216797 ,\n",
       "        0.08740234,  0.09985352, -0.05200195, -0.21679688,  0.25585938,\n",
       "        0.08956909, -0.04052734, -0.45898438,  0.29003906, -0.08349609,\n",
       "        0.01513672,  0.07421875,  0.05859375, -0.02426147, -0.10144043,\n",
       "        0.21873474, -0.09765625, -0.171875  ,  0.25732422,  0.26727295,\n",
       "       -0.30200195, -0.12402344, -0.15429688, -0.08398438,  0.4716797 ,\n",
       "       -0.01879883,  0.13452148, -0.02026367,  0.00678253, -0.27246094,\n",
       "        0.06054688, -0.0703125 ,  0.18847656,  0.10534668, -0.00097656,\n",
       "       -0.10821533, -0.10467529,  0.05596924,  0.21850586, -0.14111328,\n",
       "       -0.16064453, -0.05575562,  0.20410156,  0.25024414,  0.015625  ,\n",
       "        0.0078125 , -0.31530762,  0.05615234, -0.22216797,  0.02905273,\n",
       "        0.05908203,  0.42041016, -0.20898438,  0.05566406, -0.26733398,\n",
       "       -0.12402344,  0.09008789,  0.2421875 ,  0.4609375 ,  0.3383789 ,\n",
       "       -0.18652344,  0.078125  ,  0.30273438,  0.04394531,  0.1930542 ,\n",
       "       -0.4013672 ,  0.00878906,  0.08447266, -0.01513672,  0.31152344,\n",
       "       -0.07421875,  0.05712891,  0.21606445, -0.31811523,  0.35058594,\n",
       "       -0.23773193,  0.01513672,  0.06152344, -0.00677109, -0.24902344,\n",
       "       -0.10812378, -0.15917969, -0.11132812, -0.12988281, -0.00976562,\n",
       "       -0.14916992,  0.04931641,  0.03613281,  0.09765625,  0.18371582],\n",
       "      dtype=float32)"
      ]
     },
     "execution_count": 70,
     "metadata": {},
     "output_type": "execute_result"
    }
   ],
   "source": [
    "np.round(wv['queen'] - wv['woman'], 2)"
   ]
  },
  {
   "cell_type": "code",
   "execution_count": 74,
   "id": "41cda06a",
   "metadata": {},
   "outputs": [
    {
     "data": {
      "text/plain": [
       "array([[0.7580352]], dtype=float32)"
      ]
     },
     "execution_count": 74,
     "metadata": {},
     "output_type": "execute_result"
    }
   ],
   "source": [
    "sklearn.metrics.pairwise.cosine_similarity([wv['king'] - wv['man']], [wv['queen'] - wv['woman']])"
   ]
  },
  {
   "cell_type": "code",
   "execution_count": null,
   "id": "3edfaafb",
   "metadata": {},
   "outputs": [],
   "source": []
  }
 ],
 "metadata": {
  "kernelspec": {
   "display_name": "Python 3",
   "language": "python",
   "name": "python3"
  },
  "language_info": {
   "codemirror_mode": {
    "name": "ipython",
    "version": 3
   },
   "file_extension": ".py",
   "mimetype": "text/x-python",
   "name": "python",
   "nbconvert_exporter": "python",
   "pygments_lexer": "ipython3",
   "version": "3.11.7"
  },
  "toc": {
   "base_numbering": 1,
   "nav_menu": {},
   "number_sections": true,
   "sideBar": true,
   "skip_h1_title": false,
   "title_cell": "Table of Contents",
   "title_sidebar": "Contents",
   "toc_cell": false,
   "toc_position": {},
   "toc_section_display": true,
   "toc_window_display": false
  }
 },
 "nbformat": 4,
 "nbformat_minor": 5
}
